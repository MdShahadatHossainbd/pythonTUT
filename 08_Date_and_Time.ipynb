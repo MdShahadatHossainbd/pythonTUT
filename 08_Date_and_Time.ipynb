{
  "nbformat": 4,
  "nbformat_minor": 0,
  "metadata": {
    "colab": {
      "name": "08. Date and Time.ipynb",
      "provenance": [],
      "authorship_tag": "ABX9TyNShUkHnQMdxNz5eg682120",
      "include_colab_link": true
    },
    "kernelspec": {
      "name": "python3",
      "display_name": "Python 3"
    }
  },
  "cells": [
    {
      "cell_type": "markdown",
      "metadata": {
        "id": "view-in-github",
        "colab_type": "text"
      },
      "source": [
        "<a href=\"https://colab.research.google.com/github/MdShahadatHossainbd/pythonTUT/blob/master/08_Date_and_Time.ipynb\" target=\"_parent\"><img src=\"https://colab.research.google.com/assets/colab-badge.svg\" alt=\"Open In Colab\"/></a>"
      ]
    },
    {
      "cell_type": "markdown",
      "metadata": {
        "id": "W1KU1KAKQPuX"
      },
      "source": [
        "1. Print current time in Python"
      ]
    },
    {
      "cell_type": "code",
      "metadata": {
        "id": "UVBMzSOeQHI5",
        "outputId": "0407837c-7c0e-4cbe-8027-9eb231471784",
        "colab": {
          "base_uri": "https://localhost:8080/",
          "height": 55
        }
      },
      "source": [
        "import datetime\n",
        "\n",
        "# Print date and time\n",
        "print(datetime.datetime.now())\n",
        "\n",
        "# only time\n",
        "print(datetime.datetime.now().time())"
      ],
      "execution_count": 1,
      "outputs": [
        {
          "output_type": "stream",
          "text": [
            "2020-10-26 14:08:28.195538\n",
            "14:08:28.196709\n"
          ],
          "name": "stdout"
        }
      ]
    },
    {
      "cell_type": "code",
      "metadata": {
        "id": "aw7AF0cqQddM",
        "outputId": "60bbc98e-5b0c-4e34-a990-3c36f70dc2e6",
        "colab": {
          "base_uri": "https://localhost:8080/",
          "height": 36
        }
      },
      "source": [
        "from time import gmtime, strftime\n",
        "\n",
        "print(strftime(\"%Y-%m-%d %H:%M:%S\", gmtime()))"
      ],
      "execution_count": 2,
      "outputs": [
        {
          "output_type": "stream",
          "text": [
            "2020-10-26 14:08:56\n"
          ],
          "name": "stdout"
        }
      ]
    },
    {
      "cell_type": "markdown",
      "metadata": {
        "id": "8RL8uRC5QXY_"
      },
      "source": [
        " 2. Python convert string into a datetime object"
      ]
    },
    {
      "cell_type": "code",
      "metadata": {
        "id": "ttnnVMTEQqI2",
        "outputId": "99b86188-dacb-4241-b909-cdd7fa71004a",
        "colab": {
          "base_uri": "https://localhost:8080/",
          "height": 36
        }
      },
      "source": [
        "from datetime import datetime\n",
        "\n",
        "date_string = \"Feb 25 2020  4:20PM\"\n",
        "datetime_object = datetime.strptime(date_string, '%b %d %Y %I:%M%p')\n",
        "print(datetime_object)"
      ],
      "execution_count": 3,
      "outputs": [
        {
          "output_type": "stream",
          "text": [
            "2020-02-25 16:20:00\n"
          ],
          "name": "stdout"
        }
      ]
    },
    {
      "cell_type": "markdown",
      "metadata": {
        "id": "sYqaMmf-QzHk"
      },
      "source": [
        "3. Subtract a week ( 7 days)  from a given date in Python"
      ]
    },
    {
      "cell_type": "code",
      "metadata": {
        "id": "Jn85FBbrQ4-1",
        "outputId": "17de4520-f98a-4fae-921e-ab4facfa6eda",
        "colab": {
          "base_uri": "https://localhost:8080/",
          "height": 94
        }
      },
      "source": [
        "from datetime import datetime, timedelta\n",
        "\n",
        "given_date = datetime(2020, 2, 25)\n",
        "print(\"Given date\")\n",
        "print(given_date)\n",
        "\n",
        "days_to_subtract = 7\n",
        "res_date = given_date - timedelta(days=days_to_subtract)\n",
        "print(\"New Date\")\n",
        "print(res_date)"
      ],
      "execution_count": 4,
      "outputs": [
        {
          "output_type": "stream",
          "text": [
            "Given date\n",
            "2020-02-25 00:00:00\n",
            "New Date\n",
            "2020-02-18 00:00:00\n"
          ],
          "name": "stdout"
        }
      ]
    },
    {
      "cell_type": "markdown",
      "metadata": {
        "id": "QQEZzGyWRCOI"
      },
      "source": [
        " 4. Print a date in a the format format"
      ]
    },
    {
      "cell_type": "code",
      "metadata": {
        "id": "eQxssprxRLSK",
        "outputId": "6e3f8732-19a1-4c01-d1d1-7807c288e743",
        "colab": {
          "base_uri": "https://localhost:8080/",
          "height": 55
        }
      },
      "source": [
        "from datetime import datetime\n",
        "\n",
        "given_date = datetime(2020, 2, 25)\n",
        "print(\"Given date is\")\n",
        "print(given_date.strftime('%A %d %B %Y'))"
      ],
      "execution_count": 5,
      "outputs": [
        {
          "output_type": "stream",
          "text": [
            "Given date is\n",
            "Tuesday 25 February 2020\n"
          ],
          "name": "stdout"
        }
      ]
    },
    {
      "cell_type": "markdown",
      "metadata": {
        "id": "UL_Aja3_RUQK"
      },
      "source": [
        "5. Find the day of week of a given date?"
      ]
    },
    {
      "cell_type": "code",
      "metadata": {
        "id": "dBH23eQuReNO",
        "outputId": "0bf5a118-a595-4984-8b92-dfb4057c7e9c",
        "colab": {
          "base_uri": "https://localhost:8080/",
          "height": 55
        }
      },
      "source": [
        "from datetime import datetime\n",
        "\n",
        "given_date = datetime(2020, 7, 26)\n",
        "\n",
        "# to get weekday as integer\n",
        "print(given_date.today().weekday())\n",
        "\n",
        "# To get the english name of the weekday\n",
        "print(given_date.strftime('%A'))"
      ],
      "execution_count": 6,
      "outputs": [
        {
          "output_type": "stream",
          "text": [
            "0\n",
            "Sunday\n"
          ],
          "name": "stdout"
        }
      ]
    },
    {
      "cell_type": "code",
      "metadata": {
        "id": "8dUQwHlLSGZS",
        "outputId": "1c0612f2-aa40-4481-a7aa-9c7e60121cfd",
        "colab": {
          "base_uri": "https://localhost:8080/",
          "height": 36
        }
      },
      "source": [
        "import calendar\n",
        "from datetime import datetime\n",
        "\n",
        "given_date = datetime(2020, 7, 26)\n",
        "weekday = calendar.day_name[given_date.weekday()]\n",
        "print(weekday)"
      ],
      "execution_count": 7,
      "outputs": [
        {
          "output_type": "stream",
          "text": [
            "Sunday\n"
          ],
          "name": "stdout"
        }
      ]
    },
    {
      "cell_type": "markdown",
      "metadata": {
        "id": "JeAHahkOSBr9"
      },
      "source": [
        "6. Add week ( 7 days) and 12 hours to a given date"
      ]
    },
    {
      "cell_type": "code",
      "metadata": {
        "id": "R3RdFyhzSQnq",
        "outputId": "2c493230-8832-400d-c5a0-8d619364c3a1",
        "colab": {
          "base_uri": "https://localhost:8080/",
          "height": 94
        }
      },
      "source": [
        "from datetime import datetime, timedelta\n",
        "\n",
        "given_date = datetime(2020, 3, 22, 10, 00, 00)\n",
        "print(\"Given date\")\n",
        "print(given_date)\n",
        "\n",
        "days_to_add = 7\n",
        "res_date = given_date + timedelta(days=days_to_add, hours=12)\n",
        "print(\"New Date\")\n",
        "print(res_date)"
      ],
      "execution_count": 8,
      "outputs": [
        {
          "output_type": "stream",
          "text": [
            "Given date\n",
            "2020-03-22 10:00:00\n",
            "New Date\n",
            "2020-03-29 22:00:00\n"
          ],
          "name": "stdout"
        }
      ]
    },
    {
      "cell_type": "markdown",
      "metadata": {
        "id": "tk2Dr751SaMX"
      },
      "source": [
        "7. Print current time in milliseconds"
      ]
    },
    {
      "cell_type": "code",
      "metadata": {
        "id": "Pq7BzaZdSgu-",
        "outputId": "c6b88629-a064-4005-bf26-5a1ab53ebadf",
        "colab": {
          "base_uri": "https://localhost:8080/",
          "height": 36
        }
      },
      "source": [
        "import time\n",
        "\n",
        "milliseconds = int(round(time.time() * 1000))\n",
        "print(milliseconds)"
      ],
      "execution_count": 9,
      "outputs": [
        {
          "output_type": "stream",
          "text": [
            "1603721886045\n"
          ],
          "name": "stdout"
        }
      ]
    },
    {
      "cell_type": "markdown",
      "metadata": {
        "id": "YbODLv5wSmFc"
      },
      "source": [
        "8. Convert following datetime instance into string format"
      ]
    },
    {
      "cell_type": "code",
      "metadata": {
        "id": "jzMSb3R6SsxR",
        "outputId": "1ec55366-c9d7-42a1-ba9c-c7e249989400",
        "colab": {
          "base_uri": "https://localhost:8080/",
          "height": 36
        }
      },
      "source": [
        "from datetime import datetime\n",
        "\n",
        "given_date = datetime(2020, 2, 25)\n",
        "string_date = given_date.strftime(\"%Y-%m-%d %H:%M:%S\")\n",
        "print(string_date)"
      ],
      "execution_count": 10,
      "outputs": [
        {
          "output_type": "stream",
          "text": [
            "2020-02-25 00:00:00\n"
          ],
          "name": "stdout"
        }
      ]
    },
    {
      "cell_type": "markdown",
      "metadata": {
        "id": "NUL3Cs7xS0Jx"
      },
      "source": [
        "9. Calculate the date 4 months from the current date"
      ]
    },
    {
      "cell_type": "code",
      "metadata": {
        "id": "WQsLRVEKS5KO",
        "outputId": "6d62feb5-7924-4fa4-c3e3-28af3e724103",
        "colab": {
          "base_uri": "https://localhost:8080/",
          "height": 36
        }
      },
      "source": [
        "from datetime import datetime\n",
        "\n",
        "from dateutil.relativedelta import relativedelta\n",
        "\n",
        "# 2020-02-25\n",
        "given_date = datetime(2020, 2, 25).date()\n",
        "\n",
        "months_to_add = 4\n",
        "new_date = given_date + relativedelta(months=+ months_to_add)\n",
        "print(new_date)\n"
      ],
      "execution_count": 11,
      "outputs": [
        {
          "output_type": "stream",
          "text": [
            "2020-06-25\n"
          ],
          "name": "stdout"
        }
      ]
    },
    {
      "cell_type": "markdown",
      "metadata": {
        "id": "NGiaFZCAS9iv"
      },
      "source": [
        "10. Calculate number of days between two given dates"
      ]
    },
    {
      "cell_type": "code",
      "metadata": {
        "id": "L76UMCZzTCh5",
        "outputId": "e1bf6e5c-2346-440e-cf56-4619249233a1",
        "colab": {
          "base_uri": "https://localhost:8080/",
          "height": 55
        }
      },
      "source": [
        "from datetime import datetime\n",
        "\n",
        "# 2020-02-25\n",
        "date_1 = datetime(2020, 2, 25).date()\n",
        "# 2020-09-17\n",
        "date_2 = datetime(2020, 9, 17).date()\n",
        "\n",
        "delta = None\n",
        "if date_1 > date_2:\n",
        "    print(\"date_1 is greater\")\n",
        "    delta = date_1 - date_2\n",
        "else:\n",
        "    print(\"date_2 is greater\")\n",
        "    delta = date_2 - date_1\n",
        "print(\"Difference is\", delta.days, \"days\")"
      ],
      "execution_count": 12,
      "outputs": [
        {
          "output_type": "stream",
          "text": [
            "date_2 is greater\n",
            "Difference is 205 days\n"
          ],
          "name": "stdout"
        }
      ]
    }
  ]
}