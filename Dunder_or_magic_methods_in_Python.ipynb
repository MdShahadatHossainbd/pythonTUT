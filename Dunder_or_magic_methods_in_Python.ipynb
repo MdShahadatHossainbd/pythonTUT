{
  "nbformat": 4,
  "nbformat_minor": 0,
  "metadata": {
    "colab": {
      "name": "Dunder or magic methods in Python.ipynb",
      "provenance": [],
      "authorship_tag": "ABX9TyNDDNfNNjxMGI73Oui1IVaQ",
      "include_colab_link": true
    },
    "kernelspec": {
      "name": "python3",
      "display_name": "Python 3"
    }
  },
  "cells": [
    {
      "cell_type": "markdown",
      "metadata": {
        "id": "view-in-github",
        "colab_type": "text"
      },
      "source": [
        "<a href=\"https://colab.research.google.com/github/MdShahadatHossainbd/pythonTUT/blob/master/Dunder_or_magic_methods_in_Python.ipynb\" target=\"_parent\"><img src=\"https://colab.research.google.com/assets/colab-badge.svg\" alt=\"Open In Colab\"/></a>"
      ]
    },
    {
      "cell_type": "code",
      "metadata": {
        "id": "XAvtfmN2AR7d",
        "outputId": "8bb9a6a6-0e1d-48ae-ff9e-1de06a8580b4",
        "colab": {
          "base_uri": "https://localhost:8080/",
          "height": 35
        }
      },
      "source": [
        "# declare our own string class \n",
        "class String: \n",
        "      \n",
        "    # magic method to initiate object \n",
        "    def __init__(self, string): \n",
        "        self.string = string \n",
        "          \n",
        "# Driver Code \n",
        "if __name__ == '__main__': \n",
        "      \n",
        "    # object creation \n",
        "    string1 = String('Hello') \n",
        "  \n",
        "    # print object location \n",
        "    print(string1) "
      ],
      "execution_count": 1,
      "outputs": [
        {
          "output_type": "stream",
          "text": [
            "<__main__.String object at 0x7f20ef0c0860>\n"
          ],
          "name": "stdout"
        }
      ]
    },
    {
      "cell_type": "code",
      "metadata": {
        "id": "pqRhKT9bAkYE",
        "outputId": "46018da6-b8eb-4f16-fb56-cfe03705e060",
        "colab": {
          "base_uri": "https://localhost:8080/",
          "height": 35
        }
      },
      "source": [
        "# declare our own string class \n",
        "class String: \n",
        "      \n",
        "    # magic method to initiate object \n",
        "    def __init__(self, string): \n",
        "        self.string = string \n",
        "          \n",
        "    # print our string object \n",
        "    def __repr__(self): \n",
        "        return 'Object: {}'.format(self.string) \n",
        "  \n",
        "# Driver Code \n",
        "if __name__ == '__main__': \n",
        "      \n",
        "    # object creation \n",
        "    string1 = String('Hello') \n",
        "  \n",
        "    # print object location \n",
        "    print(string1) "
      ],
      "execution_count": 2,
      "outputs": [
        {
          "output_type": "stream",
          "text": [
            "Object: Hello\n"
          ],
          "name": "stdout"
        }
      ]
    },
    {
      "cell_type": "code",
      "metadata": {
        "id": "mDxxcEZIA4a_",
        "outputId": "8f99bb58-62fe-4e76-81b5-2364db40eb9e",
        "colab": {
          "base_uri": "https://localhost:8080/",
          "height": 35
        }
      },
      "source": [
        "# declare our own string class \n",
        "class String: \n",
        "\t\n",
        "\t# magic method to initiate object \n",
        "\tdef __init__(self, string): \n",
        "\t\tself.string = string \n",
        "\t\t\n",
        "\t# print our string object \n",
        "\tdef __repr__(self): \n",
        "\t\treturn 'Object: {}'.format(self.string) \n",
        "\n",
        "# Driver Code \n",
        "if __name__ == '__main__': \n",
        "\t\n",
        "\t# object creation \n",
        "\tstring1 = str('Hello') \n",
        "\t\n",
        "\t# concatenate String object and a string \n",
        "\tprint(string1 +' world') "
      ],
      "execution_count": 6,
      "outputs": [
        {
          "output_type": "stream",
          "text": [
            "Hello world\n"
          ],
          "name": "stdout"
        }
      ]
    },
    {
      "cell_type": "code",
      "metadata": {
        "id": "EpQsKRV6BTD0",
        "outputId": "d9d5d2f3-b547-4c28-8af1-cfa6c62f2a00",
        "colab": {
          "base_uri": "https://localhost:8080/",
          "height": 35
        }
      },
      "source": [
        "# declare our own string class \n",
        "class String: \n",
        "\t\n",
        "\t# magic method to initiate object \n",
        "\tdef __init__(self, string): \n",
        "\t\tself.string = string \n",
        "\t\t\n",
        "\t# print our string object \n",
        "\tdef __repr__(self): \n",
        "\t\treturn 'Object: {}'.format(self.string) \n",
        "\t\t\n",
        "\tdef __add__(self, other): \n",
        "\t\treturn self.string + other \n",
        "\n",
        "# Driver Code \n",
        "if __name__ == '__main__': \n",
        "\t\n",
        "\t# object creation \n",
        "\tstring1 = String('Hello') \n",
        "\t\n",
        "\t# concatenate String object and a string \n",
        "\tprint(string1 +' Geeks') "
      ],
      "execution_count": 7,
      "outputs": [
        {
          "output_type": "stream",
          "text": [
            "Hello Geeks\n"
          ],
          "name": "stdout"
        }
      ]
    },
    {
      "cell_type": "markdown",
      "metadata": {
        "id": "fQFupH0EBvN2"
      },
      "source": [
        "Built-in classes in Python define many magic methods. Use the dir() function to see the number of magic methods inherited by a class. For example, the following lists all the attributes and methods defined in the int class."
      ]
    },
    {
      "cell_type": "code",
      "metadata": {
        "id": "xP0zB_YmBeUo",
        "outputId": "3a01718b-1177-4769-c226-462de9c921d2",
        "colab": {
          "base_uri": "https://localhost:8080/",
          "height": 1000
        }
      },
      "source": [
        "dir(int)"
      ],
      "execution_count": 8,
      "outputs": [
        {
          "output_type": "execute_result",
          "data": {
            "text/plain": [
              "['__abs__',\n",
              " '__add__',\n",
              " '__and__',\n",
              " '__bool__',\n",
              " '__ceil__',\n",
              " '__class__',\n",
              " '__delattr__',\n",
              " '__dir__',\n",
              " '__divmod__',\n",
              " '__doc__',\n",
              " '__eq__',\n",
              " '__float__',\n",
              " '__floor__',\n",
              " '__floordiv__',\n",
              " '__format__',\n",
              " '__ge__',\n",
              " '__getattribute__',\n",
              " '__getnewargs__',\n",
              " '__gt__',\n",
              " '__hash__',\n",
              " '__index__',\n",
              " '__init__',\n",
              " '__init_subclass__',\n",
              " '__int__',\n",
              " '__invert__',\n",
              " '__le__',\n",
              " '__lshift__',\n",
              " '__lt__',\n",
              " '__mod__',\n",
              " '__mul__',\n",
              " '__ne__',\n",
              " '__neg__',\n",
              " '__new__',\n",
              " '__or__',\n",
              " '__pos__',\n",
              " '__pow__',\n",
              " '__radd__',\n",
              " '__rand__',\n",
              " '__rdivmod__',\n",
              " '__reduce__',\n",
              " '__reduce_ex__',\n",
              " '__repr__',\n",
              " '__rfloordiv__',\n",
              " '__rlshift__',\n",
              " '__rmod__',\n",
              " '__rmul__',\n",
              " '__ror__',\n",
              " '__round__',\n",
              " '__rpow__',\n",
              " '__rrshift__',\n",
              " '__rshift__',\n",
              " '__rsub__',\n",
              " '__rtruediv__',\n",
              " '__rxor__',\n",
              " '__setattr__',\n",
              " '__sizeof__',\n",
              " '__str__',\n",
              " '__sub__',\n",
              " '__subclasshook__',\n",
              " '__truediv__',\n",
              " '__trunc__',\n",
              " '__xor__',\n",
              " 'bit_length',\n",
              " 'conjugate',\n",
              " 'denominator',\n",
              " 'from_bytes',\n",
              " 'imag',\n",
              " 'numerator',\n",
              " 'real',\n",
              " 'to_bytes']"
            ]
          },
          "metadata": {
            "tags": []
          },
          "execution_count": 8
        }
      ]
    }
  ]
}