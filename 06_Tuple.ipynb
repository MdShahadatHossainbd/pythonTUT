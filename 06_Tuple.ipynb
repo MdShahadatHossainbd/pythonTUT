{
  "nbformat": 4,
  "nbformat_minor": 0,
  "metadata": {
    "colab": {
      "name": "06. Tuple.ipynb",
      "provenance": [],
      "authorship_tag": "ABX9TyOMHbRf9EwA2bCmzyrLdAon",
      "include_colab_link": true
    },
    "kernelspec": {
      "name": "python3",
      "display_name": "Python 3"
    }
  },
  "cells": [
    {
      "cell_type": "markdown",
      "metadata": {
        "id": "view-in-github",
        "colab_type": "text"
      },
      "source": [
        "<a href=\"https://colab.research.google.com/github/MdShahadatHossainbd/pythonTUT/blob/master/06_Tuple.ipynb\" target=\"_parent\"><img src=\"https://colab.research.google.com/assets/colab-badge.svg\" alt=\"Open In Colab\"/></a>"
      ]
    },
    {
      "cell_type": "markdown",
      "metadata": {
        "id": "59saVfohgjBG"
      },
      "source": [
        "1. Reverse the following tuple"
      ]
    },
    {
      "cell_type": "code",
      "metadata": {
        "id": "RGUef-LWgWLm",
        "outputId": "9f26e10b-6d8e-4ce0-fa1b-9bf4fd205c46",
        "colab": {
          "base_uri": "https://localhost:8080/",
          "height": 36
        }
      },
      "source": [
        "aTuple = (10, 20, 30, 40, 50)\n",
        "aTuple = aTuple[::-1]\n",
        "print(aTuple)"
      ],
      "execution_count": 1,
      "outputs": [
        {
          "output_type": "stream",
          "text": [
            "(50, 40, 30, 20, 10)\n"
          ],
          "name": "stdout"
        }
      ]
    },
    {
      "cell_type": "code",
      "metadata": {
        "id": "ZVbZp15Phbl4",
        "outputId": "7e6a301b-058e-44bb-e4ef-05ff5dc10e75",
        "colab": {
          "base_uri": "https://localhost:8080/",
          "height": 36
        }
      },
      "source": [
        "aTuple = (10, 20, 30, 40, 50)\n",
        "print(aTuple[::-1])"
      ],
      "execution_count": 2,
      "outputs": [
        {
          "output_type": "stream",
          "text": [
            "(50, 40, 30, 20, 10)\n"
          ],
          "name": "stdout"
        }
      ]
    },
    {
      "cell_type": "markdown",
      "metadata": {
        "id": "zhYotkShhlFz"
      },
      "source": [
        "2. Access value 20 from the following tuple"
      ]
    },
    {
      "cell_type": "code",
      "metadata": {
        "id": "qnILbmLzho5L",
        "outputId": "8c6dc95a-9164-4c72-8b93-fda3b0f08a54",
        "colab": {
          "base_uri": "https://localhost:8080/",
          "height": 36
        }
      },
      "source": [
        "aTuple = (\"Orange\", [10, 20, 30], (5, 15, 25))\n",
        "print(aTuple[1][1])"
      ],
      "execution_count": 3,
      "outputs": [
        {
          "output_type": "stream",
          "text": [
            "20\n"
          ],
          "name": "stdout"
        }
      ]
    },
    {
      "cell_type": "markdown",
      "metadata": {
        "id": "rJ4Vx2w8htXh"
      },
      "source": [
        "3. Create a tuple with single item 50"
      ]
    },
    {
      "cell_type": "code",
      "metadata": {
        "id": "y7uwrgnOhxSj",
        "outputId": "6d672761-e988-464a-9763-80d9c6e8cf17",
        "colab": {
          "base_uri": "https://localhost:8080/",
          "height": 36
        }
      },
      "source": [
        "aTuple = (50, )\n",
        "print(aTuple)"
      ],
      "execution_count": 4,
      "outputs": [
        {
          "output_type": "stream",
          "text": [
            "(50,)\n"
          ],
          "name": "stdout"
        }
      ]
    },
    {
      "cell_type": "markdown",
      "metadata": {
        "id": "g4UOyDEXh1Eq"
      },
      "source": [
        "4. Unpack the following tuple into 4 variables"
      ]
    },
    {
      "cell_type": "code",
      "metadata": {
        "id": "Tjoo-2yHh5RU",
        "outputId": "1c74aeb0-c9e6-4418-d41b-25715db6ba5c",
        "colab": {
          "base_uri": "https://localhost:8080/",
          "height": 94
        }
      },
      "source": [
        "aTuple = (10, 20, 30, 40)\n",
        "a, b, c, d = aTuple\n",
        "print(a)\n",
        "print(b)\n",
        "print(c)\n",
        "print(d)"
      ],
      "execution_count": 5,
      "outputs": [
        {
          "output_type": "stream",
          "text": [
            "10\n",
            "20\n",
            "30\n",
            "40\n"
          ],
          "name": "stdout"
        }
      ]
    },
    {
      "cell_type": "markdown",
      "metadata": {
        "id": "JhnBKUvWh9vZ"
      },
      "source": [
        " 5. Swap the following two tuples"
      ]
    },
    {
      "cell_type": "code",
      "metadata": {
        "id": "dkQR-sQLiBOn",
        "outputId": "723bbc96-ea58-4739-eefc-fc13ce6fb1e3",
        "colab": {
          "base_uri": "https://localhost:8080/",
          "height": 55
        }
      },
      "source": [
        "tuple1 = (11, 22)\n",
        "tuple2 = (99, 88)\n",
        "tuple1, tuple2 = tuple2, tuple1\n",
        "print(tuple2)\n",
        "print(tuple1)"
      ],
      "execution_count": 6,
      "outputs": [
        {
          "output_type": "stream",
          "text": [
            "(11, 22)\n",
            "(99, 88)\n"
          ],
          "name": "stdout"
        }
      ]
    },
    {
      "cell_type": "markdown",
      "metadata": {
        "id": "lHVn9vc9iFXC"
      },
      "source": [
        "6. Copy element 44 and 55 from the following tuple into a new tuple"
      ]
    },
    {
      "cell_type": "code",
      "metadata": {
        "id": "AHEckwzQiI0U",
        "outputId": "3ad1b2f3-3989-47e9-a831-930e1f5314ea",
        "colab": {
          "base_uri": "https://localhost:8080/",
          "height": 36
        }
      },
      "source": [
        "tuple1 = (11, 22, 33, 44, 55, 66)\n",
        "tuple2 = tuple1[3:-1]\n",
        "print(tuple2)"
      ],
      "execution_count": 7,
      "outputs": [
        {
          "output_type": "stream",
          "text": [
            "(44, 55)\n"
          ],
          "name": "stdout"
        }
      ]
    },
    {
      "cell_type": "markdown",
      "metadata": {
        "id": "LIql0ez7iN3w"
      },
      "source": [
        "7. Modify the first item (22) of a list inside a following tuple to 222\n",
        "\n"
      ]
    },
    {
      "cell_type": "code",
      "metadata": {
        "id": "ef5Am7FviTbD",
        "outputId": "46015335-d8b4-4cc3-fa70-983e28bf460c",
        "colab": {
          "base_uri": "https://localhost:8080/",
          "height": 36
        }
      },
      "source": [
        "tuple1 = (11, [22, 33], 44, 55)\n",
        "tuple1[1][0] = 222\n",
        "print(tuple1)"
      ],
      "execution_count": 8,
      "outputs": [
        {
          "output_type": "stream",
          "text": [
            "(11, [222, 33], 44, 55)\n"
          ],
          "name": "stdout"
        }
      ]
    },
    {
      "cell_type": "markdown",
      "metadata": {
        "id": "PsLUr7JsiYLE"
      },
      "source": [
        "8. Sort a tuple of tuples by 2nd item"
      ]
    },
    {
      "cell_type": "code",
      "metadata": {
        "id": "vCmNodYBinAc",
        "outputId": "ce448736-35e1-4e6e-9ef4-09e96e7f8aec",
        "colab": {
          "base_uri": "https://localhost:8080/",
          "height": 36
        }
      },
      "source": [
        "tuple1 = (('a', 23),('b', 37),('c', 11), ('d',29))\n",
        "tuple1 = tuple(sorted(list(tuple1), key=lambda x: x[1]))\n",
        "print(tuple1)"
      ],
      "execution_count": 9,
      "outputs": [
        {
          "output_type": "stream",
          "text": [
            "(('c', 11), ('a', 23), ('d', 29), ('b', 37))\n"
          ],
          "name": "stdout"
        }
      ]
    },
    {
      "cell_type": "markdown",
      "metadata": {
        "id": "1gYFrrL-jLlJ"
      },
      "source": [
        "9. Counts the number of occurrences of item 50 from a tuple\n",
        "\n"
      ]
    },
    {
      "cell_type": "code",
      "metadata": {
        "id": "Ud847CwXjO-Z",
        "outputId": "0852bb63-4896-40fa-bd7c-98dca7f38240",
        "colab": {
          "base_uri": "https://localhost:8080/",
          "height": 36
        }
      },
      "source": [
        "tuple1 = (50, 10, 60, 70, 50, 50, 80)\n",
        "print(tuple1.count(50))"
      ],
      "execution_count": 12,
      "outputs": [
        {
          "output_type": "stream",
          "text": [
            "3\n"
          ],
          "name": "stdout"
        }
      ]
    },
    {
      "cell_type": "markdown",
      "metadata": {
        "id": "AnjIFY0rjXRe"
      },
      "source": [
        "10. Check if all items in the following tuple are the same"
      ]
    },
    {
      "cell_type": "code",
      "metadata": {
        "id": "FG7AYkcdjmrP",
        "outputId": "63cfdd32-f36a-4d63-de5e-9325fcb527a1",
        "colab": {
          "base_uri": "https://localhost:8080/",
          "height": 36
        }
      },
      "source": [
        "def check(sampleTuple):\n",
        "    return all(i == sampleTuple[0] for i in sampleTuple)\n",
        "\n",
        "tuple1 = (45, 45, 45, 45)\n",
        "print(check(tuple1))"
      ],
      "execution_count": 13,
      "outputs": [
        {
          "output_type": "stream",
          "text": [
            "True\n"
          ],
          "name": "stdout"
        }
      ]
    }
  ]
}