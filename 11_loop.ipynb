{
  "nbformat": 4,
  "nbformat_minor": 0,
  "metadata": {
    "colab": {
      "name": "11 loop.ipynb",
      "provenance": [],
      "authorship_tag": "ABX9TyO1/b58MGD7MObQlhlWr8zQ",
      "include_colab_link": true
    },
    "kernelspec": {
      "name": "python3",
      "display_name": "Python 3"
    }
  },
  "cells": [
    {
      "cell_type": "markdown",
      "metadata": {
        "id": "view-in-github",
        "colab_type": "text"
      },
      "source": [
        "<a href=\"https://colab.research.google.com/github/MdShahadatHossainbd/pythonTUT/blob/master/11_loop.ipynb\" target=\"_parent\"><img src=\"https://colab.research.google.com/assets/colab-badge.svg\" alt=\"Open In Colab\"/></a>"
      ]
    },
    {
      "cell_type": "markdown",
      "metadata": {
        "id": "s2cbzEBNkUe7"
      },
      "source": [
        "7. Print the following pattern using for loop"
      ]
    },
    {
      "cell_type": "code",
      "metadata": {
        "id": "z36nkc-KjvwP",
        "outputId": "7d7e2801-7e50-48e5-fc6e-2ba67abc24f5",
        "colab": {
          "base_uri": "https://localhost:8080/"
        }
      },
      "source": [
        "n = 5\n",
        "k = 5\n",
        "for i in range(0,n+1):\n",
        "    for j in range(k-i,0,-1):\n",
        "        print(j,end=' ')\n",
        "    print()"
      ],
      "execution_count": 1,
      "outputs": [
        {
          "output_type": "stream",
          "text": [
            "5 4 3 2 1 \n",
            "4 3 2 1 \n",
            "3 2 1 \n",
            "2 1 \n",
            "1 \n",
            "\n"
          ],
          "name": "stdout"
        }
      ]
    },
    {
      "cell_type": "markdown",
      "metadata": {
        "id": "Ixlny7jJ-E28"
      },
      "source": [
        "8. Reverse the following list using for loop"
      ]
    },
    {
      "cell_type": "code",
      "metadata": {
        "id": "jYap9CCQ-LK_",
        "outputId": "fd7c8614-5265-4464-bed8-c4bf39f83e95",
        "colab": {
          "base_uri": "https://localhost:8080/"
        }
      },
      "source": [
        "list1 = [10, 20, 30, 40, 50]\n",
        "start = len(list1) - 1\n",
        "stop = -1\n",
        "step = -1\n",
        "for i in range(start, stop, step) :\n",
        "    print(list1[i])"
      ],
      "execution_count": 2,
      "outputs": [
        {
          "output_type": "stream",
          "text": [
            "50\n",
            "40\n",
            "30\n",
            "20\n",
            "10\n"
          ],
          "name": "stdout"
        }
      ]
    },
    {
      "cell_type": "markdown",
      "metadata": {
        "id": "I0cX0epN_S3m"
      },
      "source": [
        "9. Display -10 to -1 using for loop"
      ]
    },
    {
      "cell_type": "code",
      "metadata": {
        "id": "QiE77-oE_ZIR",
        "outputId": "6ad0ec04-fc50-44b7-999b-8bc9146bd1f7",
        "colab": {
          "base_uri": "https://localhost:8080/"
        }
      },
      "source": [
        "for num in range(-10, 0):\n",
        "    print(num)"
      ],
      "execution_count": 7,
      "outputs": [
        {
          "output_type": "stream",
          "text": [
            "-10\n",
            "-9\n",
            "-8\n",
            "-7\n",
            "-6\n",
            "-5\n",
            "-4\n",
            "-3\n",
            "-2\n",
            "-1\n"
          ],
          "name": "stdout"
        }
      ]
    },
    {
      "cell_type": "code",
      "metadata": {
        "id": "NGYASTIp_r6d",
        "outputId": "7c8c228f-a5da-40bf-d89b-9be3f612bb84",
        "colab": {
          "base_uri": "https://localhost:8080/"
        }
      },
      "source": [
        "for num in range(-10, 0, 2):\n",
        "    print(num)"
      ],
      "execution_count": 9,
      "outputs": [
        {
          "output_type": "stream",
          "text": [
            "-10\n",
            "-8\n",
            "-6\n",
            "-4\n",
            "-2\n"
          ],
          "name": "stdout"
        }
      ]
    },
    {
      "cell_type": "markdown",
      "metadata": {
        "id": "TFQ8q_P-_1Aj"
      },
      "source": [
        "10. Display a message “Done” after successful execution of for loop"
      ]
    },
    {
      "cell_type": "code",
      "metadata": {
        "id": "dgcldrO4_2uf",
        "outputId": "04f62cbc-b856-49a5-81e3-abdfe5220efb",
        "colab": {
          "base_uri": "https://localhost:8080/"
        }
      },
      "source": [
        "for i in range(5):\n",
        "    print(i)\n",
        "else:\n",
        "    print(\"Done!\")"
      ],
      "execution_count": 10,
      "outputs": [
        {
          "output_type": "stream",
          "text": [
            "0\n",
            "1\n",
            "2\n",
            "3\n",
            "4\n",
            "Done!\n"
          ],
          "name": "stdout"
        }
      ]
    },
    {
      "cell_type": "markdown",
      "metadata": {
        "id": "af12t0eK_684"
      },
      "source": [
        "11. Python program to display all the prime numbers within a range"
      ]
    },
    {
      "cell_type": "code",
      "metadata": {
        "id": "R94zn2oPBEiW",
        "outputId": "50a245d0-b38c-4a00-a738-e2b0422ee2b4",
        "colab": {
          "base_uri": "https://localhost:8080/"
        }
      },
      "source": [
        "start = 25\n",
        "end = 50\n",
        "print(\"Prime numbers between\", start, \"and\", end, \"are:\")\n",
        "\n",
        "for num in range(start, end + 1):\n",
        "    # all prime numbers are greater than 1\n",
        "    # if number is less than or equal to 1, it is not prime\n",
        "    if num > 1:\n",
        "        for i in range(2, num):\n",
        "            # check for factors\n",
        "            if (num % i) == 0:\n",
        "                # not a prime number so break inner loop and\n",
        "                # look for next number\n",
        "                break\n",
        "        else:\n",
        "            print(num)"
      ],
      "execution_count": 11,
      "outputs": [
        {
          "output_type": "stream",
          "text": [
            "Prime numbers between 25 and 50 are:\n",
            "29\n",
            "31\n",
            "37\n",
            "41\n",
            "43\n",
            "47\n"
          ],
          "name": "stdout"
        }
      ]
    },
    {
      "cell_type": "markdown",
      "metadata": {
        "id": "gA4g_eLmBjeZ"
      },
      "source": [
        "12. Display Fibonacci series up to 10 terms"
      ]
    },
    {
      "cell_type": "code",
      "metadata": {
        "id": "qMcDmdHRBldK",
        "outputId": "f4c32b14-73d8-41a9-91fa-81107d4599c6",
        "colab": {
          "base_uri": "https://localhost:8080/"
        }
      },
      "source": [
        "terms = 10\n",
        "# first two terms\n",
        "num1, num2 = 0, 1\n",
        "count = 0\n",
        "\n",
        "print(\"Fibonacci sequence:\")\n",
        "while count < terms:\n",
        "    print(num1, end=\"  \")\n",
        "    temp = num1 + num2\n",
        "    # update values\n",
        "    num1 = num2\n",
        "    num2 = temp\n",
        "    count += 1"
      ],
      "execution_count": 12,
      "outputs": [
        {
          "output_type": "stream",
          "text": [
            "Fibonacci sequence:\n",
            "0  1  1  2  3  5  8  13  21  34  "
          ],
          "name": "stdout"
        }
      ]
    }
  ]
}