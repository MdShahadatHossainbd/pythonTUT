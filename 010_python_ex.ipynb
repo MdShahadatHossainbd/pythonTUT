{
  "nbformat": 4,
  "nbformat_minor": 0,
  "metadata": {
    "colab": {
      "name": "010. python ex.ipynb",
      "provenance": [],
      "authorship_tag": "ABX9TyPFUUoNTbD5dJjgj4Su4ttq",
      "include_colab_link": true
    },
    "kernelspec": {
      "name": "python3",
      "display_name": "Python 3"
    }
  },
  "cells": [
    {
      "cell_type": "markdown",
      "metadata": {
        "id": "view-in-github",
        "colab_type": "text"
      },
      "source": [
        "<a href=\"https://colab.research.google.com/github/MdShahadatHossainbd/pythonTUT/blob/master/010_python_ex.ipynb\" target=\"_parent\"><img src=\"https://colab.research.google.com/assets/colab-badge.svg\" alt=\"Open In Colab\"/></a>"
      ]
    },
    {
      "cell_type": "markdown",
      "metadata": {
        "id": "I7_oYvVh9hUl"
      },
      "source": [
        "8. Print the following pattern"
      ]
    },
    {
      "cell_type": "code",
      "metadata": {
        "id": "FTlO-MH89TsI",
        "outputId": "b681da57-22de-4604-eee7-815a3f1dca87",
        "colab": {
          "base_uri": "https://localhost:8080/",
          "height": 384
        }
      },
      "source": [
        "for num in range(10):\n",
        "    for i in range(num):\n",
        "        print (num, end=\" \") #print number\n",
        "    # new line after each row to display pattern correctly\n",
        "    print(\"\\n\")"
      ],
      "execution_count": 3,
      "outputs": [
        {
          "output_type": "stream",
          "text": [
            "\n",
            "\n",
            "1 \n",
            "\n",
            "2 2 \n",
            "\n",
            "3 3 3 \n",
            "\n",
            "4 4 4 4 \n",
            "\n",
            "5 5 5 5 5 \n",
            "\n",
            "6 6 6 6 6 6 \n",
            "\n",
            "7 7 7 7 7 7 7 \n",
            "\n",
            "8 8 8 8 8 8 8 8 \n",
            "\n",
            "9 9 9 9 9 9 9 9 9 \n",
            "\n"
          ],
          "name": "stdout"
        }
      ]
    },
    {
      "cell_type": "code",
      "metadata": {
        "id": "IK2vEcsT92IU",
        "outputId": "dddfb7dc-1603-4017-cb8a-aebd8f6ded19",
        "colab": {
          "base_uri": "https://localhost:8080/",
          "height": 35
        }
      },
      "source": [
        "for num in range(10):\n",
        "    for i in range(num):\n",
        "        print (num, end=\" \") "
      ],
      "execution_count": 9,
      "outputs": [
        {
          "output_type": "stream",
          "text": [
            "1 2 2 3 3 3 4 4 4 4 5 5 5 5 5 6 6 6 6 6 6 7 7 7 7 7 7 7 8 8 8 8 8 8 8 8 9 9 9 9 9 9 9 9 9 "
          ],
          "name": "stdout"
        }
      ]
    },
    {
      "cell_type": "code",
      "metadata": {
        "id": "J9Nja9Q2-ZTd",
        "outputId": "b6ba52d3-9bab-434c-c323-e7e4403e89e4",
        "colab": {
          "base_uri": "https://localhost:8080/",
          "height": 844
        }
      },
      "source": [
        "for num in range(10):\n",
        "    for i in range(num):\n",
        "        print (num) "
      ],
      "execution_count": 10,
      "outputs": [
        {
          "output_type": "stream",
          "text": [
            "1\n",
            "2\n",
            "2\n",
            "3\n",
            "3\n",
            "3\n",
            "4\n",
            "4\n",
            "4\n",
            "4\n",
            "5\n",
            "5\n",
            "5\n",
            "5\n",
            "5\n",
            "6\n",
            "6\n",
            "6\n",
            "6\n",
            "6\n",
            "6\n",
            "7\n",
            "7\n",
            "7\n",
            "7\n",
            "7\n",
            "7\n",
            "7\n",
            "8\n",
            "8\n",
            "8\n",
            "8\n",
            "8\n",
            "8\n",
            "8\n",
            "8\n",
            "9\n",
            "9\n",
            "9\n",
            "9\n",
            "9\n",
            "9\n",
            "9\n",
            "9\n",
            "9\n"
          ],
          "name": "stdout"
        }
      ]
    },
    {
      "cell_type": "markdown",
      "metadata": {
        "id": "zNnrbdRC-eDG"
      },
      "source": [
        "9. Reverse a given number and return true if it is the same as the original number"
      ]
    },
    {
      "cell_type": "code",
      "metadata": {
        "id": "0bwLaa19Ab0p",
        "outputId": "3b962ab9-9227-41fe-9e7d-cf98ccfa60ec",
        "colab": {
          "base_uri": "https://localhost:8080/",
          "height": 54
        }
      },
      "source": [
        "def reverseCheck(number):\n",
        "    print(\"original number\", number)\n",
        "    originalNum = number\n",
        "    reverseNum = 0\n",
        "    while (number > 0):\n",
        "        reminder = number % 10\n",
        "        reverseNum = (reverseNum * 10) + reminder\n",
        "        number = number // 10\n",
        "    if (originalNum == reverseNum):\n",
        "        return True\n",
        "    else:\n",
        "        return False\n",
        "\n",
        "print(\"The original and reverse number is the same:\", reverseCheck(121))"
      ],
      "execution_count": 13,
      "outputs": [
        {
          "output_type": "stream",
          "text": [
            "original number 121\n",
            "The original and reverse number is the same: True\n"
          ],
          "name": "stdout"
        }
      ]
    },
    {
      "cell_type": "code",
      "metadata": {
        "id": "8vrXCcmuAsVD",
        "outputId": "216bc19b-61ff-46b6-9452-f14affa285f5",
        "colab": {
          "base_uri": "https://localhost:8080/",
          "height": 54
        }
      },
      "source": [
        "def reverseCheck(number):\n",
        "    print(\"original number\", number)\n",
        "    originalNum = number\n",
        "    reverseNum = 0\n",
        "    while (number > 0):\n",
        "        reminder = number % 10\n",
        "        reverseNum = (reverseNum * 10) + reminder\n",
        "        number = number // 10\n",
        "    if (originalNum == reverseNum):\n",
        "        return True\n",
        "    else:\n",
        "        return False\n",
        "\n",
        "print(\"The original and reverse number is the same:\", reverseCheck(127))"
      ],
      "execution_count": 14,
      "outputs": [
        {
          "output_type": "stream",
          "text": [
            "original number 127\n",
            "The original and reverse number is the same: False\n"
          ],
          "name": "stdout"
        }
      ]
    },
    {
      "cell_type": "code",
      "metadata": {
        "id": "Xq6pTFcp-ogy",
        "outputId": "30bbc21a-8a37-4760-f9ec-9f0bf3e59097",
        "colab": {
          "base_uri": "https://localhost:8080/",
          "height": 54
        }
      },
      "source": [
        "n=int(input(\"Enter number: \"))\n",
        "rev=0\n",
        "while(n>0):\n",
        "    dig=n%10\n",
        "    rev=rev*10+dig\n",
        "    n=n//10\n",
        "print(\"Reverse of the number:\",rev)"
      ],
      "execution_count": 11,
      "outputs": [
        {
          "output_type": "stream",
          "text": [
            "Enter number: 454\n",
            "Reverse of the number: 454\n"
          ],
          "name": "stdout"
        }
      ]
    },
    {
      "cell_type": "code",
      "metadata": {
        "id": "etb0GVZmAWDI",
        "outputId": "e62a6386-c9a4-4e28-be61-531027c44494",
        "colab": {
          "base_uri": "https://localhost:8080/",
          "height": 54
        }
      },
      "source": [
        "n=int(input(\"Enter number: \"))\n",
        "rev=0\n",
        "while(n>0):\n",
        "    dig=n%10\n",
        "    rev=rev*10+dig\n",
        "    n=n//10\n",
        "print(\"Reverse of the number:\",rev)"
      ],
      "execution_count": 12,
      "outputs": [
        {
          "output_type": "stream",
          "text": [
            "Enter number: 5678\n",
            "Reverse of the number: 8765\n"
          ],
          "name": "stdout"
        }
      ]
    },
    {
      "cell_type": "code",
      "metadata": {
        "id": "1F0v3Dr-Bh89",
        "outputId": "4c1b72ef-9fb0-4910-ae14-e25b5d61e999",
        "colab": {
          "base_uri": "https://localhost:8080/",
          "height": 35
        }
      },
      "source": [
        "# Python program to reverse a number \n",
        "\n",
        "n = 4562; \n",
        "rev = 0\n",
        "\n",
        "while(n > 0): \n",
        "\ta = n % 10\n",
        "\trev = rev * 10 + a \n",
        "\tn = n // 10\n",
        "\t\n",
        "print(rev) "
      ],
      "execution_count": 15,
      "outputs": [
        {
          "output_type": "stream",
          "text": [
            "2654\n"
          ],
          "name": "stdout"
        }
      ]
    },
    {
      "cell_type": "code",
      "metadata": {
        "id": "1tY--eKbBnfi",
        "outputId": "ecc5c7e2-8102-481e-8e46-32dabb1210ba",
        "colab": {
          "base_uri": "https://localhost:8080/",
          "height": 35
        }
      },
      "source": [
        "# Python 3 program to reverse digits of a number \n",
        "rev_num = 0\n",
        "base_pos = 1\n",
        "\n",
        "# Recursive function to reverse digits of num \n",
        "def reversDigits(num): \n",
        "\tglobal rev_num \n",
        "\tglobal base_pos \n",
        "\tif(num > 0): \n",
        "\t\treversDigits((int)(num / 10)) \n",
        "\t\trev_num += (num % 10) * base_pos \n",
        "\t\tbase_pos *= 10\n",
        "\treturn rev_num \n",
        "\t\n",
        "# Driver Code \n",
        "num = 4562\n",
        "print(\"Reverse of no. is \", \n",
        "\t\treversDigits(num)) "
      ],
      "execution_count": 16,
      "outputs": [
        {
          "output_type": "stream",
          "text": [
            "Reverse of no. is  2654\n"
          ],
          "name": "stdout"
        }
      ]
    }
  ]
}