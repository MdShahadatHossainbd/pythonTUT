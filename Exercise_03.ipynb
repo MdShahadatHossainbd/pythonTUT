{
  "nbformat": 4,
  "nbformat_minor": 0,
  "metadata": {
    "colab": {
      "name": "Exercise 03.ipynb",
      "provenance": [],
      "authorship_tag": "ABX9TyNk6uhARnWeOZ9JkwPlExQt",
      "include_colab_link": true
    },
    "kernelspec": {
      "name": "python3",
      "display_name": "Python 3"
    }
  },
  "cells": [
    {
      "cell_type": "markdown",
      "metadata": {
        "id": "view-in-github",
        "colab_type": "text"
      },
      "source": [
        "<a href=\"https://colab.research.google.com/github/MdShahadatHossainbd/pythonTUT/blob/master/Exercise_03.ipynb\" target=\"_parent\"><img src=\"https://colab.research.google.com/assets/colab-badge.svg\" alt=\"Open In Colab\"/></a>"
      ]
    },
    {
      "cell_type": "code",
      "metadata": {
        "id": "lMK-GHFh62AE",
        "colab_type": "code",
        "colab": {
          "base_uri": "https://localhost:8080/",
          "height": 90
        },
        "outputId": "3e73a316-7f30-495d-b675-7cc0cca52890"
      },
      "source": [
        "#How to count number of unique lists within list?\n",
        "\n",
        "list =  [ [1,2,3], [2,3,4], [1,2,3],[5,7] ]\n",
        "repeats = []\n",
        "unique = 0\n",
        "for i in list:\n",
        "    count = 0;\n",
        "    if i not in repeats:\n",
        "        for i2 in list:\n",
        "            if i == i2:\n",
        "                count += 1\n",
        "    if count > 1:\n",
        "        repeats.append(i)\n",
        "    elif count == 1:\n",
        "        unique += 1\n",
        "\n",
        "print (\"Repeated Items\")\n",
        "for r in repeats:\n",
        "    print (r)\n",
        "\n",
        "print (\"\\nUnique items:\", unique)"
      ],
      "execution_count": 4,
      "outputs": [
        {
          "output_type": "stream",
          "text": [
            "Repeated Items\n",
            "[1, 2, 3]\n",
            "\n",
            "Unique items: 2\n"
          ],
          "name": "stdout"
        }
      ]
    },
    {
      "cell_type": "code",
      "metadata": {
        "id": "Rx9jEEVi_h3z",
        "colab_type": "code",
        "colab": {
          "base_uri": "https://localhost:8080/",
          "height": 35
        },
        "outputId": "a6643041-bc00-4891-fe5f-59df7785e47c"
      },
      "source": [
        "from collections import Counter\n",
        "# Given List\n",
        "Alist = [['Mon'],['Tue','Wed'],['Tue','Wed']]\n",
        "print(Counter(str(elem) for elem in Alist))"
      ],
      "execution_count": 5,
      "outputs": [
        {
          "output_type": "stream",
          "text": [
            "Counter({\"['Tue', 'Wed']\": 2, \"['Mon']\": 1})\n"
          ],
          "name": "stdout"
        }
      ]
    },
    {
      "cell_type": "code",
      "metadata": {
        "id": "o-NlA422_wbb",
        "colab_type": "code",
        "colab": {
          "base_uri": "https://localhost:8080/",
          "height": 35
        },
        "outputId": "4c4dd671-f3bb-4758-c346-2e91c6b66546"
      },
      "source": [
        "from collections import Counter\n",
        "list_a = [['shahadat', 'Ashif'],['shuvo','shanto'],['sojib']]\n",
        "print(Counter(str(el) for el in list_a))"
      ],
      "execution_count": 8,
      "outputs": [
        {
          "output_type": "stream",
          "text": [
            "Counter({\"['shahadat', 'Ashif']\": 1, \"['shuvo', 'shanto']\": 1, \"['sojib']\": 1})\n"
          ],
          "name": "stdout"
        }
      ]
    },
    {
      "cell_type": "code",
      "metadata": {
        "id": "mTfsa40wBUBy",
        "colab_type": "code",
        "colab": {
          "base_uri": "https://localhost:8080/",
          "height": 35
        },
        "outputId": "723a7e02-6b1c-462d-8776-02b76f597803"
      },
      "source": [
        "from collections import Counter\n",
        "list_a = [['shahadat', 'Ashif'],['shuvo','shanto'],['sojib'],['sojib']]\n",
        "print(Counter(str(el) for el in list_a))"
      ],
      "execution_count": 11,
      "outputs": [
        {
          "output_type": "stream",
          "text": [
            "Counter({\"['sojib']\": 2, \"['shahadat', 'Ashif']\": 1, \"['shuvo', 'shanto']\": 1})\n"
          ],
          "name": "stdout"
        }
      ]
    },
    {
      "cell_type": "code",
      "metadata": {
        "id": "AUbvJL1gBB7C",
        "colab_type": "code",
        "colab": {
          "base_uri": "https://localhost:8080/",
          "height": 55
        },
        "outputId": "f9470ddb-5065-4d6d-f783-54a82f59f795"
      },
      "source": [
        "from collections import Counter\n",
        "list_a = [['shahadat', 'Ashif'],['shuvo','shanto'],['sojib']]\n",
        "print(Counter(str(list_a)))"
      ],
      "execution_count": 10,
      "outputs": [
        {
          "output_type": "stream",
          "text": [
            "Counter({\"'\": 10, 's': 5, 'h': 5, '[': 4, 'a': 4, ',': 4, ' ': 4, ']': 4, 'o': 3, 't': 2, 'i': 2, 'd': 1, 'A': 1, 'f': 1, 'u': 1, 'v': 1, 'n': 1, 'j': 1, 'b': 1})\n"
          ],
          "name": "stdout"
        }
      ]
    },
    {
      "cell_type": "code",
      "metadata": {
        "id": "BzdiwqGPJIZA",
        "colab_type": "code",
        "colab": {
          "base_uri": "https://localhost:8080/",
          "height": 35
        },
        "outputId": "8055d13c-8b11-4865-cbc1-4049c66bc354"
      },
      "source": [
        "# Python code to find count of unique list in list of list \n",
        "\n",
        "# Importing counter from collection \n",
        "from collections import Counter \n",
        "\n",
        "# Input list initialization \n",
        "lst = [[1, 2, 3], [4, 5, 6], [3, 2, 1], [1, 2, 3]] \n",
        "\n",
        "# Using counter \n",
        "Output = Counter([tuple(i) for i in lst]) \n",
        "\n",
        "# Printing output \n",
        "print(Output) "
      ],
      "execution_count": 23,
      "outputs": [
        {
          "output_type": "stream",
          "text": [
            "Counter({(1, 2, 3): 2, (4, 5, 6): 1, (3, 2, 1): 1})\n"
          ],
          "name": "stdout"
        }
      ]
    }
  ]
}