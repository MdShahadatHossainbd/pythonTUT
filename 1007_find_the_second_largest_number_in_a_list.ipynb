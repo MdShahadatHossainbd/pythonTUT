{
  "nbformat": 4,
  "nbformat_minor": 0,
  "metadata": {
    "colab": {
      "name": "1007 find the second largest number in a list.ipynb",
      "provenance": [],
      "authorship_tag": "ABX9TyNPsp6HzyRxvEmeBOE7rWWf",
      "include_colab_link": true
    },
    "kernelspec": {
      "name": "python3",
      "display_name": "Python 3"
    }
  },
  "cells": [
    {
      "cell_type": "markdown",
      "metadata": {
        "id": "view-in-github",
        "colab_type": "text"
      },
      "source": [
        "<a href=\"https://colab.research.google.com/github/MdShahadatHossainbd/pythonTUT/blob/master/1007_find_the_second_largest_number_in_a_list.ipynb\" target=\"_parent\"><img src=\"https://colab.research.google.com/assets/colab-badge.svg\" alt=\"Open In Colab\"/></a>"
      ]
    },
    {
      "cell_type": "code",
      "metadata": {
        "id": "HrJ8aNNAgagp",
        "outputId": "2b536abe-79b9-41e5-a99f-8648bb3c4505",
        "colab": {
          "base_uri": "https://localhost:8080/"
        }
      },
      "source": [
        "#Python program to find the second largest number in a list\n",
        "list1 = [11,22,1,2,5,67,21,32]\n",
        "# to get unique elements\n",
        "new_list = set(list1)\n",
        "# removing the largest element from list1\n",
        "new_list.remove(max(new_list))\n",
        "# now computing the max element by built-in method?\n",
        "print(max(new_list))"
      ],
      "execution_count": 1,
      "outputs": [
        {
          "output_type": "stream",
          "text": [
            "32\n"
          ],
          "name": "stdout"
        }
      ]
    },
    {
      "cell_type": "code",
      "metadata": {
        "id": "4BdjHuhYhVlN",
        "outputId": "b87a4ffd-48c3-4584-e944-e8f2ca5cf1e8",
        "colab": {
          "base_uri": "https://localhost:8080/"
        }
      },
      "source": [
        "list1 = [11,22,1,2,5,67,21,32]\n",
        "# using built-in sort method\n",
        "list1.sort()\n",
        "# second last element\n",
        "print(\"Second largest element in the list is:\", list1[-2])"
      ],
      "execution_count": 2,
      "outputs": [
        {
          "output_type": "stream",
          "text": [
            "Second largest element in the list is: 32\n"
          ],
          "name": "stdout"
        }
      ]
    },
    {
      "cell_type": "code",
      "metadata": {
        "id": "IuQODnouhcDe",
        "outputId": "c91a5c07-a370-4ae0-c318-5c7f154593d1",
        "colab": {
          "base_uri": "https://localhost:8080/"
        }
      },
      "source": [
        "# Sort\n",
        "list1 = [11,22,1,2,5,67,21,32]\n",
        "# using built-in sort method\n",
        "list1.sort()\n",
        "# second last element\n",
        "print(list1)"
      ],
      "execution_count": 3,
      "outputs": [
        {
          "output_type": "stream",
          "text": [
            "[1, 2, 5, 11, 21, 22, 32, 67]\n"
          ],
          "name": "stdout"
        }
      ]
    },
    {
      "cell_type": "code",
      "metadata": {
        "id": "1SGA2A0hivFl",
        "outputId": "8395354a-dc93-4c80-b195-d6c2cd663434",
        "colab": {
          "base_uri": "https://localhost:8080/"
        }
      },
      "source": [
        "# Sort\n",
        "list1 = [11,22,1,2,5,67,21,32]\n",
        "# using built-in sort method\n",
        "list1.sort()\n",
        "# second last element\n",
        "print(list1[-3])"
      ],
      "execution_count": 6,
      "outputs": [
        {
          "output_type": "stream",
          "text": [
            "22\n"
          ],
          "name": "stdout"
        }
      ]
    },
    {
      "cell_type": "code",
      "metadata": {
        "id": "qes7asWPhpAz",
        "outputId": "290a0b45-ddd3-4e9d-bc3e-63ecd6830827",
        "colab": {
          "base_uri": "https://localhost:8080/"
        }
      },
      "source": [
        "list1 = [11,22,1,2,5,67,21,32]\n",
        "#assuming max_ is equal to maximum of element at 0th and 1st index and secondmax is the minimum among them\n",
        "max_=max(list1[0],list1[1])\n",
        "secondmax=min(list1[0],list1[1])\n",
        "for i in range(2,len(list1)):\n",
        "   # if found element is greater than max_\n",
        "   if list1[i]>max_:\n",
        "      secondmax=max_\n",
        "      max_=list1[i]\n",
        "   #if found element is greator than secondmax\n",
        "   else:\n",
        "      if list1[i]>secondmax:\n",
        "         secondmax=list1[i]\n",
        "print(\"Second highest number is the list is : \",str(secondmax))"
      ],
      "execution_count": 5,
      "outputs": [
        {
          "output_type": "stream",
          "text": [
            "Second highest number is the list is :  32\n"
          ],
          "name": "stdout"
        }
      ]
    }
  ]
}