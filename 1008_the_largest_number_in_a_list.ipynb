{
  "nbformat": 4,
  "nbformat_minor": 0,
  "metadata": {
    "colab": {
      "name": "1008 the largest number in a list.ipynb",
      "provenance": [],
      "authorship_tag": "ABX9TyNPHxr/C8sh5WkDaBrn2C2+",
      "include_colab_link": true
    },
    "kernelspec": {
      "name": "python3",
      "display_name": "Python 3"
    }
  },
  "cells": [
    {
      "cell_type": "markdown",
      "metadata": {
        "id": "view-in-github",
        "colab_type": "text"
      },
      "source": [
        "<a href=\"https://colab.research.google.com/github/MdShahadatHossainbd/pythonTUT/blob/master/1008_the_largest_number_in_a_list.ipynb\" target=\"_parent\"><img src=\"https://colab.research.google.com/assets/colab-badge.svg\" alt=\"Open In Colab\"/></a>"
      ]
    },
    {
      "cell_type": "code",
      "metadata": {
        "id": "QgEcHuARjgm0",
        "outputId": "204a7943-9701-434a-b42c-1ad148ac8729",
        "colab": {
          "base_uri": "https://localhost:8080/"
        }
      },
      "source": [
        "# Python program to find the largest number in a list\n",
        "# list\n",
        "list1 = [23,1,32,67,2,34,12]\n",
        "# sorting\n",
        "list1.sort()\n",
        "# printing the last element\n",
        "print(\"Largest element is:\", list1[-1])"
      ],
      "execution_count": 1,
      "outputs": [
        {
          "output_type": "stream",
          "text": [
            "Largest element is: 67\n"
          ],
          "name": "stdout"
        }
      ]
    },
    {
      "cell_type": "code",
      "metadata": {
        "id": "I_DXBKYwkBnm",
        "outputId": "1a760905-e7c0-47ab-f29f-a4196112f3e3",
        "colab": {
          "base_uri": "https://localhost:8080/"
        }
      },
      "source": [
        "# list\n",
        "list1 = [23,1,32,67,2,34,12]\n",
        "# printing the maximum element\n",
        "print(\"Largest element is:\", max(list1))"
      ],
      "execution_count": 2,
      "outputs": [
        {
          "output_type": "stream",
          "text": [
            "Largest element is: 67\n"
          ],
          "name": "stdout"
        }
      ]
    },
    {
      "cell_type": "code",
      "metadata": {
        "id": "YdykQ709kL1B",
        "outputId": "12665e25-ed70-4bd6-ccce-397a28ee43f3",
        "colab": {
          "base_uri": "https://localhost:8080/"
        }
      },
      "source": [
        "# empty list\n",
        "list1 = []\n",
        "# asking number of elements to put in list\n",
        "num = int(input(\"Enter number of elements in list: \"))\n",
        "# appending elements in the list\n",
        "for i in range(1, num + 1):\n",
        "   ele = int(input(\"Enter elements: \"))\n",
        "   list1.append(ele)\n",
        "# print maximum element\n",
        "print(\"Largest element is:\", max(list1))"
      ],
      "execution_count": 4,
      "outputs": [
        {
          "output_type": "stream",
          "text": [
            "Enter number of elements in list: 5\n",
            "Enter elements: 4567893\n",
            "Enter elements: 34\n",
            "Enter elements: 3\n",
            "Enter elements: 2\n",
            "Enter elements: 3\n",
            "Largest element is: 4567893\n"
          ],
          "name": "stdout"
        }
      ]
    },
    {
      "cell_type": "code",
      "metadata": {
        "id": "3R_H3ymknxCb",
        "outputId": "77d2f3bf-c650-46e1-ea8d-bbdad944754c",
        "colab": {
          "base_uri": "https://localhost:8080/"
        }
      },
      "source": [
        "# empty list\n",
        "list1 = []\n",
        "# asking number of elements to put in list\n",
        "num = int(input(\"Enter number of elements in list: \"))\n",
        "# appending elements in the list\n",
        "for i in range(1, num + 1):\n",
        "   ele = int(input(\"Enter elements: \"))\n",
        "   list1.append(ele)\n",
        "# print maximum element\n",
        "print(\"Largest element is:\", max(list1))"
      ],
      "execution_count": 10,
      "outputs": [
        {
          "output_type": "stream",
          "text": [
            "Enter number of elements in list: 5\n",
            "Enter elements: 7\n",
            "Enter elements: 6\n",
            "Enter elements: 7\n",
            "Enter elements: 5\n",
            "Enter elements: 4\n",
            "Largest element is: 7\n"
          ],
          "name": "stdout"
        }
      ]
    }
  ]
}