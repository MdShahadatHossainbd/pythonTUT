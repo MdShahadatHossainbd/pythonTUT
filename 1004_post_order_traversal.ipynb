{
  "nbformat": 4,
  "nbformat_minor": 0,
  "metadata": {
    "colab": {
      "name": "1004 post-order traversal.ipynb",
      "provenance": [],
      "authorship_tag": "ABX9TyNt9PLlFn2KdGXQ2XI1m1OU",
      "include_colab_link": true
    },
    "kernelspec": {
      "name": "python3",
      "display_name": "Python 3"
    }
  },
  "cells": [
    {
      "cell_type": "markdown",
      "metadata": {
        "id": "view-in-github",
        "colab_type": "text"
      },
      "source": [
        "<a href=\"https://colab.research.google.com/github/MdShahadatHossainbd/pythonTUT/blob/master/1004_post_order_traversal.ipynb\" target=\"_parent\"><img src=\"https://colab.research.google.com/assets/colab-badge.svg\" alt=\"Open In Colab\"/></a>"
      ]
    },
    {
      "cell_type": "code",
      "metadata": {
        "id": "RyBJO5I3G8ko",
        "outputId": "54cdbb61-fd2d-4777-e6de-57e17d9291a8",
        "colab": {
          "base_uri": "https://localhost:8080/"
        }
      },
      "source": [
        "#Python Program post-order traversal of a tree without using recursion\n",
        "class node:\n",
        "   def __init__(self, data): \n",
        "     self.data = data \n",
        "     self.left = None\n",
        "     self.right = None\n",
        "\n",
        "def postorder(head):\n",
        "     temp = head \n",
        "     visited = set() \n",
        "     while (temp and temp not in visited): \n",
        "          if (temp.left and temp.left not in visited): \n",
        "                temp = temp.left \n",
        "          elif (temp.right and temp.right not in visited): \n",
        "                temp = temp.right \n",
        "          else: \n",
        "                print(temp.data, end = \" \") \n",
        "                visited.add(temp)  \n",
        "                temp = head \n",
        "\n",
        "if __name__ == '__main__': \n",
        "    root = node(8) \n",
        "    root.left = node(3) \n",
        "    root.right = node(10) \n",
        "    root.left.left = node(1) \n",
        "    root.left.right = node(6) \n",
        "    root.left.right.left = node(4) \n",
        "    root.left.right.right = node(7) \n",
        "    root.right.right = node(14) \n",
        "    root.right.right.left = node(13) \n",
        "    postorder(root) "
      ],
      "execution_count": 18,
      "outputs": [
        {
          "output_type": "stream",
          "text": [
            "1 4 7 6 3 13 14 10 8 "
          ],
          "name": "stdout"
        }
      ]
    }
  ]
}