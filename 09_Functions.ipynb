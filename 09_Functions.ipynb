{
  "nbformat": 4,
  "nbformat_minor": 0,
  "metadata": {
    "colab": {
      "name": "09. Functions.ipynb",
      "provenance": [],
      "authorship_tag": "ABX9TyPQWpDRxwfWFxBgwJRROVwm",
      "include_colab_link": true
    },
    "kernelspec": {
      "name": "python3",
      "display_name": "Python 3"
    }
  },
  "cells": [
    {
      "cell_type": "markdown",
      "metadata": {
        "id": "view-in-github",
        "colab_type": "text"
      },
      "source": [
        "<a href=\"https://colab.research.google.com/github/MdShahadatHossainbd/pythonTUT/blob/master/09_Functions.ipynb\" target=\"_parent\"><img src=\"https://colab.research.google.com/assets/colab-badge.svg\" alt=\"Open In Colab\"/></a>"
      ]
    },
    {
      "cell_type": "markdown",
      "metadata": {
        "id": "gDicr3ST_8jQ"
      },
      "source": [
        "1. Create a function that can accept two arguments name and age and print its value"
      ]
    },
    {
      "cell_type": "code",
      "metadata": {
        "id": "XF5nLRNP_1OH",
        "outputId": "7ef3d957-3939-451b-d3e4-07431cd2aee3",
        "colab": {
          "base_uri": "https://localhost:8080/"
        }
      },
      "source": [
        "def demo(name, age):\n",
        "    print(name, age)\n",
        "\n",
        "demo(\"Ben\", 25)"
      ],
      "execution_count": 1,
      "outputs": [
        {
          "output_type": "stream",
          "text": [
            "Ben 25\n"
          ],
          "name": "stdout"
        }
      ]
    },
    {
      "cell_type": "markdown",
      "metadata": {
        "id": "JnIvjxlcARWR"
      },
      "source": [
        "2. Write a function func1() such that it can accept a variable length of  argument and print all arguments value"
      ]
    },
    {
      "cell_type": "code",
      "metadata": {
        "id": "uWCuQDyQAb8p",
        "outputId": "f8476b8a-773a-40bb-ef2e-873867204097",
        "colab": {
          "base_uri": "https://localhost:8080/"
        }
      },
      "source": [
        "def func1(*args):\n",
        "    for i in args:\n",
        "        print(i)\n",
        "\n",
        "func1(20, 110, 40, 60)\n",
        "func1(80, 100)"
      ],
      "execution_count": 3,
      "outputs": [
        {
          "output_type": "stream",
          "text": [
            "20\n",
            "110\n",
            "40\n",
            "60\n",
            "80\n",
            "100\n"
          ],
          "name": "stdout"
        }
      ]
    },
    {
      "cell_type": "markdown",
      "metadata": {
        "id": "OrKcoLwmAuRl"
      },
      "source": [
        "3. Write a function calculation() such that it can accept two variables and calculate the addition and subtraction of it. And also it must return both addition and subtraction in a single return call"
      ]
    },
    {
      "cell_type": "code",
      "metadata": {
        "id": "mAXf1bhdAxK9",
        "outputId": "8774222a-4aea-41b1-d4ce-e30c83c737cd",
        "colab": {
          "base_uri": "https://localhost:8080/"
        }
      },
      "source": [
        "def calculation(a, b):\n",
        "    return a+b, a-b\n",
        "\n",
        "res = calculation(40, 10)\n",
        "print(res)"
      ],
      "execution_count": 4,
      "outputs": [
        {
          "output_type": "stream",
          "text": [
            "(50, 30)\n"
          ],
          "name": "stdout"
        }
      ]
    },
    {
      "cell_type": "markdown",
      "metadata": {
        "id": "dvmof3qUBL8O"
      },
      "source": [
        "4. Create a function showEmployee() in such a way that it should accept employee name, and it’s salary and display both, and if the salary is missing in function call it should show it as 9000"
      ]
    },
    {
      "cell_type": "code",
      "metadata": {
        "id": "klC6qgiTBa8a",
        "outputId": "2da21288-9813-4756-c5aa-6df6311808e3",
        "colab": {
          "base_uri": "https://localhost:8080/"
        }
      },
      "source": [
        "def showEmployee(name, salary=9000):\n",
        "    print(\"Employee\", name, \"salary is:\", salary)\n",
        "\n",
        "showEmployee(\"Ben\", 9000)\n",
        "showEmployee(\"Ben\")"
      ],
      "execution_count": 5,
      "outputs": [
        {
          "output_type": "stream",
          "text": [
            "Employee Ben salary is: 9000\n",
            "Employee Ben salary is: 9000\n"
          ],
          "name": "stdout"
        }
      ]
    },
    {
      "cell_type": "markdown",
      "metadata": {
        "id": "WPUfPeu4BzdK"
      },
      "source": [
        "5: Create an inner function to calculate the addition in the following way\n",
        "\n",
        "    Create an outer function that will accept two parameters a and b\n",
        "    Create an inner function inside an outer function that will calculate the addition of a and b\n",
        "    At last, an outer function will add 5 into addition and return it\n"
      ]
    },
    {
      "cell_type": "code",
      "metadata": {
        "id": "ERetJiMmB2rX",
        "outputId": "ea371d1e-fbf7-43c5-a90c-58ba097d9f4a",
        "colab": {
          "base_uri": "https://localhost:8080/"
        }
      },
      "source": [
        "def outerFun(a, b):\n",
        "    square = a**2\n",
        "    def innerFun(a,b):\n",
        "        return a+b\n",
        "    add = innerFun(a, b)\n",
        "    return add+5\n",
        "\n",
        "result = outerFun(5, 10)\n",
        "print(result)"
      ],
      "execution_count": 6,
      "outputs": [
        {
          "output_type": "stream",
          "text": [
            "20\n"
          ],
          "name": "stdout"
        }
      ]
    },
    {
      "cell_type": "markdown",
      "metadata": {
        "id": "J66AzUsqCarZ"
      },
      "source": [
        "6. Write a recursive function to calculate the sum of numbers from 0 to 10\n"
      ]
    },
    {
      "cell_type": "code",
      "metadata": {
        "id": "Kb7Ray_UCNZ4",
        "outputId": "1d608de9-33f4-415f-bec3-ed43c8ddf24d",
        "colab": {
          "base_uri": "https://localhost:8080/"
        }
      },
      "source": [
        "def calculateSum(num):\n",
        "    if num:\n",
        "        return num + calculateSum(num-1)\n",
        "    else:\n",
        "        return 0\n",
        "\n",
        "res = calculateSum(10)\n",
        "print(res)"
      ],
      "execution_count": 7,
      "outputs": [
        {
          "output_type": "stream",
          "text": [
            "55\n"
          ],
          "name": "stdout"
        }
      ]
    },
    {
      "cell_type": "markdown",
      "metadata": {
        "id": "DVY1J1g9CSft"
      },
      "source": [
        "7. Assign a different name to function and call it through the new name"
      ]
    },
    {
      "cell_type": "code",
      "metadata": {
        "id": "ylZsE945CWRM",
        "outputId": "0660fe60-04d3-4069-eeb7-b9e32099f67f",
        "colab": {
          "base_uri": "https://localhost:8080/"
        }
      },
      "source": [
        "def displayStudent(name, age):\n",
        "    print(name, age)\n",
        "\n",
        "displayStudent(\"Emma\", 26)\n",
        "\n",
        "showStudent = displayStudent\n",
        "showStudent(\"Emma\", 26)"
      ],
      "execution_count": 8,
      "outputs": [
        {
          "output_type": "stream",
          "text": [
            "Emma 26\n",
            "Emma 26\n"
          ],
          "name": "stdout"
        }
      ]
    },
    {
      "cell_type": "markdown",
      "metadata": {
        "id": "Z6lY13g5ClD_"
      },
      "source": [
        "8. Generate a Python list of all the even numbers between 4 to 30"
      ]
    },
    {
      "cell_type": "code",
      "metadata": {
        "id": "sTpvnDCkCp7k",
        "outputId": "9a5f54e2-285a-4f48-f3ed-8cb2afffd586",
        "colab": {
          "base_uri": "https://localhost:8080/"
        }
      },
      "source": [
        "print(list( range(4, 30, 2)))"
      ],
      "execution_count": 9,
      "outputs": [
        {
          "output_type": "stream",
          "text": [
            "[4, 6, 8, 10, 12, 14, 16, 18, 20, 22, 24, 26, 28]\n"
          ],
          "name": "stdout"
        }
      ]
    },
    {
      "cell_type": "code",
      "metadata": {
        "id": "S66J15PsCyLR",
        "outputId": "87d51040-6a40-4640-9544-6525eb8cf6b1",
        "colab": {
          "base_uri": "https://localhost:8080/"
        }
      },
      "source": [
        "print(list( range(1, 100, 2)))"
      ],
      "execution_count": 18,
      "outputs": [
        {
          "output_type": "stream",
          "text": [
            "[1, 3, 5, 7, 9, 11, 13, 15, 17, 19, 21, 23, 25, 27, 29, 31, 33, 35, 37, 39, 41, 43, 45, 47, 49, 51, 53, 55, 57, 59, 61, 63, 65, 67, 69, 71, 73, 75, 77, 79, 81, 83, 85, 87, 89, 91, 93, 95, 97, 99]\n"
          ],
          "name": "stdout"
        }
      ]
    },
    {
      "cell_type": "markdown",
      "metadata": {
        "id": "JdX8_9gpFLk-"
      },
      "source": [
        "9. Return the largest item from the given list"
      ]
    },
    {
      "cell_type": "code",
      "metadata": {
        "id": "gMWuFcXtFNS3",
        "outputId": "04f9d09c-2ebc-4118-ad15-2d1019d66466",
        "colab": {
          "base_uri": "https://localhost:8080/"
        }
      },
      "source": [
        "aList = [4, 6, 8, 24, 12, 2]\n",
        "print(max(aList))"
      ],
      "execution_count": 19,
      "outputs": [
        {
          "output_type": "stream",
          "text": [
            "24\n"
          ],
          "name": "stdout"
        }
      ]
    }
  ]
}