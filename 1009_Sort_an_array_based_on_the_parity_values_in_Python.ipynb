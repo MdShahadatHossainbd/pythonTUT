{
  "nbformat": 4,
  "nbformat_minor": 0,
  "metadata": {
    "colab": {
      "name": "1009 Sort an array based on the parity values in Python.ipynb",
      "provenance": [],
      "authorship_tag": "ABX9TyMVqXbAV5nPbLdBgtCF6xg9",
      "include_colab_link": true
    },
    "kernelspec": {
      "name": "python3",
      "display_name": "Python 3"
    }
  },
  "cells": [
    {
      "cell_type": "markdown",
      "metadata": {
        "id": "view-in-github",
        "colab_type": "text"
      },
      "source": [
        "<a href=\"https://colab.research.google.com/github/MdShahadatHossainbd/pythonTUT/blob/master/1009_Sort_an_array_based_on_the_parity_values_in_Python.ipynb\" target=\"_parent\"><img src=\"https://colab.research.google.com/assets/colab-badge.svg\" alt=\"Open In Colab\"/></a>"
      ]
    },
    {
      "cell_type": "code",
      "metadata": {
        "id": "5Xv56Is2RTZM",
        "outputId": "9fad86a6-b159-4888-e79e-dd2a5be9843e",
        "colab": {
          "base_uri": "https://localhost:8080/"
        }
      },
      "source": [
        "class Solution(object):\n",
        "   def sortArrayByParity(self, a):\n",
        "      i = 0\n",
        "      j =0\n",
        "      while j < len(a):\n",
        "         if a[j]%2==0:\n",
        "            a[i],a[j] = a[j],a[i]\n",
        "            i+=1\n",
        "         j+=1\n",
        "      return a\n",
        "ob1 = Solution()\n",
        "nums = [1,5,6,8,7,2,3]\n",
        "print(ob1.sortArrayByParity(nums))"
      ],
      "execution_count": 5,
      "outputs": [
        {
          "output_type": "stream",
          "text": [
            "[6, 8, 2, 5, 7, 1, 3]\n"
          ],
          "name": "stdout"
        }
      ]
    }
  ]
}