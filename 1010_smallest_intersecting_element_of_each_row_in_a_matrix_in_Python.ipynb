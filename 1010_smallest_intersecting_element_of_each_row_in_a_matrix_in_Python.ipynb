{
  "nbformat": 4,
  "nbformat_minor": 0,
  "metadata": {
    "colab": {
      "name": "1010 smallest intersecting element of each row in a matrix in Python.ipynb",
      "provenance": [],
      "authorship_tag": "ABX9TyMdaSM7z2pFJbmvuPnZytWS",
      "include_colab_link": true
    },
    "kernelspec": {
      "name": "python3",
      "display_name": "Python 3"
    }
  },
  "cells": [
    {
      "cell_type": "markdown",
      "metadata": {
        "id": "view-in-github",
        "colab_type": "text"
      },
      "source": [
        "<a href=\"https://colab.research.google.com/github/MdShahadatHossainbd/pythonTUT/blob/master/1010_smallest_intersecting_element_of_each_row_in_a_matrix_in_Python.ipynb\" target=\"_parent\"><img src=\"https://colab.research.google.com/assets/colab-badge.svg\" alt=\"Open In Colab\"/></a>"
      ]
    },
    {
      "cell_type": "code",
      "metadata": {
        "id": "zHNSMqqRTgt5",
        "outputId": "9641dae1-4121-46fa-dc50-2f871a4a1d8d",
        "colab": {
          "base_uri": "https://localhost:8080/"
        }
      },
      "source": [
        "#Program to find smallest intersecting element of each row in a matrix in Python\n",
        "class Solution:\n",
        "   def solve(self, matrix):\n",
        "      if not matrix:\n",
        "         return -1\n",
        "      first = set(matrix[0])\n",
        "      for row in matrix:\n",
        "         first &= set(row)\n",
        "         if not first:\n",
        "            return -1\n",
        "      return min(first)\n",
        "ob1 = Solution()\n",
        "matrix = [\n",
        "   [3, 9, 5],\n",
        "   [5, 3, 10],\n",
        "   [1, 3, 5]\n",
        "]\n",
        "print(ob1.solve(matrix))"
      ],
      "execution_count": 7,
      "outputs": [
        {
          "output_type": "stream",
          "text": [
            "3\n"
          ],
          "name": "stdout"
        }
      ]
    }
  ]
}