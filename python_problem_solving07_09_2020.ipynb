{
  "nbformat": 4,
  "nbformat_minor": 0,
  "metadata": {
    "colab": {
      "name": "python problem solving07.09.2020.ipynb",
      "provenance": [],
      "authorship_tag": "ABX9TyN/sI3PvOf4G84rDagZCVcn",
      "include_colab_link": true
    },
    "kernelspec": {
      "name": "python3",
      "display_name": "Python 3"
    }
  },
  "cells": [
    {
      "cell_type": "markdown",
      "metadata": {
        "id": "view-in-github",
        "colab_type": "text"
      },
      "source": [
        "<a href=\"https://colab.research.google.com/github/MdShahadatHossainbd/pythonTUT/blob/master/python_problem_solving07_09_2020.ipynb\" target=\"_parent\"><img src=\"https://colab.research.google.com/assets/colab-badge.svg\" alt=\"Open In Colab\"/></a>"
      ]
    },
    {
      "cell_type": "markdown",
      "metadata": {
        "id": "9h8NlSEAD2WM",
        "colab_type": "text"
      },
      "source": [
        "**1. Book Pagination in Python**\n",
        "\n",
        "Suppose we have a list of strings called book, if we page an index (0-indexed) into the book and page_size, we have to find the list of words on that page. If the page is out of index then simply return an empty list.\n",
        "\n",
        "So, if the input is like book = [\"hello\", \"world\", \"programming\", \"language\", \"python\", \"c++\", \"java\"] page = 1 page_size = 3, then the output will be ['language', 'python', 'c++']\n",
        "\n",
        "To solve this, we will follow these steps −\n",
        "\n",
        "    l:= page*page_size\n",
        "\n",
        "    return elements of book from index l to l+page_size - 1\n",
        "\n",
        "Let us see the following implementation to get better understanding −"
      ]
    },
    {
      "cell_type": "code",
      "metadata": {
        "id": "BJPGZelODUAD",
        "colab_type": "code",
        "colab": {
          "base_uri": "https://localhost:8080/",
          "height": 35
        },
        "outputId": "568d2c39-7d4e-4d26-de6f-0d5927ac24ca"
      },
      "source": [
        "class Solution:\n",
        "   def solve(self, book, page, page_size):\n",
        "      l=page*page_size\n",
        "      return book[l:l+page_size]\n",
        "ob = Solution()\n",
        "book = [\"hello\", \"world\", \"programming\", \"language\", \"python\", \"c++\",\n",
        "\"java\"]\n",
        "page = 1\n",
        "page_size = 3\n",
        "print(ob.solve(book, page, page_size))"
      ],
      "execution_count": null,
      "outputs": [
        {
          "output_type": "stream",
          "text": [
            "['language', 'python', 'c++']\n"
          ],
          "name": "stdout"
        }
      ]
    },
    {
      "cell_type": "code",
      "metadata": {
        "id": "gL-0Ik2XHhS_",
        "colab_type": "code",
        "colab": {
          "base_uri": "https://localhost:8080/",
          "height": 35
        },
        "outputId": "c800c511-f9bd-4b3e-bbc2-5630969b01f1"
      },
      "source": [
        "class Solution:\n",
        "   def solve(self, book, page, page_size):\n",
        "      l=page*page_size\n",
        "      return book[1:l+page_size]\n",
        "ob = Solution()\n",
        "book = [\"hello\", \"world\", \"programming\", \"language\", \"python\", \"c++\",\"java\"]\n",
        "page = 1\n",
        "page_size = 2\n",
        "print(ob.solve(book, page, page_size))"
      ],
      "execution_count": null,
      "outputs": [
        {
          "output_type": "stream",
          "text": [
            "['world', 'programming', 'language']\n"
          ],
          "name": "stdout"
        }
      ]
    },
    {
      "cell_type": "markdown",
      "metadata": {
        "id": "OAt5AoyTJF3g",
        "colab_type": "text"
      },
      "source": [
        "**2. How to print colored text in Python?**"
      ]
    },
    {
      "cell_type": "code",
      "metadata": {
        "id": "DyeOOxKrJGWP",
        "colab_type": "code",
        "colab": {
          "base_uri": "https://localhost:8080/",
          "height": 35
        },
        "outputId": "24f97fbf-f4c4-4d74-cfe1-a8180e2ff56b"
      },
      "source": [
        "from termcolor import colored\n",
        "print(colored('hello', 'red'), colored('world', 'green'))"
      ],
      "execution_count": null,
      "outputs": [
        {
          "output_type": "stream",
          "text": [
            "\u001b[31mhello\u001b[0m \u001b[32mworld\u001b[0m\n"
          ],
          "name": "stdout"
        }
      ]
    },
    {
      "cell_type": "markdown",
      "metadata": {
        "id": "YfNRiezVPyb5",
        "colab_type": "text"
      },
      "source": [
        "**3. Bob's Game in Python**\n",
        "\n",
        "Suppose we have a friend named Bob, and he is playing a game with himself. He gives himself a list of numbers called nums. Now in each turn, Bob selects two elements of the list and replaces them with one positive integer with the same sum as the numbers he selected. Bob declares the victory when all of the number in the array are even. We have to find the minimum number of turns are required to make by Bob, so he can declare victory, if there is no such solution, then return -1.\n",
        "\n",
        "So, if the input is like [2, 3, 4, 9, 7, 13], then the output will be 2 as he can take 3,9 then replace with 12, then take 7,13 and replace with 20.\n",
        "\n",
        "To solve this, we will follow these steps −\n",
        "\n",
        "    a := a list by taking only odd elements from numes\n",
        "\n",
        "    if size of a is odd, then\n",
        "\n",
        "        return (size of a)/2\n",
        "\n",
        "    otherwise return -1\n",
        "\n",
        "Let us see the following implementation to get better understanding −"
      ]
    },
    {
      "cell_type": "code",
      "metadata": {
        "id": "FObPa5I6Zolr",
        "colab_type": "code",
        "colab": {
          "base_uri": "https://localhost:8080/",
          "height": 35
        },
        "outputId": "11c0e32e-122e-4d61-c4a1-02b9c9a9dd5e"
      },
      "source": [
        "class Solution:\n",
        "   def solve(self, nums):\n",
        "      a = [x for x in nums if x % 2 == 1]\n",
        "      if len(a) % 2 == 0:\n",
        "         return len(a)/2;\n",
        "      return -1;\n",
        "ob = Solution()\n",
        "print(ob.solve([2, 3, 4, 9, 7, 13]))"
      ],
      "execution_count": null,
      "outputs": [
        {
          "output_type": "stream",
          "text": [
            "2.0\n"
          ],
          "name": "stdout"
        }
      ]
    },
    {
      "cell_type": "markdown",
      "metadata": {
        "id": "LtNk_gfUY5iR",
        "colab_type": "text"
      },
      "source": [
        "**4. Big Numbers in Python**\n",
        "\n",
        "Suppose we have a matrix, we have to find the total number of integers whose value is the largest in its row and column.\n",
        "\n",
        "So, if the input is like\n",
        "1\t3\t2\n",
        "4\t6\t5\n",
        "1\t5\t7\n",
        "\n",
        "then the output will be 2 as 6 and 7 are valid.\n",
        "\n",
        "To solve this, we will follow these steps −\n",
        "\n",
        "    mat := matrix\n",
        "\n",
        "    r_maxes := make a list of max elements of each row of mat\n",
        "\n",
        "    c_maxes := make a list of max elements of each column of mat\n",
        "\n",
        "    a := a new list\n",
        "\n",
        "    for r in range 0 to number of rows - 1, do\n",
        "\n",
        "        for c in range 0 to number of columns - 1, do\n",
        "\n",
        "            v := mat[r, c]\n",
        "\n",
        "            if r_maxes[r] is v and c_maxes[c] is v, then\n",
        "\n",
        "                insert v at the end of a\n",
        "\n",
        "    return size of a\n",
        "\n",
        "Let us see the following implementation to get better understanding −"
      ]
    },
    {
      "cell_type": "code",
      "metadata": {
        "id": "M0bSot1iY21S",
        "colab_type": "code",
        "colab": {
          "base_uri": "https://localhost:8080/",
          "height": 54
        },
        "outputId": "b67e658a-f647-4b2e-b0a6-0dbb6de1e602"
      },
      "source": [
        "class Solution:\n",
        "   def solve(self, matrix):\n",
        "      mat = matrix\n",
        "      trans_mat = list(zip(*matrix))\n",
        "      print(mat, trans_mat)\n",
        "      r_maxes = [max(row) for row in mat]\n",
        "      c_maxes = [max(t_row) for t_row in trans_mat]\n",
        "      a = []\n",
        "      for r in range(len(mat)):\n",
        "         for c in range(len(trans_mat)):\n",
        "            v = mat[r][c]\n",
        "            if (r_maxes[r], c_maxes[c]) == (v, v):\n",
        "               a.append(v)\n",
        "      return len(a)\n",
        "ob = Solution()\n",
        "matrix = [\n",
        "   [1, 3, 2],\n",
        "   [4, 6, 5],\n",
        "   [1, 5, 7]\n",
        "]\n",
        "print(ob.solve(matrix))"
      ],
      "execution_count": 2,
      "outputs": [
        {
          "output_type": "stream",
          "text": [
            "[[1, 3, 2], [4, 6, 5], [1, 5, 7]] [(1, 4, 1), (3, 6, 5), (2, 5, 7)]\n",
            "2\n"
          ],
          "name": "stdout"
        }
      ]
    },
    {
      "cell_type": "markdown",
      "metadata": {
        "id": "0u2_zk57j2Nk",
        "colab_type": "text"
      },
      "source": [
        "**5. Base 3 to integer in Python**\n",
        "\n",
        "Suppose we have a string s that is representing a number in base 3 (valid numbers 0, 1, or 2), we have to find its equivalent decimal integer.\n",
        "\n",
        "So, if the input is like \"10122\", then the output will be 98.\n",
        "\n",
        "To solve this, we will follow these steps −\n",
        "\n",
        "    ans := 0\n",
        "\n",
        "    for each digit c in s, do\n",
        "\n",
        "        ans := 3 * ans + c\n",
        "\n",
        "    return ans\n",
        "\n",
        "Let us see the following implementation to get better understanding −"
      ]
    },
    {
      "cell_type": "code",
      "metadata": {
        "id": "odhLtwvmj-VR",
        "colab_type": "code",
        "colab": {
          "base_uri": "https://localhost:8080/",
          "height": 35
        },
        "outputId": "3cc393a1-5aae-4da5-914c-875a11eb659a"
      },
      "source": [
        "class Solution:\n",
        "   def solve(self, s):\n",
        "      ans = 0\n",
        "      for c in map(int, s):\n",
        "         ans = 3 * ans + c\n",
        "      return ans\n",
        "ob = Solution()\n",
        "print(ob.solve(\"10122\"))"
      ],
      "execution_count": 3,
      "outputs": [
        {
          "output_type": "stream",
          "text": [
            "98\n"
          ],
          "name": "stdout"
        }
      ]
    }
  ]
}