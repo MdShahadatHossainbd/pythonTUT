{
  "nbformat": 4,
  "nbformat_minor": 0,
  "metadata": {
    "colab": {
      "name": "1011 find maximum product of contiguous subarray.ipynb",
      "provenance": [],
      "authorship_tag": "ABX9TyMEZYL05N1zsLukbjMh4aht",
      "include_colab_link": true
    },
    "kernelspec": {
      "name": "python3",
      "display_name": "Python 3"
    }
  },
  "cells": [
    {
      "cell_type": "markdown",
      "metadata": {
        "id": "view-in-github",
        "colab_type": "text"
      },
      "source": [
        "<a href=\"https://colab.research.google.com/github/MdShahadatHossainbd/pythonTUT/blob/master/1011_find_maximum_product_of_contiguous_subarray.ipynb\" target=\"_parent\"><img src=\"https://colab.research.google.com/assets/colab-badge.svg\" alt=\"Open In Colab\"/></a>"
      ]
    },
    {
      "cell_type": "code",
      "metadata": {
        "id": "xDu98knDP7WI",
        "outputId": "50e8d182-3784-480b-f154-9932de323fe1",
        "colab": {
          "base_uri": "https://localhost:8080/"
        }
      },
      "source": [
        "# Program to find maximum product of contiguous subarray in Python\n",
        "class Solution(object):\n",
        "   def maxProduct(self, nums):\n",
        "      max_list = [0] * len(nums)\n",
        "      min_list = [0] * len(nums)\n",
        "      max_list[0] = nums[0]\n",
        "      min_list[0] = nums[0]\n",
        "      for i in range(1,len(nums)):\n",
        "         max_list[i] = max(max(max_list[i-1]*nums[i],min_list[i-1]*nums[i]),nums[i])\n",
        "         min_list[i] = min(min(min_list[i-1]*nums[i],nums[i]),max_list[i-1]*nums[i])\n",
        "      return max(max_list)\n",
        "ob1 = Solution()\n",
        "print(ob1.maxProduct([1,9,2,0,2,5]))"
      ],
      "execution_count": 1,
      "outputs": [
        {
          "output_type": "stream",
          "text": [
            "18\n"
          ],
          "name": "stdout"
        }
      ]
    },
    {
      "cell_type": "code",
      "metadata": {
        "id": "tzQIBTUpQfQQ",
        "outputId": "824745b5-a37e-4774-91ef-c90b4b9c797e",
        "colab": {
          "base_uri": "https://localhost:8080/"
        }
      },
      "source": [
        "class Solution(object):\n",
        "   def maxProduct(self, nums):\n",
        "      max_list = [0] * len(nums)\n",
        "      min_list = [0] * len(nums)\n",
        "      max_list[0] = nums[0]\n",
        "      min_list[0] = nums[0]\n",
        "      for i in range(1,len(nums)):\n",
        "         max_list[i] = max(max(max_list[i-1]*nums[i],min_list[i-1]*nums[i]),nums[i])\n",
        "         min_list[i] = min(min(min_list[i-1]*nums[i],nums[i]),max_list[i-1]*nums[i])\n",
        "      return max(max_list)\n",
        "ob1 = Solution()\n",
        "print(ob1.maxProduct([1,9,2,0,2,5,9,3]))"
      ],
      "execution_count": 2,
      "outputs": [
        {
          "output_type": "stream",
          "text": [
            "270\n"
          ],
          "name": "stdout"
        }
      ]
    }
  ]
}