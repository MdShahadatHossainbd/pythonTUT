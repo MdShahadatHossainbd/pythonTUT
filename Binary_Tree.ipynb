{
  "nbformat": 4,
  "nbformat_minor": 0,
  "metadata": {
    "colab": {
      "name": "Binary Tree.ipynb",
      "provenance": [],
      "authorship_tag": "ABX9TyNTfEkw23ZHv0d4RlDRiM0f",
      "include_colab_link": true
    },
    "kernelspec": {
      "name": "python3",
      "display_name": "Python 3"
    }
  },
  "cells": [
    {
      "cell_type": "markdown",
      "metadata": {
        "id": "view-in-github",
        "colab_type": "text"
      },
      "source": [
        "<a href=\"https://colab.research.google.com/github/MdShahadatHossainbd/pythonTUT/blob/master/Binary_Tree.ipynb\" target=\"_parent\"><img src=\"https://colab.research.google.com/assets/colab-badge.svg\" alt=\"Open In Colab\"/></a>"
      ]
    },
    {
      "cell_type": "code",
      "metadata": {
        "id": "sPRuqI1OskAs",
        "outputId": "3e60d80e-dd36-45cf-a424-568a6f9ec184",
        "colab": {
          "base_uri": "https://localhost:8080/"
        }
      },
      "source": [
        "class Node:\n",
        "\n",
        "    def __init__(self, data):\n",
        "\n",
        "        self.left = None\n",
        "        self.right = None\n",
        "        self.data = data\n",
        "\n",
        "\n",
        "    def PrintTree(self):\n",
        "        print(self.data)\n",
        "\n",
        "root = Node(10)\n",
        "\n",
        "root.PrintTree()"
      ],
      "execution_count": 6,
      "outputs": [
        {
          "output_type": "stream",
          "text": [
            "10\n"
          ],
          "name": "stdout"
        }
      ]
    },
    {
      "cell_type": "code",
      "metadata": {
        "id": "_Utvy5JRsyWa",
        "outputId": "ad980c67-94ee-4774-c99a-52f094073575",
        "colab": {
          "base_uri": "https://localhost:8080/"
        }
      },
      "source": [
        "class Node:\n",
        "\n",
        "    def __init__(self, data):\n",
        "\n",
        "        self.left = None\n",
        "        self.right = None\n",
        "        self.data = data\n",
        "\n",
        "    def insert(self, data):\n",
        "# Compare the new value with the parent node\n",
        "        if self.data:\n",
        "            if data < self.data:\n",
        "                if self.left is None:\n",
        "                    self.left = Node(data)\n",
        "                else:\n",
        "                    self.left.insert(data)\n",
        "            elif data > self.data:\n",
        "                if self.right is None:\n",
        "                    self.right = Node(data)\n",
        "                else:\n",
        "                    self.right.insert(data)\n",
        "        else:\n",
        "            self.data = data\n",
        "\n",
        "# Print the tree\n",
        "    def PrintTree(self):\n",
        "        if self.left:\n",
        "            self.left.PrintTree()\n",
        "        print( self.data),\n",
        "        if self.right:\n",
        "            self.right.PrintTree()\n",
        "\n",
        "# Use the insert method to add nodes\n",
        "root = Node(12)\n",
        "root.insert(6)\n",
        "root.insert(14)\n",
        "root.insert(3)\n",
        "root.insert(78)\n",
        "\n",
        "root.PrintTree()"
      ],
      "execution_count": 8,
      "outputs": [
        {
          "output_type": "stream",
          "text": [
            "3\n",
            "6\n",
            "12\n",
            "14\n",
            "78\n"
          ],
          "name": "stdout"
        }
      ]
    },
    {
      "cell_type": "code",
      "metadata": {
        "id": "7Y7s3Nd7qRZE",
        "outputId": "95158a50-462c-49bb-ab4e-cb4d678ee9a5",
        "colab": {
          "base_uri": "https://localhost:8080/"
        }
      },
      "source": [
        "class Node:\n",
        "    def __init__(self, val):\n",
        "        self.l = None\n",
        "        self.r = None\n",
        "        self.v = val\n",
        "\n",
        "class Tree:\n",
        "    def __init__(self):\n",
        "        self.root = None\n",
        "\n",
        "    def getRoot(self):\n",
        "        return self.root\n",
        "\n",
        "    def add(self, val):\n",
        "        if self.root is None:\n",
        "            self.root = Node(val)\n",
        "        else:\n",
        "            self._add(val, self.root)\n",
        "\n",
        "    def _add(self, val, node):\n",
        "        if val < node.v:\n",
        "            if node.l is not None:\n",
        "                self._add(val, node.l)\n",
        "            else:\n",
        "                node.l = Node(val)\n",
        "        else:\n",
        "            if node.r is not None:\n",
        "                self._add(val, node.r)\n",
        "            else:\n",
        "                node.r = Node(val)\n",
        "\n",
        "    def find(self, val):\n",
        "        if self.root is not None:\n",
        "            return self._find(val, self.root)\n",
        "        else:\n",
        "            return None\n",
        "\n",
        "    def _find(self, val, node):\n",
        "        if val == node.v:\n",
        "            return node\n",
        "        elif (val < node.v and node.l is not None):\n",
        "            self._find(val, node.l)\n",
        "        elif (val > node.v and node.r is not None):\n",
        "            self._find(val, node.r)\n",
        "\n",
        "    def deleteTree(self):\n",
        "        # garbage collector will do this for us. \n",
        "        self.root = None\n",
        "\n",
        "    def printTree(self):\n",
        "        if self.root is not None:\n",
        "            self._printTree(self.root)\n",
        "\n",
        "    def _printTree(self, node):\n",
        "        if node is not None:\n",
        "            self._printTree(node.l)\n",
        "            print(str(node.v) + ' ')\n",
        "            self._printTree(node.r)\n",
        "\n",
        "#     3\n",
        "# 0     4\n",
        "#   2      8\n",
        "tree = Tree()\n",
        "tree.add(3)\n",
        "tree.add(4)\n",
        "tree.add(0)\n",
        "tree.add(8)\n",
        "tree.add(2)\n",
        "tree.printTree()\n",
        "print(tree.find(3).v)\n",
        "print(tree.find(10))\n",
        "tree.deleteTree()\n",
        "tree.printTree()"
      ],
      "execution_count": 1,
      "outputs": [
        {
          "output_type": "stream",
          "text": [
            "0 \n",
            "2 \n",
            "3 \n",
            "4 \n",
            "8 \n",
            "3\n",
            "None\n"
          ],
          "name": "stdout"
        }
      ]
    },
    {
      "cell_type": "code",
      "metadata": {
        "id": "hmw6DC3osclg",
        "outputId": "740a99cf-eb51-47fa-ea12-6279dd32a529",
        "colab": {
          "base_uri": "https://localhost:8080/"
        }
      },
      "source": [
        "# Binary Tree in Python\n",
        "\n",
        "class Node:\n",
        "    def __init__(self, key):\n",
        "        self.left = None\n",
        "        self.right = None\n",
        "        self.val = key\n",
        "\n",
        "    # Traverse preorder\n",
        "    def traversePreOrder(self):\n",
        "        print(self.val, end=' ')\n",
        "        if self.left:\n",
        "            self.left.traversePreOrder()\n",
        "        if self.right:\n",
        "            self.right.traversePreOrder()\n",
        "\n",
        "    # Traverse inorder\n",
        "    def traverseInOrder(self):\n",
        "        if self.left:\n",
        "            self.left.traverseInOrder()\n",
        "        print(self.val, end=' ')\n",
        "        if self.right:\n",
        "            self.right.traverseInOrder()\n",
        "\n",
        "    # Traverse postorder\n",
        "    def traversePostOrder(self):\n",
        "        if self.left:\n",
        "            self.left.traversePostOrder()\n",
        "        if self.right:\n",
        "            self.right.traversePostOrder()\n",
        "        print(self.val, end=' ')\n",
        "\n",
        "\n",
        "root = Node(1)\n",
        "\n",
        "root.left = Node(2)\n",
        "root.right = Node(3)\n",
        "\n",
        "root.left.left = Node(4)\n",
        "\n",
        "print(\"Pre order Traversal: \", end=\"\")\n",
        "root.traversePreOrder()\n",
        "print(\"\\nIn order Traversal: \", end=\"\")\n",
        "root.traverseInOrder()\n",
        "print(\"\\nPost order Traversal: \", end=\"\")\n",
        "root.traversePostOrder()"
      ],
      "execution_count": 4,
      "outputs": [
        {
          "output_type": "stream",
          "text": [
            "Pre order Traversal: 1 2 4 3 \n",
            "In order Traversal: 4 2 1 3 \n",
            "Post order Traversal: 4 2 3 1 "
          ],
          "name": "stdout"
        }
      ]
    }
  ]
}