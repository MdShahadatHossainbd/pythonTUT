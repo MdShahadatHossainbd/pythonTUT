{
  "nbformat": 4,
  "nbformat_minor": 0,
  "metadata": {
    "colab": {
      "name": "1002 In-order traversal.ipynb",
      "provenance": [],
      "authorship_tag": "ABX9TyPc7a0+UWm7k1WMjVfGG5vB",
      "include_colab_link": true
    },
    "kernelspec": {
      "name": "python3",
      "display_name": "Python 3"
    }
  },
  "cells": [
    {
      "cell_type": "markdown",
      "metadata": {
        "id": "view-in-github",
        "colab_type": "text"
      },
      "source": [
        "<a href=\"https://colab.research.google.com/github/MdShahadatHossainbd/pythonTUT/blob/master/1002_In_order_traversal.ipynb\" target=\"_parent\"><img src=\"https://colab.research.google.com/assets/colab-badge.svg\" alt=\"Open In Colab\"/></a>"
      ]
    },
    {
      "cell_type": "code",
      "metadata": {
        "id": "5dbx74Rb89i2",
        "outputId": "3feee7eb-4ef4-4948-c28d-24c7878f2b8a",
        "colab": {
          "base_uri": "https://localhost:8080/"
        }
      },
      "source": [
        "#Python Program In-order traversal of a tree without using recursion\n",
        "class Node: \n",
        "  def __init__(self, data):\n",
        "\n",
        "    self.data = data\n",
        "    self.left = None\n",
        "    self.right = None \n",
        " # Iterative function for inorder tree traversal \n",
        "def inOrder(root):\n",
        "   # Set current to root of binary tree \n",
        "   current = root \n",
        "   stack = [] # initialize stack \n",
        "   done = 0\n",
        "\n",
        "   while True: \n",
        "       if current is not None:\n",
        "          stack.append(current) \n",
        "          current = current.left \n",
        "\n",
        "       elif(stack):\n",
        "        current = stack.pop() \n",
        "        print(current.data, end=\" \")  \n",
        "        current = current.right \n",
        "       else: \n",
        "          break\n",
        "       print() \n",
        "            # Driver program to test above function \n",
        "root = Node(5) \n",
        "root.right = Node(3) \n",
        "root.left = Node(15)  \n",
        "root.left.left = Node(11) \n",
        "root.left.right = Node(6)\n",
        "inOrder(root) "
      ],
      "execution_count": 12,
      "outputs": [
        {
          "output_type": "stream",
          "text": [
            "\n",
            "\n",
            "\n",
            "11 \n",
            "15 \n",
            "\n",
            "6 \n",
            "5 \n",
            "\n",
            "3 \n"
          ],
          "name": "stdout"
        }
      ]
    }
  ]
}