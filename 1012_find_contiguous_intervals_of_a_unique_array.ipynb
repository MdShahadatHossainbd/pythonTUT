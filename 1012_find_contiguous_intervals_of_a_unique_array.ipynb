{
  "nbformat": 4,
  "nbformat_minor": 0,
  "metadata": {
    "colab": {
      "name": "1012 find contiguous intervals of a unique array.ipynb",
      "provenance": [],
      "authorship_tag": "ABX9TyOL1ZEHrs1h1uc4Pe1am1Sn",
      "include_colab_link": true
    },
    "kernelspec": {
      "name": "python3",
      "display_name": "Python 3"
    }
  },
  "cells": [
    {
      "cell_type": "markdown",
      "metadata": {
        "id": "view-in-github",
        "colab_type": "text"
      },
      "source": [
        "<a href=\"https://colab.research.google.com/github/MdShahadatHossainbd/pythonTUT/blob/master/1012_find_contiguous_intervals_of_a_unique_array.ipynb\" target=\"_parent\"><img src=\"https://colab.research.google.com/assets/colab-badge.svg\" alt=\"Open In Colab\"/></a>"
      ]
    },
    {
      "cell_type": "code",
      "metadata": {
        "id": "zDzwh5FtRQ5x",
        "outputId": "1b1c9ea5-513d-4773-8f99-b8869bf170fa",
        "colab": {
          "base_uri": "https://localhost:8080/"
        }
      },
      "source": [
        "# Program to find contiguous intervals of a unique array in Python\n",
        "class Solution:\n",
        " def solve(self, nums):\n",
        "   nums.sort()\n",
        "   nums.append(1e9)\n",
        "   ans=[]\n",
        "   l=nums[0]\n",
        "   for i in range(1,len(nums)):\n",
        "      if nums[i] != nums[i-1] + 1:\n",
        "         ans.append([l, nums[i-1]])\n",
        "         l=nums[i]\n",
        "   return ans\n",
        "ob = Solution()\n",
        "nums = [10, 11, 12, 15, 16, 17, 28, 30]\n",
        "print(ob.solve(nums))"
      ],
      "execution_count": 2,
      "outputs": [
        {
          "output_type": "stream",
          "text": [
            "[[10, 12], [15, 17], [28, 28], [30, 30]]\n"
          ],
          "name": "stdout"
        }
      ]
    }
  ]
}