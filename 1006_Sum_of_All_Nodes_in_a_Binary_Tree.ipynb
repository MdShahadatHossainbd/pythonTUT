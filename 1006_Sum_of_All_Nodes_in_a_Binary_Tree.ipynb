{
  "nbformat": 4,
  "nbformat_minor": 0,
  "metadata": {
    "colab": {
      "name": "1006 Sum of All Nodes in a Binary Tree",
      "provenance": [],
      "authorship_tag": "ABX9TyO0L0BFllX6ddAn0uQJ17o4",
      "include_colab_link": true
    },
    "kernelspec": {
      "name": "python3",
      "display_name": "Python 3"
    }
  },
  "cells": [
    {
      "cell_type": "markdown",
      "metadata": {
        "id": "view-in-github",
        "colab_type": "text"
      },
      "source": [
        "<a href=\"https://colab.research.google.com/github/MdShahadatHossainbd/pythonTUT/blob/master/1006_Sum_of_All_Nodes_in_a_Binary_Tree.ipynb\" target=\"_parent\"><img src=\"https://colab.research.google.com/assets/colab-badge.svg\" alt=\"Open In Colab\"/></a>"
      ]
    },
    {
      "cell_type": "code",
      "metadata": {
        "id": "yWl5UwttiSmU",
        "outputId": "6a4c854e-e17b-40e8-b889-7c53c0ba20c4",
        "colab": {
          "base_uri": "https://localhost:8080/"
        }
      },
      "source": [
        "# Program to find sum of all elements of a tree in Python\n",
        "class TreeNode:\n",
        "   def __init__(self, data, left = None, right = None):\n",
        "      self.val = data\n",
        "      self.left = left\n",
        "      self.right = right\n",
        "class Solution:\n",
        "   def recurse(self, node):\n",
        "      val = node.val\n",
        "      if node.left:\n",
        "         val += self.recurse(node.left)\n",
        "      if node.right:\n",
        "         val += self.recurse(node.right)\n",
        "      return val\n",
        "   def solve(self, root):\n",
        "      if not root:\n",
        "         return 0\n",
        "      return self.recurse(root)\n",
        "ob = Solution()\n",
        "root = TreeNode(2)\n",
        "root.right = TreeNode(4)\n",
        "root.right.left = TreeNode(3)\n",
        "root.right.right = TreeNode(5)\n",
        "print(ob.solve(root))"
      ],
      "execution_count": null,
      "outputs": [
        {
          "output_type": "stream",
          "text": [
            "14\n"
          ],
          "name": "stdout"
        }
      ]
    },
    {
      "cell_type": "code",
      "metadata": {
        "id": "8_K9dWXwjJhv",
        "outputId": "9d3aa431-aa3b-4515-a5b0-05c361b9bc44",
        "colab": {
          "base_uri": "https://localhost:8080/"
        }
      },
      "source": [
        "# Python Program to Find the Sum of All Nodes in a Binary Tree\n",
        "class Node:\n",
        "    def __init__(self, data):\n",
        "        self.data = data\n",
        "        self.left = None\n",
        "        self.right = None\n",
        "\n",
        "class Add:\n",
        "    def get_sum(self, root):\n",
        "        self.root = root\n",
        "        if self.root == None:\n",
        "            return 0\n",
        "        return root.data + self.get_sum(root.left) + self.get_sum(root.right)\n",
        "\n",
        "def main():\n",
        "    root = Node(1)\n",
        "    root.left = Node(2)\n",
        "    root.left.left = Node(4)\n",
        "    root.left.right = Node(5)\n",
        "    root.right = Node(3)\n",
        "    root.right.left = Node(7)\n",
        "    root.right.right = Node(11)\n",
        "    obj = Add()\n",
        "    sum_nodes = obj.get_sum(root)\n",
        "    print(\"Sum of all nodes:\", sum_nodes)\n",
        "    \n",
        "if __name__ == \"__main__\":\n",
        "    main()"
      ],
      "execution_count": null,
      "outputs": [
        {
          "output_type": "stream",
          "text": [
            "Sum of all nodes: 33\n"
          ],
          "name": "stdout"
        }
      ]
    }
  ]
}