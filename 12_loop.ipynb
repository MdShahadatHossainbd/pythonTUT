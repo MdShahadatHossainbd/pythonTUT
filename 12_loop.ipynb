{
  "nbformat": 4,
  "nbformat_minor": 0,
  "metadata": {
    "colab": {
      "name": "12 loop",
      "provenance": [],
      "authorship_tag": "ABX9TyMgHCWqS0y78ejpYKyfEmjb",
      "include_colab_link": true
    },
    "kernelspec": {
      "name": "python3",
      "display_name": "Python 3"
    }
  },
  "cells": [
    {
      "cell_type": "markdown",
      "metadata": {
        "id": "view-in-github",
        "colab_type": "text"
      },
      "source": [
        "<a href=\"https://colab.research.google.com/github/MdShahadatHossainbd/pythonTUT/blob/master/12_loop.ipynb\" target=\"_parent\"><img src=\"https://colab.research.google.com/assets/colab-badge.svg\" alt=\"Open In Colab\"/></a>"
      ]
    },
    {
      "cell_type": "markdown",
      "metadata": {
        "id": "SoTpwLarXmLH"
      },
      "source": [
        "13. Write a loop to find the factorial of any number"
      ]
    },
    {
      "cell_type": "code",
      "metadata": {
        "id": "dl7S-TzZXcj9",
        "outputId": "50f596e0-4b7c-4f66-8d61-fbea764537fa",
        "colab": {
          "base_uri": "https://localhost:8080/"
        }
      },
      "source": [
        "# 5! = 5 × 4 × 3 × 2 × 1 = 120\n",
        "num = 5\n",
        "factorial = 1\n",
        "if num < 0:\n",
        "    print(\"Factorial does not exist for negative numbers\")\n",
        "elif num == 0:\n",
        "    print(\"The factorial of 0 is 1\")\n",
        "else:\n",
        "    for i in range(1, num + 1):\n",
        "        factorial = factorial * i\n",
        "    print(\"The factorial of\", num, \"is\", factorial)"
      ],
      "execution_count": 1,
      "outputs": [
        {
          "output_type": "stream",
          "text": [
            "The factorial of 5 is 120\n"
          ],
          "name": "stdout"
        }
      ]
    },
    {
      "cell_type": "code",
      "metadata": {
        "id": "52sKQy3HX_d3",
        "outputId": "f894b1cb-4265-40ea-e9b4-b13c86f56123",
        "colab": {
          "base_uri": "https://localhost:8080/"
        }
      },
      "source": [
        "num = int(input(\"\"))\n",
        "fact = 1\n",
        "for i in range(1,num+1):\n",
        "  fact = fact * i   \n",
        "print(fact)"
      ],
      "execution_count": 4,
      "outputs": [
        {
          "output_type": "stream",
          "text": [
            "8\n",
            "40320\n"
          ],
          "name": "stdout"
        }
      ]
    },
    {
      "cell_type": "markdown",
      "metadata": {
        "id": "uPIwQDVnY78S"
      },
      "source": [
        "14. Reverse a given integer number"
      ]
    },
    {
      "cell_type": "code",
      "metadata": {
        "id": "sleXmHUjZEdw",
        "outputId": "273e6c99-f62d-40ba-f4d1-501896720db9",
        "colab": {
          "base_uri": "https://localhost:8080/"
        }
      },
      "source": [
        "num = 76542\n",
        "reverse_number = 0\n",
        "print(\"Given Number \", num)\n",
        "while num > 0:\n",
        "    reminder = num % 10\n",
        "    reverse_number = (reverse_number * 10) + reminder\n",
        "    num = num // 10\n",
        "print(\"Revered Number \", reverse_number)"
      ],
      "execution_count": 5,
      "outputs": [
        {
          "output_type": "stream",
          "text": [
            "Given Number  76542\n",
            "Revered Number  24567\n"
          ],
          "name": "stdout"
        }
      ]
    },
    {
      "cell_type": "markdown",
      "metadata": {
        "id": "Iy-AlglwZrmv"
      },
      "source": [
        "15. Use a loop to display elements from a given list which are present at even positions"
      ]
    },
    {
      "cell_type": "code",
      "metadata": {
        "id": "W-jatKgBZwio",
        "outputId": "4d432808-ccbf-4062-e4a0-67b66726541a",
        "colab": {
          "base_uri": "https://localhost:8080/"
        }
      },
      "source": [
        "my_list = [10, 20, 30, 40, 50, 60, 70, 80, 90, 100]\n",
        "for i in my_list[1::2]:\n",
        "    print(i, end=\" \")"
      ],
      "execution_count": 6,
      "outputs": [
        {
          "output_type": "stream",
          "text": [
            "20 40 60 80 100 "
          ],
          "name": "stdout"
        }
      ]
    },
    {
      "cell_type": "markdown",
      "metadata": {
        "id": "kbE2wrQFe3GR"
      },
      "source": [
        "16. Display the cube of the number up to a given integer"
      ]
    },
    {
      "cell_type": "code",
      "metadata": {
        "id": "EBRK0_b5e5E4",
        "outputId": "56b1fbec-fe6e-4dff-ce75-4b8c922a0ecc",
        "colab": {
          "base_uri": "https://localhost:8080/"
        }
      },
      "source": [
        "input_number = 6\n",
        "for i in range(1, input_number + 1):\n",
        "    print(\"Current Number is :\", i, \" and the cube is\", (i * i * i))"
      ],
      "execution_count": 11,
      "outputs": [
        {
          "output_type": "stream",
          "text": [
            "Current Number is : 1  and the cube is 1\n",
            "Current Number is : 2  and the cube is 8\n",
            "Current Number is : 3  and the cube is 27\n",
            "Current Number is : 4  and the cube is 64\n",
            "Current Number is : 5  and the cube is 125\n",
            "Current Number is : 6  and the cube is 216\n"
          ],
          "name": "stdout"
        }
      ]
    },
    {
      "cell_type": "code",
      "metadata": {
        "id": "G_olxpOEfLjl",
        "outputId": "defeb8b2-9b83-4ddd-affa-093e16ade72b",
        "colab": {
          "base_uri": "https://localhost:8080/"
        }
      },
      "source": [
        "num = 6\n",
        "for i in range(1, num + 1):\n",
        "    print(i * i * i,end=\" \")"
      ],
      "execution_count": 12,
      "outputs": [
        {
          "output_type": "stream",
          "text": [
            "1 8 27 64 125 216 "
          ],
          "name": "stdout"
        }
      ]
    },
    {
      "cell_type": "markdown",
      "metadata": {
        "id": "TpUwHxQjflHO"
      },
      "source": [
        "17. Find the sum of the series 2 +22 + 222 + 2222 + .. n terms"
      ]
    },
    {
      "cell_type": "code",
      "metadata": {
        "id": "dUa48oiyfxYm",
        "outputId": "28ff08b2-7d03-4976-8518-fde5b29462dc",
        "colab": {
          "base_uri": "https://localhost:8080/"
        }
      },
      "source": [
        "number_of_terms = 5\n",
        "start = 2\n",
        "sum = 0\n",
        "for i in range(0, number_of_terms):\n",
        "    print(start, end=\" \")\n",
        "    sum += start\n",
        "    start = (start * 10) + 2\n",
        "print(\"\\nSum of above series is:\", sum)"
      ],
      "execution_count": 13,
      "outputs": [
        {
          "output_type": "stream",
          "text": [
            "2 22 222 2222 22222 \n",
            "Sum of above series is: 24690\n"
          ],
          "name": "stdout"
        }
      ]
    },
    {
      "cell_type": "code",
      "metadata": {
        "id": "MDGnvD9Ef3RB",
        "outputId": "44697db0-0831-441e-a029-4c2c8dfb6f12",
        "colab": {
          "base_uri": "https://localhost:8080/"
        }
      },
      "source": [
        "number_of_terms = 6\n",
        "start = 3\n",
        "sum = 0\n",
        "for i in range(0, number_of_terms):\n",
        "    print(start, end=\" \")\n",
        "    sum += start\n",
        "    start = (start * 10) + 3\n",
        "print(\"\\nSum of above series is:\", sum)"
      ],
      "execution_count": 16,
      "outputs": [
        {
          "output_type": "stream",
          "text": [
            "3 33 333 3333 33333 333333 \n",
            "Sum of above series is: 370368\n"
          ],
          "name": "stdout"
        }
      ]
    },
    {
      "cell_type": "markdown",
      "metadata": {
        "id": "oQKMw5OykO-1"
      },
      "source": [
        "18. Print the following pattern"
      ]
    },
    {
      "cell_type": "code",
      "metadata": {
        "id": "3bfdGpjCkVPE",
        "outputId": "a4bcb7b6-2bd1-4863-8660-84f9a7decb68",
        "colab": {
          "base_uri": "https://localhost:8080/"
        }
      },
      "source": [
        "rows = 5\n",
        "for i in range(0, rows):\n",
        "    for j in range(0, i + 1):\n",
        "        print(\"*\", end=' ')\n",
        "    print(\"\\r\")\n",
        "\n",
        "for i in range(rows, 0, -1):\n",
        "    for j in range(0, i - 1):\n",
        "        print(\"*\", end=' ')\n",
        "    print(\"\\r\")"
      ],
      "execution_count": 17,
      "outputs": [
        {
          "output_type": "stream",
          "text": [
            "* \r\n",
            "* * \r\n",
            "* * * \r\n",
            "* * * * \r\n",
            "* * * * * \r\n",
            "* * * * \r\n",
            "* * * \r\n",
            "* * \r\n",
            "* \r\n",
            "\r\n"
          ],
          "name": "stdout"
        }
      ]
    }
  ]
}