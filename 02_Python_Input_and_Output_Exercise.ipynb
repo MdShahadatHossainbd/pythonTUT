{
  "nbformat": 4,
  "nbformat_minor": 0,
  "metadata": {
    "colab": {
      "name": "02. Python Input and Output Exercise",
      "provenance": [],
      "authorship_tag": "ABX9TyN46bpkjqwP3xRNe8uPmhch",
      "include_colab_link": true
    },
    "kernelspec": {
      "name": "python3",
      "display_name": "Python 3"
    }
  },
  "cells": [
    {
      "cell_type": "markdown",
      "metadata": {
        "id": "view-in-github",
        "colab_type": "text"
      },
      "source": [
        "<a href=\"https://colab.research.google.com/github/MdShahadatHossainbd/pythonTUT/blob/master/02_Python_Input_and_Output_Exercise.ipynb\" target=\"_parent\"><img src=\"https://colab.research.google.com/assets/colab-badge.svg\" alt=\"Open In Colab\"/></a>"
      ]
    },
    {
      "cell_type": "markdown",
      "metadata": {
        "id": "K9xtvGOpM53P"
      },
      "source": [
        " 1. Accept two numbers from the user and calculate multiplication"
      ]
    },
    {
      "cell_type": "code",
      "metadata": {
        "id": "mhQS89HeMhh2",
        "outputId": "0752a55f-ca1d-42da-f407-f1c3d492574c",
        "colab": {
          "base_uri": "https://localhost:8080/",
          "height": 109
        }
      },
      "source": [
        "num1 = int(input(\"Enter first number \"))\n",
        "num2 = int(input(\"Enter second number \"))\n",
        "\n",
        "print(\"\\n\")\n",
        "res = num1 + num2\n",
        "print(\"Sum is\", res)"
      ],
      "execution_count": null,
      "outputs": [
        {
          "output_type": "stream",
          "text": [
            "Enter first number 4\n",
            "Enter second number 5\n",
            "\n",
            "\n",
            "Sum is 9\n"
          ],
          "name": "stdout"
        }
      ]
    },
    {
      "cell_type": "markdown",
      "metadata": {
        "id": "dVYqiNzZla6r"
      },
      "source": [
        "2: Display “My Name Is James” as “My** *Name*** Is**James” using output formatting of a print() function"
      ]
    },
    {
      "cell_type": "code",
      "metadata": {
        "id": "zB9jIRRAljHn",
        "outputId": "4db2c2a2-663e-4c2d-eedc-2b7de8a12abe",
        "colab": {
          "base_uri": "https://localhost:8080/",
          "height": 36
        }
      },
      "source": [
        "print('My', 'Name', 'Is', 'James', sep='**')"
      ],
      "execution_count": 2,
      "outputs": [
        {
          "output_type": "stream",
          "text": [
            "My**Name**Is**James\n"
          ],
          "name": "stdout"
        }
      ]
    },
    {
      "cell_type": "code",
      "metadata": {
        "id": "LSv5_OCPqhxP",
        "outputId": "7bc7a039-4f2d-4e43-bc30-98d42ac5ad09",
        "colab": {
          "base_uri": "https://localhost:8080/",
          "height": 36
        }
      },
      "source": [
        "print('My', 'Name', 'Is', 'James', sep='##')"
      ],
      "execution_count": 3,
      "outputs": [
        {
          "output_type": "stream",
          "text": [
            "My##Name##Is##James\n"
          ],
          "name": "stdout"
        }
      ]
    },
    {
      "cell_type": "markdown",
      "metadata": {
        "id": "D-IumQY_q0cW"
      },
      "source": [
        "3. Convert decimal number to octal using print() output formatting"
      ]
    },
    {
      "cell_type": "code",
      "metadata": {
        "id": "rt8lHer0qyk9",
        "outputId": "42eee24e-fd7c-4e60-ae4b-4ebe3a4d4a25",
        "colab": {
          "base_uri": "https://localhost:8080/",
          "height": 36
        }
      },
      "source": [
        "print('%o,' % (8))"
      ],
      "execution_count": 4,
      "outputs": [
        {
          "output_type": "stream",
          "text": [
            "10,\n"
          ],
          "name": "stdout"
        }
      ]
    },
    {
      "cell_type": "markdown",
      "metadata": {
        "id": "wGFW1SFV_ptw"
      },
      "source": [
        "4. Display float number with 2 decimal places using print()"
      ]
    },
    {
      "cell_type": "code",
      "metadata": {
        "id": "tqSDD8OS_y4N",
        "outputId": "bf1a01fd-b455-44f0-a17f-60b6f137c853",
        "colab": {
          "base_uri": "https://localhost:8080/",
          "height": 36
        }
      },
      "source": [
        "print('%.2f' % 458.541315)"
      ],
      "execution_count": 5,
      "outputs": [
        {
          "output_type": "stream",
          "text": [
            "458.54\n"
          ],
          "name": "stdout"
        }
      ]
    },
    {
      "cell_type": "markdown",
      "metadata": {
        "id": "UMowVTdSAEZR"
      },
      "source": [
        "5. Accept list of 5 float numbers as a input from user"
      ]
    },
    {
      "cell_type": "code",
      "metadata": {
        "id": "zxQg9MUbAJVg",
        "outputId": "1087abc0-adc5-43a5-b349-56881f3e10ea",
        "colab": {
          "base_uri": "https://localhost:8080/",
          "height": 324
        }
      },
      "source": [
        "floatNumbers = []\n",
        "n = int(input(\"Enter the list size : \"))\n",
        "\n",
        "print(\"\\n\")\n",
        "for i in range(0, n):\n",
        "    print(\"Enter number at location\", i, \":\")\n",
        "    item = float(input())\n",
        "    floatNumbers.append(item)\n",
        "    \n",
        "print(\"User List is \", floatNumbers)"
      ],
      "execution_count": 6,
      "outputs": [
        {
          "output_type": "stream",
          "text": [
            "Enter the list size : 6\n",
            "\n",
            "\n",
            "Enter number at location 0 :\n",
            "6\n",
            "Enter number at location 1 :\n",
            "7\n",
            "Enter number at location 2 :\n",
            "4\n",
            "Enter number at location 3 :\n",
            "3\n",
            "Enter number at location 4 :\n",
            "7\n",
            "Enter number at location 5 :\n",
            "7\n",
            "User List is  [6.0, 7.0, 4.0, 3.0, 7.0, 7.0]\n"
          ],
          "name": "stdout"
        }
      ]
    },
    {
      "cell_type": "markdown",
      "metadata": {
        "id": "P0-mW5dgOWnh"
      },
      "source": [
        "6. Accept any three string from one input() call"
      ]
    },
    {
      "cell_type": "code",
      "metadata": {
        "id": "7810PVg1Oi0h",
        "outputId": "1cb5aaee-0cf8-4c4f-8503-0251374f6abe",
        "colab": {
          "base_uri": "https://localhost:8080/",
          "height": 55
        }
      },
      "source": [
        "str1, str2, str3 = input(\"Enter three string\").split()\n",
        "print(str1, str2, str3)"
      ],
      "execution_count": 9,
      "outputs": [
        {
          "output_type": "stream",
          "text": [
            "Enter three stringMd Shahadat Hossain\n",
            "Md Shahadat Hossain\n"
          ],
          "name": "stdout"
        }
      ]
    },
    {
      "cell_type": "markdown",
      "metadata": {
        "id": "5J3PXTZbO3RE"
      },
      "source": [
        "7. You have the following data."
      ]
    },
    {
      "cell_type": "code",
      "metadata": {
        "id": "uNwzowxxO5r6",
        "outputId": "6ee7014e-697d-4491-ac5f-7df75d56d252",
        "colab": {
          "base_uri": "https://localhost:8080/",
          "height": 36
        }
      },
      "source": [
        "quantity = 3\n",
        "totalMoney = 1000\n",
        "price = 450\n",
        "statement1 = \"I have {1} dollars so I can buy {0} football for {2:.2f} dollars.\"\n",
        "print(statement1.format(quantity, totalMoney, price))"
      ],
      "execution_count": 10,
      "outputs": [
        {
          "output_type": "stream",
          "text": [
            "I have 1000 dollars so I can buy 3 football for 450.00 dollars.\n"
          ],
          "name": "stdout"
        }
      ]
    },
    {
      "cell_type": "markdown",
      "metadata": {
        "id": "bJkAdT3YPMsa"
      },
      "source": [
        "9. How to check file is empty or not"
      ]
    }
  ]
}