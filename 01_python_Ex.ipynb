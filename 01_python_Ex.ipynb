{
  "nbformat": 4,
  "nbformat_minor": 0,
  "metadata": {
    "colab": {
      "name": "01. python Ex.ipynb",
      "provenance": [],
      "authorship_tag": "ABX9TyOSp9EeIJIdIpcqN9RHy2tD",
      "include_colab_link": true
    },
    "kernelspec": {
      "name": "python3",
      "display_name": "Python 3"
    }
  },
  "cells": [
    {
      "cell_type": "markdown",
      "metadata": {
        "id": "view-in-github",
        "colab_type": "text"
      },
      "source": [
        "<a href=\"https://colab.research.google.com/github/MdShahadatHossainbd/pythonTUT/blob/master/01_python_Ex.ipynb\" target=\"_parent\"><img src=\"https://colab.research.google.com/assets/colab-badge.svg\" alt=\"Open In Colab\"/></a>"
      ]
    },
    {
      "cell_type": "markdown",
      "metadata": {
        "id": "QgqSEPI58foi"
      },
      "source": [
        "1. Given a two integer numbers return their product and  if the product is greater than 1000, then return their sum"
      ]
    },
    {
      "cell_type": "code",
      "metadata": {
        "id": "EFb-nsBW8XPW",
        "outputId": "415ca460-49c2-4f29-dfeb-863069e82206",
        "colab": {
          "base_uri": "https://localhost:8080/",
          "height": 35
        }
      },
      "source": [
        "def multiplication_or_sum(num1, num2):\n",
        "    product = num1 * num2\n",
        "    if product <= 1000:\n",
        "        return product\n",
        "    else:\n",
        "        return num1 + num2\n",
        "\n",
        "number1 = 50\n",
        "number2 = 30\n",
        "\n",
        "result = multiplication_or_sum(number1, number2)\n",
        "print(\"The result is\", result)\n"
      ],
      "execution_count": 3,
      "outputs": [
        {
          "output_type": "stream",
          "text": [
            "The result is 80\n"
          ],
          "name": "stdout"
        }
      ]
    },
    {
      "cell_type": "markdown",
      "metadata": {
        "id": "6LFlI0tk9Pe5"
      },
      "source": [
        "2. Given a range of first 10 numbers, Iterate from start number to the end number and print the sum of the current number and previous number"
      ]
    },
    {
      "cell_type": "code",
      "metadata": {
        "id": "9IklxvvE9_tk",
        "outputId": "42431f11-deaa-48e9-de28-b684292d5424",
        "colab": {
          "base_uri": "https://localhost:8080/",
          "height": 219
        }
      },
      "source": [
        "def sumNum(num):\n",
        "    previousNum = 0\n",
        "    for i in range(num):\n",
        "        sum = previousNum + i\n",
        "        print(\"Current Number\", i, \"Previous Number \", previousNum,\" Sum: \", sum)\n",
        "        previousNum = i\n",
        "\n",
        "print(\"Printing current and previous number sum in a given range(10)\")\n",
        "sumNum(10)"
      ],
      "execution_count": 5,
      "outputs": [
        {
          "output_type": "stream",
          "text": [
            "Printing current and previous number sum in a given range(10)\n",
            "Current Number 0 Previous Number  0  Sum:  0\n",
            "Current Number 1 Previous Number  0  Sum:  1\n",
            "Current Number 2 Previous Number  1  Sum:  3\n",
            "Current Number 3 Previous Number  2  Sum:  5\n",
            "Current Number 4 Previous Number  3  Sum:  7\n",
            "Current Number 5 Previous Number  4  Sum:  9\n",
            "Current Number 6 Previous Number  5  Sum:  11\n",
            "Current Number 7 Previous Number  6  Sum:  13\n",
            "Current Number 8 Previous Number  7  Sum:  15\n",
            "Current Number 9 Previous Number  8  Sum:  17\n"
          ],
          "name": "stdout"
        }
      ]
    },
    {
      "cell_type": "code",
      "metadata": {
        "id": "8_aENiRT-fy3",
        "outputId": "140a8c37-0b9e-4b97-957a-c42a5d7ed562",
        "colab": {
          "base_uri": "https://localhost:8080/",
          "height": 146
        }
      },
      "source": [
        "numbers = [5, 10, 15, 20, 25, 30, 30]\n",
        "\n",
        "for i in range(len(numbers)):\n",
        "    if i == 0:\n",
        "        print(numbers[i])\n",
        "    else:\n",
        "        print(numbers[i - 1] + numbers[i])"
      ],
      "execution_count": 7,
      "outputs": [
        {
          "output_type": "stream",
          "text": [
            "5\n",
            "15\n",
            "25\n",
            "35\n",
            "45\n",
            "55\n",
            "60\n"
          ],
          "name": "stdout"
        }
      ]
    },
    {
      "cell_type": "code",
      "metadata": {
        "id": "tHFyub6c_lGv",
        "outputId": "2868810f-30db-408c-cd47-0b489556bca4",
        "colab": {
          "base_uri": "https://localhost:8080/",
          "height": 35
        }
      },
      "source": [
        "numbers = [5, 10, 15, 20, 25, 30, 30]\n",
        "\n",
        "i = 0\n",
        "for x in range(1, 8):\n",
        "    print(numbers[i] + numbers[i - 1], end=\", \")\n",
        "    i += 1"
      ],
      "execution_count": 8,
      "outputs": [
        {
          "output_type": "stream",
          "text": [
            "35, 15, 25, 35, 45, 55, 60, "
          ],
          "name": "stdout"
        }
      ]
    },
    {
      "cell_type": "markdown",
      "metadata": {
        "id": "vwts3EoOBRma"
      },
      "source": [
        " 3. Given a string, display only those characters which are present at an even index number."
      ]
    },
    {
      "cell_type": "code",
      "metadata": {
        "id": "QKmxxmTPBR1d",
        "outputId": "733ae77c-d32a-4a4f-d5ba-0bcc4851b6ac",
        "colab": {
          "base_uri": "https://localhost:8080/",
          "height": 237
        }
      },
      "source": [
        "def printEveIndexChar(str):\n",
        "  for i in range(0, len(str)-1, 2):\n",
        "    print(\"index[\",i,\"]\", str[i] )\n",
        "\n",
        "inputStr = \"pynativeinBangladesh\" \n",
        "print(\"Orginal String is \", inputStr)\n",
        "\n",
        "print(\"Printing only even index chars\")\n",
        "printEveIndexChar(inputStr)"
      ],
      "execution_count": 9,
      "outputs": [
        {
          "output_type": "stream",
          "text": [
            "Orginal String is  pynativeinBangladesh\n",
            "Printing only even index chars\n",
            "index[ 0 ] p\n",
            "index[ 2 ] n\n",
            "index[ 4 ] t\n",
            "index[ 6 ] v\n",
            "index[ 8 ] i\n",
            "index[ 10 ] B\n",
            "index[ 12 ] n\n",
            "index[ 14 ] l\n",
            "index[ 16 ] d\n",
            "index[ 18 ] s\n"
          ],
          "name": "stdout"
        }
      ]
    },
    {
      "cell_type": "markdown",
      "metadata": {
        "id": "Mqb8bCPOExKy"
      },
      "source": [
        "4. Given a string and an integer number n, remove characters from a string starting from zero up to n and return a new string"
      ]
    },
    {
      "cell_type": "code",
      "metadata": {
        "id": "J7b-iHamFIDB",
        "outputId": "7d75e3af-1566-4d17-8d77-b451fc7b8592",
        "colab": {
          "base_uri": "https://localhost:8080/",
          "height": 54
        }
      },
      "source": [
        "def removeChars(str, n):\n",
        "  return str[n:]\n",
        "\n",
        "print(\"Removing n number of chars\")\n",
        "print(removeChars(\"pynative\", 5))"
      ],
      "execution_count": 10,
      "outputs": [
        {
          "output_type": "stream",
          "text": [
            "Removing n number of chars\n",
            "ive\n"
          ],
          "name": "stdout"
        }
      ]
    },
    {
      "cell_type": "markdown",
      "metadata": {
        "id": "jzMu7cV7FlUd"
      },
      "source": [
        "5. Given a list of numbers, return True if first and last number of a list is same"
      ]
    },
    {
      "cell_type": "code",
      "metadata": {
        "id": "yX9MeOlBF3wC",
        "outputId": "157aa55d-ff27-4481-f1b1-84e4a110b5c0",
        "colab": {
          "base_uri": "https://localhost:8080/",
          "height": 54
        }
      },
      "source": [
        "def isFirst_And_Last_Same(numberList):\n",
        "    print(\"Given list is \", numberList)\n",
        "    firstElement = numberList[0]\n",
        "    lastElement = numberList[-1]\n",
        "    if (firstElement == lastElement):\n",
        "        return True\n",
        "    else:\n",
        "        return False\n",
        "\n",
        "numList = [10, 20, 30, 40, 10]\n",
        "print(\"result is\", isFirst_And_Last_Same(numList))"
      ],
      "execution_count": 12,
      "outputs": [
        {
          "output_type": "stream",
          "text": [
            "Given list is  [10, 20, 30, 40, 10]\n",
            "result is True\n"
          ],
          "name": "stdout"
        }
      ]
    },
    {
      "cell_type": "code",
      "metadata": {
        "id": "JRH_yCkDHzpe",
        "outputId": "bff13f57-a178-4926-e554-04c0faa10ecb",
        "colab": {
          "base_uri": "https://localhost:8080/",
          "height": 54
        }
      },
      "source": [
        "def isFirst_And_Last_Same(numberList):\n",
        "    print(\"Given list is \", numberList)\n",
        "    firstElement = numberList[0]\n",
        "    lastElement = numberList[-1]\n",
        "    if (firstElement == lastElement):\n",
        "        return True\n",
        "    else:\n",
        "        return False\n",
        "\n",
        "numList = [10, 20, 30, 40, 20]\n",
        "print(\"result is\", isFirst_And_Last_Same(numList))\n"
      ],
      "execution_count": 13,
      "outputs": [
        {
          "output_type": "stream",
          "text": [
            "Given list is  [10, 20, 30, 40, 20]\n",
            "result is False\n"
          ],
          "name": "stdout"
        }
      ]
    },
    {
      "cell_type": "markdown",
      "metadata": {
        "id": "cwZSi7MfH3Sh"
      },
      "source": [
        "6. Given a list of numbers, Iterate it and print only those numbers which are divisible of 5"
      ]
    },
    {
      "cell_type": "code",
      "metadata": {
        "id": "y1RDaP50ITsO",
        "outputId": "6f65c244-682e-4988-cf1d-0cbd6cc04635",
        "colab": {
          "base_uri": "https://localhost:8080/",
          "height": 109
        }
      },
      "source": [
        "def findDivisible(numberList):\n",
        "    print(\"Given list is \", numberList)\n",
        "    print(\"Divisible of 5 in a list\")\n",
        "    for num in numberList:\n",
        "        if (num % 5 == 0):\n",
        "            print(num)\n",
        "\n",
        "numList = [10, 20, 33, 46, 55]\n",
        "findDivisible(numList)"
      ],
      "execution_count": 14,
      "outputs": [
        {
          "output_type": "stream",
          "text": [
            "Given list is  [10, 20, 33, 46, 55]\n",
            "Divisible of 5 in a list\n",
            "10\n",
            "20\n",
            "55\n"
          ],
          "name": "stdout"
        }
      ]
    },
    {
      "cell_type": "code",
      "metadata": {
        "id": "eE1VaUmaIVih",
        "outputId": "1b9fe52f-90ec-424c-c8ff-f10da6a15796",
        "colab": {
          "base_uri": "https://localhost:8080/",
          "height": 72
        }
      },
      "source": [
        "def findDivisible(numberList):\n",
        "    print(\"Given list is \", numberList)\n",
        "    print(\"Divisible of 5 in a list\")\n",
        "    for num in numberList:\n",
        "        if (num % 3 == 0):\n",
        "            print(num)\n",
        "\n",
        "numList = [10, 20, 33, 46, 55]\n",
        "findDivisible(numList)"
      ],
      "execution_count": 15,
      "outputs": [
        {
          "output_type": "stream",
          "text": [
            "Given list is  [10, 20, 33, 46, 55]\n",
            "Divisible of 5 in a list\n",
            "33\n"
          ],
          "name": "stdout"
        }
      ]
    },
    {
      "cell_type": "markdown",
      "metadata": {
        "id": "Ld3nbDTJIgrU"
      },
      "source": [
        "7. Return the total count of sub-string “Emma” appears in the given string"
      ]
    },
    {
      "cell_type": "code",
      "metadata": {
        "id": "6jHOtIEBI4pM",
        "outputId": "48f8aa77-9aed-466d-f3f9-ae6ac1758504",
        "colab": {
          "base_uri": "https://localhost:8080/",
          "height": 35
        }
      },
      "source": [
        "sampleStr = \"Emma is good developer. Emma is a writer\"\n",
        "cnt = sampleStr.count(\"Emma\")\n",
        "print(cnt)"
      ],
      "execution_count": 16,
      "outputs": [
        {
          "output_type": "stream",
          "text": [
            "2\n"
          ],
          "name": "stdout"
        }
      ]
    },
    {
      "cell_type": "code",
      "metadata": {
        "id": "IRjJP7etI-hn",
        "outputId": "f1c41918-8722-4ed0-dfc9-5ee676f08f29",
        "colab": {
          "base_uri": "https://localhost:8080/",
          "height": 35
        }
      },
      "source": [
        "sampleStr = \"Shahadat is good developer. Shahadat is a content writer.Shahadat lives in Dhaka\"\n",
        "cnt = sampleStr.count(\"Shahadat\")\n",
        "print(cnt)"
      ],
      "execution_count": 18,
      "outputs": [
        {
          "output_type": "stream",
          "text": [
            "3\n"
          ],
          "name": "stdout"
        }
      ]
    },
    {
      "cell_type": "markdown",
      "metadata": {
        "id": "x6pSlmhoJT9d"
      },
      "source": [
        "8. Print the following pattern"
      ]
    },
    {
      "cell_type": "code",
      "metadata": {
        "id": "6HqeaxcCJivr",
        "outputId": "3af826af-0056-4cc0-e2ad-81a744303173",
        "colab": {
          "base_uri": "https://localhost:8080/",
          "height": 384
        }
      },
      "source": [
        "for num in range(10):\n",
        "    for i in range(num):\n",
        "        print (num, end=\" \") #print number\n",
        "    # new line after each row to display pattern correctly\n",
        "    print(\"\\n\")"
      ],
      "execution_count": 19,
      "outputs": [
        {
          "output_type": "stream",
          "text": [
            "\n",
            "\n",
            "1 \n",
            "\n",
            "2 2 \n",
            "\n",
            "3 3 3 \n",
            "\n",
            "4 4 4 4 \n",
            "\n",
            "5 5 5 5 5 \n",
            "\n",
            "6 6 6 6 6 6 \n",
            "\n",
            "7 7 7 7 7 7 7 \n",
            "\n",
            "8 8 8 8 8 8 8 8 \n",
            "\n",
            "9 9 9 9 9 9 9 9 9 \n",
            "\n"
          ],
          "name": "stdout"
        }
      ]
    }
  ]
}