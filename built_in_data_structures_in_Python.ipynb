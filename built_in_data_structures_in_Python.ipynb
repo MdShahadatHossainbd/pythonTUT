{
  "nbformat": 4,
  "nbformat_minor": 0,
  "metadata": {
    "colab": {
      "name": "built-in data structures in Python.ipynb",
      "provenance": [],
      "authorship_tag": "ABX9TyObo73HUkeANJWcw0yBe+7c",
      "include_colab_link": true
    },
    "kernelspec": {
      "name": "python3",
      "display_name": "Python 3"
    }
  },
  "cells": [
    {
      "cell_type": "markdown",
      "metadata": {
        "id": "view-in-github",
        "colab_type": "text"
      },
      "source": [
        "<a href=\"https://colab.research.google.com/github/MdShahadatHossainbd/pythonTUT/blob/master/built_in_data_structures_in_Python.ipynb\" target=\"_parent\"><img src=\"https://colab.research.google.com/assets/colab-badge.svg\" alt=\"Open In Colab\"/></a>"
      ]
    },
    {
      "cell_type": "markdown",
      "metadata": {
        "id": "Xmg3oW0tgCWo"
      },
      "source": [
        "#https://python.swaroopch.com/data_structures.html"
      ]
    },
    {
      "cell_type": "markdown",
      "metadata": {
        "id": "lEOLUQjQgNEo"
      },
      "source": [
        "#List"
      ]
    },
    {
      "cell_type": "code",
      "metadata": {
        "id": "KQ6mDjaTf-SD",
        "outputId": "b52325d4-0653-4012-a13d-403e8e253620",
        "colab": {
          "base_uri": "https://localhost:8080/",
          "height": 182
        }
      },
      "source": [
        "# This is my shopping list\n",
        "shoplist = ['apple', 'mango', 'carrot', 'banana']\n",
        "\n",
        "print('I have', len(shoplist), 'items to purchase.')\n",
        "\n",
        "print('These items are:', end=' ')\n",
        "for item in shoplist:\n",
        "    print(item, end=' ')\n",
        "\n",
        "print('\\nI also have to buy rice.')\n",
        "shoplist.append('rice')\n",
        "print('My shopping list is now', shoplist)\n",
        "\n",
        "print('I will sort my list now')\n",
        "shoplist.sort()\n",
        "print('Sorted shopping list is', shoplist)\n",
        "\n",
        "print('The first item I will buy is', shoplist[0])\n",
        "olditem = shoplist[0]\n",
        "del shoplist[0]\n",
        "print('I bought the', olditem)\n",
        "print('My shopping list is now', shoplist)"
      ],
      "execution_count": 6,
      "outputs": [
        {
          "output_type": "stream",
          "text": [
            "I have 4 items to purchase.\n",
            "These items are: apple mango carrot banana \n",
            "I also have to buy rice.\n",
            "My shopping list is now ['apple', 'mango', 'carrot', 'banana', 'rice']\n",
            "I will sort my list now\n",
            "Sorted shopping list is ['apple', 'banana', 'carrot', 'mango', 'rice']\n",
            "The first item I will buy is apple\n",
            "I bought the apple\n",
            "My shopping list is now ['banana', 'carrot', 'mango', 'rice']\n"
          ],
          "name": "stdout"
        }
      ]
    },
    {
      "cell_type": "markdown",
      "metadata": {
        "id": "NqGnXUI5nLM1"
      },
      "source": [
        "#Tuple"
      ]
    },
    {
      "cell_type": "code",
      "metadata": {
        "id": "ywECuYuZiLEn",
        "outputId": "9964890a-c2c3-49ab-e071-dbc31a49cb1c",
        "colab": {
          "base_uri": "https://localhost:8080/",
          "height": 127
        }
      },
      "source": [
        "# I would recommend always using parentheses\n",
        "# to indicate start and end of tuple\n",
        "# even though parentheses are optional.\n",
        "# Explicit is better than implicit.\n",
        "zoo = ('python', 'elephant', 'penguin')\n",
        "print('Number of animals in the zoo is', len(zoo))\n",
        "\n",
        "new_zoo = 'monkey', 'camel', zoo    # parentheses not required but are a good idea\n",
        "print('Number of cages in the new zoo is', len(new_zoo))\n",
        "print('All animals in new zoo are', new_zoo)\n",
        "print('Animals brought from old zoo are', new_zoo[2])\n",
        "print('Last animal brought from old zoo is', new_zoo[2][2])\n",
        "print('Number of animals in the new zoo is',\n",
        "      len(new_zoo)-1+len(new_zoo[2]))"
      ],
      "execution_count": 7,
      "outputs": [
        {
          "output_type": "stream",
          "text": [
            "Number of animals in the zoo is 3\n",
            "Number of cages in the new zoo is 3\n",
            "All animals in new zoo are ('monkey', 'camel', ('python', 'elephant', 'penguin'))\n",
            "Animals brought from old zoo are ('python', 'elephant', 'penguin')\n",
            "Last animal brought from old zoo is penguin\n",
            "Number of animals in the new zoo is 5\n"
          ],
          "name": "stdout"
        }
      ]
    },
    {
      "cell_type": "markdown",
      "metadata": {
        "id": "IIfo4QkpoHqB"
      },
      "source": [
        "#Dictionary"
      ]
    },
    {
      "cell_type": "code",
      "metadata": {
        "id": "IAWLZT2Uhn2s",
        "outputId": "de13d5c4-19ab-406d-b2f2-ce7cf04e578d",
        "colab": {
          "base_uri": "https://localhost:8080/",
          "height": 182
        }
      },
      "source": [
        "# 'ab' is short for 'a'ddress'b'ook\n",
        "\n",
        "ab = {\n",
        "    'Swaroop': 'swaroop@swaroopch.com',\n",
        "    'Larry': 'larry@wall.org',\n",
        "    'Matsumoto': 'matz@ruby-lang.org',\n",
        "    'Spammer': 'spammer@hotmail.com'\n",
        "}\n",
        "\n",
        "print(\"Swaroop's address is\", ab['Swaroop'])\n",
        "\n",
        "# Deleting a key-value pair\n",
        "del ab['Spammer']\n",
        "\n",
        "print('\\nThere are {} contacts in the address-book\\n'.format(len(ab)))\n",
        "\n",
        "for name, address in ab.items():\n",
        "    print('Contact {} at {}'.format(name, address))\n",
        "\n",
        "# Adding a key-value pair\n",
        "ab['Guido'] = 'guido@python.org'\n",
        "\n",
        "if 'Guido' in ab:\n",
        "    print(\"\\nGuido's address is\", ab['Guido'])"
      ],
      "execution_count": 8,
      "outputs": [
        {
          "output_type": "stream",
          "text": [
            "Swaroop's address is swaroop@swaroopch.com\n",
            "\n",
            "There are 3 contacts in the address-book\n",
            "\n",
            "Contact Swaroop at swaroop@swaroopch.com\n",
            "Contact Larry at larry@wall.org\n",
            "Contact Matsumoto at matz@ruby-lang.org\n",
            "\n",
            "Guido's address is guido@python.org\n"
          ],
          "name": "stdout"
        }
      ]
    },
    {
      "cell_type": "markdown",
      "metadata": {
        "id": "dExZzVl4rruh"
      },
      "source": [
        "#Sequence\n",
        "Lists, tuples and strings are examples of sequences, but what are sequences and what is so special about them?"
      ]
    },
    {
      "cell_type": "code",
      "metadata": {
        "id": "0XMnNrkLr9sJ",
        "outputId": "ee5b5a82-e914-4d6e-b741-66fc73177fa1",
        "colab": {
          "base_uri": "https://localhost:8080/",
          "height": 329
        }
      },
      "source": [
        "shoplist = ['apple', 'mango', 'carrot', 'banana']\n",
        "name = 'swaroop'\n",
        "\n",
        "# Indexing or 'Subscription' operation #\n",
        "print('Item 0 is', shoplist[0])\n",
        "print('Item 1 is', shoplist[1])\n",
        "print('Item 2 is', shoplist[2])\n",
        "print('Item 3 is', shoplist[3])\n",
        "print('Item -1 is', shoplist[-1])\n",
        "print('Item -2 is', shoplist[-2])\n",
        "print('Character 0 is', name[0])\n",
        "\n",
        "print(\" \")\n",
        "\n",
        "# Slicing on a list #\n",
        "print('Item 1 to 3 is', shoplist[1:3])\n",
        "print('Item 2 to end is', shoplist[2:])\n",
        "print('Item 1 to -1 is', shoplist[1:-1])\n",
        "print('Item start to end is', shoplist[:])\n",
        "\n",
        "print(\" \")\n",
        "\n",
        "# Slicing on a string #\n",
        "print('characters 1 to 3 is', name[1:3])\n",
        "print('characters 2 to end is', name[2:])\n",
        "print('characters 1 to -1 is', name[1:-1])\n",
        "print('characters start to end is', name[:])"
      ],
      "execution_count": 11,
      "outputs": [
        {
          "output_type": "stream",
          "text": [
            "Item 0 is apple\n",
            "Item 1 is mango\n",
            "Item 2 is carrot\n",
            "Item 3 is banana\n",
            "Item -1 is banana\n",
            "Item -2 is carrot\n",
            "Character 0 is s\n",
            " \n",
            "Item 1 to 3 is ['mango', 'carrot']\n",
            "Item 2 to end is ['carrot', 'banana']\n",
            "Item 1 to -1 is ['mango', 'carrot']\n",
            "Item start to end is ['apple', 'mango', 'carrot', 'banana']\n",
            " \n",
            "characters 1 to 3 is wa\n",
            "characters 2 to end is aroop\n",
            "characters 1 to -1 is waroo\n",
            "characters start to end is swaroop\n"
          ],
          "name": "stdout"
        }
      ]
    },
    {
      "cell_type": "code",
      "metadata": {
        "id": "yHRqcyI8sCDt",
        "outputId": "12a085ce-29a1-4da5-b18c-e8f86c6b36af",
        "colab": {
          "base_uri": "https://localhost:8080/",
          "height": 35
        }
      },
      "source": [
        "shoplist = ['apple', 'mango', 'carrot', 'banana']\n",
        "shoplist[::1]"
      ],
      "execution_count": 13,
      "outputs": [
        {
          "output_type": "execute_result",
          "data": {
            "text/plain": [
              "['apple', 'mango', 'carrot', 'banana']"
            ]
          },
          "metadata": {
            "tags": []
          },
          "execution_count": 13
        }
      ]
    },
    {
      "cell_type": "code",
      "metadata": {
        "id": "lQE9Ew6OsvbN",
        "outputId": "4b21005b-eb57-4bfa-9877-85a2db62f1f0",
        "colab": {
          "base_uri": "https://localhost:8080/",
          "height": 35
        }
      },
      "source": [
        "shoplist[::2]"
      ],
      "execution_count": 18,
      "outputs": [
        {
          "output_type": "execute_result",
          "data": {
            "text/plain": [
              "['apple', 'carrot']"
            ]
          },
          "metadata": {
            "tags": []
          },
          "execution_count": 18
        }
      ]
    },
    {
      "cell_type": "code",
      "metadata": {
        "id": "o6h4I-VYs0R5",
        "outputId": "33b3b575-3078-4719-bcd4-bbdee86110ba",
        "colab": {
          "base_uri": "https://localhost:8080/",
          "height": 35
        }
      },
      "source": [
        "shoplist[::3]"
      ],
      "execution_count": 19,
      "outputs": [
        {
          "output_type": "execute_result",
          "data": {
            "text/plain": [
              "['apple', 'banana']"
            ]
          },
          "metadata": {
            "tags": []
          },
          "execution_count": 19
        }
      ]
    },
    {
      "cell_type": "code",
      "metadata": {
        "id": "hb0dsd1bs7SF",
        "outputId": "202807e9-b8c0-40d4-da1f-f045452763c7",
        "colab": {
          "base_uri": "https://localhost:8080/",
          "height": 35
        }
      },
      "source": [
        "shoplist[::-1]"
      ],
      "execution_count": 20,
      "outputs": [
        {
          "output_type": "execute_result",
          "data": {
            "text/plain": [
              "['banana', 'carrot', 'mango', 'apple']"
            ]
          },
          "metadata": {
            "tags": []
          },
          "execution_count": 20
        }
      ]
    },
    {
      "cell_type": "markdown",
      "metadata": {
        "id": "I4vCnd1LtSGu"
      },
      "source": [
        "#Set"
      ]
    },
    {
      "cell_type": "code",
      "metadata": {
        "id": "8zjWx6AMtNoJ",
        "outputId": "904f5d60-9481-41fb-9927-7ea0c695b896",
        "colab": {
          "base_uri": "https://localhost:8080/",
          "height": 35
        }
      },
      "source": [
        "bri = set(['brazil', 'russia', 'india'])\n",
        "'india' in bri"
      ],
      "execution_count": 21,
      "outputs": [
        {
          "output_type": "execute_result",
          "data": {
            "text/plain": [
              "True"
            ]
          },
          "metadata": {
            "tags": []
          },
          "execution_count": 21
        }
      ]
    },
    {
      "cell_type": "code",
      "metadata": {
        "id": "0CNLKh_Ftmom",
        "outputId": "87d46088-7f8a-4fee-ed2a-64105d8320bc",
        "colab": {
          "base_uri": "https://localhost:8080/",
          "height": 35
        }
      },
      "source": [
        "'usa' in bri"
      ],
      "execution_count": 22,
      "outputs": [
        {
          "output_type": "execute_result",
          "data": {
            "text/plain": [
              "False"
            ]
          },
          "metadata": {
            "tags": []
          },
          "execution_count": 22
        }
      ]
    },
    {
      "cell_type": "code",
      "metadata": {
        "id": "zDVN5UAHtrMt",
        "outputId": "7b669766-8324-4729-e346-fa5a15a4d7ee",
        "colab": {
          "base_uri": "https://localhost:8080/",
          "height": 35
        }
      },
      "source": [
        "bric = bri.copy()\n",
        "bric.add('china')\n",
        "bric.issuperset(bri)"
      ],
      "execution_count": 23,
      "outputs": [
        {
          "output_type": "execute_result",
          "data": {
            "text/plain": [
              "True"
            ]
          },
          "metadata": {
            "tags": []
          },
          "execution_count": 23
        }
      ]
    },
    {
      "cell_type": "code",
      "metadata": {
        "id": "gxJZoR4dt1MW",
        "outputId": "224c0802-5e18-4bbb-c5b0-c39501bc93e7",
        "colab": {
          "base_uri": "https://localhost:8080/",
          "height": 35
        }
      },
      "source": [
        "bri.remove('russia')\n",
        "bri & bric"
      ],
      "execution_count": 24,
      "outputs": [
        {
          "output_type": "execute_result",
          "data": {
            "text/plain": [
              "{'brazil', 'india'}"
            ]
          },
          "metadata": {
            "tags": []
          },
          "execution_count": 24
        }
      ]
    },
    {
      "cell_type": "markdown",
      "metadata": {
        "id": "FJ6rvOCFt-3E"
      },
      "source": [
        "#References"
      ]
    },
    {
      "cell_type": "code",
      "metadata": {
        "id": "Xxtamn1JuAeV",
        "outputId": "062169cc-8928-4ea8-e27f-3a5daf7e084d",
        "colab": {
          "base_uri": "https://localhost:8080/",
          "height": 127
        }
      },
      "source": [
        "print('Simple Assignment')\n",
        "shoplist = ['apple', 'mango', 'carrot', 'banana']\n",
        "# mylist is just another name pointing to the same object!\n",
        "mylist = shoplist\n",
        "\n",
        "# I purchased the first item, so I remove it from the list\n",
        "del shoplist[0]\n",
        "\n",
        "print('shoplist is', shoplist)\n",
        "print('mylist is', mylist)\n",
        "# Notice that both shoplist and mylist both print\n",
        "# the same list without the 'apple' confirming that\n",
        "# they point to the same object\n",
        "\n",
        "print('Copy by making a full slice')\n",
        "# Make a copy by doing a full slice\n",
        "mylist = shoplist[:]\n",
        "# Remove first item\n",
        "del mylist[0]\n",
        "\n",
        "print('shoplist is', shoplist)\n",
        "print('mylist is', mylist)\n",
        "# Notice that now the two lists are different"
      ],
      "execution_count": 25,
      "outputs": [
        {
          "output_type": "stream",
          "text": [
            "Simple Assignment\n",
            "shoplist is ['mango', 'carrot', 'banana']\n",
            "mylist is ['mango', 'carrot', 'banana']\n",
            "Copy by making a full slice\n",
            "shoplist is ['mango', 'carrot', 'banana']\n",
            "mylist is ['carrot', 'banana']\n"
          ],
          "name": "stdout"
        }
      ]
    },
    {
      "cell_type": "markdown",
      "metadata": {
        "id": "0saekc72uRNU"
      },
      "source": [
        "#Strings "
      ]
    },
    {
      "cell_type": "code",
      "metadata": {
        "id": "25l_I2mKuSb3",
        "outputId": "5fad3fa7-c2cc-4f95-f38f-b3360d1f3e8f",
        "colab": {
          "base_uri": "https://localhost:8080/",
          "height": 90
        }
      },
      "source": [
        "# This is a string object\n",
        "name = 'Swaroop'\n",
        "\n",
        "if name.startswith('Swa'):\n",
        "    print('Yes, the string starts with \"Swa\"')\n",
        "\n",
        "if 'a' in name:\n",
        "    print('Yes, it contains the string \"a\"')\n",
        "\n",
        "if name.find('war') != -1:\n",
        "    print('Yes, it contains the string \"war\"')\n",
        "\n",
        "delimiter = '_*_'\n",
        "mylist = ['Brazil', 'Russia', 'India', 'China']\n",
        "print(delimiter.join(mylist))"
      ],
      "execution_count": 26,
      "outputs": [
        {
          "output_type": "stream",
          "text": [
            "Yes, the string starts with \"Swa\"\n",
            "Yes, it contains the string \"a\"\n",
            "Yes, it contains the string \"war\"\n",
            "Brazil_*_Russia_*_India_*_China\n"
          ],
          "name": "stdout"
        }
      ]
    }
  ]
}