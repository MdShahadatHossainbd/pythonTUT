{
  "nbformat": 4,
  "nbformat_minor": 0,
  "metadata": {
    "colab": {
      "name": "1001 Program to check all values in the tree are same or not in Python.ipynb",
      "provenance": [],
      "authorship_tag": "ABX9TyPpYr+J62DFSIUyrpCAD+ak",
      "include_colab_link": true
    },
    "kernelspec": {
      "name": "python3",
      "display_name": "Python 3"
    }
  },
  "cells": [
    {
      "cell_type": "markdown",
      "metadata": {
        "id": "view-in-github",
        "colab_type": "text"
      },
      "source": [
        "<a href=\"https://colab.research.google.com/github/MdShahadatHossainbd/pythonTUT/blob/master/1001_Program_Python.ipynb\" target=\"_parent\"><img src=\"https://colab.research.google.com/assets/colab-badge.svg\" alt=\"Open In Colab\"/></a>"
      ]
    },
    {
      "cell_type": "code",
      "metadata": {
        "id": "9CAIEO3r7vO0",
        "outputId": "37550d7d-f458-4ef7-f8e9-607ae6de47fe",
        "colab": {
          "base_uri": "https://localhost:8080/"
        }
      },
      "source": [
        "#Program to check all values in the tree are same or not in Python\n",
        "class TreeNode:\n",
        "   def __init__(self, val, left=None, right=None):\n",
        "      self.val = val\n",
        "      self.left = left\n",
        "      self.right = right\n",
        "class Solution:\n",
        "   def solve(self, root, val=None):\n",
        "      if not root:\n",
        "         return True\n",
        "      if val is None:\n",
        "         val = root.val\n",
        "      return root.val == val and self.solve(root.left, val) and self.solve(root.right, val)\n",
        "ob = Solution()\n",
        "root = TreeNode(5)\n",
        "root.left = TreeNode(5)\n",
        "root.right = TreeNode(5)\n",
        "root.left.left = TreeNode(5)\n",
        "root.left.right = TreeNode(5)\n",
        "print(ob.solve(root))"
      ],
      "execution_count": 4,
      "outputs": [
        {
          "output_type": "stream",
          "text": [
            "True\n"
          ],
          "name": "stdout"
        }
      ]
    },
    {
      "cell_type": "code",
      "metadata": {
        "id": "GfkN-7kj8Lts",
        "outputId": "95d93be2-353a-422e-8c56-3063d9b75960",
        "colab": {
          "base_uri": "https://localhost:8080/"
        }
      },
      "source": [
        "#Program to check all values in the tree are same or not in Python\n",
        "class TreeNode:\n",
        "   def __init__(self, val, left=None, right=None):\n",
        "      self.val = val\n",
        "      self.left = left\n",
        "      self.right = right\n",
        "class Solution:\n",
        "   def solve(self, root, val=None):\n",
        "      if not root:\n",
        "         return True\n",
        "      if val is None:\n",
        "         val = root.val\n",
        "      return root.val == val and self.solve(root.left, val) and self.solve(root.right, val)\n",
        "ob = Solution()\n",
        "root = TreeNode(5)\n",
        "root.left = TreeNode(5)\n",
        "root.right = TreeNode(5)\n",
        "root.left.left = TreeNode(8)\n",
        "root.left.right = TreeNode(5)\n",
        "print(ob.solve(root))"
      ],
      "execution_count": 5,
      "outputs": [
        {
          "output_type": "stream",
          "text": [
            "False\n"
          ],
          "name": "stdout"
        }
      ]
    }
  ]
}