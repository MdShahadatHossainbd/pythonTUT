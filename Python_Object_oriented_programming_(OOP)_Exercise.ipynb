{
  "nbformat": 4,
  "nbformat_minor": 0,
  "metadata": {
    "colab": {
      "name": "Python Object-oriented programming (OOP) Exercise.ipynb",
      "provenance": [],
      "authorship_tag": "ABX9TyPTMTmZ2K3oKMVhPU+bFHaK",
      "include_colab_link": true
    },
    "kernelspec": {
      "name": "python3",
      "display_name": "Python 3"
    }
  },
  "cells": [
    {
      "cell_type": "markdown",
      "metadata": {
        "id": "view-in-github",
        "colab_type": "text"
      },
      "source": [
        "<a href=\"https://colab.research.google.com/github/MdShahadatHossainbd/pythonTUT/blob/master/Python_Object_oriented_programming_(OOP)_Exercise.ipynb\" target=\"_parent\"><img src=\"https://colab.research.google.com/assets/colab-badge.svg\" alt=\"Open In Colab\"/></a>"
      ]
    },
    {
      "cell_type": "markdown",
      "metadata": {
        "id": "1V3Ds_mPW7nu"
      },
      "source": [
        "1.  Create a Vehicle class with max_speed and mileage instance attributes"
      ]
    },
    {
      "cell_type": "code",
      "metadata": {
        "id": "8Hr5sGn7LvrU",
        "outputId": "fec20530-31aa-44d6-c027-0fb447d93e88",
        "colab": {
          "base_uri": "https://localhost:8080/",
          "height": 35
        }
      },
      "source": [
        "class Vehicle:\n",
        "    def __init__(self, max_speed, mileage):\n",
        "        self.max_speed = max_speed\n",
        "        self.mileage = mileage\n",
        "\n",
        "modelX = Vehicle(240, 18)\n",
        "print(modelX.max_speed, modelX.mileage)"
      ],
      "execution_count": 1,
      "outputs": [
        {
          "output_type": "stream",
          "text": [
            "240 18\n"
          ],
          "name": "stdout"
        }
      ]
    },
    {
      "cell_type": "markdown",
      "metadata": {
        "id": "qYkoHjvIZYmw"
      },
      "source": [
        "2. Create a Vehicle class without any variables and methods"
      ]
    },
    {
      "cell_type": "code",
      "metadata": {
        "id": "cMPQ11vwZjPa"
      },
      "source": [
        "class Vehicle:\n",
        "    pass"
      ],
      "execution_count": 2,
      "outputs": []
    },
    {
      "cell_type": "markdown",
      "metadata": {
        "id": "tnfvqPP7Zuka"
      },
      "source": [
        "3. Create child class Bus that will inherit all of the variables and methods of the Vehicle class"
      ]
    },
    {
      "cell_type": "code",
      "metadata": {
        "id": "_LMrAGXXZmgJ",
        "outputId": "aed77a6e-dfb5-43a8-855b-735346fce4c5",
        "colab": {
          "base_uri": "https://localhost:8080/",
          "height": 35
        }
      },
      "source": [
        "class Vehicle:\n",
        "\n",
        "    def __init__(self, name, max_speed, mileage):\n",
        "        self.name = name\n",
        "        self.max_speed = max_speed\n",
        "        self.mileage = mileage\n",
        "\n",
        "class Bus(Vehicle):\n",
        "    pass\n",
        "\n",
        "School_bus = Bus(\"School Volvo\", 180, 12)\n",
        "print(\"Vehicle Name:\", School_bus.name, \"Speed:\", School_bus.max_speed, \"Mileage:\", School_bus.mileage)"
      ],
      "execution_count": 5,
      "outputs": [
        {
          "output_type": "stream",
          "text": [
            "Vehicle Name: School Volvo Speed: 180 Mileage: 12\n"
          ],
          "name": "stdout"
        }
      ]
    },
    {
      "cell_type": "markdown",
      "metadata": {
        "id": "ri3fzMtmab7q"
      },
      "source": [
        "4. Class Inheritance"
      ]
    },
    {
      "cell_type": "code",
      "metadata": {
        "id": "DRbGFsXra2mk",
        "outputId": "283067cc-bcd3-4ac6-c936-6af7aae1eb1a",
        "colab": {
          "base_uri": "https://localhost:8080/",
          "height": 35
        }
      },
      "source": [
        "class Vehicle:\n",
        "    def __init__(self, name, max_speed, mileage):\n",
        "        self.name = name\n",
        "        self.max_speed = max_speed\n",
        "        self.mileage = mileage\n",
        "\n",
        "    def seating_capacity(self, capacity):\n",
        "        return f\"The seating capacity of a {self.name} is {capacity} passengers\"\n",
        "\n",
        "class Bus(Vehicle):\n",
        "    def seating_capacity(self, capacity=50):\n",
        "        return super().seating_capacity(capacity=50)\n",
        "\n",
        "School_bus = Bus(\"School Volvo\", 180, 12)\n",
        "print(School_bus.seating_capacity())"
      ],
      "execution_count": 6,
      "outputs": [
        {
          "output_type": "stream",
          "text": [
            "The seating capacity of a School Volvo is 50 passengers\n"
          ],
          "name": "stdout"
        }
      ]
    },
    {
      "cell_type": "code",
      "metadata": {
        "id": "IE-0VhTqdnRe",
        "outputId": "9b86f0cb-4a7f-499d-b859-1b59eea2fb93",
        "colab": {
          "base_uri": "https://localhost:8080/",
          "height": 182
        }
      },
      "source": [
        "class A:\n",
        "    def feature1(self):\n",
        "        print(\"Feature 1 working\")\n",
        "\n",
        "    def feature2(self):\n",
        "        print(\"Feature 2 working\")\n",
        "\n",
        "class B:\n",
        "    def feature3(self):\n",
        "        print(\"Feature 3 working\")\n",
        "\n",
        "    def feature4(self):\n",
        "        print(\"Feature 4 working\")\n",
        "\n",
        "class C(A,B):\n",
        "    def feature5(self):\n",
        "        print(\"Feature 5 working\")\n",
        "\n",
        "\n",
        "a1 = A()\n",
        "\n",
        "a1.feature1()\n",
        "a1.feature2()\n",
        "\n",
        "b1 = B()\n",
        "b1.feature3()\n",
        "b1.feature4()\n",
        "\n",
        "c1 = C()\n",
        "c1.feature1()\n",
        "c1.feature2()\n",
        "c1.feature3()\n",
        "c1.feature4()\n",
        "c1.feature5()"
      ],
      "execution_count": 8,
      "outputs": [
        {
          "output_type": "stream",
          "text": [
            "Feature 1 working\n",
            "Feature 2 working\n",
            "Feature 3 working\n",
            "Feature 4 working\n",
            "Feature 1 working\n",
            "Feature 2 working\n",
            "Feature 3 working\n",
            "Feature 4 working\n",
            "Feature 5 working\n"
          ],
          "name": "stdout"
        }
      ]
    },
    {
      "cell_type": "markdown",
      "metadata": {
        "id": "LIciKBsEajw2"
      },
      "source": [
        "5. Define property that should have the same value for every class instance"
      ]
    },
    {
      "cell_type": "code",
      "metadata": {
        "id": "OSmL4RiPeNtU",
        "outputId": "1db45595-968f-4e6f-c0f2-09c75c830a76",
        "colab": {
          "base_uri": "https://localhost:8080/",
          "height": 54
        }
      },
      "source": [
        "class Vehicle:\n",
        "    # Class attribute\n",
        "    color = \"White\"\n",
        "\n",
        "    def __init__(self, name, max_speed, mileage):\n",
        "        self.name = name\n",
        "        self.max_speed = max_speed\n",
        "        self.mileage = mileage\n",
        "\n",
        "class Bus(Vehicle):\n",
        "    pass\n",
        "\n",
        "class Car(Vehicle):\n",
        "    pass\n",
        "\n",
        "School_bus = Bus(\"School Volvo\", 180, 12)\n",
        "print(School_bus.color, School_bus.name, \"Speed:\", School_bus.max_speed, \"Mileage:\", School_bus.mileage)\n",
        "\n",
        "car = Car(\"Audi Q5\", 240, 18)\n",
        "print(car.color, car.name, \"Speed:\", car.max_speed, \"Mileage:\", car.mileage)\n"
      ],
      "execution_count": 9,
      "outputs": [
        {
          "output_type": "stream",
          "text": [
            "White School Volvo Speed: 180 Mileage: 12\n",
            "White Audi Q5 Speed: 240 Mileage: 18\n"
          ],
          "name": "stdout"
        }
      ]
    },
    {
      "cell_type": "markdown",
      "metadata": {
        "id": "Z1KyD2qZepFl"
      },
      "source": [
        "6. Class Inheritance"
      ]
    },
    {
      "cell_type": "code",
      "metadata": {
        "id": "k8b1D1DjehLa",
        "outputId": "0dead850-888c-414b-ac1e-0ea7ee57e4c4",
        "colab": {
          "base_uri": "https://localhost:8080/",
          "height": 35
        }
      },
      "source": [
        "class Vehicle:\n",
        "    def __init__(self, name, mileage, capacity):\n",
        "        self.name = name\n",
        "        self.mileage = mileage\n",
        "        self.capacity = capacity\n",
        "\n",
        "    def fare(self):\n",
        "        return self.capacity * 100\n",
        "\n",
        "class Bus(Vehicle):\n",
        "    def fare(self):\n",
        "        amount = super().fare()\n",
        "        amount += amount * 10 / 100\n",
        "        return amount\n",
        "\n",
        "School_bus = Bus(\"School Volvo\", 12, 50)\n",
        "print(\"Total Bus fare is:\", School_bus.fare())"
      ],
      "execution_count": 10,
      "outputs": [
        {
          "output_type": "stream",
          "text": [
            "Total Bus fare is: 5500.0\n"
          ],
          "name": "stdout"
        }
      ]
    },
    {
      "cell_type": "markdown",
      "metadata": {
        "id": "krj_4tK7e9mt"
      },
      "source": [
        "7. Determine which class a given Bus object belongs to (Check type of a object)"
      ]
    },
    {
      "cell_type": "code",
      "metadata": {
        "id": "Yxg2bpMpenjG",
        "outputId": "d6f5cd4e-0e40-4e2f-d9fc-917058a757bf",
        "colab": {
          "base_uri": "https://localhost:8080/",
          "height": 35
        }
      },
      "source": [
        "class Vehicle:\n",
        "    def __init__(self, name, mileage, capacity):\n",
        "        self.name = name\n",
        "        self.mileage = mileage\n",
        "        self.capacity = capacity\n",
        "\n",
        "class Bus(Vehicle):\n",
        "    pass\n",
        "\n",
        "School_bus = Bus(\"School Volvo\", 12, 50)\n",
        "\n",
        "# use Python's built-in type() function\n",
        "print(type(School_bus))"
      ],
      "execution_count": 11,
      "outputs": [
        {
          "output_type": "stream",
          "text": [
            "<class '__main__.Bus'>\n"
          ],
          "name": "stdout"
        }
      ]
    },
    {
      "cell_type": "markdown",
      "metadata": {
        "id": "zOl3V4yBfMT6"
      },
      "source": [
        "8. Determine if School_bus is also an instance of the Vehicle class"
      ]
    },
    {
      "cell_type": "code",
      "metadata": {
        "id": "yvwpFevefR9E",
        "outputId": "1ee4b8f6-178f-4948-844a-6fea698a923a",
        "colab": {
          "base_uri": "https://localhost:8080/",
          "height": 35
        }
      },
      "source": [
        "class Vehicle:\n",
        "    def __init__(self, name, mileage, capacity):\n",
        "        self.name = name\n",
        "        self.mileage = mileage\n",
        "        self.capacity = capacity\n",
        "\n",
        "class Bus(Vehicle):\n",
        "    pass\n",
        "\n",
        "School_bus = Bus(\"School Volvo\", 12, 50)\n",
        "\n",
        "# use Python's built-in isinstance() function\n",
        "print(isinstance(School_bus, Vehicle))"
      ],
      "execution_count": 12,
      "outputs": [
        {
          "output_type": "stream",
          "text": [
            "True\n"
          ],
          "name": "stdout"
        }
      ]
    }
  ]
}