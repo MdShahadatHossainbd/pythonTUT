{
  "nbformat": 4,
  "nbformat_minor": 0,
  "metadata": {
    "colab": {
      "name": "01 python Ex.ipynb",
      "provenance": [],
      "authorship_tag": "ABX9TyOdgyVY77aIQwK2/RhgkfCw",
      "include_colab_link": true
    },
    "kernelspec": {
      "name": "python3",
      "display_name": "Python 3"
    }
  },
  "cells": [
    {
      "cell_type": "markdown",
      "metadata": {
        "id": "view-in-github",
        "colab_type": "text"
      },
      "source": [
        "<a href=\"https://colab.research.google.com/github/MdShahadatHossainbd/pythonTUT/blob/master/01_python_Ex.ipynb\" target=\"_parent\"><img src=\"https://colab.research.google.com/assets/colab-badge.svg\" alt=\"Open In Colab\"/></a>"
      ]
    },
    {
      "cell_type": "markdown",
      "metadata": {
        "id": "zGtcPtuhQcMB"
      },
      "source": [
        "10. Given a two list of numbers create a new list such that new list should contain only odd numbers from the first list and even numbers from the second list"
      ]
    },
    {
      "cell_type": "code",
      "metadata": {
        "id": "TOvQbl8ZQWQP",
        "outputId": "6c5d11d4-b15f-43f4-fa0e-d07a31f0f17f",
        "colab": {
          "base_uri": "https://localhost:8080/",
          "height": 72
        }
      },
      "source": [
        "def mergeList(listOne, listTwo):\n",
        "    print(\"First List \", listOne)\n",
        "    print(\"Second List \", listTwo)\n",
        "    thirdList = []\n",
        "    \n",
        "    for num in listOne:\n",
        "        if (num % 2 != 0):\n",
        "            thirdList.append(num)\n",
        "    for num in listTwo:\n",
        "        if (num % 2 == 0):\n",
        "            thirdList.append(num)\n",
        "    return thirdList\n",
        "\n",
        "listOne = [10, 20, 23, 11, 17]\n",
        "listTwo = [13, 43, 24, 36, 12]\n",
        "\n",
        "print(\"result List is\", mergeList(listOne, listTwo))"
      ],
      "execution_count": 1,
      "outputs": [
        {
          "output_type": "stream",
          "text": [
            "First List  [10, 20, 23, 11, 17]\n",
            "Second List  [13, 43, 24, 36, 12]\n",
            "result List is [23, 11, 17, 24, 36, 12]\n"
          ],
          "name": "stdout"
        }
      ]
    },
    {
      "cell_type": "markdown",
      "metadata": {
        "id": "FI2vbChaZ8qr"
      },
      "source": [
        "11. Write a code to extract each digit from an integer, in the reverse order"
      ]
    },
    {
      "cell_type": "code",
      "metadata": {
        "id": "vSz5tYvLbXvd",
        "outputId": "48b944dd-b28b-4ada-cfd2-c9bbe98fbf42",
        "colab": {
          "base_uri": "https://localhost:8080/",
          "height": 54
        }
      },
      "source": [
        "number = 7536\n",
        "print(\"Given number\", number)\n",
        "while (number > 0):\n",
        "    # get the last digit\n",
        "    digit = number % 10\n",
        "    \n",
        "    # remove the last digit and repeat the loop\n",
        "    number = number // 10\n",
        "    print(digit, end=\" \")"
      ],
      "execution_count": 2,
      "outputs": [
        {
          "output_type": "stream",
          "text": [
            "Given number 7536\n",
            "6 3 5 7 "
          ],
          "name": "stdout"
        }
      ]
    },
    {
      "cell_type": "markdown",
      "metadata": {
        "id": "DJFEwmNzb6d2"
      },
      "source": [
        "12. Calculate income tax for the given income by adhering to the below rules"
      ]
    },
    {
      "cell_type": "code",
      "metadata": {
        "id": "ad5xIJPscnkA",
        "outputId": "89dd48be-9f59-4dd6-b55b-90bfc80c7714",
        "colab": {
          "base_uri": "https://localhost:8080/",
          "height": 54
        }
      },
      "source": [
        "income = 450000\n",
        "taxPayable = 0\n",
        "print(\"Given income\", income)\n",
        "\n",
        "if income <= 10000:\n",
        "    taxPayable = 0\n",
        "elif income <= 20000:\n",
        "    taxPayable = (income - 10000) * 10 / 100\n",
        "else:\n",
        "    # first 10,000\n",
        "    taxPayable = 0\n",
        "\n",
        "    # next 10,000\n",
        "    taxPayable = 10000 * 10 / 100\n",
        "\n",
        "    # remaining\n",
        "    taxPayable += (income - 20000) * 20 / 100\n",
        "\n",
        "print(\"Total tax to pay is\", taxPayable)"
      ],
      "execution_count": 4,
      "outputs": [
        {
          "output_type": "stream",
          "text": [
            "Given income 450000\n",
            "Total tax to pay is 87000.0\n"
          ],
          "name": "stdout"
        }
      ]
    },
    {
      "cell_type": "markdown",
      "metadata": {
        "id": "hfrTFi12dXvf"
      },
      "source": [
        "13. Print multiplication table form 1 to 10"
      ]
    },
    {
      "cell_type": "code",
      "metadata": {
        "id": "EnMgweSCdZZP",
        "outputId": "990615f2-a7d7-4b68-ca82-869ef3de9bf9",
        "colab": {
          "base_uri": "https://localhost:8080/",
          "height": 201
        }
      },
      "source": [
        "for i in range(1, 11):\n",
        "    for j in range(1, 11):\n",
        "        print(i * j, end=\" \")\n",
        "    print(\"\\t\\t\")"
      ],
      "execution_count": 5,
      "outputs": [
        {
          "output_type": "stream",
          "text": [
            "1 2 3 4 5 6 7 8 9 10 \t\t\n",
            "2 4 6 8 10 12 14 16 18 20 \t\t\n",
            "3 6 9 12 15 18 21 24 27 30 \t\t\n",
            "4 8 12 16 20 24 28 32 36 40 \t\t\n",
            "5 10 15 20 25 30 35 40 45 50 \t\t\n",
            "6 12 18 24 30 36 42 48 54 60 \t\t\n",
            "7 14 21 28 35 42 49 56 63 70 \t\t\n",
            "8 16 24 32 40 48 56 64 72 80 \t\t\n",
            "9 18 27 36 45 54 63 72 81 90 \t\t\n",
            "10 20 30 40 50 60 70 80 90 100 \t\t\n"
          ],
          "name": "stdout"
        }
      ]
    },
    {
      "cell_type": "markdown",
      "metadata": {
        "id": "hOQJAMkPdpOB"
      },
      "source": [
        "14. Print downward Half-Pyramid Pattern with Star (asterisk)"
      ]
    },
    {
      "cell_type": "code",
      "metadata": {
        "id": "hkh1nueNdq1Y",
        "outputId": "2ae4d85d-9471-45ce-f05a-93d6ea972ca6",
        "colab": {
          "base_uri": "https://localhost:8080/",
          "height": 127
        }
      },
      "source": [
        "for i in range(6, 0, -1):\n",
        "    for j in range(0, i - 1):\n",
        "        print(\"*\", end=' ')\n",
        "    print(\" \")"
      ],
      "execution_count": 6,
      "outputs": [
        {
          "output_type": "stream",
          "text": [
            "* * * * *  \n",
            "* * * *  \n",
            "* * *  \n",
            "* *  \n",
            "*  \n",
            " \n"
          ],
          "name": "stdout"
        }
      ]
    },
    {
      "cell_type": "markdown",
      "metadata": {
        "id": "ytkmdSW6dx79"
      },
      "source": [
        "15. Write a function called exponent(base, exp) that returns an int value of base raises to the power of exp."
      ]
    },
    {
      "cell_type": "code",
      "metadata": {
        "id": "nrS4Dfxld8J_",
        "outputId": "7416e891-a835-4136-9566-1eb3177147b3",
        "colab": {
          "base_uri": "https://localhost:8080/",
          "height": 35
        }
      },
      "source": [
        "def exponent(base, exp):\n",
        "    num = exp\n",
        "    result = 1\n",
        "    while num > 0:\n",
        "        result = result * base\n",
        "        num = num - 1\n",
        "    print(base, \"raises to the power of\", exp, \"is: \", result)\n",
        "\n",
        "exponent(5, 4)"
      ],
      "execution_count": 7,
      "outputs": [
        {
          "output_type": "stream",
          "text": [
            "5 raises to the power of 4 is:  625\n"
          ],
          "name": "stdout"
        }
      ]
    },
    {
      "cell_type": "code",
      "metadata": {
        "id": "lue4IqA5eefo",
        "outputId": "43a92394-9dfc-47f3-dcef-bd7eee91cea5",
        "colab": {
          "base_uri": "https://localhost:8080/",
          "height": 35
        }
      },
      "source": [
        "def exponent(base, exp):\n",
        "    num = exp\n",
        "    result = 1\n",
        "    while num > 0:\n",
        "        result = result * base\n",
        "        num = num - 1\n",
        "    print(base, \"raises to the power of\", exp, \"is: \", result)\n",
        "\n",
        "exponent(510, 2)"
      ],
      "execution_count": 8,
      "outputs": [
        {
          "output_type": "stream",
          "text": [
            "510 raises to the power of 2 is:  260100\n"
          ],
          "name": "stdout"
        }
      ]
    }
  ]
}