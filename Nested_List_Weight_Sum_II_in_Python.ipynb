{
  "nbformat": 4,
  "nbformat_minor": 0,
  "metadata": {
    "colab": {
      "name": "Nested List Weight Sum II in Python.ipynb",
      "provenance": [],
      "authorship_tag": "ABX9TyPWvHw+zMtHwqihZNvsrzYk",
      "include_colab_link": true
    },
    "kernelspec": {
      "name": "python3",
      "display_name": "Python 3"
    }
  },
  "cells": [
    {
      "cell_type": "markdown",
      "metadata": {
        "id": "view-in-github",
        "colab_type": "text"
      },
      "source": [
        "<a href=\"https://colab.research.google.com/github/MdShahadatHossainbd/pythonTUT/blob/master/Nested_List_Weight_Sum_II_in_Python.ipynb\" target=\"_parent\"><img src=\"https://colab.research.google.com/assets/colab-badge.svg\" alt=\"Open In Colab\"/></a>"
      ]
    },
    {
      "cell_type": "code",
      "metadata": {
        "colab": {
          "base_uri": "https://localhost:8080/"
        },
        "id": "nG62KXFL6m39",
        "outputId": "6093fb4e-3fc9-459a-be2f-559fbfe1d548"
      },
      "source": [
        "class Solution(object):\n",
        "   def depthSumInverse(self, nestedList):\n",
        "      flats=[]\n",
        "      self.maxd=0\n",
        "      def flatten(nlst,dist):\n",
        "         if isinstance(nlst,list):\n",
        "            nlst=nlst\n",
        "         dist+=1\n",
        "         self.maxd=max(self.maxd,dist)\n",
        "         for node in nlst:\n",
        "            if isinstance(node,int):\n",
        "               flats.append((node,dist))\n",
        "            else:\n",
        "               flatten(node,dist)\n",
        "      flatten(nestedList,0)\n",
        "      summ=0\n",
        "      for v,d in flats:\n",
        "         summ+=v*(self.maxd+1-d)\n",
        "      return summ\n",
        "\n",
        "ob = Solution()\n",
        "print(ob.depthSumInverse([[1,1],4,[1,1]]))"
      ],
      "execution_count": 3,
      "outputs": [
        {
          "output_type": "stream",
          "text": [
            "12\n"
          ],
          "name": "stdout"
        }
      ]
    }
  ]
}