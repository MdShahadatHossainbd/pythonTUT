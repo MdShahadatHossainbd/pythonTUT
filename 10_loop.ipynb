{
  "nbformat": 4,
  "nbformat_minor": 0,
  "metadata": {
    "colab": {
      "name": "10 loop.ipynb",
      "provenance": [],
      "authorship_tag": "ABX9TyPorRXlaumVUbSpewcePXZw",
      "include_colab_link": true
    },
    "kernelspec": {
      "name": "python3",
      "display_name": "Python 3"
    }
  },
  "cells": [
    {
      "cell_type": "markdown",
      "metadata": {
        "id": "view-in-github",
        "colab_type": "text"
      },
      "source": [
        "<a href=\"https://colab.research.google.com/github/MdShahadatHossainbd/pythonTUT/blob/master/10_loop.ipynb\" target=\"_parent\"><img src=\"https://colab.research.google.com/assets/colab-badge.svg\" alt=\"Open In Colab\"/></a>"
      ]
    },
    {
      "cell_type": "markdown",
      "metadata": {
        "id": "gqGJQhN28Mne"
      },
      "source": [
        "1. Print First 10 natural numbers using while loop"
      ]
    },
    {
      "cell_type": "code",
      "metadata": {
        "id": "D9ndA97170H6",
        "outputId": "58c7e304-b0d4-404d-8698-637bcefd38c3",
        "colab": {
          "base_uri": "https://localhost:8080/"
        }
      },
      "source": [
        "i = 0\n",
        "while i <= 10:\n",
        "    print(i)\n",
        "    i += 1"
      ],
      "execution_count": 3,
      "outputs": [
        {
          "output_type": "stream",
          "text": [
            "0\n",
            "1\n",
            "2\n",
            "3\n",
            "4\n",
            "5\n",
            "6\n",
            "7\n",
            "8\n",
            "9\n",
            "10\n"
          ],
          "name": "stdout"
        }
      ]
    },
    {
      "cell_type": "code",
      "metadata": {
        "id": "fNxNr6ZW8pk0",
        "outputId": "6ae00dab-5d68-471c-df57-1f394a2d8046",
        "colab": {
          "base_uri": "https://localhost:8080/"
        }
      },
      "source": [
        "# Python Program to Print Natural Numbers from 1 to N\n",
        " \n",
        "number = int(input(\"Please Enter any Number: \"))\n",
        "i = 1\n",
        "print(\"The List of Natural Numbers from 1 to {0} are\".format(number)) \n",
        "while ( i <= number):\n",
        "    print (i, end = ' ')\n",
        "    i = i + 1"
      ],
      "execution_count": 4,
      "outputs": [
        {
          "output_type": "stream",
          "text": [
            "Please Enter any Number: 7\n",
            "The List of Natural Numbers from 1 to 7 are\n",
            "1 2 3 4 5 6 7 "
          ],
          "name": "stdout"
        }
      ]
    },
    {
      "cell_type": "code",
      "metadata": {
        "id": "yWAiqWt29AV7",
        "outputId": "b42e2a1d-ec10-4575-b408-c2dfe1652aab",
        "colab": {
          "base_uri": "https://localhost:8080/"
        }
      },
      "source": [
        "# Python Program to Print Natural Numbers within a range\n",
        " \n",
        "minimum = int(input(\"Please Enter the Minimum integer Value : \"))\n",
        "maximum = int(input(\"Please Enter the Maximum integer Value : \"))\n",
        "\n",
        "print(\"The List of Natural Numbers from {0} to {1} are\".format(minimum, maximum)) \n",
        "\n",
        "for i in range(minimum, maximum + 1):\n",
        "    print (i, end = '  ')"
      ],
      "execution_count": 5,
      "outputs": [
        {
          "output_type": "stream",
          "text": [
            "Please Enter the Minimum integer Value : 6\n",
            "Please Enter the Maximum integer Value : 12\n",
            "The List of Natural Numbers from 6 to 12 are\n",
            "6  7  8  9  10  11  12  "
          ],
          "name": "stdout"
        }
      ]
    },
    {
      "cell_type": "markdown",
      "metadata": {
        "id": "eBBsiZOH-hnA"
      },
      "source": [
        "2. Print the following pattern\n",
        "\n",
        "1  \n",
        "\n",
        "1 2 \n",
        "\n",
        "1 2 3 \n",
        "\n",
        "1 2 3 4 \n",
        "\n",
        "1 2 3 4 5"
      ]
    },
    {
      "cell_type": "code",
      "metadata": {
        "id": "siuYu0-Y-mvC",
        "outputId": "45177c35-6db7-449c-e574-703b5f3409a7",
        "colab": {
          "base_uri": "https://localhost:8080/"
        }
      },
      "source": [
        "print(\"Second Number Pattern \")\n",
        "lastNumber = 6\n",
        "for row in range(1, lastNumber):\n",
        "    for column in range(1, row + 1):\n",
        "        print(column, end=' ')\n",
        "    print(\"\")"
      ],
      "execution_count": 6,
      "outputs": [
        {
          "output_type": "stream",
          "text": [
            "Second Number Pattern \n",
            "1 \n",
            "1 2 \n",
            "1 2 3 \n",
            "1 2 3 4 \n",
            "1 2 3 4 5 \n"
          ],
          "name": "stdout"
        }
      ]
    },
    {
      "cell_type": "markdown",
      "metadata": {
        "id": "truha6xs_I3k"
      },
      "source": [
        "3. Accept number from user and calculate the sum of all number between 1 and given number .\n",
        "\n",
        "For example user given 10 so the output should be 55"
      ]
    },
    {
      "cell_type": "code",
      "metadata": {
        "id": "4sTngmcN_Tyz",
        "outputId": "78495ed3-380a-47c8-9c48-49c3fcc16274",
        "colab": {
          "base_uri": "https://localhost:8080/"
        }
      },
      "source": [
        "sum1 = 0\n",
        "n = int(input(\"Please enter number \"))\n",
        "for i in range(1, n + 1, 1):\n",
        "    sum1 += i\n",
        "print(\"\\n\")\n",
        "print(\"Sum is: \", sum1)"
      ],
      "execution_count": 7,
      "outputs": [
        {
          "output_type": "stream",
          "text": [
            "Please enter number 7\n",
            "\n",
            "\n",
            "Sum is:  28\n"
          ],
          "name": "stdout"
        }
      ]
    },
    {
      "cell_type": "markdown",
      "metadata": {
        "id": "9LLE3NUj_lS1"
      },
      "source": [
        "4. Print multiplication table of given number"
      ]
    },
    {
      "cell_type": "code",
      "metadata": {
        "id": "RkNQ-NjJ_rHt",
        "outputId": "d4f37c75-d88d-4c06-f662-ed496cdcd6b8",
        "colab": {
          "base_uri": "https://localhost:8080/"
        }
      },
      "source": [
        "n = 2\n",
        "for i in range(1, 11, 1):\n",
        "    product = n*i\n",
        "    print(product)"
      ],
      "execution_count": 8,
      "outputs": [
        {
          "output_type": "stream",
          "text": [
            "2\n",
            "4\n",
            "6\n",
            "8\n",
            "10\n",
            "12\n",
            "14\n",
            "16\n",
            "18\n",
            "20\n"
          ],
          "name": "stdout"
        }
      ]
    },
    {
      "cell_type": "code",
      "metadata": {
        "id": "SULC_WRD_yrQ",
        "outputId": "cc1a49fa-3e4b-4334-bf6c-344bf36537e1",
        "colab": {
          "base_uri": "https://localhost:8080/"
        }
      },
      "source": [
        "n = 5\n",
        "for i in range(1, 11, 1):\n",
        "    product = n*i\n",
        "    print(product)"
      ],
      "execution_count": 9,
      "outputs": [
        {
          "output_type": "stream",
          "text": [
            "5\n",
            "10\n",
            "15\n",
            "20\n",
            "25\n",
            "30\n",
            "35\n",
            "40\n",
            "45\n",
            "50\n"
          ],
          "name": "stdout"
        }
      ]
    },
    {
      "cell_type": "markdown",
      "metadata": {
        "id": "AwyL70BkAVL_"
      },
      "source": [
        "5. Given a list iterate it and display numbers which are divisible by 5 and if you find number greater than 150 stop the loop iteration"
      ]
    },
    {
      "cell_type": "code",
      "metadata": {
        "id": "O7pHx-6XAYzu",
        "outputId": "6fcae21f-f72d-4eea-930e-513d2893df38",
        "colab": {
          "base_uri": "https://localhost:8080/"
        }
      },
      "source": [
        "list1 = [12, 15, 32, 42, 55, 75, 122, 132, 150, 180, 200]\n",
        "for item in list1:\n",
        "    if (item > 150):\n",
        "        break\n",
        "    if(item % 5 == 0):\n",
        "        print(item)"
      ],
      "execution_count": 13,
      "outputs": [
        {
          "output_type": "stream",
          "text": [
            "15\n",
            "55\n",
            "75\n",
            "150\n"
          ],
          "name": "stdout"
        }
      ]
    },
    {
      "cell_type": "markdown",
      "metadata": {
        "id": "p6HztGoQA8HI"
      },
      "source": [
        "6. Given a number count the total number of digits in a number"
      ]
    },
    {
      "cell_type": "code",
      "metadata": {
        "id": "Kh4akjACA95T",
        "outputId": "2b39c61c-92a3-4774-c459-3e93f3c9f011",
        "colab": {
          "base_uri": "https://localhost:8080/"
        }
      },
      "source": [
        "num = 7586998\n",
        "count = 0\n",
        "while num != 0:\n",
        "    num //= 10\n",
        "    count+= 1\n",
        "print(\"Total digits are: \", count)"
      ],
      "execution_count": 15,
      "outputs": [
        {
          "output_type": "stream",
          "text": [
            "Total digits are:  7\n"
          ],
          "name": "stdout"
        }
      ]
    }
  ]
}