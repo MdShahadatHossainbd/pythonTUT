{
  "nbformat": 4,
  "nbformat_minor": 0,
  "metadata": {
    "colab": {
      "name": "Python Basic",
      "provenance": [],
      "authorship_tag": "ABX9TyO2c0EJMEjPIcM9j2tmCSv3",
      "include_colab_link": true
    },
    "kernelspec": {
      "name": "python3",
      "display_name": "Python 3"
    }
  },
  "cells": [
    {
      "cell_type": "markdown",
      "metadata": {
        "id": "view-in-github",
        "colab_type": "text"
      },
      "source": [
        "<a href=\"https://colab.research.google.com/github/MdShahadatHossainbd/pythonTUT/blob/master/Python_Basic.ipynb\" target=\"_parent\"><img src=\"https://colab.research.google.com/assets/colab-badge.svg\" alt=\"Open In Colab\"/></a>"
      ]
    },
    {
      "cell_type": "markdown",
      "metadata": {
        "id": "3niY2gF7XlVD",
        "colab_type": "text"
      },
      "source": [
        "Python Statement, Indentation and Comments"
      ]
    },
    {
      "cell_type": "code",
      "metadata": {
        "id": "2mvUHShGXwAr",
        "colab_type": "code",
        "colab": {
          "base_uri": "https://localhost:8080/",
          "height": 56
        },
        "outputId": "25b86288-6235-44c3-d5f3-f4bb0ee1bfd0"
      },
      "source": [
        "#This is a comment\n",
        "#print out Hello\n",
        "print('Hello')\n",
        "\n",
        "\"\"\"This is also a\n",
        "perfect example of\n",
        "multi-line comments\"\"\""
      ],
      "execution_count": null,
      "outputs": [
        {
          "output_type": "stream",
          "text": [
            "Hello\n"
          ],
          "name": "stdout"
        },
        {
          "output_type": "execute_result",
          "data": {
            "application/vnd.google.colaboratory.intrinsic+json": {
              "type": "string"
            },
            "text/plain": [
              "'This is also a\\nperfect example of\\nmulti-line comments'"
            ]
          },
          "metadata": {
            "tags": []
          },
          "execution_count": 2
        }
      ]
    },
    {
      "cell_type": "code",
      "metadata": {
        "id": "5_iHoUzoZ7ZI",
        "colab_type": "code",
        "colab": {}
      },
      "source": [
        "def double(num):\n",
        "    \"\"\"Function to double the value\"\"\"\n",
        "    return 2*num"
      ],
      "execution_count": null,
      "outputs": []
    },
    {
      "cell_type": "code",
      "metadata": {
        "id": "E81hdGtbaJgp",
        "colab_type": "code",
        "colab": {
          "base_uri": "https://localhost:8080/",
          "height": 35
        },
        "outputId": "89eee6d8-e491-48ac-d7da-9446c61d160f"
      },
      "source": [
        "def double(num):\n",
        "    \"\"\"Function to double the value\"\"\"\n",
        "    return 2*num\n",
        "print(double.__doc__)"
      ],
      "execution_count": null,
      "outputs": [
        {
          "output_type": "stream",
          "text": [
            "Function to double the value\n"
          ],
          "name": "stdout"
        }
      ]
    },
    {
      "cell_type": "markdown",
      "metadata": {
        "id": "fDRe-YqjXoM3",
        "colab_type": "text"
      },
      "source": [
        "Python Variables, Constants and Literals"
      ]
    },
    {
      "cell_type": "code",
      "metadata": {
        "id": "E0-NcJpwXkdq",
        "colab_type": "code",
        "colab": {
          "base_uri": "https://localhost:8080/",
          "height": 35
        },
        "outputId": "467be8df-313e-4fc2-9aef-3f2f07d61ede"
      },
      "source": [
        "website = \"apple.com\"\n",
        "print(website)\n"
      ],
      "execution_count": null,
      "outputs": [
        {
          "output_type": "stream",
          "text": [
            "apple.com\n"
          ],
          "name": "stdout"
        }
      ]
    },
    {
      "cell_type": "code",
      "metadata": {
        "id": "rkM5No8PahZe",
        "colab_type": "code",
        "colab": {
          "base_uri": "https://localhost:8080/",
          "height": 54
        },
        "outputId": "4e315382-4239-4921-99ff-7df04df8fbb3"
      },
      "source": [
        "website = \"apple.com\"\n",
        "print(website)\n",
        "\n",
        "# assigning a new variable to website\n",
        "website = \"programiz.com\"\n",
        "\n",
        "print(website)"
      ],
      "execution_count": null,
      "outputs": [
        {
          "output_type": "stream",
          "text": [
            "apple.com\n",
            "programiz.com\n"
          ],
          "name": "stdout"
        }
      ]
    },
    {
      "cell_type": "code",
      "metadata": {
        "id": "aejTshxdasOZ",
        "colab_type": "code",
        "colab": {
          "base_uri": "https://localhost:8080/",
          "height": 72
        },
        "outputId": "6b992596-53a6-4b33-8ab4-ae90a842cad7"
      },
      "source": [
        "a, b, c = 5, 3.2, \"Hello\"\n",
        "\n",
        "print (a)\n",
        "print (b)\n",
        "print (c)\n"
      ],
      "execution_count": null,
      "outputs": [
        {
          "output_type": "stream",
          "text": [
            "5\n",
            "3.2\n",
            "Hello\n"
          ],
          "name": "stdout"
        }
      ]
    },
    {
      "cell_type": "code",
      "metadata": {
        "id": "AnBf_STUavFK",
        "colab_type": "code",
        "colab": {
          "base_uri": "https://localhost:8080/",
          "height": 72
        },
        "outputId": "8df3beea-1a3f-483c-ffe2-4edaad63cc39"
      },
      "source": [
        "x = y = z = \"same\"\n",
        "\n",
        "print (x)\n",
        "print (y)\n",
        "print (z)"
      ],
      "execution_count": null,
      "outputs": [
        {
          "output_type": "stream",
          "text": [
            "same\n",
            "same\n",
            "same\n"
          ],
          "name": "stdout"
        }
      ]
    },
    {
      "cell_type": "code",
      "metadata": {
        "id": "EdzwpSO5cgCN",
        "colab_type": "code",
        "colab": {
          "base_uri": "https://localhost:8080/",
          "height": 72
        },
        "outputId": "ce017544-4566-4f3f-a2c1-89cc9ca1f28a"
      },
      "source": [
        "a = 0b1010 #Binary Literals\n",
        "b = 100 #Decimal Literal \n",
        "c = 0o310 #Octal Literal\n",
        "d = 0x12c #Hexadecimal Literal\n",
        "\n",
        "#Float Literal\n",
        "float_1 = 10.5 \n",
        "float_2 = 1.5e2\n",
        "\n",
        "#Complex Literal \n",
        "x = 3.14j\n",
        "\n",
        "print(a, b, c, d)\n",
        "print(float_1, float_2)\n",
        "print(x, x.imag, x.real)"
      ],
      "execution_count": null,
      "outputs": [
        {
          "output_type": "stream",
          "text": [
            "10 100 200 300\n",
            "10.5 150.0\n",
            "3.14j 3.14 0.0\n"
          ],
          "name": "stdout"
        }
      ]
    },
    {
      "cell_type": "code",
      "metadata": {
        "id": "I4IsWfVnc2We",
        "colab_type": "code",
        "colab": {
          "base_uri": "https://localhost:8080/",
          "height": 54
        },
        "outputId": "dced3cc3-8d1b-442b-8c7b-12d4ac40ffd5"
      },
      "source": [
        "drink = \"Available\"\n",
        "food = None\n",
        "\n",
        "def menu(x):\n",
        "    if x == drink:\n",
        "        print(drink)\n",
        "    else:\n",
        "        print(food)\n",
        "\n",
        "menu(drink)\n",
        "menu(food)\n"
      ],
      "execution_count": null,
      "outputs": [
        {
          "output_type": "stream",
          "text": [
            "Available\n",
            "None\n"
          ],
          "name": "stdout"
        }
      ]
    },
    {
      "cell_type": "code",
      "metadata": {
        "id": "z9zx1t3Gc5At",
        "colab_type": "code",
        "colab": {
          "base_uri": "https://localhost:8080/",
          "height": 90
        },
        "outputId": "cda58d14-cf7a-40e1-d23e-cdad9b66768f"
      },
      "source": [
        "fruits = [\"apple\", \"mango\", \"orange\"] #list\n",
        "numbers = (1, 2, 3) #tuple\n",
        "alphabets = {'a':'apple', 'b':'ball', 'c':'cat'} #dictionary\n",
        "vowels = {'a', 'e', 'i' , 'o', 'u'} #set\n",
        "\n",
        "print(fruits)\n",
        "print(numbers)\n",
        "print(alphabets)\n",
        "print(vowels)"
      ],
      "execution_count": null,
      "outputs": [
        {
          "output_type": "stream",
          "text": [
            "['apple', 'mango', 'orange']\n",
            "(1, 2, 3)\n",
            "{'a': 'apple', 'b': 'ball', 'c': 'cat'}\n",
            "{'o', 'i', 'u', 'a', 'e'}\n"
          ],
          "name": "stdout"
        }
      ]
    },
    {
      "cell_type": "code",
      "metadata": {
        "id": "6OqyLSIVdGrA",
        "colab_type": "code",
        "colab": {
          "base_uri": "https://localhost:8080/",
          "height": 90
        },
        "outputId": "9607c1d3-5a81-4904-e52f-6174a0397a60"
      },
      "source": [
        "x = (1 == True)\n",
        "y = (1 == False)\n",
        "a = True + 4\n",
        "b = False + 10\n",
        "\n",
        "print(\"x is\", x)\n",
        "print(\"y is\", y)\n",
        "print(\"a:\", a)\n",
        "print(\"b:\", b)"
      ],
      "execution_count": null,
      "outputs": [
        {
          "output_type": "stream",
          "text": [
            "x is True\n",
            "y is False\n",
            "a: 5\n",
            "b: 10\n"
          ],
          "name": "stdout"
        }
      ]
    },
    {
      "cell_type": "code",
      "metadata": {
        "id": "1qM-6SQhdMiP",
        "colab_type": "code",
        "colab": {
          "base_uri": "https://localhost:8080/",
          "height": 109
        },
        "outputId": "c55ae7c7-e571-413e-b5f3-84e41a467862"
      },
      "source": [
        "strings = \"This is Python\"\n",
        "char = \"C\"\n",
        "multiline_str = \"\"\"This is a multiline string with more than one line code.\"\"\"\n",
        "unicode = u\"\\u00dcnic\\u00f6de\"\n",
        "raw_str = r\"raw \\n string\"\n",
        "\n",
        "print(strings)\n",
        "print(char)\n",
        "print(multiline_str)\n",
        "print(unicode)\n",
        "print(raw_str)"
      ],
      "execution_count": null,
      "outputs": [
        {
          "output_type": "stream",
          "text": [
            "This is Python\n",
            "C\n",
            "This is a multiline string with more than one line code.\n",
            "Ünicöde\n",
            "raw \\n string\n"
          ],
          "name": "stdout"
        }
      ]
    },
    {
      "cell_type": "markdown",
      "metadata": {
        "id": "IU3Znhbldnzs",
        "colab_type": "text"
      },
      "source": [
        "Python Data Types"
      ]
    },
    {
      "cell_type": "code",
      "metadata": {
        "id": "FH0EH0r1do7r",
        "colab_type": "code",
        "colab": {
          "base_uri": "https://localhost:8080/",
          "height": 72
        },
        "outputId": "8a3e3a8b-a5c1-478a-8271-446f17d3458e"
      },
      "source": [
        "a = 5\n",
        "print(a, \"is of type\", type(a))\n",
        "\n",
        "a = 2.0\n",
        "print(a, \"is of type\", type(a))\n",
        "\n",
        "a = 1+2j\n",
        "print(a, \"is complex number?\", isinstance(1+2j,complex))\n"
      ],
      "execution_count": null,
      "outputs": [
        {
          "output_type": "stream",
          "text": [
            "5 is of type <class 'int'>\n",
            "2.0 is of type <class 'float'>\n",
            "(1+2j) is complex number? True\n"
          ],
          "name": "stdout"
        }
      ]
    },
    {
      "cell_type": "code",
      "metadata": {
        "id": "L8rziigSkLLe",
        "colab_type": "code",
        "colab": {
          "base_uri": "https://localhost:8080/",
          "height": 72
        },
        "outputId": "9d7cf0f6-bd14-41af-88ef-abd1cd369d54"
      },
      "source": [
        "a = [5,10,15,20,25,30,35,40]\n",
        "\n",
        "# a[2] = 15\n",
        "print(\"a[2] = \", a[2])\n",
        "\n",
        "# a[0:3] = [5, 10, 15]\n",
        "print(\"a[0:3] = \", a[0:3])\n",
        "\n",
        "# a[5:] = [30, 35, 40]\n",
        "print(\"a[5:] = \", a[5:])"
      ],
      "execution_count": null,
      "outputs": [
        {
          "output_type": "stream",
          "text": [
            "a[2] =  15\n",
            "a[0:3] =  [5, 10, 15]\n",
            "a[5:] =  [30, 35, 40]\n"
          ],
          "name": "stdout"
        }
      ]
    },
    {
      "cell_type": "markdown",
      "metadata": {
        "id": "EqTb7ZEUlNkW",
        "colab_type": "text"
      },
      "source": [
        "Python Type Conversion and Type Casting"
      ]
    },
    {
      "cell_type": "code",
      "metadata": {
        "id": "sqKzr48_lPf_",
        "colab_type": "code",
        "colab": {
          "base_uri": "https://localhost:8080/",
          "height": 90
        },
        "outputId": "8bb3a3af-da11-4064-8998-a15dbce488a1"
      },
      "source": [
        "num_int = 123\n",
        "num_flo = 1.23\n",
        "\n",
        "num_new = num_int + num_flo\n",
        "\n",
        "print(\"datatype of num_int:\",type(num_int))\n",
        "print(\"datatype of num_flo:\",type(num_flo))\n",
        "\n",
        "print(\"Value of num_new:\",num_new)\n",
        "print(\"datatype of num_new:\",type(num_new))"
      ],
      "execution_count": null,
      "outputs": [
        {
          "output_type": "stream",
          "text": [
            "datatype of num_int: <class 'int'>\n",
            "datatype of num_flo: <class 'float'>\n",
            "Value of num_new: 124.23\n",
            "datatype of num_new: <class 'float'>\n"
          ],
          "name": "stdout"
        }
      ]
    },
    {
      "cell_type": "code",
      "metadata": {
        "id": "zBUD-UiRmRo0",
        "colab_type": "code",
        "colab": {}
      },
      "source": [
        "num_int = 123\n",
        "num_str = \"456\"\n",
        "\n",
        "print(\"Data type of num_int:\",type(num_int))\n",
        "print(\"Data type of num_str:\",type(num_str))\n",
        "\n",
        "print(num_int+num_str)"
      ],
      "execution_count": null,
      "outputs": []
    },
    {
      "cell_type": "code",
      "metadata": {
        "id": "ESDI0G6Zmczx",
        "colab_type": "code",
        "colab": {
          "base_uri": "https://localhost:8080/",
          "height": 109
        },
        "outputId": "a423db29-1c2b-4841-8379-f71480388b20"
      },
      "source": [
        "num_int = 123\n",
        "num_str = \"456\"\n",
        "\n",
        "print(\"Data type of num_int:\",type(num_int))\n",
        "print(\"Data type of num_str before Type Casting:\",type(num_str))\n",
        "\n",
        "num_str = int(num_str)\n",
        "print(\"Data type of num_str after Type Casting:\",type(num_str))\n",
        "\n",
        "num_sum = num_int + num_str\n",
        "\n",
        "print(\"Sum of num_int and num_str:\",num_sum)\n",
        "print(\"Data type of the sum:\",type(num_sum))"
      ],
      "execution_count": null,
      "outputs": [
        {
          "output_type": "stream",
          "text": [
            "Data type of num_int: <class 'int'>\n",
            "Data type of num_str before Type Casting: <class 'str'>\n",
            "Data type of num_str after Type Casting: <class 'int'>\n",
            "Sum of num_int and num_str: 579\n",
            "Data type of the sum: <class 'int'>\n"
          ],
          "name": "stdout"
        }
      ]
    },
    {
      "cell_type": "markdown",
      "metadata": {
        "id": "p9pQMhj6mqnx",
        "colab_type": "text"
      },
      "source": [
        "Python Input, Output and Import"
      ]
    },
    {
      "cell_type": "code",
      "metadata": {
        "id": "JTivxba4mrlB",
        "colab_type": "code",
        "colab": {
          "base_uri": "https://localhost:8080/",
          "height": 35
        },
        "outputId": "b84882f3-c71f-4017-9a3c-ec15068a5a08"
      },
      "source": [
        "a = 5\n",
        "print('The value of a is', a)"
      ],
      "execution_count": null,
      "outputs": [
        {
          "output_type": "stream",
          "text": [
            "The value of a is 5\n"
          ],
          "name": "stdout"
        }
      ]
    },
    {
      "cell_type": "code",
      "metadata": {
        "id": "onXnjPnVnZaQ",
        "colab_type": "code",
        "colab": {
          "base_uri": "https://localhost:8080/",
          "height": 72
        },
        "outputId": "e2568acb-96e8-4078-e9c4-46193b8e9439"
      },
      "source": [
        "print(1, 2, 3, 4)\n",
        "print(1, 2, 3, 4, sep='*')\n",
        "print(1, 2, 3, 4, sep='#', end='&')"
      ],
      "execution_count": null,
      "outputs": [
        {
          "output_type": "stream",
          "text": [
            "1 2 3 4\n",
            "1*2*3*4\n",
            "1#2#3#4&"
          ],
          "name": "stdout"
        }
      ]
    },
    {
      "cell_type": "code",
      "metadata": {
        "id": "byy8uV0Sn39j",
        "colab_type": "code",
        "colab": {
          "base_uri": "https://localhost:8080/",
          "height": 35
        },
        "outputId": "81533e51-1826-4831-c1fe-96c81a9880f7"
      },
      "source": [
        ">>> x = 5; y = 10\n",
        ">>> print('The value of x is {} and y is {}'.format(x,y))\n",
        "#The value of x is 5 and y is 10"
      ],
      "execution_count": null,
      "outputs": [
        {
          "output_type": "stream",
          "text": [
            "The value of x is 5 and y is 10\n"
          ],
          "name": "stdout"
        }
      ]
    },
    {
      "cell_type": "code",
      "metadata": {
        "id": "sgG8y0kfoBni",
        "colab_type": "code",
        "colab": {
          "base_uri": "https://localhost:8080/",
          "height": 54
        },
        "outputId": "ae51504b-8cf2-442a-a722-3e141e4ded3b"
      },
      "source": [
        "print('I love {0} and {1}'.format('bread','butter'))\n",
        "print('I love {1} and {0}'.format('bread','butter'))"
      ],
      "execution_count": null,
      "outputs": [
        {
          "output_type": "stream",
          "text": [
            "I love bread and butter\n",
            "I love butter and bread\n"
          ],
          "name": "stdout"
        }
      ]
    },
    {
      "cell_type": "code",
      "metadata": {
        "id": "nPccXjiioDho",
        "colab_type": "code",
        "colab": {
          "base_uri": "https://localhost:8080/",
          "height": 35
        },
        "outputId": "d338e93b-3efc-4d7c-ca10-4ec9bdcfbba6"
      },
      "source": [
        "import math\n",
        "print(math.pi)"
      ],
      "execution_count": null,
      "outputs": [
        {
          "output_type": "stream",
          "text": [
            "3.141592653589793\n"
          ],
          "name": "stdout"
        }
      ]
    },
    {
      "cell_type": "markdown",
      "metadata": {
        "id": "iojVyspMpRsc",
        "colab_type": "text"
      },
      "source": [
        "Python Operators"
      ]
    },
    {
      "cell_type": "code",
      "metadata": {
        "id": "MpNR8X9DpLeU",
        "colab_type": "code",
        "colab": {
          "base_uri": "https://localhost:8080/",
          "height": 127
        },
        "outputId": "3f8f3082-c3f4-4dd3-a02e-79b4f0c29019"
      },
      "source": [
        "x = 15\n",
        "y = 4\n",
        "\n",
        "# Output: x + y = 19\n",
        "print('x + y =',x+y)\n",
        "\n",
        "# Output: x - y = 11\n",
        "print('x - y =',x-y)\n",
        "\n",
        "# Output: x * y = 60\n",
        "print('x * y =',x*y)\n",
        "\n",
        "# Output: x / y = 3.75\n",
        "print('x / y =',x/y)\n",
        "\n",
        "# Output: x // y = 3\n",
        "print('x // y =',x//y)\n",
        "\n",
        "# Output: x ** y = 50625\n",
        "print('x ** y =',x**y)"
      ],
      "execution_count": null,
      "outputs": [
        {
          "output_type": "stream",
          "text": [
            "x + y = 19\n",
            "x - y = 11\n",
            "x * y = 60\n",
            "x / y = 3.75\n",
            "x // y = 3\n",
            "x ** y = 50625\n"
          ],
          "name": "stdout"
        }
      ]
    },
    {
      "cell_type": "code",
      "metadata": {
        "id": "RsBJNY2spsuY",
        "colab_type": "code",
        "colab": {
          "base_uri": "https://localhost:8080/",
          "height": 127
        },
        "outputId": "7a45c06a-57c0-4aa3-c6d4-7e5f6f5afc8e"
      },
      "source": [
        "x = 10\n",
        "y = 12\n",
        "\n",
        "# Output: x > y is False\n",
        "print('x > y is',x>y)\n",
        "\n",
        "# Output: x < y is True\n",
        "print('x < y is',x<y)\n",
        "\n",
        "# Output: x == y is False\n",
        "print('x == y is',x==y)\n",
        "\n",
        "# Output: x != y is True\n",
        "print('x != y is',x!=y)\n",
        "\n",
        "# Output: x >= y is False\n",
        "print('x >= y is',x>=y)\n",
        "\n",
        "# Output: x <= y is True\n",
        "print('x <= y is',x<=y)"
      ],
      "execution_count": null,
      "outputs": [
        {
          "output_type": "stream",
          "text": [
            "x > y is False\n",
            "x < y is True\n",
            "x == y is False\n",
            "x != y is True\n",
            "x >= y is False\n",
            "x <= y is True\n"
          ],
          "name": "stdout"
        }
      ]
    },
    {
      "cell_type": "code",
      "metadata": {
        "id": "zCrrEWTqqAkV",
        "colab_type": "code",
        "colab": {
          "base_uri": "https://localhost:8080/",
          "height": 72
        },
        "outputId": "4fa64a29-e97c-4a35-9cd0-8cd7a618de4c"
      },
      "source": [
        "x = True\n",
        "y = False\n",
        "\n",
        "print('x and y is',x and y)\n",
        "\n",
        "print('x or y is',x or y)\n",
        "\n",
        "print('not x is',not x)"
      ],
      "execution_count": null,
      "outputs": [
        {
          "output_type": "stream",
          "text": [
            "x and y is False\n",
            "x or y is True\n",
            "not x is False\n"
          ],
          "name": "stdout"
        }
      ]
    },
    {
      "cell_type": "code",
      "metadata": {
        "id": "dFz9mQqXqGUJ",
        "colab_type": "code",
        "colab": {
          "base_uri": "https://localhost:8080/",
          "height": 72
        },
        "outputId": "a7ec5f1c-e1a4-4650-bc53-8b401d573813"
      },
      "source": [
        "x1 = 5\n",
        "y1 = 5\n",
        "x2 = 'Hello'\n",
        "y2 = 'Hello'\n",
        "x3 = [1,2,3]\n",
        "y3 = [1,2,3]\n",
        "\n",
        "# Output: False\n",
        "print(x1 is not y1)\n",
        "\n",
        "# Output: True\n",
        "print(x2 is y2)\n",
        "\n",
        "# Output: False\n",
        "print(x3 is y3)"
      ],
      "execution_count": null,
      "outputs": [
        {
          "output_type": "stream",
          "text": [
            "False\n",
            "True\n",
            "False\n"
          ],
          "name": "stdout"
        }
      ]
    },
    {
      "cell_type": "code",
      "metadata": {
        "id": "NztblZYbqcz3",
        "colab_type": "code",
        "colab": {
          "base_uri": "https://localhost:8080/",
          "height": 72
        },
        "outputId": "caee66f0-cd9e-431c-c507-9d6dff6377ab"
      },
      "source": [
        "x1 = 5\n",
        "y1 = 5\n",
        "x2 = 'Hello'\n",
        "y2 = 'Hello'\n",
        "x3 = [1,2,3]\n",
        "y3 = [1,2,3]\n",
        "\n",
        "# Output: False\n",
        "print(x1 is not y1)\n",
        "\n",
        "# Output: True\n",
        "print(x2 is y2)\n",
        "\n",
        "# Output: False\n",
        "print(x3 is y3)"
      ],
      "execution_count": null,
      "outputs": [
        {
          "output_type": "stream",
          "text": [
            "False\n",
            "True\n",
            "False\n"
          ],
          "name": "stdout"
        }
      ]
    },
    {
      "cell_type": "code",
      "metadata": {
        "id": "g94lBF-6q3St",
        "colab_type": "code",
        "colab": {
          "base_uri": "https://localhost:8080/",
          "height": 90
        },
        "outputId": "62fa78e8-fe58-4e15-e985-99df3d5d5dd4"
      },
      "source": [
        "x = 'Hello world'\n",
        "y = {1:'a',2:'b'}\n",
        "\n",
        "# Output: True\n",
        "print('H' in x)\n",
        "\n",
        "# Output: True\n",
        "print('hello' not in x)\n",
        "\n",
        "# Output: True\n",
        "print(1 in y)\n",
        "\n",
        "# Output: False\n",
        "print('a' in y)"
      ],
      "execution_count": null,
      "outputs": [
        {
          "output_type": "stream",
          "text": [
            "True\n",
            "True\n",
            "True\n",
            "False\n"
          ],
          "name": "stdout"
        }
      ]
    },
    {
      "cell_type": "markdown",
      "metadata": {
        "id": "JTpY689wrB5G",
        "colab_type": "text"
      },
      "source": [
        "Python Namespace and Scope"
      ]
    },
    {
      "cell_type": "code",
      "metadata": {
        "id": "cXEkppAfrC_J",
        "colab_type": "code",
        "colab": {
          "base_uri": "https://localhost:8080/",
          "height": 54
        },
        "outputId": "77f24b81-a9a2-4709-b183-04373fe84d80"
      },
      "source": [
        "\n",
        "a = 2\n",
        "print('id(2) =', id(2))\n",
        "\n",
        "print('id(a) =', id(a))"
      ],
      "execution_count": 1,
      "outputs": [
        {
          "output_type": "stream",
          "text": [
            "id(2) = 10914528\n",
            "id(a) = 10914528\n"
          ],
          "name": "stdout"
        }
      ]
    },
    {
      "cell_type": "code",
      "metadata": {
        "id": "hzH3y-QiMvWZ",
        "colab_type": "code",
        "colab": {
          "base_uri": "https://localhost:8080/",
          "height": 109
        },
        "outputId": "6bf139c5-ee70-4da1-ddbb-c3c520fc9245"
      },
      "source": [
        "# Note: You may get different values for the id\n",
        "\n",
        "a = 2\n",
        "print('id(a) =', id(a))\n",
        "\n",
        "a = a+1\n",
        "print('id(a) =', id(a))\n",
        "\n",
        "print('id(3) =', id(3))\n",
        "\n",
        "b = 2\n",
        "print('id(b) =', id(b))\n",
        "print('id(2) =', id(2))"
      ],
      "execution_count": 2,
      "outputs": [
        {
          "output_type": "stream",
          "text": [
            "id(a) = 10914528\n",
            "id(a) = 10914560\n",
            "id(3) = 10914560\n",
            "id(b) = 10914528\n",
            "id(2) = 10914528\n"
          ],
          "name": "stdout"
        }
      ]
    },
    {
      "cell_type": "code",
      "metadata": {
        "id": "qobiKGExM2Pc",
        "colab_type": "code",
        "colab": {
          "base_uri": "https://localhost:8080/",
          "height": 35
        },
        "outputId": "f7c96f34-ec76-4c6b-a89e-3b7cffafadc1"
      },
      "source": [
        "def printHello():\n",
        "    print(\"Hello\")\n",
        "\n",
        "\n",
        "a = printHello\n",
        "\n",
        "a()"
      ],
      "execution_count": 3,
      "outputs": [
        {
          "output_type": "stream",
          "text": [
            "Hello\n"
          ],
          "name": "stdout"
        }
      ]
    },
    {
      "cell_type": "code",
      "metadata": {
        "id": "V4y41rxtM-Gz",
        "colab_type": "code",
        "colab": {
          "base_uri": "https://localhost:8080/",
          "height": 72
        },
        "outputId": "716e527c-125f-439a-a3ce-c78bd16e0231"
      },
      "source": [
        "def outer_function():\n",
        "    a = 20\n",
        "\n",
        "    def inner_function():\n",
        "        a = 30\n",
        "        print('a =', a)\n",
        "\n",
        "    inner_function()\n",
        "    print('a =', a)\n",
        "\n",
        "\n",
        "a = 10\n",
        "outer_function()\n",
        "print('a =', a)"
      ],
      "execution_count": 4,
      "outputs": [
        {
          "output_type": "stream",
          "text": [
            "a = 30\n",
            "a = 20\n",
            "a = 10\n"
          ],
          "name": "stdout"
        }
      ]
    }
  ]
}