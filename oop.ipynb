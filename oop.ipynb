{
  "nbformat": 4,
  "nbformat_minor": 0,
  "metadata": {
    "colab": {
      "name": "oop",
      "provenance": [],
      "authorship_tag": "ABX9TyM1IhtE6wpaqPsfTmSBZfvT",
      "include_colab_link": true
    },
    "kernelspec": {
      "name": "python3",
      "display_name": "Python 3"
    }
  },
  "cells": [
    {
      "cell_type": "markdown",
      "metadata": {
        "id": "view-in-github",
        "colab_type": "text"
      },
      "source": [
        "<a href=\"https://colab.research.google.com/github/MdShahadatHossainbd/pythonTUT/blob/master/oop.ipynb\" target=\"_parent\"><img src=\"https://colab.research.google.com/assets/colab-badge.svg\" alt=\"Open In Colab\"/></a>"
      ]
    },
    {
      "cell_type": "markdown",
      "metadata": {
        "id": "aJ3ilSHHwRzw"
      },
      "source": [
        "#Creating Classes\n",
        "    class ClassName:\n",
        "      'Optional class documentation string'\n",
        "      class_suite"
      ]
    },
    {
      "cell_type": "code",
      "metadata": {
        "id": "FDxBneljtW8V"
      },
      "source": [
        "class Employee:\n",
        "   'Common base class for all employees'\n",
        "   empCount = 0\n",
        "\n",
        "   def __init__(self, name, salary):\n",
        "      self.name = name\n",
        "      self.salary = salary\n",
        "      Employee.empCount += 1\n",
        "   \n",
        "   def displayCount(self):\n",
        "     print(\"Total Employee %d\" % Employee.empCount)\n",
        "\n",
        "   def displayEmployee(self):\n",
        "     print(\"Name : \", self.name,  \", Salary: \", self.salary)"
      ],
      "execution_count": null,
      "outputs": []
    },
    {
      "cell_type": "markdown",
      "metadata": {
        "id": "_8o_StBsxnmO"
      },
      "source": [
        "#Creating Instance Objects"
      ]
    },
    {
      "cell_type": "code",
      "metadata": {
        "id": "bi6SI_cPxo_i",
        "outputId": "4c0aa85a-4f93-4d9e-a8d6-1771e79dff67",
        "colab": {
          "base_uri": "https://localhost:8080/"
        }
      },
      "source": [
        "class Employee:\n",
        "   'Common base class for all employees'\n",
        "   empCount = 0\n",
        "\n",
        "   def __init__(self, name, salary):\n",
        "      self.name = name\n",
        "      self.salary = salary\n",
        "      Employee.empCount += 1\n",
        "   \n",
        "   def displayCount(self):\n",
        "     print(\"Total Employee %d\" % Employee.empCount)\n",
        "\n",
        "   def displayEmployee(self):\n",
        "      print(\"Name : \", self.name,  \", Salary: \", self.salary)\n",
        "\n",
        "\"This would create first object of Employee class\"\n",
        "emp1 = Employee(\"Zara\", 2000)\n",
        "\"This would create second object of Employee class\"\n",
        "emp2 = Employee(\"Manni\", 5000)\n",
        "emp1.displayEmployee()\n",
        "emp2.displayEmployee()\n",
        "print(\"Total Employee %d\" % Employee.empCount)"
      ],
      "execution_count": null,
      "outputs": [
        {
          "output_type": "stream",
          "text": [
            "Name :  Zara , Salary:  2000\n",
            "Name :  Manni , Salary:  5000\n",
            "Total Employee 2\n"
          ],
          "name": "stdout"
        }
      ]
    },
    {
      "cell_type": "markdown",
      "metadata": {
        "id": "2mNmuY1PZ5gL"
      },
      "source": [
        "#Built-In Class Attributes"
      ]
    },
    {
      "cell_type": "code",
      "metadata": {
        "id": "eJ8JehHixpVj",
        "outputId": "95c03597-bdaa-4d8b-ff03-d483a332f9fe",
        "colab": {
          "base_uri": "https://localhost:8080/"
        }
      },
      "source": [
        "class Employee:\n",
        "   'Common base class for all employees'\n",
        "   empCount = 0\n",
        "\n",
        "   def __init__(self, name, salary):\n",
        "      self.name = name\n",
        "      self.salary = salary\n",
        "      Employee.empCount += 1\n",
        "   \n",
        "   def displayCount(self):\n",
        "     print(\"Total Employee %d\" % Employee.empCount)\n",
        "\n",
        "   def displayEmployee(self):\n",
        "      print(\"Name : \", self.name,  \", Salary: \", self.salary) \n",
        "\n",
        "print(\"Employee.__doc__:\", Employee.__doc__) \n",
        "print(\"Employee.__name__:\", Employee.__name__)\n",
        "print(\"Employee.__module__:\", Employee.__module__)\n",
        "print(\"Employee.__bases__:\", Employee.__bases__)\n",
        "print(\"Employee.__dict__:\", Employee.__dict__)"
      ],
      "execution_count": null,
      "outputs": [
        {
          "output_type": "stream",
          "text": [
            "Employee.__doc__: Common base class for all employees\n",
            "Employee.__name__: Employee\n",
            "Employee.__module__: __main__\n",
            "Employee.__bases__: (<class 'object'>,)\n",
            "Employee.__dict__: {'__module__': '__main__', '__doc__': 'Common base class for all employees', 'empCount': 0, '__init__': <function Employee.__init__ at 0x7f69da7aa9d8>, 'displayCount': <function Employee.displayCount at 0x7f69da7aaa60>, 'displayEmployee': <function Employee.displayEmployee at 0x7f69da7aae18>, '__dict__': <attribute '__dict__' of 'Employee' objects>, '__weakref__': <attribute '__weakref__' of 'Employee' objects>}\n"
          ],
          "name": "stdout"
        }
      ]
    },
    {
      "cell_type": "markdown",
      "metadata": {
        "id": "o1whSu5XbkZk"
      },
      "source": [
        "#Destroying Objects (Garbage Collection)"
      ]
    },
    {
      "cell_type": "code",
      "metadata": {
        "id": "byMLSSrFbjkR",
        "outputId": "694df13f-ccdc-4f9f-b9b3-c2645fe2cc28",
        "colab": {
          "base_uri": "https://localhost:8080/"
        }
      },
      "source": [
        "class Point:\n",
        "   def __init__( self, x=0, y=0):\n",
        "      self.x = x\n",
        "      self.y = y\n",
        "   def __del__(self):\n",
        "      class_name = self.__class__.__name__\n",
        "      print(class_name, \"destroyed\") \n",
        "pt1 = Point()\n",
        "pt2 = pt1\n",
        "pt3 = pt1\n",
        "print(id(pt1), id(pt2), id(pt3))  # prints the ids of the obejcts\n",
        "del pt1\n",
        "del pt2\n",
        "del pt3"
      ],
      "execution_count": 12,
      "outputs": [
        {
          "output_type": "stream",
          "text": [
            "140092613629320 140092613629320 140092613629320\n",
            "Point destroyed\n"
          ],
          "name": "stdout"
        }
      ]
    },
    {
      "cell_type": "markdown",
      "metadata": {
        "id": "zkY0HdcZeZid"
      },
      "source": [
        "#Class Inheritance"
      ]
    },
    {
      "cell_type": "code",
      "metadata": {
        "id": "t2fziDroxpYU",
        "outputId": "cfc90e7c-59aa-4735-fb65-ec82b15d8908",
        "colab": {
          "base_uri": "https://localhost:8080/"
        }
      },
      "source": [
        "class Parent:        # define parent class\n",
        "   parentAttr = 100\n",
        "   def __init__(self):\n",
        "      print(\"Calling parent constructor\")\n",
        "\n",
        "   def parentMethod(self):\n",
        "      print('Calling parent method')\n",
        "\n",
        "   def setAttr(self, attr):\n",
        "      Parent.parentAttr = attr\n",
        "\n",
        "   def getAttr(self):\n",
        "      print(\"Parent attribute :\", Parent.parentAttr)\n",
        "\n",
        "class Child(Parent): # define child class\n",
        "   def __init__(self):\n",
        "      print(\"Calling child constructor\")\n",
        "\n",
        "   def childMethod(self):\n",
        "      print('Calling child method')\n",
        "\n",
        "c = Child()          # instance of child\n",
        "c.childMethod()      # child calls its method\n",
        "c.parentMethod()     # calls parent's method\n",
        "c.setAttr(200)       # again call parent's method\n",
        "c.getAttr()          # again call parent's method"
      ],
      "execution_count": 14,
      "outputs": [
        {
          "output_type": "stream",
          "text": [
            "Calling child constructor\n",
            "Calling child method\n",
            "Calling parent method\n",
            "Parent attribute : 200\n"
          ],
          "name": "stdout"
        }
      ]
    },
    {
      "cell_type": "markdown",
      "metadata": {
        "id": "f7YO9UlYe5YF"
      },
      "source": [
        "#Overriding Methods"
      ]
    },
    {
      "cell_type": "code",
      "metadata": {
        "id": "ea2i1HrIe2wy",
        "outputId": "d6d5ae74-8ad3-4d2f-cc39-461b3a3d10a9",
        "colab": {
          "base_uri": "https://localhost:8080/"
        }
      },
      "source": [
        "class Parent:        # define parent class\n",
        "   def myMethod(self):\n",
        "      print('Calling parent method')\n",
        "\n",
        "class Child(Parent): # define child class\n",
        "   def myMethod(self):\n",
        "      print('Calling child method')\n",
        "\n",
        "c = Child()          # instance of child\n",
        "c.myMethod()         # child calls overridden method"
      ],
      "execution_count": 16,
      "outputs": [
        {
          "output_type": "stream",
          "text": [
            "Calling child method\n"
          ],
          "name": "stdout"
        }
      ]
    },
    {
      "cell_type": "markdown",
      "metadata": {
        "id": "0BVhH59YfKuv"
      },
      "source": [
        "#Overloading Operators"
      ]
    },
    {
      "cell_type": "code",
      "metadata": {
        "id": "vGJJXkWsfHMw",
        "outputId": "671c5159-e983-4125-b569-f2706bebc274",
        "colab": {
          "base_uri": "https://localhost:8080/"
        }
      },
      "source": [
        "class Vector:\n",
        "   def __init__(self, a, b):\n",
        "      self.a = a\n",
        "      self.b = b\n",
        "\n",
        "   def __str__(self):\n",
        "      return 'Vector (%d, %d)' % (self.a, self.b)\n",
        "   \n",
        "   def __add__(self,other):\n",
        "      return Vector(self.a + other.a, self.b + other.b)\n",
        "\n",
        "v1 = Vector(2,10)\n",
        "v2 = Vector(5,-2)\n",
        "print(v1 + v2)"
      ],
      "execution_count": 18,
      "outputs": [
        {
          "output_type": "stream",
          "text": [
            "Vector (7, 8)\n"
          ],
          "name": "stdout"
        }
      ]
    },
    {
      "cell_type": "markdown",
      "metadata": {
        "id": "zy1VcjxSfbMa"
      },
      "source": [
        "#Data Hiding"
      ]
    },
    {
      "cell_type": "code",
      "metadata": {
        "id": "95caNiwIfa-0",
        "outputId": "1827d4d0-ea59-44da-a898-de06712a1203",
        "colab": {
          "base_uri": "https://localhost:8080/",
          "height": 246
        }
      },
      "source": [
        "class JustCounter:\n",
        "   __secretCount = 0\n",
        "  \n",
        "   def count(self):\n",
        "      self.__secretCount += 1\n",
        "      print (self.__secretCount)\n",
        "\n",
        "counter = JustCounter()\n",
        "counter.count()\n",
        "counter.count()\n",
        "print(counter.__secretCount)"
      ],
      "execution_count": 20,
      "outputs": [
        {
          "output_type": "stream",
          "text": [
            "1\n",
            "2\n"
          ],
          "name": "stdout"
        },
        {
          "output_type": "error",
          "ename": "AttributeError",
          "evalue": "ignored",
          "traceback": [
            "\u001b[0;31m---------------------------------------------------------------------------\u001b[0m",
            "\u001b[0;31mAttributeError\u001b[0m                            Traceback (most recent call last)",
            "\u001b[0;32m<ipython-input-20-b2758faee180>\u001b[0m in \u001b[0;36m<module>\u001b[0;34m()\u001b[0m\n\u001b[1;32m      9\u001b[0m \u001b[0mcounter\u001b[0m\u001b[0;34m.\u001b[0m\u001b[0mcount\u001b[0m\u001b[0;34m(\u001b[0m\u001b[0;34m)\u001b[0m\u001b[0;34m\u001b[0m\u001b[0;34m\u001b[0m\u001b[0m\n\u001b[1;32m     10\u001b[0m \u001b[0mcounter\u001b[0m\u001b[0;34m.\u001b[0m\u001b[0mcount\u001b[0m\u001b[0;34m(\u001b[0m\u001b[0;34m)\u001b[0m\u001b[0;34m\u001b[0m\u001b[0;34m\u001b[0m\u001b[0m\n\u001b[0;32m---> 11\u001b[0;31m \u001b[0mprint\u001b[0m\u001b[0;34m(\u001b[0m\u001b[0mcounter\u001b[0m\u001b[0;34m.\u001b[0m\u001b[0m__secretCount\u001b[0m\u001b[0;34m)\u001b[0m\u001b[0;34m\u001b[0m\u001b[0;34m\u001b[0m\u001b[0m\n\u001b[0m",
            "\u001b[0;31mAttributeError\u001b[0m: 'JustCounter' object has no attribute '__secretCount'"
          ]
        }
      ]
    }
  ]
}