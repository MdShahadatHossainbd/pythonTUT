{
  "nbformat": 4,
  "nbformat_minor": 0,
  "metadata": {
    "colab": {
      "name": "List and Tuples in Python",
      "provenance": [],
      "authorship_tag": "ABX9TyNkjoqpvc71xQJ5P+k97Zy8",
      "include_colab_link": true
    },
    "kernelspec": {
      "name": "python3",
      "display_name": "Python 3"
    }
  },
  "cells": [
    {
      "cell_type": "markdown",
      "metadata": {
        "id": "view-in-github",
        "colab_type": "text"
      },
      "source": [
        "<a href=\"https://colab.research.google.com/github/MdShahadatHossainbd/pythonTUT/blob/master/List_and_Tuples_in_Python.ipynb\" target=\"_parent\"><img src=\"https://colab.research.google.com/assets/colab-badge.svg\" alt=\"Open In Colab\"/></a>"
      ]
    },
    {
      "cell_type": "markdown",
      "metadata": {
        "id": "TByfuqJinoPi",
        "colab_type": "text"
      },
      "source": [
        "# https://realpython.com/python-lists-tuples/\n",
        "**Python Lists**\n",
        "\n",
        "In short, a list is a collection of arbitrary objects, somewhat akin to an array in many other programming languages but more flexible. Lists are defined in Python by enclosing a comma-separated sequence of objects in square brackets ([]), as shown below:"
      ]
    },
    {
      "cell_type": "code",
      "metadata": {
        "id": "AZKcdCmumhWr",
        "colab_type": "code",
        "colab": {
          "base_uri": "https://localhost:8080/",
          "height": 35
        },
        "outputId": "e3652c9e-13bf-4a37-b0c0-8235ac57c269"
      },
      "source": [
        "a = ['foo', 'bar', 'baz', 'qux']\n",
        "print(a)"
      ],
      "execution_count": null,
      "outputs": [
        {
          "output_type": "stream",
          "text": [
            "['foo', 'bar', 'baz', 'qux']\n"
          ],
          "name": "stdout"
        }
      ]
    },
    {
      "cell_type": "code",
      "metadata": {
        "id": "2IBES_j-qmY1",
        "colab_type": "code",
        "colab": {
          "base_uri": "https://localhost:8080/",
          "height": 35
        },
        "outputId": "cd9e3a38-e26e-450e-d54f-a0a8591cac51"
      },
      "source": [
        "a = ['foo', 'bar', 'baz', 'qux', 'quux', 'corge']\n",
        "print(a[-5:-3])"
      ],
      "execution_count": null,
      "outputs": [
        {
          "output_type": "stream",
          "text": [
            "['bar', 'baz']\n"
          ],
          "name": "stdout"
        }
      ]
    },
    {
      "cell_type": "code",
      "metadata": {
        "id": "zRAIqCpeqxBo",
        "colab_type": "code",
        "colab": {
          "base_uri": "https://localhost:8080/",
          "height": 35
        },
        "outputId": "8298b5b0-9d33-4eed-d979-88c0ed3da87b"
      },
      "source": [
        "print(a[4::-2])"
      ],
      "execution_count": null,
      "outputs": [
        {
          "output_type": "stream",
          "text": [
            "['quux', 'baz', 'foo']\n"
          ],
          "name": "stdout"
        }
      ]
    },
    {
      "cell_type": "code",
      "metadata": {
        "id": "0dhqjmzuq01c",
        "colab_type": "code",
        "colab": {
          "base_uri": "https://localhost:8080/",
          "height": 35
        },
        "outputId": "691492cb-d190-4970-aac8-de04b80ebb43"
      },
      "source": [
        "print(a[-5:-3])"
      ],
      "execution_count": null,
      "outputs": [
        {
          "output_type": "stream",
          "text": [
            "['bar', 'baz']\n"
          ],
          "name": "stdout"
        }
      ]
    },
    {
      "cell_type": "code",
      "metadata": {
        "id": "W7-Lib0Xq4Y7",
        "colab_type": "code",
        "colab": {
          "base_uri": "https://localhost:8080/",
          "height": 37
        },
        "outputId": "37eacb3b-765f-4273-cd5f-bda2fb5f95dd"
      },
      "source": [
        "max(a[2:4] + ['grault'])"
      ],
      "execution_count": null,
      "outputs": [
        {
          "output_type": "execute_result",
          "data": {
            "application/vnd.google.colaboratory.intrinsic+json": {
              "type": "string"
            },
            "text/plain": [
              "'qux'"
            ]
          },
          "metadata": {
            "tags": []
          },
          "execution_count": 41
        }
      ]
    },
    {
      "cell_type": "code",
      "metadata": {
        "id": "b3A_Fs6WrAtp",
        "colab_type": "code",
        "colab": {
          "base_uri": "https://localhost:8080/",
          "height": 35
        },
        "outputId": "cfd136a4-9e63-4c2d-f193-ff4ed7e6982d"
      },
      "source": [
        "print(a[-6])"
      ],
      "execution_count": null,
      "outputs": [
        {
          "output_type": "stream",
          "text": [
            "foo\n"
          ],
          "name": "stdout"
        }
      ]
    },
    {
      "cell_type": "code",
      "metadata": {
        "id": "Gl6z_86yrJJ_",
        "colab_type": "code",
        "colab": {
          "base_uri": "https://localhost:8080/",
          "height": 35
        },
        "outputId": "bbcfeb1e-740e-479c-fbd1-b3f9fb5615a0"
      },
      "source": [
        " a[:] is a"
      ],
      "execution_count": null,
      "outputs": [
        {
          "output_type": "execute_result",
          "data": {
            "text/plain": [
              "False"
            ]
          },
          "metadata": {
            "tags": []
          },
          "execution_count": 43
        }
      ]
    },
    {
      "cell_type": "code",
      "metadata": {
        "id": "BjXwAos-A5OX",
        "colab_type": "code",
        "colab": {
          "base_uri": "https://localhost:8080/",
          "height": 35
        },
        "outputId": "badc5663-cc6b-42b5-c514-76435d01f804"
      },
      "source": [
        "#sort() method\n",
        "prices = [238.11, 237.81, 238.91]\n",
        "prices.sort()\n",
        "print(prices)"
      ],
      "execution_count": null,
      "outputs": [
        {
          "output_type": "stream",
          "text": [
            "[237.81, 238.11, 238.91]\n"
          ],
          "name": "stdout"
        }
      ]
    },
    {
      "cell_type": "code",
      "metadata": {
        "id": "zhZnzBgoBbY8",
        "colab_type": "code",
        "colab": {
          "base_uri": "https://localhost:8080/",
          "height": 35
        },
        "outputId": "49469040-0c09-46bc-a773-01995e7056cd"
      },
      "source": [
        "l = [2,4,3,1,6,7]\n",
        "l.sort()\n",
        "print(l)"
      ],
      "execution_count": null,
      "outputs": [
        {
          "output_type": "stream",
          "text": [
            "[1, 2, 3, 4, 6, 7]\n"
          ],
          "name": "stdout"
        }
      ]
    },
    {
      "cell_type": "code",
      "metadata": {
        "id": "TDlE1Q3ABl1e",
        "colab_type": "code",
        "colab": {
          "base_uri": "https://localhost:8080/",
          "height": 35
        },
        "outputId": "890be8b0-f758-47e0-cd04-c049140478b7"
      },
      "source": [
        "l = ['A','D','E','W','T']\n",
        "l.sort()\n",
        "print(l)"
      ],
      "execution_count": null,
      "outputs": [
        {
          "output_type": "stream",
          "text": [
            "['A', 'D', 'E', 'T', 'W']\n"
          ],
          "name": "stdout"
        }
      ]
    },
    {
      "cell_type": "markdown",
      "metadata": {
        "id": "ctdZRuwaIZCI",
        "colab_type": "text"
      },
      "source": [
        "#https://www.datacamp.com/community/tutorials/python-list-function"
      ]
    },
    {
      "cell_type": "code",
      "metadata": {
        "id": "iA9pCmIRBZLh",
        "colab_type": "code",
        "colab": {
          "base_uri": "https://localhost:8080/",
          "height": 54
        },
        "outputId": "b91cdcad-b2f8-417d-d1de-d03a66385a55"
      },
      "source": [
        "#type() function\n",
        "fam = [\"liz\", 1.73, \"emma\", 1.68, \"mom\", 1.71, \"dad\", 1.89]\n",
        "print(fam)\n",
        "type(fam)\n"
      ],
      "execution_count": null,
      "outputs": [
        {
          "output_type": "stream",
          "text": [
            "['liz', 1.73, 'emma', 1.68, 'mom', 1.71, 'dad', 1.89]\n"
          ],
          "name": "stdout"
        },
        {
          "output_type": "execute_result",
          "data": {
            "text/plain": [
              "list"
            ]
          },
          "metadata": {
            "tags": []
          },
          "execution_count": 47
        }
      ]
    },
    {
      "cell_type": "code",
      "metadata": {
        "id": "Fzy8zl1_CRBe",
        "colab_type": "code",
        "colab": {
          "base_uri": "https://localhost:8080/",
          "height": 35
        },
        "outputId": "4f537fa1-653c-4530-8399-44a59ccb4c33"
      },
      "source": [
        "fam2 = [[\"liz\", 1.73],\n",
        "        [\"emma\", 1.68],\n",
        "        [\"mom\", 1.71],\n",
        "        [\"dad\", 1.89]]\n",
        "fam2"
      ],
      "execution_count": null,
      "outputs": [
        {
          "output_type": "execute_result",
          "data": {
            "text/plain": [
              "[['liz', 1.73], ['emma', 1.68], ['mom', 1.71], ['dad', 1.89]]"
            ]
          },
          "metadata": {
            "tags": []
          },
          "execution_count": 48
        }
      ]
    },
    {
      "cell_type": "code",
      "metadata": {
        "id": "Isdk3qxDCZQX",
        "colab_type": "code",
        "colab": {
          "base_uri": "https://localhost:8080/",
          "height": 35
        },
        "outputId": "675be023-d2c3-4043-f5c1-d147fc837f93"
      },
      "source": [
        "type(fam2)"
      ],
      "execution_count": null,
      "outputs": [
        {
          "output_type": "execute_result",
          "data": {
            "text/plain": [
              "list"
            ]
          },
          "metadata": {
            "tags": []
          },
          "execution_count": 49
        }
      ]
    },
    {
      "cell_type": "code",
      "metadata": {
        "id": "u-AdnJK_CbnF",
        "colab_type": "code",
        "colab": {
          "base_uri": "https://localhost:8080/",
          "height": 35
        },
        "outputId": "08822c03-2d6c-41b7-b9ae-e24e826c793a"
      },
      "source": [
        "#append() method\n",
        "months = ['January', 'February', 'March']\n",
        "months.append('April')\n",
        "print(months)"
      ],
      "execution_count": null,
      "outputs": [
        {
          "output_type": "stream",
          "text": [
            "['January', 'February', 'March', 'April']\n"
          ],
          "name": "stdout"
        }
      ]
    },
    {
      "cell_type": "code",
      "metadata": {
        "id": "HxkCI4rZCw-0",
        "colab_type": "code",
        "colab": {
          "base_uri": "https://localhost:8080/",
          "height": 35
        },
        "outputId": "e8bc5149-8634-4427-aa1a-7fb8a6f9ca8d"
      },
      "source": [
        "#extend() method\n",
        "x = [1, 2, 3]\n",
        "x.extend([4, 5])\n",
        "x"
      ],
      "execution_count": null,
      "outputs": [
        {
          "output_type": "execute_result",
          "data": {
            "text/plain": [
              "[1, 2, 3, 4, 5]"
            ]
          },
          "metadata": {
            "tags": []
          },
          "execution_count": 52
        }
      ]
    },
    {
      "cell_type": "code",
      "metadata": {
        "id": "V4Y0MWfzC9VP",
        "colab_type": "code",
        "colab": {
          "base_uri": "https://localhost:8080/",
          "height": 35
        },
        "outputId": "eebef652-c499-448e-f4e2-40fe8651f1b3"
      },
      "source": [
        "months = ['January', 'February', 'March']\n",
        "months.extend(['April','May'])\n",
        "print(months)"
      ],
      "execution_count": null,
      "outputs": [
        {
          "output_type": "stream",
          "text": [
            "['January', 'February', 'March', 'April', 'May']\n"
          ],
          "name": "stdout"
        }
      ]
    },
    {
      "cell_type": "code",
      "metadata": {
        "id": "hFzz1DWVDOjh",
        "colab_type": "code",
        "colab": {
          "base_uri": "https://localhost:8080/",
          "height": 54
        },
        "outputId": "5030fb95-5754-4602-e1f8-966544be3b2d"
      },
      "source": [
        "#index() method\n",
        "months = ['January', 'February', 'March']\n",
        "prices = [238.11, 237.81, 238.91]\n",
        "print(months.index('February'))\n",
        "print(prices[1])"
      ],
      "execution_count": 57,
      "outputs": [
        {
          "output_type": "stream",
          "text": [
            "1\n",
            "237.81\n"
          ],
          "name": "stdout"
        }
      ]
    },
    {
      "cell_type": "code",
      "metadata": {
        "id": "NvSioFFuIKu1",
        "colab_type": "code",
        "colab": {
          "base_uri": "https://localhost:8080/",
          "height": 35
        },
        "outputId": "c0fc50d1-b174-4d83-c9fd-a835d24dc820"
      },
      "source": [
        "#max() function\n",
        "# Find the maximum price in the list price\n",
        "prices = [159.54, 37.13, 71.17]\n",
        "price_max = max(prices)\n",
        "print(price_max)\n"
      ],
      "execution_count": 58,
      "outputs": [
        {
          "output_type": "stream",
          "text": [
            "159.54\n"
          ],
          "name": "stdout"
        }
      ]
    },
    {
      "cell_type": "code",
      "metadata": {
        "id": "cbPfpwCCI8e0",
        "colab_type": "code",
        "colab": {
          "base_uri": "https://localhost:8080/",
          "height": 35
        },
        "outputId": "d5888c8d-ddfb-4934-9787-a00209048c15"
      },
      "source": [
        "#min() function\n",
        "months = ['January', 'February', 'March']\n",
        "prices = [238.11, 237.81, 238.91]\n",
        "\n",
        "# Identify min price\n",
        "min_price = min(prices)\n",
        "\n",
        "# Identify min price index\n",
        "min_index = prices.index(min_price)\n",
        "\n",
        "# Identify the month with min price\n",
        "min_month = months[min_index]\n",
        "print(min_month)"
      ],
      "execution_count": 60,
      "outputs": [
        {
          "output_type": "stream",
          "text": [
            "February\n"
          ],
          "name": "stdout"
        }
      ]
    },
    {
      "cell_type": "code",
      "metadata": {
        "id": "9Es1gVtTJOK2",
        "colab_type": "code",
        "colab": {
          "base_uri": "https://localhost:8080/",
          "height": 54
        },
        "outputId": "b93091a8-3012-49d6-a57d-f273b283232e"
      },
      "source": [
        "#len() function\n",
        "stock_price_1 = [50.23]\n",
        "stock_price_2 = [75.14, 85.64, 11.28]\n",
        "\n",
        "print('stock_price_1 length is ', len(stock_price_1))\n",
        "print('stock_price_2 length is ', len(stock_price_2))"
      ],
      "execution_count": 61,
      "outputs": [
        {
          "output_type": "stream",
          "text": [
            "stock_price_1 length is  1\n",
            "stock_price_2 length is  3\n"
          ],
          "name": "stdout"
        }
      ]
    },
    {
      "cell_type": "code",
      "metadata": {
        "id": "aOGaNu1WJdiR",
        "colab_type": "code",
        "colab": {
          "base_uri": "https://localhost:8080/",
          "height": 72
        },
        "outputId": "51355c64-ba04-4dac-9dae-283e43aec714"
      },
      "source": [
        "#list() function\n",
        "# empty list\n",
        "print(list())\n",
        "\n",
        "# tuple of stock prices\n",
        "stocks = ('238.11', '237.81', '238.91')\n",
        "print(list(stocks))\n",
        "\n",
        "# list of stock prices\n",
        "stocks_1 = ['238.11', '237.81', '238.91']\n",
        "print(list(stocks_1))\n"
      ],
      "execution_count": 62,
      "outputs": [
        {
          "output_type": "stream",
          "text": [
            "[]\n",
            "['238.11', '237.81', '238.91']\n",
            "['238.11', '237.81', '238.91']\n"
          ],
          "name": "stdout"
        }
      ]
    },
    {
      "cell_type": "code",
      "metadata": {
        "id": "60bqdeysKlHT",
        "colab_type": "code",
        "colab": {
          "base_uri": "https://localhost:8080/",
          "height": 72
        },
        "outputId": "75868412-2f86-425c-9ac1-1fe90b0bcfda"
      },
      "source": [
        "#cmp() function\n",
        "def cmp(a, b):\n",
        "    return (a > b) - (a < b)\n",
        " \n",
        "list1, list2 = [123, 'xyz'], [456, 'abc']\n",
        "print(cmp(list1, list2))\n",
        "print(cmp(list2, list1))\n",
        "list3 = list2 + [786];\n",
        "print(cmp(list2, list3))"
      ],
      "execution_count": 66,
      "outputs": [
        {
          "output_type": "stream",
          "text": [
            "-1\n",
            "1\n",
            "-1\n"
          ],
          "name": "stdout"
        }
      ]
    },
    {
      "cell_type": "markdown",
      "metadata": {
        "id": "Hjyg6Pdqn3Vw",
        "colab_type": "text"
      },
      "source": [
        "The important characteristics of Python lists are as follows:\n",
        "\n",
        "    Lists are ordered.\n",
        "    Lists can contain any arbitrary objects.\n",
        "    List elements can be accessed by index.\n",
        "    Lists can be nested to arbitrary depth.\n",
        "    Lists are mutable.\n",
        "    Lists are dynamic.\n"
      ]
    },
    {
      "cell_type": "markdown",
      "metadata": {
        "id": "RKrYWn5tTAIX",
        "colab_type": "text"
      },
      "source": [
        "**Lists Are Ordered**\n",
        "\n",
        "A list is not merely a collection of objects. It is an ordered collection of objects. The order in which you specify the elements when you define a list is an innate characteristic of that list and is maintained for that list’s lifetime. (You will see a Python data type that is not ordered in the next tutorial on dictionaries.)\n",
        "\n",
        "Lists that have the same elements in a different order are not the same:"
      ]
    },
    {
      "cell_type": "code",
      "metadata": {
        "id": "yYBzDMVFns3x",
        "colab_type": "code",
        "colab": {
          "base_uri": "https://localhost:8080/",
          "height": 35
        },
        "outputId": "698ef2ef-9447-4a8d-b6c3-c09e478f400e"
      },
      "source": [
        "a = ['foo', 'bar', 'baz', 'qux']\n",
        "b = ['baz', 'qux', 'bar', 'foo']\n",
        "a == b"
      ],
      "execution_count": null,
      "outputs": [
        {
          "output_type": "execute_result",
          "data": {
            "text/plain": [
              "False"
            ]
          },
          "metadata": {
            "tags": []
          },
          "execution_count": 2
        }
      ]
    },
    {
      "cell_type": "code",
      "metadata": {
        "id": "DVBzkOSETDcR",
        "colab_type": "code",
        "colab": {
          "base_uri": "https://localhost:8080/",
          "height": 35
        },
        "outputId": "f3207184-6930-49a3-aedb-5770fee40ece"
      },
      "source": [
        "a is b"
      ],
      "execution_count": null,
      "outputs": [
        {
          "output_type": "execute_result",
          "data": {
            "text/plain": [
              "False"
            ]
          },
          "metadata": {
            "tags": []
          },
          "execution_count": 3
        }
      ]
    },
    {
      "cell_type": "code",
      "metadata": {
        "id": "tZUxgVG9TKXT",
        "colab_type": "code",
        "colab": {
          "base_uri": "https://localhost:8080/",
          "height": 35
        },
        "outputId": "2a6294da-932b-4169-dbb4-f42d7400d34e"
      },
      "source": [
        "[1, 2, 3, 4] == [4, 1, 3, 2]"
      ],
      "execution_count": null,
      "outputs": [
        {
          "output_type": "execute_result",
          "data": {
            "text/plain": [
              "False"
            ]
          },
          "metadata": {
            "tags": []
          },
          "execution_count": 4
        }
      ]
    },
    {
      "cell_type": "markdown",
      "metadata": {
        "id": "tjKYpizvTSJt",
        "colab_type": "text"
      },
      "source": [
        "**Lists Can Contain Arbitrary Objects**\n",
        "\n",
        "A list can contain any assortment of objects. The elements of a list can all be the same type:"
      ]
    },
    {
      "cell_type": "code",
      "metadata": {
        "id": "TAxx2b0cTUI7",
        "colab_type": "code",
        "colab": {
          "base_uri": "https://localhost:8080/",
          "height": 35
        },
        "outputId": "3a70c8cf-d2fa-4853-be8b-cbc131eb891a"
      },
      "source": [
        "a = [2, 4, 6, 8]\n",
        "print(a)"
      ],
      "execution_count": null,
      "outputs": [
        {
          "output_type": "stream",
          "text": [
            "[2, 4, 6, 8]\n"
          ],
          "name": "stdout"
        }
      ]
    },
    {
      "cell_type": "markdown",
      "metadata": {
        "id": "D28H56q5TeYy",
        "colab_type": "text"
      },
      "source": [
        "the elements can be of varying types:"
      ]
    },
    {
      "cell_type": "code",
      "metadata": {
        "id": "GovssEtHTfyS",
        "colab_type": "code",
        "colab": {
          "base_uri": "https://localhost:8080/",
          "height": 35
        },
        "outputId": "92a16137-4739-4f65-a18e-45a8f6df87cf"
      },
      "source": [
        "a = [21.42, 'foobar', 3, 4, 'bark', False, 3.14159]\n",
        "print(a)"
      ],
      "execution_count": null,
      "outputs": [
        {
          "output_type": "stream",
          "text": [
            "[21.42, 'foobar', 3, 4, 'bark', False, 3.14159]\n"
          ],
          "name": "stdout"
        }
      ]
    },
    {
      "cell_type": "markdown",
      "metadata": {
        "id": "96DKjF70T0aD",
        "colab_type": "text"
      },
      "source": [
        "Lists can even contain complex objects, like functions, classes, and modules, which you will learn about in upcoming tutorials:\n",
        "\n"
      ]
    },
    {
      "cell_type": "code",
      "metadata": {
        "id": "g8HeTiixT1cW",
        "colab_type": "code",
        "colab": {
          "base_uri": "https://localhost:8080/",
          "height": 35
        },
        "outputId": "2548890d-643e-438c-dbd9-a3b94ddd71e0"
      },
      "source": [
        "a = [int, len]\n",
        "a"
      ],
      "execution_count": null,
      "outputs": [
        {
          "output_type": "execute_result",
          "data": {
            "text/plain": [
              "[int, <function len>]"
            ]
          },
          "metadata": {
            "tags": []
          },
          "execution_count": 10
        }
      ]
    },
    {
      "cell_type": "code",
      "metadata": {
        "id": "cXxaNQ8pUTw5",
        "colab_type": "code",
        "colab": {
          "base_uri": "https://localhost:8080/",
          "height": 35
        },
        "outputId": "abe705af-54c3-4561-aa66-27a05276f802"
      },
      "source": [
        "a = [ 'foo' ]\n",
        "a"
      ],
      "execution_count": null,
      "outputs": [
        {
          "output_type": "execute_result",
          "data": {
            "text/plain": [
              "['foo']"
            ]
          },
          "metadata": {
            "tags": []
          },
          "execution_count": 13
        }
      ]
    },
    {
      "cell_type": "markdown",
      "metadata": {
        "id": "iPTnnjjYUjT8",
        "colab_type": "text"
      },
      "source": [
        "List objects needn’t be unique. A given object can appear in a list multiple times:"
      ]
    },
    {
      "cell_type": "code",
      "metadata": {
        "id": "CzhMAEMyUkLT",
        "colab_type": "code",
        "colab": {
          "base_uri": "https://localhost:8080/",
          "height": 35
        },
        "outputId": "b5e84894-dde8-42ae-bc81-9aa78343ff1e"
      },
      "source": [
        "a = ['bark', 'meow', 'woof', 'bark', 'cheep', 'bark']\n",
        "a"
      ],
      "execution_count": null,
      "outputs": [
        {
          "output_type": "execute_result",
          "data": {
            "text/plain": [
              "['bark', 'meow', 'woof', 'bark', 'cheep', 'bark']"
            ]
          },
          "metadata": {
            "tags": []
          },
          "execution_count": 14
        }
      ]
    },
    {
      "cell_type": "markdown",
      "metadata": {
        "id": "yJk4zfC2U0fN",
        "colab_type": "text"
      },
      "source": [
        "**List Elements Can Be Accessed by Index**\n",
        "\n",
        "Individual elements in a list can be accessed using an index in square brackets. This is exactly analogous to accessing individual characters in a string. List indexing is zero-based as it is with strings.\n",
        "\n",
        "Consider the following list:\n",
        "\n"
      ]
    },
    {
      "cell_type": "code",
      "metadata": {
        "id": "tFjvjPPCU2RX",
        "colab_type": "code",
        "colab": {
          "base_uri": "https://localhost:8080/",
          "height": 35
        },
        "outputId": "a8db25d1-e1e5-476f-f7e4-2ac537b48dcb"
      },
      "source": [
        "a = ['foo', 'bar', 'baz', 'qux', 'quux', 'corge']\n",
        "a"
      ],
      "execution_count": null,
      "outputs": [
        {
          "output_type": "execute_result",
          "data": {
            "text/plain": [
              "['foo', 'bar', 'baz', 'qux', 'quux', 'corge']"
            ]
          },
          "metadata": {
            "tags": []
          },
          "execution_count": 16
        }
      ]
    },
    {
      "cell_type": "code",
      "metadata": {
        "id": "fSQCg9B0qXgM",
        "colab_type": "code",
        "colab": {
          "base_uri": "https://localhost:8080/",
          "height": 35
        },
        "outputId": "2984785f-22c7-44f0-ca0b-308581461a19"
      },
      "source": [
        "a = ['foo', 'bar', 'baz', 'qux', 'quux', 'corge']\n",
        "print(a[4::-2])"
      ],
      "execution_count": null,
      "outputs": [
        {
          "output_type": "stream",
          "text": [
            "['quux', 'baz', 'foo']\n"
          ],
          "name": "stdout"
        }
      ]
    },
    {
      "cell_type": "code",
      "metadata": {
        "id": "JHFntSJcVD-e",
        "colab_type": "code",
        "colab": {
          "base_uri": "https://localhost:8080/",
          "height": 72
        },
        "outputId": "7065e6d1-19d4-4d23-bddd-af7578d10564"
      },
      "source": [
        "a = ['foo', 'bar', 'baz', 'qux', 'quux', 'corge']\n",
        "print(len(a))\n",
        "print(min(a))\n",
        "print(max(a))\n"
      ],
      "execution_count": null,
      "outputs": [
        {
          "output_type": "stream",
          "text": [
            "6\n",
            "bar\n",
            "qux\n"
          ],
          "name": "stdout"
        }
      ]
    },
    {
      "cell_type": "markdown",
      "metadata": {
        "id": "bXQ-OCY3Vib5",
        "colab_type": "text"
      },
      "source": [
        "**Lists Can Be Nested**\n",
        "\n",
        "You have seen that an element in a list can be any sort of object. That includes another list. A list can contain sublists, which in turn can contain sublists themselves, and so on to arbitrary depth.\n",
        "\n",
        "Consider this (admittedly contrived) example:"
      ]
    },
    {
      "cell_type": "code",
      "metadata": {
        "id": "KitMV4OlVkVQ",
        "colab_type": "code",
        "colab": {
          "base_uri": "https://localhost:8080/",
          "height": 35
        },
        "outputId": "e325d963-a8fc-4af1-a0cb-33069bda76f0"
      },
      "source": [
        "x = ['a', ['bb', ['ccc', 'ddd'], 'ee', 'ff'], 'g', ['hh', 'ii'], 'j']\n",
        "x"
      ],
      "execution_count": null,
      "outputs": [
        {
          "output_type": "execute_result",
          "data": {
            "text/plain": [
              "['a', ['bb', ['ccc', 'ddd'], 'ee', 'ff'], 'g', ['hh', 'ii'], 'j']"
            ]
          },
          "metadata": {
            "tags": []
          },
          "execution_count": 21
        }
      ]
    },
    {
      "cell_type": "markdown",
      "metadata": {
        "id": "ZYrfuOZ3WBDZ",
        "colab_type": "text"
      },
      "source": [
        "a.append(<obj>)\n",
        "\n",
        "    Appends an object to a list.\n",
        "\n",
        "a.append(<obj>) appends object <obj> to the end of list a:"
      ]
    },
    {
      "cell_type": "code",
      "metadata": {
        "id": "CUidIc4WWB6u",
        "colab_type": "code",
        "colab": {
          "base_uri": "https://localhost:8080/",
          "height": 35
        },
        "outputId": "1df80d45-7f60-40da-8c5c-d959c2ee1fe0"
      },
      "source": [
        "a = ['a', 'b']\n",
        "a.append(123)\n",
        "a"
      ],
      "execution_count": null,
      "outputs": [
        {
          "output_type": "execute_result",
          "data": {
            "text/plain": [
              "['a', 'b', 123]"
            ]
          },
          "metadata": {
            "tags": []
          },
          "execution_count": 22
        }
      ]
    },
    {
      "cell_type": "markdown",
      "metadata": {
        "id": "R9IHpFP4WTKR",
        "colab_type": "text"
      },
      "source": [
        "a.insert(<index>, <obj>)\n",
        "\n",
        "    Inserts an object into a list.\n",
        "\n",
        "a.insert(<index>, <obj>) inserts object <obj> into list a at the specified <index>. Following the method call, a[<index>] is <obj>, and the remaining list elements are pushed to the right:"
      ]
    },
    {
      "cell_type": "code",
      "metadata": {
        "id": "K6EZ2IyuWVUm",
        "colab_type": "code",
        "colab": {
          "base_uri": "https://localhost:8080/",
          "height": 35
        },
        "outputId": "86a968e1-921a-450c-dcdf-4894d88078e5"
      },
      "source": [
        "a = ['foo', 'bar', 'baz', 'qux', 'quux', 'corge']\n",
        "a.insert(3, 3.14159)\n",
        "a"
      ],
      "execution_count": null,
      "outputs": [
        {
          "output_type": "execute_result",
          "data": {
            "text/plain": [
              "['foo', 'bar', 'baz', 3.14159, 'qux', 'quux', 'corge']"
            ]
          },
          "metadata": {
            "tags": []
          },
          "execution_count": 23
        }
      ]
    },
    {
      "cell_type": "code",
      "metadata": {
        "id": "FxcevqN-WjjB",
        "colab_type": "code",
        "colab": {
          "base_uri": "https://localhost:8080/",
          "height": 35
        },
        "outputId": "88b1845b-0171-4e96-f4ed-7b3b5ba82900"
      },
      "source": [
        "a[3]"
      ],
      "execution_count": null,
      "outputs": [
        {
          "output_type": "execute_result",
          "data": {
            "text/plain": [
              "3.14159"
            ]
          },
          "metadata": {
            "tags": []
          },
          "execution_count": 24
        }
      ]
    },
    {
      "cell_type": "markdown",
      "metadata": {
        "id": "NCBjxjUgWmZI",
        "colab_type": "text"
      },
      "source": [
        "a.remove(<obj>)\n",
        "\n",
        "    Removes an object from a list.\n",
        "\n",
        "a.remove(<obj>) removes object <obj> from list a. If <obj> isn’t in a, an exception is raised:"
      ]
    },
    {
      "cell_type": "code",
      "metadata": {
        "id": "jBNQfUHwWq6M",
        "colab_type": "code",
        "colab": {
          "base_uri": "https://localhost:8080/",
          "height": 35
        },
        "outputId": "5ce82214-c188-4c2c-c36a-70ffa4ecb6fa"
      },
      "source": [
        "a = ['foo', 'bar', 'baz', 'qux', 'quux', 'corge']\n",
        "a.remove('baz')\n",
        "a"
      ],
      "execution_count": null,
      "outputs": [
        {
          "output_type": "execute_result",
          "data": {
            "text/plain": [
              "['foo', 'bar', 'qux', 'quux', 'corge']"
            ]
          },
          "metadata": {
            "tags": []
          },
          "execution_count": 25
        }
      ]
    },
    {
      "cell_type": "markdown",
      "metadata": {
        "id": "lUStFRLkW2OR",
        "colab_type": "text"
      },
      "source": [
        "a.pop(index=-1)\n",
        "\n",
        "    Removes an element from a list.\n",
        "\n",
        "This method differs from .remove() in two ways:\n",
        "\n",
        "    You specify the index of the item to remove, rather than the object itself.\n",
        "    The method returns a value: the item that was removed.\n",
        "\n",
        "a.pop() simply removes the last item in the list:"
      ]
    },
    {
      "cell_type": "code",
      "metadata": {
        "id": "9tXF-AQFW3cd",
        "colab_type": "code",
        "colab": {
          "base_uri": "https://localhost:8080/",
          "height": 35
        },
        "outputId": "a6622a68-641f-46df-dd70-0a5af79fc200"
      },
      "source": [
        "a = ['foo', 'bar', 'baz', 'qux', 'quux', 'corge']\n",
        "a.pop()\n",
        "a"
      ],
      "execution_count": null,
      "outputs": [
        {
          "output_type": "execute_result",
          "data": {
            "text/plain": [
              "['foo', 'bar', 'baz', 'qux', 'quux']"
            ]
          },
          "metadata": {
            "tags": []
          },
          "execution_count": 26
        }
      ]
    },
    {
      "cell_type": "markdown",
      "metadata": {
        "id": "_fVrjLsaXI02",
        "colab_type": "text"
      },
      "source": [
        "Lists Are Dynamic\n",
        "\n",
        "This tutorial began with a list of six defining characteristics of Python lists. The last one is that lists are dynamic. You have seen many examples of this in the sections above. When items are added to a list, it grows as needed:"
      ]
    },
    {
      "cell_type": "code",
      "metadata": {
        "id": "f1pENJwsXJsg",
        "colab_type": "code",
        "colab": {
          "base_uri": "https://localhost:8080/",
          "height": 35
        },
        "outputId": "0884c100-f20e-44af-f381-6cf324ffe333"
      },
      "source": [
        "a = ['foo', 'bar', 'baz', 'qux', 'quux', 'corge']\n",
        "a[2:2] = [1, 2, 3]\n",
        "a += [3.14159]\n",
        "a"
      ],
      "execution_count": null,
      "outputs": [
        {
          "output_type": "execute_result",
          "data": {
            "text/plain": [
              "['foo', 'bar', 1, 2, 3, 'baz', 'qux', 'quux', 'corge', 3.14159]"
            ]
          },
          "metadata": {
            "tags": []
          },
          "execution_count": 27
        }
      ]
    },
    {
      "cell_type": "markdown",
      "metadata": {
        "id": "q95f13ZTXU6c",
        "colab_type": "text"
      },
      "source": [
        "Similarly, a list shrinks to accommodate the removal of items:"
      ]
    },
    {
      "cell_type": "code",
      "metadata": {
        "id": "N739vdooXUfF",
        "colab_type": "code",
        "colab": {
          "base_uri": "https://localhost:8080/",
          "height": 35
        },
        "outputId": "cdb3e0e3-6636-4f8d-d2b1-bcdafc9ef6cc"
      },
      "source": [
        "a = ['foo', 'bar', 'baz', 'qux', 'quux', 'corge']\n",
        "a[2:3] = []\n",
        "del a[0]\n",
        "a"
      ],
      "execution_count": null,
      "outputs": [
        {
          "output_type": "execute_result",
          "data": {
            "text/plain": [
              "['bar', 'qux', 'quux', 'corge']"
            ]
          },
          "metadata": {
            "tags": []
          },
          "execution_count": 28
        }
      ]
    },
    {
      "cell_type": "markdown",
      "metadata": {
        "id": "tbiY5fa-lsKF",
        "colab_type": "text"
      },
      "source": [
        "#Python Tuples\n",
        "\n",
        "Python provides another type that is an ordered collection of objects, called a tuple.\n",
        "\n",
        "Pronunciation varies depending on whom you ask. Some pronounce it as though it were spelled “too-ple” (rhyming with “Mott the Hoople”), and others as though it were spelled “tup-ple” (rhyming with “supple”). My inclination is the latter, since it presumably derives from the same origin as “quintuple,” “sextuple,” “octuple,” and so on, and everyone I know pronounces these latter as though they rhymed with “supple.”\n",
        "Defining and Using Tuples\n",
        "\n",
        "Tuples are identical to lists in all respects, except for the following properties:\n",
        "\n",
        "    Tuples are defined by enclosing the elements in parentheses (()) instead of square brackets ([]).\n",
        "    Tuples are immutable.\n",
        "\n",
        "Here is a short example showing a tuple definition, indexing, and slicing:"
      ]
    },
    {
      "cell_type": "code",
      "metadata": {
        "id": "fXvRMWnHl9fw",
        "colab_type": "code",
        "colab": {
          "base_uri": "https://localhost:8080/",
          "height": 35
        },
        "outputId": "29444121-657e-4bd3-f41f-209031ec03f7"
      },
      "source": [
        "t = ('foo', 'bar', 'baz', 'qux', 'quux', 'corge')\n",
        "t"
      ],
      "execution_count": null,
      "outputs": [
        {
          "output_type": "execute_result",
          "data": {
            "text/plain": [
              "('foo', 'bar', 'baz', 'qux', 'quux', 'corge')"
            ]
          },
          "metadata": {
            "tags": []
          },
          "execution_count": 29
        }
      ]
    },
    {
      "cell_type": "code",
      "metadata": {
        "id": "CUZYReOtouQ-",
        "colab_type": "code",
        "colab": {
          "base_uri": "https://localhost:8080/",
          "height": 37
        },
        "outputId": "70d53544-c989-42e4-85b3-1689ffc7df1a"
      },
      "source": [
        "t[0]"
      ],
      "execution_count": null,
      "outputs": [
        {
          "output_type": "execute_result",
          "data": {
            "application/vnd.google.colaboratory.intrinsic+json": {
              "type": "string"
            },
            "text/plain": [
              "'foo'"
            ]
          },
          "metadata": {
            "tags": []
          },
          "execution_count": 30
        }
      ]
    },
    {
      "cell_type": "code",
      "metadata": {
        "id": "eZvADPfbox5o",
        "colab_type": "code",
        "colab": {
          "base_uri": "https://localhost:8080/",
          "height": 37
        },
        "outputId": "cd2127b5-5fb5-4523-9ec3-add437877fab"
      },
      "source": [
        "t[-1]"
      ],
      "execution_count": null,
      "outputs": [
        {
          "output_type": "execute_result",
          "data": {
            "application/vnd.google.colaboratory.intrinsic+json": {
              "type": "string"
            },
            "text/plain": [
              "'corge'"
            ]
          },
          "metadata": {
            "tags": []
          },
          "execution_count": 31
        }
      ]
    },
    {
      "cell_type": "code",
      "metadata": {
        "id": "nIKGqtmOo1B0",
        "colab_type": "code",
        "colab": {
          "base_uri": "https://localhost:8080/",
          "height": 35
        },
        "outputId": "aa38a67b-9344-449e-ae31-92d3478f2ebc"
      },
      "source": [
        "t[1:2]"
      ],
      "execution_count": null,
      "outputs": [
        {
          "output_type": "execute_result",
          "data": {
            "text/plain": [
              "('bar',)"
            ]
          },
          "metadata": {
            "tags": []
          },
          "execution_count": 32
        }
      ]
    },
    {
      "cell_type": "code",
      "metadata": {
        "id": "dRspjlIDo7Ek",
        "colab_type": "code",
        "colab": {
          "base_uri": "https://localhost:8080/",
          "height": 35
        },
        "outputId": "20d9f7a8-7549-4c57-91ac-a74e3129e0d0"
      },
      "source": [
        "t[1::2]"
      ],
      "execution_count": null,
      "outputs": [
        {
          "output_type": "execute_result",
          "data": {
            "text/plain": [
              "('bar', 'qux', 'corge')"
            ]
          },
          "metadata": {
            "tags": []
          },
          "execution_count": 34
        }
      ]
    },
    {
      "cell_type": "code",
      "metadata": {
        "id": "5z8WaUnIpG-s",
        "colab_type": "code",
        "colab": {
          "base_uri": "https://localhost:8080/",
          "height": 35
        },
        "outputId": "452b78d6-ec71-4355-a49e-cca2e0495f5c"
      },
      "source": [
        "t[::-1]"
      ],
      "execution_count": null,
      "outputs": [
        {
          "output_type": "execute_result",
          "data": {
            "text/plain": [
              "('corge', 'quux', 'qux', 'baz', 'bar', 'foo')"
            ]
          },
          "metadata": {
            "tags": []
          },
          "execution_count": 35
        }
      ]
    },
    {
      "cell_type": "code",
      "metadata": {
        "id": "vuytO45ypVp2",
        "colab_type": "code",
        "colab": {
          "base_uri": "https://localhost:8080/",
          "height": 35
        },
        "outputId": "9aeff0b3-0c5e-4701-ed10-1bf675365866"
      },
      "source": [
        "t = ()\n",
        "type(t)"
      ],
      "execution_count": null,
      "outputs": [
        {
          "output_type": "execute_result",
          "data": {
            "text/plain": [
              "tuple"
            ]
          },
          "metadata": {
            "tags": []
          },
          "execution_count": 36
        }
      ]
    },
    {
      "cell_type": "code",
      "metadata": {
        "id": "J3P_zC_kpaTx",
        "colab_type": "code",
        "colab": {}
      },
      "source": [
        ""
      ],
      "execution_count": null,
      "outputs": []
    }
  ]
}