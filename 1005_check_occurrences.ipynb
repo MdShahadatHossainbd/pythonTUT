{
  "nbformat": 4,
  "nbformat_minor": 0,
  "metadata": {
    "colab": {
      "name": "1005 check occurrences",
      "provenance": [],
      "authorship_tag": "ABX9TyMjKJ7R4NVm59c0gPX2UWDj",
      "include_colab_link": true
    },
    "kernelspec": {
      "name": "python3",
      "display_name": "Python 3"
    }
  },
  "cells": [
    {
      "cell_type": "markdown",
      "metadata": {
        "id": "view-in-github",
        "colab_type": "text"
      },
      "source": [
        "<a href=\"https://colab.research.google.com/github/MdShahadatHossainbd/pythonTUT/blob/master/1005_check_occurrences.ipynb\" target=\"_parent\"><img src=\"https://colab.research.google.com/assets/colab-badge.svg\" alt=\"Open In Colab\"/></a>"
      ]
    },
    {
      "cell_type": "code",
      "metadata": {
        "id": "VW80tC_dG40t",
        "outputId": "bdcfa0cb-b0c9-4297-d549-36fc32a9f40c",
        "colab": {
          "base_uri": "https://localhost:8080/"
        }
      },
      "source": [
        "#Program to check occurrences of every value is unique or not in Python\n",
        "from collections import Counter\n",
        "class Solution:\n",
        "   def solve(self, nums):\n",
        "      num_counts = dict(Counter(nums))\n",
        "      occurrences = num_counts.values()\n",
        "      return len(occurrences) == len(set(occurrences))\n",
        "ob = Solution()\n",
        "nums = [6, 4, 2, 9, 4, 2, 2, 9, 9, 9]\n",
        "print(ob.solve(nums))"
      ],
      "execution_count": null,
      "outputs": [
        {
          "output_type": "stream",
          "text": [
            "True\n"
          ],
          "name": "stdout"
        }
      ]
    }
  ]
}