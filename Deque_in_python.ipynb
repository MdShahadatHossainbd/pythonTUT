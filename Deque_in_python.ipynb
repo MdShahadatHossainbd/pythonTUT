{
  "nbformat": 4,
  "nbformat_minor": 0,
  "metadata": {
    "colab": {
      "name": "Deque in python.ipynb",
      "provenance": [],
      "authorship_tag": "ABX9TyMD4Bz4mLQochspSDdgX59X",
      "include_colab_link": true
    },
    "kernelspec": {
      "name": "python3",
      "display_name": "Python 3"
    }
  },
  "cells": [
    {
      "cell_type": "markdown",
      "metadata": {
        "id": "view-in-github",
        "colab_type": "text"
      },
      "source": [
        "<a href=\"https://colab.research.google.com/github/MdShahadatHossainbd/pythonTUT/blob/master/Deque_in_python.ipynb\" target=\"_parent\"><img src=\"https://colab.research.google.com/assets/colab-badge.svg\" alt=\"Open In Colab\"/></a>"
      ]
    },
    {
      "cell_type": "code",
      "metadata": {
        "id": "7QEUKcSJ_g_J",
        "outputId": "3ed5405b-e31e-4a9a-e60b-79db5d867740",
        "colab": {
          "base_uri": "https://localhost:8080/",
          "height": 35
        }
      },
      "source": [
        "# Python code to demonstrate deque \n",
        "\t\n",
        "\t\n",
        "from collections import deque \n",
        "\t\n",
        "# Declaring deque \n",
        "queue = deque(['name','age','DOB']) \n",
        "\t\n",
        "print(queue) "
      ],
      "execution_count": 1,
      "outputs": [
        {
          "output_type": "stream",
          "text": [
            "deque(['name', 'age', 'DOB'])\n"
          ],
          "name": "stdout"
        }
      ]
    },
    {
      "cell_type": "code",
      "metadata": {
        "id": "pZHkGmrV_qdJ",
        "outputId": "2746cb44-2b10-4b44-b9be-d220dea56191",
        "colab": {
          "base_uri": "https://localhost:8080/",
          "height": 164
        }
      },
      "source": [
        "# Python code to demonstrate working of \n",
        "# append(), appendleft(), pop(), and popleft() \n",
        "\n",
        "# importing \"collections\" for deque operations \n",
        "import collections \n",
        "\n",
        "# initializing deque \n",
        "de = collections.deque([1,2,3]) \n",
        "\n",
        "# using append() to insert element at right end \n",
        "# inserts 4 at the end of deque \n",
        "de.append(4) \n",
        "\n",
        "# printing modified deque \n",
        "print (\"The deque after appending at right is : \") \n",
        "print (de) \n",
        "\n",
        "# using appendleft() to insert element at right end \n",
        "# inserts 6 at the beginning of deque \n",
        "de.appendleft(6) \n",
        "\n",
        "# printing modified deque \n",
        "print (\"The deque after appending at left is : \") \n",
        "print (de) \n",
        "\n",
        "# using pop() to delete element from right end \n",
        "# deletes 4 from the right end of deque \n",
        "de.pop() \n",
        "\n",
        "# printing modified deque \n",
        "print (\"The deque after deleting from right is : \") \n",
        "print (de) \n",
        "\n",
        "# using popleft() to delete element from left end \n",
        "# deletes 6 from the left end of deque \n",
        "de.popleft() \n",
        "\n",
        "# printing modified deque \n",
        "print (\"The deque after deleting from left is : \") \n",
        "print (de) "
      ],
      "execution_count": 2,
      "outputs": [
        {
          "output_type": "stream",
          "text": [
            "The deque after appending at right is : \n",
            "deque([1, 2, 3, 4])\n",
            "The deque after appending at left is : \n",
            "deque([6, 1, 2, 3, 4])\n",
            "The deque after deleting from right is : \n",
            "deque([6, 1, 2, 3])\n",
            "The deque after deleting from left is : \n",
            "deque([1, 2, 3])\n"
          ],
          "name": "stdout"
        }
      ]
    },
    {
      "cell_type": "code",
      "metadata": {
        "id": "MOAGPYrI_396",
        "outputId": "5da4f25b-139d-4089-acd7-212653438e44",
        "colab": {
          "base_uri": "https://localhost:8080/",
          "height": 164
        }
      },
      "source": [
        "# Python code to demonstrate working of \n",
        "# insert(), index(), remove(), count() \n",
        "\n",
        "# importing \"collections\" for deque operations \n",
        "import collections \n",
        "\n",
        "# initializing deque \n",
        "de = collections.deque([1, 2, 3, 3, 4, 2, 4]) \n",
        "\n",
        "# using index() to print the first occurrence of 4 \n",
        "print (\"The number 4 first occurs at a position : \") \n",
        "print (de.index(4,2,5)) \n",
        "\n",
        "# using insert() to insert the value 3 at 5th position \n",
        "de.insert(4,3) \n",
        "\n",
        "# printing modified deque \n",
        "print (\"The deque after inserting 3 at 5th position is : \") \n",
        "print (de) \n",
        "\n",
        "# using count() to count the occurrences of 3 \n",
        "print (\"The count of 3 in deque is : \") \n",
        "print (de.count(3)) \n",
        "\n",
        "# using remove() to remove the first occurrence of 3 \n",
        "de.remove(3) \n",
        "\n",
        "# printing modified deque \n",
        "print (\"The deque after deleting first occurrence of 3 is : \") \n",
        "print (de) "
      ],
      "execution_count": 3,
      "outputs": [
        {
          "output_type": "stream",
          "text": [
            "The number 4 first occurs at a position : \n",
            "4\n",
            "The deque after inserting 3 at 5th position is : \n",
            "deque([1, 2, 3, 3, 3, 4, 2, 4])\n",
            "The count of 3 in deque is : \n",
            "3\n",
            "The deque after deleting first occurrence of 3 is : \n",
            "deque([1, 2, 3, 3, 4, 2, 4])\n"
          ],
          "name": "stdout"
        }
      ]
    }
  ]
}