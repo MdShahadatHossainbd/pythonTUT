{
  "nbformat": 4,
  "nbformat_minor": 0,
  "metadata": {
    "colab": {
      "name": " Patterns in Python.ipynb",
      "provenance": [],
      "authorship_tag": "ABX9TyMasi4o4TghfwRsUF8KnE7d",
      "include_colab_link": true
    },
    "kernelspec": {
      "name": "python3",
      "display_name": "Python 3"
    }
  },
  "cells": [
    {
      "cell_type": "markdown",
      "metadata": {
        "id": "view-in-github",
        "colab_type": "text"
      },
      "source": [
        "<a href=\"https://colab.research.google.com/github/MdShahadatHossainbd/pythonTUT/blob/master/Patterns_in_Python.ipynb\" target=\"_parent\"><img src=\"https://colab.research.google.com/assets/colab-badge.svg\" alt=\"Open In Colab\"/></a>"
      ]
    },
    {
      "cell_type": "code",
      "metadata": {
        "id": "dhau3O9gEa-M",
        "colab_type": "code",
        "colab": {
          "base_uri": "https://localhost:8080/",
          "height": 90
        },
        "outputId": "0cb60022-95c9-4932-cd47-812c3fefc641"
      },
      "source": [
        "for j in range(4):\n",
        "  print(\"#\")"
      ],
      "execution_count": 1,
      "outputs": [
        {
          "output_type": "stream",
          "text": [
            "#\n",
            "#\n",
            "#\n",
            "#\n"
          ],
          "name": "stdout"
        }
      ]
    },
    {
      "cell_type": "code",
      "metadata": {
        "id": "I9AqzaMOFLqL",
        "colab_type": "code",
        "colab": {
          "base_uri": "https://localhost:8080/",
          "height": 90
        },
        "outputId": "ebbe06fd-f106-4917-a247-d02a64fb6ca6"
      },
      "source": [
        "for j in range(4):\n",
        "  print(\"#\",end=\"\")\n",
        "print()\n",
        "for j in range(4):\n",
        "  print(\"#\",end=\"\")\n",
        "print()\n",
        "for j in range(4):\n",
        "  print(\"#\",end=\"\")\n",
        "print()\n",
        "for j in range(4):\n",
        "  print(\"#\",end=\"\")\n"
      ],
      "execution_count": 2,
      "outputs": [
        {
          "output_type": "stream",
          "text": [
            "####\n",
            "####\n",
            "####\n",
            "####"
          ],
          "name": "stdout"
        }
      ]
    },
    {
      "cell_type": "code",
      "metadata": {
        "id": "HTZGpQaDFhr1",
        "colab_type": "code",
        "colab": {
          "base_uri": "https://localhost:8080/",
          "height": 90
        },
        "outputId": "85e7961f-d920-4b2d-ee38-77fad3741c06"
      },
      "source": [
        "for i in range(4):\n",
        "  for j in range(4):\n",
        "    print(\"#\",end=\"\")\n",
        "  print()"
      ],
      "execution_count": 5,
      "outputs": [
        {
          "output_type": "stream",
          "text": [
            "####\n",
            "####\n",
            "####\n",
            "####\n"
          ],
          "name": "stdout"
        }
      ]
    },
    {
      "cell_type": "code",
      "metadata": {
        "id": "cB_UATaNF9gm",
        "colab_type": "code",
        "colab": {
          "base_uri": "https://localhost:8080/",
          "height": 90
        },
        "outputId": "0b937677-b3e3-4e82-fd70-fae2633408b0"
      },
      "source": [
        "for i in range(4):\n",
        "  for j in range(i+1):\n",
        "    print(\"#\",end=\"\")\n",
        "  print()"
      ],
      "execution_count": 6,
      "outputs": [
        {
          "output_type": "stream",
          "text": [
            "#\n",
            "##\n",
            "###\n",
            "####\n"
          ],
          "name": "stdout"
        }
      ]
    },
    {
      "cell_type": "code",
      "metadata": {
        "id": "r3kilR78GJhC",
        "colab_type": "code",
        "colab": {
          "base_uri": "https://localhost:8080/",
          "height": 90
        },
        "outputId": "83940d34-5058-4cf4-d26f-2d2c2e94b950"
      },
      "source": [
        "for i in range(4):\n",
        "  for j in range(4-i):\n",
        "    print(\"#\",end=\"\")\n",
        "  print()"
      ],
      "execution_count": 8,
      "outputs": [
        {
          "output_type": "stream",
          "text": [
            "####\n",
            "###\n",
            "##\n",
            "#\n"
          ],
          "name": "stdout"
        }
      ]
    }
  ]
}