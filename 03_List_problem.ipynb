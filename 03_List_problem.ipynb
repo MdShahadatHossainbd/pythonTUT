{
  "nbformat": 4,
  "nbformat_minor": 0,
  "metadata": {
    "colab": {
      "name": "03. List problem.ipynb",
      "provenance": [],
      "authorship_tag": "ABX9TyND+32MbqvlhOeApKIJTuW3",
      "include_colab_link": true
    },
    "kernelspec": {
      "name": "python3",
      "display_name": "Python 3"
    }
  },
  "cells": [
    {
      "cell_type": "markdown",
      "metadata": {
        "id": "view-in-github",
        "colab_type": "text"
      },
      "source": [
        "<a href=\"https://colab.research.google.com/github/MdShahadatHossainbd/pythonTUT/blob/master/03_List_problem.ipynb\" target=\"_parent\"><img src=\"https://colab.research.google.com/assets/colab-badge.svg\" alt=\"Open In Colab\"/></a>"
      ]
    },
    {
      "cell_type": "markdown",
      "metadata": {
        "id": "hn-oFWSZIjVP"
      },
      "source": [
        "1 Given a Python list you should be able to display Python list in the following order"
      ]
    },
    {
      "cell_type": "code",
      "metadata": {
        "id": "wPAwn3kpII7s",
        "outputId": "a39fb1a9-a5e4-467a-9b42-4d2d12219ce1",
        "colab": {
          "base_uri": "https://localhost:8080/",
          "height": 36
        }
      },
      "source": [
        "aList = [100, 200, 300, 400, 500]\n",
        "aList = aList[::-1]\n",
        "print(aList)"
      ],
      "execution_count": 1,
      "outputs": [
        {
          "output_type": "stream",
          "text": [
            "[500, 400, 300, 200, 100]\n"
          ],
          "name": "stdout"
        }
      ]
    },
    {
      "cell_type": "code",
      "metadata": {
        "id": "XU4RG1L4JAoR",
        "outputId": "8b8c150e-ac94-4491-fb3f-7a516ed0501c",
        "colab": {
          "base_uri": "https://localhost:8080/",
          "height": 36
        }
      },
      "source": [
        "aList = [100, 200, 300, 400, 500] \n",
        "print(aList[::-1])"
      ],
      "execution_count": 3,
      "outputs": [
        {
          "output_type": "stream",
          "text": [
            "[500, 400, 300, 200, 100]\n"
          ],
          "name": "stdout"
        }
      ]
    },
    {
      "cell_type": "markdown",
      "metadata": {
        "id": "r-IcBG7lI39F"
      },
      "source": [
        "2. Concatenate two lists index-wise"
      ]
    },
    {
      "cell_type": "code",
      "metadata": {
        "id": "lxuycvusJTh9",
        "outputId": "139c8d01-3a63-4039-941b-2c07cbe6e828",
        "colab": {
          "base_uri": "https://localhost:8080/",
          "height": 36
        }
      },
      "source": [
        "list1 = [\"M\", \"na\", \"i\", \"Ke\"] \n",
        "list2 = [\"y\", \"me\", \"s\", \"lly\"]\n",
        "list3 = [i + j for i, j in zip(list1, list2)]\n",
        "print(list3)"
      ],
      "execution_count": 4,
      "outputs": [
        {
          "output_type": "stream",
          "text": [
            "['My', 'name', 'is', 'Kelly']\n"
          ],
          "name": "stdout"
        }
      ]
    },
    {
      "cell_type": "markdown",
      "metadata": {
        "id": "dlMCrPLGJiD8"
      },
      "source": [
        "3. Given a Python list. Turn every item of a list into its square"
      ]
    },
    {
      "cell_type": "code",
      "metadata": {
        "id": "hZsD0NbRJnuJ",
        "outputId": "5d609624-7e3f-49ad-de4f-a5a1f8286849",
        "colab": {
          "base_uri": "https://localhost:8080/",
          "height": 36
        }
      },
      "source": [
        "aList = [1, 2, 3, 4, 5, 6, 7]\n",
        "aList =  [x * x for x in aList]\n",
        "print(aList)"
      ],
      "execution_count": 5,
      "outputs": [
        {
          "output_type": "stream",
          "text": [
            "[1, 4, 9, 16, 25, 36, 49]\n"
          ],
          "name": "stdout"
        }
      ]
    },
    {
      "cell_type": "markdown",
      "metadata": {
        "id": "IkWmwuaoKVEv"
      },
      "source": [
        "4. Concatenate two lists in the following order"
      ]
    },
    {
      "cell_type": "code",
      "metadata": {
        "id": "nU9ypqauKbT7",
        "outputId": "15ba078c-01b4-4122-c549-2ebc8c0567de",
        "colab": {
          "base_uri": "https://localhost:8080/",
          "height": 36
        }
      },
      "source": [
        "list1 = [\"Hello \", \"take \"]\n",
        "list2 = [\"Dear\", \"Sir\"]\n",
        "\n",
        "resList = [x+y for x in list1 for y in list2]\n",
        "print(resList)"
      ],
      "execution_count": 6,
      "outputs": [
        {
          "output_type": "stream",
          "text": [
            "['Hello Dear', 'Hello Sir', 'take Dear', 'take Sir']\n"
          ],
          "name": "stdout"
        }
      ]
    },
    {
      "cell_type": "markdown",
      "metadata": {
        "id": "NYU07bnbKp-B"
      },
      "source": [
        "5. Given a two Python list. Iterate both lists simultaneously such that list1 should display item in original order and list2 in reverse order"
      ]
    },
    {
      "cell_type": "code",
      "metadata": {
        "id": "2hPSLvg2KvDf",
        "outputId": "77c78029-a8f4-4a95-a659-92ad2bb347a2",
        "colab": {
          "base_uri": "https://localhost:8080/",
          "height": 94
        }
      },
      "source": [
        "list1 = [10, 20, 30, 40]\n",
        "list2 = [100, 200, 300, 400]\n",
        "\n",
        "for x, y in zip(list1, list2[::-1]):\n",
        "    print(x, y)"
      ],
      "execution_count": 7,
      "outputs": [
        {
          "output_type": "stream",
          "text": [
            "10 400\n",
            "20 300\n",
            "30 200\n",
            "40 100\n"
          ],
          "name": "stdout"
        }
      ]
    },
    {
      "cell_type": "markdown",
      "metadata": {
        "id": "HXn-j0akK9fV"
      },
      "source": [
        "6. Remove empty strings from the list of strings"
      ]
    },
    {
      "cell_type": "code",
      "metadata": {
        "id": "61bLPMOGLCoC",
        "outputId": "df224aa2-b999-4ea5-e4c3-be173fe6f830",
        "colab": {
          "base_uri": "https://localhost:8080/",
          "height": 36
        }
      },
      "source": [
        "list1 = [\"Mike\", \"\", \"Emma\", \"Kelly\", \"\", \"Brad\"]\n",
        "resList = list(filter(None, list1))\n",
        "print(resList)"
      ],
      "execution_count": 8,
      "outputs": [
        {
          "output_type": "stream",
          "text": [
            "['Mike', 'Emma', 'Kelly', 'Brad']\n"
          ],
          "name": "stdout"
        }
      ]
    },
    {
      "cell_type": "markdown",
      "metadata": {
        "id": "K-IFjW10LTW-"
      },
      "source": [
        " 7. Add item 7000 after 6000 in the following Python List"
      ]
    },
    {
      "cell_type": "code",
      "metadata": {
        "id": "xGO4OCFoLabS",
        "outputId": "c184e64f-ca8e-45c2-a77e-34e507ad3509",
        "colab": {
          "base_uri": "https://localhost:8080/",
          "height": 36
        }
      },
      "source": [
        "list1 = [10, 20, [300, 400, [5000, 6000], 500], 30, 40]\n",
        "list1[2][2].append(7000)\n",
        "print(list1)"
      ],
      "execution_count": 9,
      "outputs": [
        {
          "output_type": "stream",
          "text": [
            "[10, 20, [300, 400, [5000, 6000, 7000], 500], 30, 40]\n"
          ],
          "name": "stdout"
        }
      ]
    },
    {
      "cell_type": "markdown",
      "metadata": {
        "id": "jxp84mcWMa6H"
      },
      "source": [
        "8. Given a nested list extend it with adding sub list [\"h\", \"i\", \"j\"] in a such a way that it will look like the following list"
      ]
    },
    {
      "cell_type": "code",
      "metadata": {
        "id": "A6x2prPbMitL",
        "outputId": "76533097-36ca-4ffb-8d83-bb54e0df9de7",
        "colab": {
          "base_uri": "https://localhost:8080/",
          "height": 36
        }
      },
      "source": [
        "list1 = [\"a\", \"b\", [\"c\", [\"d\", \"e\", [\"f\", \"g\"], \"k\"], \"l\"], \"m\", \"n\"]\n",
        "subList = [\"h\", \"i\", \"j\"]\n",
        "\n",
        "list1[2][1][2].extend(subList)\n",
        "print(list1)"
      ],
      "execution_count": 27,
      "outputs": [
        {
          "output_type": "stream",
          "text": [
            "['a', 'b', ['c', ['d', 'e', ['f', 'g', 'h', 'i', 'j'], 'k'], 'l'], 'm', 'n']\n"
          ],
          "name": "stdout"
        }
      ]
    },
    {
      "cell_type": "markdown",
      "metadata": {
        "id": "ZFAODBfVOJSj"
      },
      "source": [
        "9: Given a Python list, find value 20 in the list, and if it is present, replace it with 200. Only update the first occurrence of a value"
      ]
    },
    {
      "cell_type": "code",
      "metadata": {
        "id": "u7Qr1zx5OYTt",
        "outputId": "47fd3866-396f-4b6e-a5e4-65f98566ce35",
        "colab": {
          "base_uri": "https://localhost:8080/",
          "height": 36
        }
      },
      "source": [
        "list1 = [5, 10, 15, 20, 25, 50, 20]\n",
        "\n",
        "index = list1.index(20)\n",
        "list1[index] = 200\n",
        "print(list1)"
      ],
      "execution_count": 30,
      "outputs": [
        {
          "output_type": "stream",
          "text": [
            "[5, 10, 15, 200, 25, 50, 20]\n"
          ],
          "name": "stdout"
        }
      ]
    },
    {
      "cell_type": "markdown",
      "metadata": {
        "id": "eTpGeBVQO6td"
      },
      "source": [
        "10: Given a Python list, remove all occurrence of 20 from the list"
      ]
    },
    {
      "cell_type": "code",
      "metadata": {
        "id": "_0urH3ytO7xG",
        "outputId": "61d09318-bab1-4cb2-e494-438d688a251a",
        "colab": {
          "base_uri": "https://localhost:8080/",
          "height": 36
        }
      },
      "source": [
        "list1 = [5, 20, 15, 20, 25, 50, 20]\n",
        "\n",
        "def removeValue(sampleList, val):\n",
        "   return [value for value in sampleList if value != val]\n",
        "resList = removeValue(list1, 20)\n",
        "print(resList)"
      ],
      "execution_count": 31,
      "outputs": [
        {
          "output_type": "stream",
          "text": [
            "[5, 15, 25, 50]\n"
          ],
          "name": "stdout"
        }
      ]
    }
  ]
}