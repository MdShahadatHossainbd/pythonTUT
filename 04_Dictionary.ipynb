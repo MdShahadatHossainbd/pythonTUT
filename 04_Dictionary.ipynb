{
  "nbformat": 4,
  "nbformat_minor": 0,
  "metadata": {
    "colab": {
      "name": "04. Dictionary.ipynb",
      "provenance": [],
      "authorship_tag": "ABX9TyMfTgGFsNNHlPJ2oyOAgQ0X",
      "include_colab_link": true
    },
    "kernelspec": {
      "name": "python3",
      "display_name": "Python 3"
    }
  },
  "cells": [
    {
      "cell_type": "markdown",
      "metadata": {
        "id": "view-in-github",
        "colab_type": "text"
      },
      "source": [
        "<a href=\"https://colab.research.google.com/github/MdShahadatHossainbd/pythonTUT/blob/master/04_Dictionary.ipynb\" target=\"_parent\"><img src=\"https://colab.research.google.com/assets/colab-badge.svg\" alt=\"Open In Colab\"/></a>"
      ]
    },
    {
      "cell_type": "markdown",
      "metadata": {
        "id": "3fevjOEZrwK4"
      },
      "source": [
        "1. Below are the two lists convert it into the dictionary"
      ]
    },
    {
      "cell_type": "code",
      "metadata": {
        "id": "ZBoutHWprqJc",
        "outputId": "e09a0b0d-9072-4773-cba7-0fa0b0d6f53c",
        "colab": {
          "base_uri": "https://localhost:8080/",
          "height": 36
        }
      },
      "source": [
        "keys = ['Ten', 'Twenty', 'Thirty']\n",
        "values = [10, 20, 30]\n",
        "\n",
        "sampleDict = dict(zip(keys, values))\n",
        "print(sampleDict)"
      ],
      "execution_count": 1,
      "outputs": [
        {
          "output_type": "stream",
          "text": [
            "{'Ten': 10, 'Twenty': 20, 'Thirty': 30}\n"
          ],
          "name": "stdout"
        }
      ]
    },
    {
      "cell_type": "markdown",
      "metadata": {
        "id": "26AjZ0S5sXY5"
      },
      "source": [
        "2. Merge following two Python dictionaries into one"
      ]
    },
    {
      "cell_type": "code",
      "metadata": {
        "id": "yqF3x48Ms9Zn",
        "outputId": "5df18166-4fa0-4f89-ae15-b3953e3fbc7a",
        "colab": {
          "base_uri": "https://localhost:8080/",
          "height": 36
        }
      },
      "source": [
        "dict1 = {'Ten': 10, 'Twenty': 20, 'Thirty': 30}\n",
        "dict2 = {'Thirty': 30, 'Fourty': 40, 'Fifty': 50}\n",
        "\n",
        "dict3 = {**dict1, **dict2}\n",
        "print(dict3)"
      ],
      "execution_count": 2,
      "outputs": [
        {
          "output_type": "stream",
          "text": [
            "{'Ten': 10, 'Twenty': 20, 'Thirty': 30, 'Fourty': 40, 'Fifty': 50}\n"
          ],
          "name": "stdout"
        }
      ]
    },
    {
      "cell_type": "markdown",
      "metadata": {
        "id": "Gfk9Sp1euG7a"
      },
      "source": [
        "3: Access the value of key ‘history’"
      ]
    },
    {
      "cell_type": "code",
      "metadata": {
        "id": "zrSC2LkvuZtX",
        "outputId": "38397204-e906-4fc2-fe80-4bf8f44094d3",
        "colab": {
          "base_uri": "https://localhost:8080/",
          "height": 36
        }
      },
      "source": [
        "sampleDict = { \n",
        "   \"class\":{ \n",
        "      \"student\":{ \n",
        "         \"name\":\"Mike\",\n",
        "         \"marks\":{ \n",
        "            \"physics\":70,\n",
        "            \"history\":80\n",
        "         }\n",
        "      }\n",
        "   }\n",
        "}\n",
        "print(sampleDict['class']['student']['marks']['history'])"
      ],
      "execution_count": 4,
      "outputs": [
        {
          "output_type": "stream",
          "text": [
            "80\n"
          ],
          "name": "stdout"
        }
      ]
    },
    {
      "cell_type": "markdown",
      "metadata": {
        "id": "gUSPIOfSuawJ"
      },
      "source": [
        "4. Initialize dictionary with default values"
      ]
    },
    {
      "cell_type": "code",
      "metadata": {
        "id": "IMHUeYUnuNJ4",
        "outputId": "68afb3be-c22c-4493-a843-d93c0a570270",
        "colab": {
          "base_uri": "https://localhost:8080/",
          "height": 75
        }
      },
      "source": [
        "employees = ['Kelly', 'Emma', 'John']\n",
        "defaults = {\"designation\": 'Application Developer', \"salary\": 8000}\n",
        "\n",
        "resDict = dict.fromkeys(employees, defaults)\n",
        "print(resDict)\n",
        "\n",
        "# Individual data\n",
        "print(resDict[\"Kelly\"])"
      ],
      "execution_count": 5,
      "outputs": [
        {
          "output_type": "stream",
          "text": [
            "{'Kelly': {'designation': 'Application Developer', 'salary': 8000}, 'Emma': {'designation': 'Application Developer', 'salary': 8000}, 'John': {'designation': 'Application Developer', 'salary': 8000}}\n",
            "{'designation': 'Application Developer', 'salary': 8000}\n"
          ],
          "name": "stdout"
        }
      ]
    },
    {
      "cell_type": "markdown",
      "metadata": {
        "id": "Q5OJurjjvHQ-"
      },
      "source": [
        "5. Create a new dictionary by extracting the following keys from a given dictionary"
      ]
    },
    {
      "cell_type": "code",
      "metadata": {
        "id": "eKxWHWgGvIyl",
        "outputId": "c2e836fe-3c5d-4529-cdc1-b08b01002fbc",
        "colab": {
          "base_uri": "https://localhost:8080/",
          "height": 36
        }
      },
      "source": [
        "sampleDict = { \n",
        "  \"name\": \"Kelly\",\n",
        "  \"age\":25, \n",
        "  \"salary\": 8000, \n",
        "  \"city\": \"New york\" }\n",
        "\n",
        "keys = [\"name\", \"salary\"]\n",
        "\n",
        "newDict = {k: sampleDict[k] for k in keys}\n",
        "print(newDict)"
      ],
      "execution_count": 6,
      "outputs": [
        {
          "output_type": "stream",
          "text": [
            "{'name': 'Kelly', 'salary': 8000}\n"
          ],
          "name": "stdout"
        }
      ]
    },
    {
      "cell_type": "markdown",
      "metadata": {
        "id": "l_H4zLNtvQ2t"
      },
      "source": [
        "6. Delete set of keys from Python Dictionary"
      ]
    },
    {
      "cell_type": "code",
      "metadata": {
        "id": "NQBgQpy0vWZB",
        "outputId": "ce6ab348-b339-4d66-9e25-328e5cb795ab",
        "colab": {
          "base_uri": "https://localhost:8080/",
          "height": 36
        }
      },
      "source": [
        "sampleDict = {\n",
        "  \"name\": \"Kelly\",\n",
        "  \"age\":25,\n",
        "  \"salary\": 8000,\n",
        "  \"city\": \"New york\"\n",
        "}\n",
        "keysToRemove = [\"name\", \"salary\"]\n",
        "\n",
        "sampleDict = {k: sampleDict[k] for k in sampleDict.keys() - keysToRemove}\n",
        "print(sampleDict)"
      ],
      "execution_count": 7,
      "outputs": [
        {
          "output_type": "stream",
          "text": [
            "{'city': 'New york', 'age': 25}\n"
          ],
          "name": "stdout"
        }
      ]
    },
    {
      "cell_type": "markdown",
      "metadata": {
        "id": "0aOJT7g8ve6u"
      },
      "source": [
        "7. Check if a value 200 exists in a dictionary"
      ]
    },
    {
      "cell_type": "code",
      "metadata": {
        "id": "se2OIFeNvjpj",
        "outputId": "5c94626d-b4ae-4638-aec0-a6fe492287ec",
        "colab": {
          "base_uri": "https://localhost:8080/",
          "height": 36
        }
      },
      "source": [
        "sampleDict = {'a': 100, 'b': 200, 'c': 300}\n",
        "print(200 in sampleDict.values())"
      ],
      "execution_count": 8,
      "outputs": [
        {
          "output_type": "stream",
          "text": [
            "True\n"
          ],
          "name": "stdout"
        }
      ]
    },
    {
      "cell_type": "markdown",
      "metadata": {
        "id": "3qtcB6Ykvo0S"
      },
      "source": [
        "8. Rename key city to location in the following dictionary"
      ]
    },
    {
      "cell_type": "code",
      "metadata": {
        "id": "2Ba3m9mHvs1y",
        "outputId": "62ff2e7a-ce1d-4958-e889-0549a5987079",
        "colab": {
          "base_uri": "https://localhost:8080/",
          "height": 36
        }
      },
      "source": [
        "sampleDict = {\n",
        "  \"name\": \"Kelly\",\n",
        "  \"age\":25,\n",
        "  \"salary\": 8000,\n",
        "  \"city\": \"New york\"\n",
        "}\n",
        "\n",
        "sampleDict['location'] = sampleDict.pop('city')\n",
        "print(sampleDict)"
      ],
      "execution_count": 9,
      "outputs": [
        {
          "output_type": "stream",
          "text": [
            "{'name': 'Kelly', 'age': 25, 'salary': 8000, 'location': 'New york'}\n"
          ],
          "name": "stdout"
        }
      ]
    },
    {
      "cell_type": "markdown",
      "metadata": {
        "id": "WAeBzg4_wDQf"
      },
      "source": [
        "9. Get the key corresponding to the minimum value from the following dictionary"
      ]
    },
    {
      "cell_type": "code",
      "metadata": {
        "id": "Usd-uI51wE2C",
        "outputId": "ca6c884a-1d34-4ca2-d029-1d979ff34e5e",
        "colab": {
          "base_uri": "https://localhost:8080/",
          "height": 36
        }
      },
      "source": [
        "sampleDict = {\n",
        "  'Physics': 82,\n",
        "  'Math': 65,\n",
        "  'history': 75\n",
        "}\n",
        "print(min(sampleDict, key=sampleDict.get))"
      ],
      "execution_count": 10,
      "outputs": [
        {
          "output_type": "stream",
          "text": [
            "Math\n"
          ],
          "name": "stdout"
        }
      ]
    },
    {
      "cell_type": "markdown",
      "metadata": {
        "id": "TuQTQqnewJfX"
      },
      "source": [
        "10. Given a Python dictionary, Change Brad’s salary to 8500"
      ]
    },
    {
      "cell_type": "code",
      "metadata": {
        "id": "8TQaAKJLwP1H",
        "outputId": "05639476-ba72-4fe4-9789-0894b5510d8e",
        "colab": {
          "base_uri": "https://localhost:8080/",
          "height": 36
        }
      },
      "source": [
        "sampleDict = {\n",
        "     'emp1': {'name': 'Jhon', 'salary': 7500},\n",
        "     'emp2': {'name': 'Emma', 'salary': 8000},\n",
        "     'emp3': {'name': 'Brad', 'salary': 6500}\n",
        "}\n",
        "sampleDict = {\n",
        "     'emp1': {'name': 'Jhon', 'salary': 7500},\n",
        "     'emp2': {'name': 'Emma', 'salary': 8000},\n",
        "     'emp3': {'name': 'Brad', 'salary': 8500}\n",
        "}\n",
        "sampleDict['emp3']['salary'] = 8500\n",
        "print(sampleDict)"
      ],
      "execution_count": 19,
      "outputs": [
        {
          "output_type": "stream",
          "text": [
            "{'emp1': {'name': 'Jhon', 'salary': 7500}, 'emp2': {'name': 'Emma', 'salary': 8000}, 'emp3': {'name': 'Brad', 'salary': 8500}}\n"
          ],
          "name": "stdout"
        }
      ]
    }
  ]
}