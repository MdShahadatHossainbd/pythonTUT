{
  "nbformat": 4,
  "nbformat_minor": 0,
  "metadata": {
    "colab": {
      "name": "07. String.ipynb",
      "provenance": [],
      "authorship_tag": "ABX9TyO3deMzcNJ4534NPov62Z1r",
      "include_colab_link": true
    },
    "kernelspec": {
      "name": "python3",
      "display_name": "Python 3"
    }
  },
  "cells": [
    {
      "cell_type": "markdown",
      "metadata": {
        "id": "view-in-github",
        "colab_type": "text"
      },
      "source": [
        "<a href=\"https://colab.research.google.com/github/MdShahadatHossainbd/pythonTUT/blob/master/07_String.ipynb\" target=\"_parent\"><img src=\"https://colab.research.google.com/assets/colab-badge.svg\" alt=\"Open In Colab\"/></a>"
      ]
    },
    {
      "cell_type": "markdown",
      "metadata": {
        "id": "pZ1dUZkm2X7p"
      },
      "source": [
        "1. Given a string of odd length greater 7, return a string made of the middle three chars of a given String"
      ]
    },
    {
      "cell_type": "code",
      "metadata": {
        "id": "UhKBMvu12H4L",
        "outputId": "f1dede0a-6b69-47c2-8a65-d8ad217127c7",
        "colab": {
          "base_uri": "https://localhost:8080/",
          "height": 94
        }
      },
      "source": [
        "def getMiddleThreeChars(sampleStr):\n",
        "  middleIndex = int(len(sampleStr) /2)\n",
        "  print(\"Original String is\", sampleStr)\n",
        "  middleThree = sampleStr[middleIndex-1:middleIndex+2]\n",
        "  print(\"Middle three chars are\", middleThree)\n",
        "  \n",
        "getMiddleThreeChars(\"JhonDipPeta\")\n",
        "getMiddleThreeChars(\"Jasonay\")"
      ],
      "execution_count": 1,
      "outputs": [
        {
          "output_type": "stream",
          "text": [
            "Original String is JhonDipPeta\n",
            "Middle three chars are Dip\n",
            "Original String is Jasonay\n",
            "Middle three chars are son\n"
          ],
          "name": "stdout"
        }
      ]
    },
    {
      "cell_type": "markdown",
      "metadata": {
        "id": "CdGEPMor3C9l"
      },
      "source": [
        "2. Given 2 strings, s1 and s2, create a new string by appending s2 in the middle of s1"
      ]
    },
    {
      "cell_type": "code",
      "metadata": {
        "id": "_0rGCLR-3IQv",
        "outputId": "bce68bd1-4dac-40b8-d740-c0706f1cc91e",
        "colab": {
          "base_uri": "https://localhost:8080/",
          "height": 94
        }
      },
      "source": [
        "def appendMiddle(s1, s2):\n",
        "  middleIndex = int(len(s1) /2)\n",
        "  print(\"Original Strings are\", s1, s2)\n",
        "  middleThree = s1[:middleIndex:]+ s2 +s1[middleIndex:]\n",
        "  print(\"After appending new string in middle\", middleThree)\n",
        "  \n",
        "appendMiddle(\"Ault\", \"Kelly\")\n",
        "appendMiddle(\"Shahadat\", \"SHOVU\")"
      ],
      "execution_count": 4,
      "outputs": [
        {
          "output_type": "stream",
          "text": [
            "Original Strings are Ault Kelly\n",
            "After appending new string in middle AuKellylt\n",
            "Original Strings are Shahadat SHOVU\n",
            "After appending new string in middle ShahSHOVUadat\n"
          ],
          "name": "stdout"
        }
      ]
    },
    {
      "cell_type": "markdown",
      "metadata": {
        "id": "ElyUzHNa4QXA"
      },
      "source": [
        "3. Given 2 strings, s1, and s2 return a new string made of the first, middle and last char each input string"
      ]
    },
    {
      "cell_type": "code",
      "metadata": {
        "id": "-UYpSEeF45V0",
        "outputId": "ad41124e-c1d9-446a-f825-514b9af19cc1",
        "colab": {
          "base_uri": "https://localhost:8080/",
          "height": 36
        }
      },
      "source": [
        "def mix_string(s1, s2):\n",
        "    first_char = s1[:1] + s2[:1]\n",
        "    middle_char = s1[int(len(s1) / 2):int(len(s1) / 2) + 1] + s2[int(len(s2) / 2):int(len(s2) / 2) + 1]\n",
        "    last_char = s1[len(s1) - 1] + s2[len(s2) - 1]\n",
        "    res = first_char + middle_char + last_char\n",
        "    print(\"Mix String is \", res)\n",
        "\n",
        "s1 = \"America\"\n",
        "s2 = \"Japan\"\n",
        "mix_string(s1, s2)"
      ],
      "execution_count": 5,
      "outputs": [
        {
          "output_type": "stream",
          "text": [
            "Mix String is  AJrpan\n"
          ],
          "name": "stdout"
        }
      ]
    },
    {
      "cell_type": "markdown",
      "metadata": {
        "id": "XigqGkXr5G3t"
      },
      "source": [
        "4. Arrange string characters such that lowercase letters should come first"
      ]
    },
    {
      "cell_type": "code",
      "metadata": {
        "id": "n4hMIu865Z29",
        "outputId": "4e321e58-db76-480b-c49b-95c9e5fa4744",
        "colab": {
          "base_uri": "https://localhost:8080/",
          "height": 55
        }
      },
      "source": [
        "str1 = \"PyNaTiveBd\"\n",
        "lower = []\n",
        "upper = []\n",
        "for char in str1:\n",
        "    if char.islower():\n",
        "        lower.append(char)\n",
        "    else:\n",
        "        upper.append(char)\n",
        "sorted_string = ''.join(lower + upper)\n",
        "print(\"arranging characters giving precedence to lowercase letters:\")\n",
        "print(sorted_string)"
      ],
      "execution_count": 7,
      "outputs": [
        {
          "output_type": "stream",
          "text": [
            "arranging characters giving precedence to lowercase letters:\n",
            "yaivedPNTB\n"
          ],
          "name": "stdout"
        }
      ]
    },
    {
      "cell_type": "markdown",
      "metadata": {
        "id": "rZkx3alV6weF"
      },
      "source": [
        "5. Count all lower case, upper case, digits, and special symbols from a given string"
      ]
    },
    {
      "cell_type": "code",
      "metadata": {
        "id": "3XgvaGde6x8C",
        "outputId": "84a0d3e3-de0d-4928-d49a-e943f87a2f20",
        "colab": {
          "base_uri": "https://localhost:8080/",
          "height": 75
        }
      },
      "source": [
        "def findDigitsCharsSymbols(inputString):\n",
        "  charCount = 0\n",
        "  digitCount = 0\n",
        "  symbolCount = 0\n",
        "  for char in inputString:\n",
        "    if char.islower() or char.isupper():\n",
        "      charCount+=1\n",
        "    elif char.isnumeric():\n",
        "      digitCount+=1\n",
        "    else:\n",
        "      symbolCount+=1\n",
        "      \n",
        "  print(\"Chars = \", charCount, \"Digits = \", digitCount, \"Symbol = \", symbolCount)\n",
        "      \n",
        "inputString = \"P@#yn26at^&i5ve\"\n",
        "print(\"total counts of chars, digits,and symbols \\n\")\n",
        "\n",
        "findDigitsCharsSymbols(inputString)"
      ],
      "execution_count": 8,
      "outputs": [
        {
          "output_type": "stream",
          "text": [
            "total counts of chars, digits,and symbols \n",
            "\n",
            "Chars =  8 Digits =  3 Symbol =  4\n"
          ],
          "name": "stdout"
        }
      ]
    },
    {
      "cell_type": "markdown",
      "metadata": {
        "id": "sHJpyjI27KQN"
      },
      "source": [
        "6. Given two strings, s1 and s2, create a mixed String"
      ]
    },
    {
      "cell_type": "code",
      "metadata": {
        "id": "xxXrKjOK7dxU",
        "outputId": "ca4536fe-6853-493e-cbd8-7915a165957d",
        "colab": {
          "base_uri": "https://localhost:8080/",
          "height": 36
        }
      },
      "source": [
        "def mixString(s1, s2):\n",
        "  s2 = s2[::-1]\n",
        "  lengthS1 = len(s1)\n",
        "  lengthS2 = len(s2)\n",
        "  length  = lengthS1 if lengthS1 > lengthS2 else lengthS2 \n",
        "  resultString=\"\"\n",
        "  for i in range(length):\n",
        "    if(i < lengthS1):\n",
        "      resultString = resultString + s1[i]\n",
        "    if(i < lengthS2):\n",
        "      resultString = resultString + s2[i]\n",
        "    \n",
        "  print(resultString)\n",
        "  \n",
        "s1 = \"Abc\"\n",
        "s2 = \"Xyz\"\n",
        "mixString(s1, s2)"
      ],
      "execution_count": 9,
      "outputs": [
        {
          "output_type": "stream",
          "text": [
            "AzbycX\n"
          ],
          "name": "stdout"
        }
      ]
    },
    {
      "cell_type": "markdown",
      "metadata": {
        "id": "JTVHKud17rVZ"
      },
      "source": [
        "7. String characters balance Test"
      ]
    },
    {
      "cell_type": "code",
      "metadata": {
        "id": "S1U9Xo247xFx",
        "outputId": "f42c9137-c4d2-433c-fc33-f15a27785eae",
        "colab": {
          "base_uri": "https://localhost:8080/",
          "height": 55
        }
      },
      "source": [
        "def stringBalanceCheck(s1, s2):\n",
        "  flag = True\n",
        "  for char in s1:\n",
        "    if char in s2:\n",
        "      continue\n",
        "    else:\n",
        "      flag = False\n",
        "  return flag\n",
        "  \n",
        "s1 = \"Yn\"\n",
        "s2 = \"PYnative\"\n",
        "flag = stringBalanceCheck(s1, s2)\n",
        "print(\"s1 and s2 are balanced\", flag)\n",
        "\n",
        "s1 = \"Ynf\"\n",
        "s2 = \"PYnative\"\n",
        "flag = stringBalanceCheck(s1, s2)\n",
        "print(\"s1 and s2 are balanced\", flag)"
      ],
      "execution_count": 10,
      "outputs": [
        {
          "output_type": "stream",
          "text": [
            "s1 and s2 are balanced True\n",
            "s1 and s2 are balanced False\n"
          ],
          "name": "stdout"
        }
      ]
    },
    {
      "cell_type": "markdown",
      "metadata": {
        "id": "ChvdQv0l_hyq"
      },
      "source": [
        "8. Find all occurrences of “USA” in given string ignoring the case"
      ]
    },
    {
      "cell_type": "code",
      "metadata": {
        "id": "eeiXLLdH_mvs",
        "outputId": "ec2236fb-e87d-4e71-e129-f87d0709ca39",
        "colab": {
          "base_uri": "https://localhost:8080/",
          "height": 36
        }
      },
      "source": [
        "inputString = \"Welcome to USA. usa awesome, isn't it?\"\n",
        "substring = \"USA\"\n",
        "tempString = inputString.lower()\n",
        "count = tempString.count(substring.lower())\n",
        "print(\"The USA count is:\", count)"
      ],
      "execution_count": 18,
      "outputs": [
        {
          "output_type": "stream",
          "text": [
            "The USA count is: 2\n"
          ],
          "name": "stdout"
        }
      ]
    },
    {
      "cell_type": "markdown",
      "metadata": {
        "id": "n1E4hG2xAEs2"
      },
      "source": [
        "9. Given a string, return the sum and average of the digits that appear in the string, ignoring all other characters"
      ]
    },
    {
      "cell_type": "code",
      "metadata": {
        "id": "VYOSNZ_EAMdx",
        "outputId": "6bd1a840-3d56-4a13-d3c9-e55b555ddf58",
        "colab": {
          "base_uri": "https://localhost:8080/",
          "height": 36
        }
      },
      "source": [
        "import re\n",
        "\n",
        "inputStr = \"English = 78 Science = 83 Math = 68 History = 65\"\n",
        "markList = [int(num) for num in re.findall(r'\\b\\d+\\b', inputStr)]\n",
        "totalMarks = 0\n",
        "for mark in markList:\n",
        "  totalMarks+=mark\n",
        "\n",
        "percentage = totalMarks/len(markList)  \n",
        "print(\"Total Marks is:\", totalMarks, \"Percentage is \", percentage)"
      ],
      "execution_count": 19,
      "outputs": [
        {
          "output_type": "stream",
          "text": [
            "Total Marks is: 294 Percentage is  73.5\n"
          ],
          "name": "stdout"
        }
      ]
    },
    {
      "cell_type": "markdown",
      "metadata": {
        "id": "EqjJTj6mAXoF"
      },
      "source": [
        "10. Given an input string, count occurrences of all characters within a string"
      ]
    },
    {
      "cell_type": "code",
      "metadata": {
        "id": "f0FQsZ92AdHA",
        "outputId": "256078eb-ec31-414e-c0aa-3250cac614d8",
        "colab": {
          "base_uri": "https://localhost:8080/",
          "height": 36
        }
      },
      "source": [
        "str1 = \"Apple\"\n",
        "countDict = dict()\n",
        "for char in str1:\n",
        "  count = str1.count(char)\n",
        "  countDict[char]=count\n",
        "print(countDict)"
      ],
      "execution_count": 20,
      "outputs": [
        {
          "output_type": "stream",
          "text": [
            "{'A': 1, 'p': 2, 'l': 1, 'e': 1}\n"
          ],
          "name": "stdout"
        }
      ]
    },
    {
      "cell_type": "markdown",
      "metadata": {
        "id": "sn9XUz1WAlgb"
      },
      "source": [
        "11. Reverse a given string"
      ]
    },
    {
      "cell_type": "code",
      "metadata": {
        "id": "HyaJ3Ww5Aq2E",
        "outputId": "ce980658-18cd-4391-f953-eab86d3b6790",
        "colab": {
          "base_uri": "https://localhost:8080/",
          "height": 55
        }
      },
      "source": [
        "str1 = \"PYnative\"\n",
        "print(\"Original String is:\", str1)\n",
        "\n",
        "str1 = str1[::-1]\n",
        "print(\"Reversed String is:\", str1)"
      ],
      "execution_count": 21,
      "outputs": [
        {
          "output_type": "stream",
          "text": [
            "Original String is: PYnative\n",
            "Reversed String is: evitanYP\n"
          ],
          "name": "stdout"
        }
      ]
    },
    {
      "cell_type": "code",
      "metadata": {
        "id": "1BQxkqGGAxav",
        "outputId": "02c73712-bda6-4288-a377-ac54fa03874b",
        "colab": {
          "base_uri": "https://localhost:8080/",
          "height": 55
        }
      },
      "source": [
        "str1 = \"PYnative\"\n",
        "print(\"Original String is:\", str1)\n",
        "\n",
        "str1 = ''.join(reversed(str1))\n",
        "print(\"Reversed String is:\", str1)"
      ],
      "execution_count": 22,
      "outputs": [
        {
          "output_type": "stream",
          "text": [
            "Original String is: PYnative\n",
            "Reversed String is: evitanYP\n"
          ],
          "name": "stdout"
        }
      ]
    },
    {
      "cell_type": "markdown",
      "metadata": {
        "id": "4N2yLYU3Aufj"
      },
      "source": [
        "12. Find the last position of a substring “Emma” in a given string"
      ]
    },
    {
      "cell_type": "code",
      "metadata": {
        "id": "NE6wMR94A8c4",
        "outputId": "ac03ccaf-80d0-4337-bfc9-c18a21158222",
        "colab": {
          "base_uri": "https://localhost:8080/",
          "height": 55
        }
      },
      "source": [
        "str1 = \"Emma is a data scientist who knows Python. Emma works at google.\"\n",
        "print(\"Original String is:\", str1)\n",
        "\n",
        "index = str1.rfind(\"Emma\")\n",
        "print(\"Last occurrence of Emma starts at\", index)"
      ],
      "execution_count": 23,
      "outputs": [
        {
          "output_type": "stream",
          "text": [
            "Original String is: Emma is a data scientist who knows Python. Emma works at google.\n",
            "Last occurrence of Emma starts at 43\n"
          ],
          "name": "stdout"
        }
      ]
    },
    {
      "cell_type": "code",
      "metadata": {
        "id": "o_mqKR9DBILd",
        "outputId": "9d32daf6-0826-4009-eacf-df276ca062dc",
        "colab": {
          "base_uri": "https://localhost:8080/",
          "height": 36
        }
      },
      "source": [
        "str1 = \"Emma is a data scientist who knows Python. Emma works at google.\"\n",
        "index = str1.rfind(\"Emma\")\n",
        "print(index)"
      ],
      "execution_count": 24,
      "outputs": [
        {
          "output_type": "stream",
          "text": [
            "43\n"
          ],
          "name": "stdout"
        }
      ]
    },
    {
      "cell_type": "markdown",
      "metadata": {
        "id": "4GckooRUBOvV"
      },
      "source": [
        "13. Split a given string on hyphens into several substrings and display each substring"
      ]
    },
    {
      "cell_type": "code",
      "metadata": {
        "id": "IyAdOirwBT9R",
        "outputId": "794b6f7c-d843-4d7c-a6f8-47c2c68a725b",
        "colab": {
          "base_uri": "https://localhost:8080/",
          "height": 152
        }
      },
      "source": [
        "str1 = \"Emma-is-a-data-scientist\"\n",
        "print(\"Original String is:\", str1)\n",
        "\n",
        "# split string\n",
        "substrings = str1.split(\"-\")\n",
        "\n",
        "print(\"Displaying each substring\")\n",
        "for sub in substrings:\n",
        "    print(sub)"
      ],
      "execution_count": 25,
      "outputs": [
        {
          "output_type": "stream",
          "text": [
            "Original String is: Emma-is-a-data-scientist\n",
            "Displaying each substring\n",
            "Emma\n",
            "is\n",
            "a\n",
            "data\n",
            "scientist\n"
          ],
          "name": "stdout"
        }
      ]
    },
    {
      "cell_type": "markdown",
      "metadata": {
        "id": "7LHs89SuBapx"
      },
      "source": [
        "14. Remove empty strings from a list of strings"
      ]
    },
    {
      "cell_type": "code",
      "metadata": {
        "id": "2OcpL20HBkzm",
        "outputId": "2cdf13d9-eb5a-4008-8956-faf956753fe6",
        "colab": {
          "base_uri": "https://localhost:8080/",
          "height": 94
        }
      },
      "source": [
        "str_list = [\"Emma\", \"Jon\", \"\", \"Kelly\", None, \"Eric\", \"\"]\n",
        "print(\"Original list of sting\")\n",
        "print(str_list)\n",
        "\n",
        "# use built-in function filter to filter empty value\n",
        "new_str_list = list(filter(None, str_list))\n",
        "\n",
        "print(\"After removing empty strings\")\n",
        "print(new_str_list)"
      ],
      "execution_count": 26,
      "outputs": [
        {
          "output_type": "stream",
          "text": [
            "Original list of sting\n",
            "['Emma', 'Jon', '', 'Kelly', None, 'Eric', '']\n",
            "After removing empty strings\n",
            "['Emma', 'Jon', 'Kelly', 'Eric']\n"
          ],
          "name": "stdout"
        }
      ]
    },
    {
      "cell_type": "markdown",
      "metadata": {
        "id": "J_sRQbB2Bp8k"
      },
      "source": [
        "15. Remove special symbols/Punctuation from a given string"
      ]
    },
    {
      "cell_type": "code",
      "metadata": {
        "id": "6doaOhXuBvnt",
        "outputId": "6a9e0046-0dc1-4cf4-bf3c-dec031f3e0d8",
        "colab": {
          "base_uri": "https://localhost:8080/",
          "height": 55
        }
      },
      "source": [
        "import string\n",
        "\n",
        "str1 = \"/*Jon is @developer & musician\"\n",
        "print(\"Original string is \", str1)\n",
        "\n",
        "# use translate function of a string\n",
        "# and maketrans function of str class\n",
        "new_str = str1.translate(str.maketrans('', '', string.punctuation))\n",
        "\n",
        "print(\"New string is \", new_str)"
      ],
      "execution_count": 27,
      "outputs": [
        {
          "output_type": "stream",
          "text": [
            "Original string is  /*Jon is @developer & musician\n",
            "New string is  Jon is developer  musician\n"
          ],
          "name": "stdout"
        }
      ]
    },
    {
      "cell_type": "code",
      "metadata": {
        "id": "aXr6-rGgB5cy",
        "outputId": "038972d6-538d-4f9b-f63f-1aaacaba6670",
        "colab": {
          "base_uri": "https://localhost:8080/",
          "height": 55
        }
      },
      "source": [
        "import re\n",
        "\n",
        "str1 = \"/*Jon is @developer & musician\"\n",
        "print(\"Original string is \", str1)\n",
        "\n",
        "str2 = re.sub(r'[^\\w\\s]', '', str1)\n",
        "print(\"New string is \", str2)"
      ],
      "execution_count": 28,
      "outputs": [
        {
          "output_type": "stream",
          "text": [
            "Original string is  /*Jon is @developer & musician\n",
            "New string is  Jon is developer  musician\n"
          ],
          "name": "stdout"
        }
      ]
    },
    {
      "cell_type": "markdown",
      "metadata": {
        "id": "Gdd192krB9Tk"
      },
      "source": [
        "16. Removal all the characters other than integers from string"
      ]
    },
    {
      "cell_type": "code",
      "metadata": {
        "id": "tR5M48iUCBU4",
        "outputId": "27343902-8353-4027-8565-a997e90f7d00",
        "colab": {
          "base_uri": "https://localhost:8080/",
          "height": 55
        }
      },
      "source": [
        "str1 = 'I am 25 years and 10 months old'\n",
        "print(\"Original string is\", str1)\n",
        "\n",
        "# Retain Numbers in String\n",
        "# Using list comprehension + join() + isdigit()\n",
        "res = \"\".join([item for item in str1 if item.isdigit()])\n",
        "\n",
        "print(res)"
      ],
      "execution_count": 29,
      "outputs": [
        {
          "output_type": "stream",
          "text": [
            "Original string is I am 25 years and 10 months old\n",
            "2510\n"
          ],
          "name": "stdout"
        }
      ]
    },
    {
      "cell_type": "markdown",
      "metadata": {
        "id": "lKGoUxcGCQaM"
      },
      "source": [
        "17. Find words with both alphabets and numbers"
      ]
    },
    {
      "cell_type": "code",
      "metadata": {
        "id": "NqADnyx6CU2q",
        "outputId": "cddf9ca2-23dc-4b8e-ae8e-b0b239ad7bb8",
        "colab": {
          "base_uri": "https://localhost:8080/",
          "height": 94
        }
      },
      "source": [
        "str1 = \"Emma25 is Data scientist50 and AI Expert\"\n",
        "print(\"The original string is : \" + str1)\n",
        "\n",
        "# Words with both alphabets and numbers\n",
        "# isdigit() for numbers + isalpha() for alphabets\n",
        "# use any() to check each character\n",
        "\n",
        "res = []\n",
        "temp = str1.split()\n",
        "for item in temp:\n",
        "    if any(char.isalpha() for char in item) and any(char.isdigit() for char in item):\n",
        "        res.append(item)\n",
        "\n",
        "print(\"Displaying words with alphabets and numbers\")\n",
        "for i in res:\n",
        "    print(i)"
      ],
      "execution_count": 30,
      "outputs": [
        {
          "output_type": "stream",
          "text": [
            "The original string is : Emma25 is Data scientist50 and AI Expert\n",
            "Displaying words with alphabets and numbers\n",
            "Emma25\n",
            "scientist50\n"
          ],
          "name": "stdout"
        }
      ]
    },
    {
      "cell_type": "markdown",
      "metadata": {
        "id": "jRZ4FYYJCbFm"
      },
      "source": [
        "18. From given string replace each punctuation with #"
      ]
    },
    {
      "cell_type": "code",
      "metadata": {
        "id": "V3_p3mIBChG0",
        "outputId": "4347898f-862a-4ece-d9bf-c018a482bab1",
        "colab": {
          "base_uri": "https://localhost:8080/",
          "height": 55
        }
      },
      "source": [
        "from string import punctuation\n",
        "\n",
        "str1 = '/*Jon is @developer & musician!!'\n",
        "print(\"The original string is : \", str1)\n",
        "\n",
        "# Replace punctuations with #\n",
        "replace_char = '#'\n",
        "\n",
        "# Using string.punctuation to get the list of all punctuations\n",
        "# use string function replace() to replace each punctuation with #\n",
        "\n",
        "for char in punctuation:\n",
        "    str1 = str1.replace(char, replace_char)\n",
        "\n",
        "print(\"The strings after replacement : \", str1)"
      ],
      "execution_count": 31,
      "outputs": [
        {
          "output_type": "stream",
          "text": [
            "The original string is :  /*Jon is @developer & musician!!\n",
            "The strings after replacement :  ##Jon is #developer # musician##\n"
          ],
          "name": "stdout"
        }
      ]
    }
  ]
}