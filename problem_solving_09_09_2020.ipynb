{
  "nbformat": 4,
  "nbformat_minor": 0,
  "metadata": {
    "colab": {
      "name": "problem solving 09.09.2020.ipynb",
      "provenance": [],
      "authorship_tag": "ABX9TyNiGMGoQDu/+vTl0vLu0dCj",
      "include_colab_link": true
    },
    "kernelspec": {
      "name": "python3",
      "display_name": "Python 3"
    }
  },
  "cells": [
    {
      "cell_type": "markdown",
      "metadata": {
        "id": "view-in-github",
        "colab_type": "text"
      },
      "source": [
        "<a href=\"https://colab.research.google.com/github/MdShahadatHossainbd/pythonTUT/blob/master/problem_solving_09_09_2020.ipynb\" target=\"_parent\"><img src=\"https://colab.research.google.com/assets/colab-badge.svg\" alt=\"Open In Colab\"/></a>"
      ]
    },
    {
      "cell_type": "markdown",
      "metadata": {
        "id": "jNpLktBjq5PR",
        "colab_type": "text"
      },
      "source": [
        "**1. Get unique values from a list in Python**\n",
        "\n",
        "A list in python is a number of items placed with in [] which may or may not have same data types. It can also contain duplicates. In this article we will see how to extract only the unique values from a list.\n",
        "\n",
        "\n",
        "\n",
        "**With append()**\n",
        "\n",
        "In this approach we will first create a new empty list and then keep appending elements to this new list only if it is not already present in this new list. A for loop is used along with not in condition. It checks for the existence of the incoming element and it is appended only if it is not already present."
      ]
    },
    {
      "cell_type": "code",
      "metadata": {
        "id": "OLIVDy90qaqo",
        "colab_type": "code",
        "colab": {
          "base_uri": "https://localhost:8080/",
          "height": 109
        },
        "outputId": "05665c1f-7296-4e86-c41c-f715791bb9f3"
      },
      "source": [
        "def catch_unique(list_in):\n",
        "   # intilize an empty list\n",
        "   unq_list = []\n",
        "\n",
        "   # Check for elements\n",
        "   for x in list_in:\n",
        "      # check if exists in unq_list\n",
        "      if x not in unq_list:\n",
        "         unq_list.append(x)\n",
        "         # print list\n",
        "   for x in unq_list:\n",
        "      print(x)\n",
        "\n",
        "Alist = ['Mon', 'Tue', 'Mon', 'wed', 40, 40]\n",
        "print(\"Unique values from the list is\")\n",
        "catch_unique(Alist)"
      ],
      "execution_count": null,
      "outputs": [
        {
          "output_type": "stream",
          "text": [
            "Unique values from the list is\n",
            "Mon\n",
            "Tue\n",
            "wed\n",
            "40\n"
          ],
          "name": "stdout"
        }
      ]
    },
    {
      "cell_type": "markdown",
      "metadata": {
        "id": "8IEYT5yrta_I",
        "colab_type": "text"
      },
      "source": [
        "With Set()\n",
        "\n",
        "A set only contains unique values. In this approach we convert the list to a set and then convert the set back to a list which holds all the unique elements.\n"
      ]
    },
    {
      "cell_type": "code",
      "metadata": {
        "id": "MnlvrGwPtd6W",
        "colab_type": "code",
        "colab": {
          "base_uri": "https://localhost:8080/",
          "height": 54
        },
        "outputId": "4ce0d5e1-9315-4e05-8cea-39f8dd666739"
      },
      "source": [
        "Alist = ['Mon', 'Tue', 'Mon', 'wed', 40, 40]\n",
        "A_set = set(Alist)\n",
        "New_List=list(A_set)\n",
        "print(\"Unique values from the list is\")\n",
        "print(New_List)"
      ],
      "execution_count": null,
      "outputs": [
        {
          "output_type": "stream",
          "text": [
            "Unique values from the list is\n",
            "[40, 'Mon', 'Tue', 'wed']\n"
          ],
          "name": "stdout"
        }
      ]
    },
    {
      "cell_type": "markdown",
      "metadata": {
        "id": "QRC9dw-EtpGV",
        "colab_type": "text"
      },
      "source": [
        "Using numpy\n",
        "\n",
        "The numpy library has a function named unique which does the straight job of taking the list as input and giving the unique elements as a new list."
      ]
    },
    {
      "cell_type": "code",
      "metadata": {
        "id": "GJOOQFs8tqkw",
        "colab_type": "code",
        "colab": {
          "base_uri": "https://localhost:8080/",
          "height": 54
        },
        "outputId": "d38c2201-dd90-4d23-b180-a66ee6bf2136"
      },
      "source": [
        "import numpy as np\n",
        "\n",
        "Alist = ['Mon', 'Tue', 'Mon', 'wed', 40, 40]\n",
        "print(\"The unique values from list is: \")\n",
        "print(np.unique(Alist))"
      ],
      "execution_count": null,
      "outputs": [
        {
          "output_type": "stream",
          "text": [
            "The unique values from list is: \n",
            "['40' 'Mon' 'Tue' 'wed']\n"
          ],
          "name": "stdout"
        }
      ]
    },
    {
      "cell_type": "markdown",
      "metadata": {
        "id": "bmP6cyu3uDJP",
        "colab_type": "text"
      },
      "source": [
        "Method 1 : Traversal of list\n",
        "\n",
        "Using traversal, we can traverse for every element in the list and check if the element is in the unique_list already if it is not over there, then we can append it in the unique_list. This is done using one for loop and other if statement which check if the value is in the unique list or not which is equivalent to another for loop. "
      ]
    },
    {
      "cell_type": "code",
      "metadata": {
        "id": "IGdiXov5uEkr",
        "colab_type": "code",
        "colab": {
          "base_uri": "https://localhost:8080/",
          "height": 237
        },
        "outputId": "ee781239-6ac6-4bf9-ea7f-fc6423dc895d"
      },
      "source": [
        "# Python program to check if two \n",
        "# to get unique values from list \n",
        "# using traversal \n",
        "\n",
        "# function to get unique values \n",
        "def unique(list1): \n",
        "\n",
        "\t# intilize a null list \n",
        "\tunique_list = [] \n",
        "\t\n",
        "\t# traverse for all elements \n",
        "\tfor x in list1: \n",
        "\t\t# check if exists in unique_list or not \n",
        "\t\tif x not in unique_list: \n",
        "\t\t\tunique_list.append(x) \n",
        "\t# print list \n",
        "\tfor x in unique_list: \n",
        "\t\tprint (x)\n",
        "\t\n",
        "\t\n",
        "\n",
        "# driver code \n",
        "list1 = [10, 20, 10, 30, 40, 40] \n",
        "print(\"the unique values from 1st list is\") \n",
        "unique(list1) \n",
        "\n",
        "\n",
        "list2 =[1, 2, 1, 1, 3, 4, 3, 3, 5] \n",
        "print(\"\\nthe unique values from 2nd list is\") \n",
        "unique(list2) \n"
      ],
      "execution_count": null,
      "outputs": [
        {
          "output_type": "stream",
          "text": [
            "the unique values from 1st list is\n",
            "10\n",
            "20\n",
            "30\n",
            "40\n",
            "\n",
            "the unique values from 2nd list is\n",
            "1\n",
            "2\n",
            "3\n",
            "4\n",
            "5\n"
          ],
          "name": "stdout"
        }
      ]
    },
    {
      "cell_type": "markdown",
      "metadata": {
        "id": "-CPpgU-Aue7h",
        "colab_type": "text"
      },
      "source": [
        "Method 2 : Using Set\n",
        "\n",
        "Using set() property of Python, we can easily check for the unique values. Insert the values of the list in a set. Set only stores a value once even if it is inserted more then once. After inserting all the values in the set by list_set=set(list1), convert this set to a list to print it."
      ]
    },
    {
      "cell_type": "code",
      "metadata": {
        "id": "OoThaio6ueeb",
        "colab_type": "code",
        "colab": {}
      },
      "source": [
        "# Python program to check if two \n",
        "# to get unique values from list \n",
        "# using set \n",
        "\n",
        "# function to get unique values \n",
        "def unique(list1): \n",
        "\t\n",
        "\t# insert the list to the set \n",
        "\tlist_set = set(list1) \n",
        "\t# convert the set to the list \n",
        "\tunique_list = (list(list_set)) \n",
        "\tfor x in unique_list: \n",
        "\t\tprint (x)\n",
        "\n",
        "# driver code \n",
        "list1 = [10, 20, 10, 30, 40, 40] \n",
        "print(\"the unique values from 1st list is\") \n",
        "unique(list1) \n",
        "\n",
        "\n",
        "list2 =[1, 2, 1, 1, 3, 4, 3, 3, 5] \n",
        "print(\"\\nthe unique values from 2nd list is\") \n",
        "unique(list2) \n"
      ],
      "execution_count": null,
      "outputs": []
    },
    {
      "cell_type": "markdown",
      "metadata": {
        "id": "uqNJAlobu3Ra",
        "colab_type": "text"
      },
      "source": [
        "Method 3 : Using numpy.unique\n",
        "\n",
        "Using Python’s import numpy, the unique elements in the array are also obtained. In first step convert the list to x=numpy.array(list) and then use numpy.unique(x) function to get the unique values from the list. numpy.unique() returns only the unique values in the list."
      ]
    },
    {
      "cell_type": "code",
      "metadata": {
        "id": "CBm0t6gou7mz",
        "colab_type": "code",
        "colab": {
          "base_uri": "https://localhost:8080/",
          "height": 109
        },
        "outputId": "ec4da724-c1f2-475c-d34b-a167e84cb5c1"
      },
      "source": [
        "#Ppython program to check if two \n",
        "# to get unique values from list \n",
        "# using numpy.unique \n",
        "import numpy as np \n",
        "\n",
        "# function to get unique values \n",
        "def unique(list1): \n",
        "\tx = np.array(list1) \n",
        "\tprint(np.unique(x)) \n",
        "\t\n",
        "\n",
        "# driver code \n",
        "list1 = [10, 20, 10, 30, 40, 40] \n",
        "print(\"the unique values from 1st list is\") \n",
        "unique(list1) \n",
        "\n",
        "\n",
        "list2 =[1, 2, 1, 1, 3, 4, 3, 3, 5] \n",
        "print(\"\\nthe unique values from 2nd list is\") \n",
        "unique(list2) \n"
      ],
      "execution_count": null,
      "outputs": [
        {
          "output_type": "stream",
          "text": [
            "the unique values from 1st list is\n",
            "[10 20 30 40]\n",
            "\n",
            "the unique values from 2nd list is\n",
            "[1 2 3 4 5]\n"
          ],
          "name": "stdout"
        }
      ]
    },
    {
      "cell_type": "markdown",
      "metadata": {
        "id": "AaCTwqkS8G-O",
        "colab_type": "text"
      },
      "source": [
        "**2. Python - Filter even values from a list**\n",
        "\n",
        "As part of data analysis require to filter out values from a list meeting certain criteria. In this article we'll see how to filter out only the even values from a list.\n",
        "\n",
        "We have to go through each element of the list and divide it with 2 to check for the remainder. If the remainder is zero then we consider it as an even number. After fetching these even numbers from a list we will put a condition to create a new list which excludes this even numbers. That new list is the result of the filtering condition we applied.\n",
        "\n",
        "\n",
        "**Using for Loop**\n",
        "\n",
        "This is the simplest way to read element of the list and check for divisibility with 2. The below code contains for loop which reads the elements and checks for divisibility by 2. Then it appends the correct element to an empty list, which will be the result of the filtering condition."
      ]
    },
    {
      "cell_type": "code",
      "metadata": {
        "id": "zKX2E3x58URh",
        "colab_type": "code",
        "colab": {
          "base_uri": "https://localhost:8080/",
          "height": 35
        },
        "outputId": "98698044-6d35-41ef-9103-d87feee79167"
      },
      "source": [
        "list_A = [33, 35, 36, 39, 40, 42]\n",
        "\n",
        "res = []\n",
        "\n",
        "for n in list_A:\n",
        "   if n % 2 == 0:\n",
        "      res.append(n)\n",
        "print(res)"
      ],
      "execution_count": null,
      "outputs": [
        {
          "output_type": "stream",
          "text": [
            "[36, 40, 42]\n"
          ],
          "name": "stdout"
        }
      ]
    },
    {
      "cell_type": "markdown",
      "metadata": {
        "id": "V5T4eL1I8h_J",
        "colab_type": "text"
      },
      "source": [
        "**Using While Loop**\n",
        "\n",
        "When we have lists of unknown lengths, we can use a while loop and the len() function to achieve the same thing which was there in the above program.\n"
      ]
    },
    {
      "cell_type": "code",
      "metadata": {
        "id": "nx0TcMhv8nRv",
        "colab_type": "code",
        "colab": {
          "base_uri": "https://localhost:8080/",
          "height": 35
        },
        "outputId": "edc3b1bd-b9b1-4fd0-9052-66417d0f0244"
      },
      "source": [
        "list_A = [33, 35, 36, 39, 40, 42]\n",
        "\n",
        "res = []\n",
        "n = 0\n",
        "\n",
        "while (n < len(list_A)):\n",
        "   if list_A[n] % 2 == 0:\n",
        "      res.append(list_A[n])\n",
        "   n += 1\n",
        "print(res)"
      ],
      "execution_count": null,
      "outputs": [
        {
          "output_type": "stream",
          "text": [
            "[36, 40, 42]\n"
          ],
          "name": "stdout"
        }
      ]
    },
    {
      "cell_type": "markdown",
      "metadata": {
        "id": "emzh9kRo8sMl",
        "colab_type": "text"
      },
      "source": [
        "**Using filter()**\n",
        "\n",
        "We can also use a combination of lambda and filter function. The items picked by lambda function can be filtered out from the original list by applying the filter function."
      ]
    },
    {
      "cell_type": "code",
      "metadata": {
        "id": "WgtcIjmC9CGi",
        "colab_type": "code",
        "colab": {
          "base_uri": "https://localhost:8080/",
          "height": 35
        },
        "outputId": "492e6eff-dd50-4820-fd9e-2b23e0b7dd91"
      },
      "source": [
        "list_A = [33, 35, 36, 39, 40, 42]\n",
        "\n",
        "res = []\n",
        "\n",
        "x = lambda m: m % 2 == 0\n",
        "res = list(filter(x, list_A))\n",
        "\n",
        "print(res)\n"
      ],
      "execution_count": null,
      "outputs": [
        {
          "output_type": "stream",
          "text": [
            "[36, 40, 42]\n"
          ],
          "name": "stdout"
        }
      ]
    },
    {
      "cell_type": "markdown",
      "metadata": {
        "id": "WY0hdayABUPs",
        "colab_type": "text"
      },
      "source": [
        "**3.  Program to print duplicates from a list of integers**\n",
        "\n"
      ]
    },
    {
      "cell_type": "code",
      "metadata": {
        "id": "n_OHFH2fBbfa",
        "colab_type": "code",
        "colab": {
          "base_uri": "https://localhost:8080/",
          "height": 35
        },
        "outputId": "45e38920-c349-4474-899f-277ec3187276"
      },
      "source": [
        "# Python program to print \n",
        "# duplicates from a list \n",
        "# of integers \n",
        "def Repeat(x): \n",
        "\t_size = len(x) \n",
        "\trepeated = [] \n",
        "\tfor i in range(_size): \n",
        "\t\tk = i + 1\n",
        "\t\tfor j in range(k, _size): \n",
        "\t\t\tif x[i] == x[j] and x[i] not in repeated: \n",
        "\t\t\t\trepeated.append(x[i]) \n",
        "\treturn repeated \n",
        "\n",
        "# Driver Code \n",
        "list1 = [10, 20, 30, 20, 20, 30, 40, \n",
        "\t\t50, -20, 60, 60, -20, -20] \n",
        "print (Repeat(list1)) \n",
        "\t\n",
        "# This code is contributed \n",
        "# by Sandeep_anand \n"
      ],
      "execution_count": null,
      "outputs": [
        {
          "output_type": "stream",
          "text": [
            "[20, 30, -20, 60]\n"
          ],
          "name": "stdout"
        }
      ]
    },
    {
      "cell_type": "code",
      "metadata": {
        "id": "Esu0TH3qC_Sm",
        "colab_type": "code",
        "colab": {
          "base_uri": "https://localhost:8080/",
          "height": 35
        },
        "outputId": "6db3a446-5086-4ce0-eaaa-dbb3d4509eee"
      },
      "source": [
        "a = [1,2,3,2,1,5,6,5,5,5]\n",
        "\n",
        "import collections\n",
        "print([item for item, count in collections.Counter(a).items() if count > 1])\n"
      ],
      "execution_count": null,
      "outputs": [
        {
          "output_type": "stream",
          "text": [
            "[1, 2, 5]\n"
          ],
          "name": "stdout"
        }
      ]
    },
    {
      "cell_type": "code",
      "metadata": {
        "id": "SuW6HRKzDNsF",
        "colab_type": "code",
        "colab": {
          "base_uri": "https://localhost:8080/",
          "height": 54
        },
        "outputId": "a3284c91-045b-41e7-ece8-849317c2761c"
      },
      "source": [
        "a = [[1], [2], [3], [1], [5], [3]]\n",
        "\n",
        "no_dupes = [x for n, x in enumerate(a) if x not in a[:n]]\n",
        "print (no_dupes) # [[1], [2], [3], [5]]\n",
        "\n",
        "dupes = [x for n, x in enumerate(a) if x in a[:n]]\n",
        "print (dupes) # [[1], [3]]"
      ],
      "execution_count": null,
      "outputs": [
        {
          "output_type": "stream",
          "text": [
            "[[1], [2], [3], [5]]\n",
            "[[1], [3]]\n"
          ],
          "name": "stdout"
        }
      ]
    },
    {
      "cell_type": "code",
      "metadata": {
        "id": "wdBsbZYnDgph",
        "colab_type": "code",
        "colab": {
          "base_uri": "https://localhost:8080/",
          "height": 35
        },
        "outputId": "c6af6fb9-633f-422d-8a68-269ed719183e"
      },
      "source": [
        "l = [1,2,3,4,4,5,5,6,1]\n",
        "set([x for x in l if l.count(x) > 1])\n"
      ],
      "execution_count": null,
      "outputs": [
        {
          "output_type": "execute_result",
          "data": {
            "text/plain": [
              "{1, 4, 5}"
            ]
          },
          "metadata": {
            "tags": []
          },
          "execution_count": 11
        }
      ]
    },
    {
      "cell_type": "code",
      "metadata": {
        "id": "A9gz-RFyEDLz",
        "colab_type": "code",
        "colab": {
          "base_uri": "https://localhost:8080/",
          "height": 54
        },
        "outputId": "145ffba0-456f-4657-e19d-94afa2ee1453"
      },
      "source": [
        "\n",
        "list1, list2 = str(['xyz', 'zara', 'abc']), [456, 700, 200]\n",
        "print (\"Max value element : \", max(list1))\n",
        "print (\"Max value element : \", max(list2))"
      ],
      "execution_count": null,
      "outputs": [
        {
          "output_type": "stream",
          "text": [
            "Max value element :  z\n",
            "Max value element :  700\n"
          ],
          "name": "stdout"
        }
      ]
    },
    {
      "cell_type": "markdown",
      "metadata": {
        "id": "EvPdX_qAfIQy",
        "colab_type": "text"
      },
      "source": [
        "**4. Compare Version Numbers in Python**\n",
        "\n",
        "Suppose we have to compare two version numbers version1 and version2. If the version1 > version2 then return 1; otherwise when version1 < version2 return -1; otherwise return 0. We can assume that the version strings are non-empty and contain only digits and the dot (.) characters. The dot character does not represent a decimal point and is used to separate number sequences. So for example, 2.5 is not \"two and a half\" or \"halfway to version three\", it is the fifth second-level revision of the second first-level revision.\n",
        "\n",
        "We can assume the default revision number for each level of a version number to be 0. For example, the version number 3.4 has a revision number of 3 and 4 for its first and second level revision number. Its third and fourth level revision number are both 0.\n",
        "\n",
        "So if the input is like version1 = “1.0.1” and version2 = “1”, then it will return +1.\n",
        "\n",
        "To solve this, we will follow these steps −\n",
        "\n",
        "    version1_arr = an array of numbers separated by dot for version1\n",
        "\n",
        "    version2_arr = an array of numbers separated by dot for version2\n",
        "\n",
        "    for i in range 0 to max of size of version1_arr and size of version2_arr −\n",
        "\n",
        "        v1 := version1_arr[i] if i < size of version1_arr, otherwise 0\n",
        "\n",
        "        v2 := version2_arr[i] if i < size of version2_arr, otherwise 0\n",
        "\n",
        "        if v1 > v2, then return 1, otherwise when v1 < v2, return -1\n",
        "\n",
        "    return 0"
      ]
    },
    {
      "cell_type": "code",
      "metadata": {
        "id": "8BFH8yuWfHwI",
        "colab_type": "code",
        "colab": {
          "base_uri": "https://localhost:8080/",
          "height": 35
        },
        "outputId": "634e988e-35d6-464d-eea5-8da0836a33ed"
      },
      "source": [
        "class Solution:\n",
        "   def compareVersion(self, version1, version2):\n",
        "      versions1 = [int(v) for v in version1.split(\".\")]\n",
        "      versions2 = [int(v) for v in version2.split(\".\")]\n",
        "      for i in range(max(len(versions1),len(versions2))):\n",
        "         v1 = versions1[i] if i < len(versions1) else 0\n",
        "         v2 = versions2[i] if i < len(versions2) else 0\n",
        "         if v1 > v2:\n",
        "            return 1\n",
        "         elif v1 <v2:\n",
        "            return -1\n",
        "      return 0\n",
        "ob1 = Solution()\n",
        "print(ob1.compareVersion(\"1.0.1\",\"1.0\"))"
      ],
      "execution_count": null,
      "outputs": [
        {
          "output_type": "stream",
          "text": [
            "1\n"
          ],
          "name": "stdout"
        }
      ]
    },
    {
      "cell_type": "code",
      "metadata": {
        "id": "YpgmtV2kfYMs",
        "colab_type": "code",
        "colab": {
          "base_uri": "https://localhost:8080/",
          "height": 35
        },
        "outputId": "a32427ec-6006-44b4-f7a3-82244dffe5b1"
      },
      "source": [
        "class Solution:\n",
        "    def compareVersion(self, version1, version2):\n",
        "        s1 = [int(i) for i in version1.split(\".\")]\n",
        "        s2 = [int(i) for i in version2.split(\".\")]\n",
        "\n",
        "        l1, l2 = len(s1), len(s2)\n",
        "        if l1 < l2:\n",
        "            s1 += [0] * (l2 - l1)\n",
        "        else:\n",
        "            s2 += [0] * (l1 - l2)\n",
        "\n",
        "        return (s1 > s2) - (s1 < s2)\n",
        "\n",
        "ob1 = Solution()\n",
        "print(ob1.compareVersion(\"1.0.1\",\"1.0\"))"
      ],
      "execution_count": null,
      "outputs": [
        {
          "output_type": "stream",
          "text": [
            "1\n"
          ],
          "name": "stdout"
        }
      ]
    },
    {
      "cell_type": "markdown",
      "metadata": {
        "id": "fhZQTu8GgvFz",
        "colab_type": "text"
      },
      "source": [
        "**5. Python - Check if all elements in a List are same**\n",
        "\n",
        "Sometimes we come across the need to check if we have one single value repeated in a list as list elements. We can check for such scenario using the below python programs. There are different approaches.\n",
        "\n",
        "**Using for Loop**\n",
        "\n",
        "In this method we grab the first element from the list and use a traditional for loop to keep comparing each element with the first element. If the value does not match for any element then we come out of the loop and the result is false.\n",
        "\n"
      ]
    },
    {
      "cell_type": "code",
      "metadata": {
        "id": "B6xaqsLtrizN",
        "colab_type": "code",
        "colab": {
          "base_uri": "https://localhost:8080/",
          "height": 90
        },
        "outputId": "c5c11639-c379-4b9c-ff52-965fce222f5a"
      },
      "source": [
        "List = ['Mon','Mon','Mon','Mon']\n",
        "result = True\n",
        "# Get the first element\n",
        "first_element = List[0]\n",
        "# Compares all the elements with the first element\n",
        "for word in List:\n",
        "   if first_element != word:\n",
        "      result = False\n",
        "      print(\"All elements are not equal\")\n",
        "      break\n",
        "   else:\n",
        "      result = True\n",
        "   if result:\n",
        "      print(\"All elements are equal\")"
      ],
      "execution_count": 1,
      "outputs": [
        {
          "output_type": "stream",
          "text": [
            "All elements are equal\n",
            "All elements are equal\n",
            "All elements are equal\n",
            "All elements are equal\n"
          ],
          "name": "stdout"
        }
      ]
    },
    {
      "cell_type": "markdown",
      "metadata": {
        "id": "JKiZb03drxsy",
        "colab_type": "text"
      },
      "source": [
        "**Using All()**\n",
        "\n",
        "The all() method applies the comparison for each element in the list. It is similar to what we have done in first approach but instead of for loop, we are using the all() method."
      ]
    },
    {
      "cell_type": "code",
      "metadata": {
        "id": "05-WnKZNrQk-",
        "colab_type": "code",
        "colab": {
          "base_uri": "https://localhost:8080/",
          "height": 35
        },
        "outputId": "58311aa0-b091-453e-a3ba-d9fe0ff4ad3c"
      },
      "source": [
        "List = ['Mon','Mon','Tue','Mon']\n",
        "# Uisng all()method\n",
        "result = all(element == List[0] for element in List)\n",
        "if (result):\n",
        "   print(\"All the elements are Equal\")\n",
        "else:\n",
        "   print(\"All Elements are not equal\")"
      ],
      "execution_count": 2,
      "outputs": [
        {
          "output_type": "stream",
          "text": [
            "All Elements are not equal\n"
          ],
          "name": "stdout"
        }
      ]
    },
    {
      "cell_type": "markdown",
      "metadata": {
        "id": "ftQHwrKxtF22",
        "colab_type": "text"
      },
      "source": [
        "**Using Count()**\n",
        "\n",
        "The python list method count() returns count of how many times an element occurs in list. So if we have the same element repeated in the list then the length of the list using len() will be same as the number of times the element is present in the list using the count(). The below program uses this logic."
      ]
    },
    {
      "cell_type": "code",
      "metadata": {
        "id": "NCOLL6MKtICa",
        "colab_type": "code",
        "colab": {
          "base_uri": "https://localhost:8080/",
          "height": 35
        },
        "outputId": "c521f1c7-3829-4753-dbd4-1f40d40bac8f"
      },
      "source": [
        "List = ['Mon','Mon','Mon','Mon']\n",
        "# Result from count matches with result from len()\n",
        "result = List.count(List[0]) == len(List)\n",
        "if (result):\n",
        "   print(\"All the elements are Equal\")\n",
        "else:\n",
        "   print(\"Elements are not equal\")"
      ],
      "execution_count": 3,
      "outputs": [
        {
          "output_type": "stream",
          "text": [
            "All the elements are Equal\n"
          ],
          "name": "stdout"
        }
      ]
    }
  ]
}