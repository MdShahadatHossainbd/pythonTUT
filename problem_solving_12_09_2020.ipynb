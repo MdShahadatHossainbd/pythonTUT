{
  "nbformat": 4,
  "nbformat_minor": 0,
  "metadata": {
    "colab": {
      "name": "problem solving 12.09.2020.ipynb",
      "provenance": [],
      "authorship_tag": "ABX9TyP/SxPT9DVZ9jugB6a3/g1P",
      "include_colab_link": true
    },
    "kernelspec": {
      "name": "python3",
      "display_name": "Python 3"
    }
  },
  "cells": [
    {
      "cell_type": "markdown",
      "metadata": {
        "id": "view-in-github",
        "colab_type": "text"
      },
      "source": [
        "<a href=\"https://colab.research.google.com/github/MdShahadatHossainbd/pythonTUT/blob/master/problem_solving_12_09_2020.ipynb\" target=\"_parent\"><img src=\"https://colab.research.google.com/assets/colab-badge.svg\" alt=\"Open In Colab\"/></a>"
      ]
    },
    {
      "cell_type": "markdown",
      "metadata": {
        "id": "m4p8dL71pAxI",
        "colab_type": "text"
      },
      "source": [
        "**3. Get last element of each sublist in Python**\n",
        "\n",
        "A list in python can also contain lists inside it as elements. These nested lists are called sublists. In this article we will solve the challenge of retrieving only the last element of each sublist in a given list.\n",
        "\n",
        "**Using for loop**\n",
        "\n",
        "It is a very simple approach in which we loop through the sublists fetching the item at index -1 in them. A for loop is used for this purpose as shown below.\n"
      ]
    },
    {
      "cell_type": "code",
      "metadata": {
        "id": "9bUNJKNsmpuR",
        "colab_type": "code",
        "colab": {
          "base_uri": "https://localhost:8080/",
          "height": 146
        },
        "outputId": "87fcc22c-eb0a-481a-f36f-95e7e69cbb49"
      },
      "source": [
        "Alist = [['Mon', 1], ['Tue', 'Wed', \"Fri\"], [12,3,7]]\n",
        "print(\"Given List:\\n\",Alist)\n",
        "print(\"Lastst Items from sublists:\\n\")\n",
        "for item in Alist:\n",
        "   print((item[-1]))"
      ],
      "execution_count": null,
      "outputs": [
        {
          "output_type": "stream",
          "text": [
            "Given List:\n",
            " [['Mon', 1], ['Tue', 'Wed', 'Fri'], [12, 3, 7]]\n",
            "Lastst Items from sublists:\n",
            "\n",
            "1\n",
            "Fri\n",
            "7\n"
          ],
          "name": "stdout"
        }
      ]
    },
    {
      "cell_type": "code",
      "metadata": {
        "id": "SR_lqZ_Jyv6U",
        "colab_type": "code",
        "colab": {
          "base_uri": "https://localhost:8080/",
          "height": 146
        },
        "outputId": "e8e62328-f4b6-4fff-b52f-aade3f5963f3"
      },
      "source": [
        "Alist = [['Mon', 1], ['Tue', 'Wed', \"Fri\"], [12,3,7]]\n",
        "print(\"Given List:\\n\",Alist)\n",
        "print(\"Lastst Items from sublists:\\n\")\n",
        "for item in Alist:\n",
        "   print((item[-2]))"
      ],
      "execution_count": null,
      "outputs": [
        {
          "output_type": "stream",
          "text": [
            "Given List:\n",
            " [['Mon', 1], ['Tue', 'Wed', 'Fri'], [12, 3, 7]]\n",
            "Lastst Items from sublists:\n",
            "\n",
            "Mon\n",
            "Wed\n",
            "3\n"
          ],
          "name": "stdout"
        }
      ]
    },
    {
      "cell_type": "code",
      "metadata": {
        "id": "mHYGbP4gzXu-",
        "colab_type": "code",
        "colab": {
          "base_uri": "https://localhost:8080/",
          "height": 90
        },
        "outputId": "3441e0b5-f256-41ea-91af-4c73d57dcdf2"
      },
      "source": [
        "list1 = [['shahadat','shanto','shubo','sojib','ashif','tusher'],[1,2,3,4,5,6]]\n",
        "for i in list1:\n",
        "  print(i[-1])\n",
        "  print(i[-2])"
      ],
      "execution_count": null,
      "outputs": [
        {
          "output_type": "stream",
          "text": [
            "tusher\n",
            "ashif\n",
            "6\n",
            "5\n"
          ],
          "name": "stdout"
        }
      ]
    },
    {
      "cell_type": "code",
      "metadata": {
        "id": "1WXUbxFYqZWv",
        "colab_type": "code",
        "colab": {
          "base_uri": "https://localhost:8080/",
          "height": 146
        },
        "outputId": "871e0010-6a46-4a30-8f32-485b21f54f60"
      },
      "source": [
        "Alist = [['Mon', 1], ['Tue', 'Wed', \"Fri\"], [12,3,7]]\n",
        "print(\"Given List:\\n\",Alist)\n",
        "print(\"Lastst Items from sublists:\\n\")\n",
        "for item in Alist:\n",
        "   print((item[1:]))"
      ],
      "execution_count": null,
      "outputs": [
        {
          "output_type": "stream",
          "text": [
            "Given List:\n",
            " [['Mon', 1], ['Tue', 'Wed', 'Fri'], [12, 3, 7]]\n",
            "Lastst Items from sublists:\n",
            "\n",
            "[1]\n",
            "['Wed', 'Fri']\n",
            "[3, 7]\n"
          ],
          "name": "stdout"
        }
      ]
    },
    {
      "cell_type": "code",
      "metadata": {
        "id": "IRk-DGIyp-ho",
        "colab_type": "code",
        "colab": {
          "base_uri": "https://localhost:8080/",
          "height": 146
        },
        "outputId": "e3f1ef8b-9ac6-4091-928d-7a56b1552839"
      },
      "source": [
        "Alist = [['Mon', 1], ['Tue', 'Wed', \"Fri\"], [12,3,7]]\n",
        "print(\"Given List:\\n\",Alist)\n",
        "print(\"Lastst Items from sublists:\\n\")\n",
        "for item in Alist:\n",
        "   print(item)"
      ],
      "execution_count": null,
      "outputs": [
        {
          "output_type": "stream",
          "text": [
            "Given List:\n",
            " [['Mon', 1], ['Tue', 'Wed', 'Fri'], [12, 3, 7]]\n",
            "Lastst Items from sublists:\n",
            "\n",
            "['Mon', 1]\n",
            "['Tue', 'Wed', 'Fri']\n",
            "[12, 3, 7]\n"
          ],
          "name": "stdout"
        }
      ]
    },
    {
      "cell_type": "markdown",
      "metadata": {
        "id": "Remsiu6trTvb",
        "colab_type": "text"
      },
      "source": [
        "**Using zip and ***\n",
        "\n",
        "The * allows us to unpack the sublists and give access to individual elements of the sublist. So in this case we will use * and reversed list to access the element at index 0 from each element. Then we finally zip the result to get a list of the first element from the sublists."
      ]
    },
    {
      "cell_type": "code",
      "metadata": {
        "id": "mBc3vb4SrFZS",
        "colab_type": "code",
        "colab": {
          "base_uri": "https://localhost:8080/",
          "height": 127
        },
        "outputId": "71eee75b-316b-4b1d-89cb-24e164e441d0"
      },
      "source": [
        "Alist = [['Mon', 1], ['Tue', 'Wed', \"Fri\"], [12,3,7]]\n",
        "print(\"Given List:\\n\",Alist)\n",
        "print(\"\\n First Items from sublists:\\n\")\n",
        "print(list(list(zip(*map(reversed,Alist)))[0]))"
      ],
      "execution_count": null,
      "outputs": [
        {
          "output_type": "stream",
          "text": [
            "Given List:\n",
            " [['Mon', 1], ['Tue', 'Wed', 'Fri'], [12, 3, 7]]\n",
            "\n",
            " First Items from sublists:\n",
            "\n",
            "[1, 'Fri', 7]\n"
          ],
          "name": "stdout"
        }
      ]
    },
    {
      "cell_type": "markdown",
      "metadata": {
        "id": "xRl5HtQgseHM",
        "colab_type": "text"
      },
      "source": [
        "**Using itemgetter**\n",
        "\n",
        "The itemgetter(i) constructs a callable that takes an iterable object like dictionary,list, tuple etc. as input, and fetches the i-th element out of it. So we can use this method to get the first items of the list using the map function as follows."
      ]
    },
    {
      "cell_type": "code",
      "metadata": {
        "id": "-10jVOsvsT8m",
        "colab_type": "code",
        "colab": {
          "base_uri": "https://localhost:8080/",
          "height": 127
        },
        "outputId": "ddf3e1e8-2829-4637-c007-920cd48ff89f"
      },
      "source": [
        "from operator import itemgetter\n",
        "\n",
        "Alist = [['Mon', 1], ['Tue', 'Wed', \"Fri\"], [12,3,7]]\n",
        "print(\"Given List:\\n\",Alist)\n",
        "print(\"\\n First Items from sublists:\\n\")\n",
        "print(list(map(itemgetter(-1), Alist)))"
      ],
      "execution_count": null,
      "outputs": [
        {
          "output_type": "stream",
          "text": [
            "Given List:\n",
            " [['Mon', 1], ['Tue', 'Wed', 'Fri'], [12, 3, 7]]\n",
            "\n",
            " First Items from sublists:\n",
            "\n",
            "[1, 'Fri', 7]\n"
          ],
          "name": "stdout"
        }
      ]
    },
    {
      "cell_type": "code",
      "metadata": {
        "id": "d1snCWBV1owB",
        "colab_type": "code",
        "colab": {
          "base_uri": "https://localhost:8080/",
          "height": 35
        },
        "outputId": "b2c5f461-4580-400b-a9ab-e2e9e7f81c8b"
      },
      "source": [
        "#1 : List comprehension\n",
        "# Python3 program to extract first and last \n",
        "# element of each sublist in a list of lists \n",
        "\n",
        "def Extract(lst): \n",
        "\treturn [item[-1] for item in lst] \n",
        "\t\n",
        "# Driver code \n",
        "lst = [[1, 2, 3], [4, 5], [6, 7, 8, 9]] \n",
        "print(Extract(lst)) \n"
      ],
      "execution_count": null,
      "outputs": [
        {
          "output_type": "stream",
          "text": [
            "[3, 5, 9]\n"
          ],
          "name": "stdout"
        }
      ]
    },
    {
      "cell_type": "code",
      "metadata": {
        "id": "YW4Wfwuh2Vou",
        "colab_type": "code",
        "colab": {
          "base_uri": "https://localhost:8080/",
          "height": 35
        },
        "outputId": "603f00af-b55d-487b-c986-0eee9b20ba77"
      },
      "source": [
        "#2 : Using zip and unpacking(*) operator\n",
        "\n",
        "# Python3 program to extract first and last \n",
        "# element of each sublist in a list of lists \n",
        "\n",
        "def Extract(lst): \n",
        "\treturn list(zip(*[reversed(el) for el in lst]))[0] \n",
        "\t\n",
        "# Driver code \n",
        "lst = [[1, 2, 3], [4, 5], [6, 7, 8, 9]] \n",
        "print(Extract(lst)) "
      ],
      "execution_count": null,
      "outputs": [
        {
          "output_type": "stream",
          "text": [
            "(3, 5, 9)\n"
          ],
          "name": "stdout"
        }
      ]
    },
    {
      "cell_type": "code",
      "metadata": {
        "id": "Q-YJdg4U3m79",
        "colab_type": "code",
        "colab": {
          "base_uri": "https://localhost:8080/",
          "height": 35
        },
        "outputId": "664a447e-4fb0-4e90-d773-960637eb45c3"
      },
      "source": [
        "#3 : Using itemgetter()\n",
        "# Python3 program to extract first and last \n",
        "# element of each sublist in a list of lists \n",
        "from operator import itemgetter \n",
        "\n",
        "def Extract(lst): \n",
        "\treturn list( map(itemgetter(-1), lst )) \n",
        "\t\n",
        "# Driver code \n",
        "lst = [[1, 2, 3], [4, 5], [6, 7, 8, 9]] \n",
        "print(Extract(lst)) \n"
      ],
      "execution_count": null,
      "outputs": [
        {
          "output_type": "stream",
          "text": [
            "[3, 5, 9]\n"
          ],
          "name": "stdout"
        }
      ]
    },
    {
      "cell_type": "code",
      "metadata": {
        "id": "-gE-op7y31Lr",
        "colab_type": "code",
        "colab": {
          "base_uri": "https://localhost:8080/",
          "height": 35
        },
        "outputId": "6186ef82-01ab-4cfe-e0d6-0f3eec35f92d"
      },
      "source": [
        "my_list = [['hello', 'bye', 'bye'], ['hello', 'why', 'by'], ['hello', 'what', 'Hello'], ['hello', 'which', 'ciao']]\n",
        "\n",
        "new_list = list()\n",
        "for sublist in my_list:\n",
        "    new_list.append(sublist[-1])\n",
        "\n",
        "print(new_list)"
      ],
      "execution_count": 2,
      "outputs": [
        {
          "output_type": "stream",
          "text": [
            "['bye', 'by', 'Hello', 'ciao']\n"
          ],
          "name": "stdout"
        }
      ]
    },
    {
      "cell_type": "code",
      "metadata": {
        "id": "yN8vR7KZU7wL",
        "colab_type": "code",
        "colab": {
          "base_uri": "https://localhost:8080/",
          "height": 35
        },
        "outputId": "2914307d-c25c-43c4-89b4-483c500a2ed9"
      },
      "source": [
        "my_list = [['hello', 'bye', 'bye'], ['hello', 'why', 'by'], ['hello', 'what', 'Hello'], ['hello', 'which', 'ciao']]\n",
        "\n",
        "new_list = list()\n",
        "for sublist in my_list:\n",
        "    new_list.append(sublist[-2])\n",
        "\n",
        "print(new_list)"
      ],
      "execution_count": 4,
      "outputs": [
        {
          "output_type": "stream",
          "text": [
            "['bye', 'why', 'what', 'which']\n"
          ],
          "name": "stdout"
        }
      ]
    },
    {
      "cell_type": "code",
      "metadata": {
        "id": "bEmSXFdG61zJ",
        "colab_type": "code",
        "colab": {
          "base_uri": "https://localhost:8080/",
          "height": 54
        },
        "outputId": "aeda2be5-9dc7-4ebe-cc7a-d5a18c8353a0"
      },
      "source": [
        "#list.pop()\n",
        "l = list(range(1,5))\n",
        "print(l)\n",
        "l.pop()"
      ],
      "execution_count": null,
      "outputs": [
        {
          "output_type": "stream",
          "text": [
            "[1, 2, 3, 4]\n"
          ],
          "name": "stdout"
        },
        {
          "output_type": "execute_result",
          "data": {
            "text/plain": [
              "4"
            ]
          },
          "metadata": {
            "tags": []
          },
          "execution_count": 24
        }
      ]
    },
    {
      "cell_type": "code",
      "metadata": {
        "id": "dui3zpu97c-j",
        "colab_type": "code",
        "colab": {
          "base_uri": "https://localhost:8080/",
          "height": 35
        },
        "outputId": "9daa35c2-a57c-46d3-9278-dde7e2f400a5"
      },
      "source": [
        "l"
      ],
      "execution_count": null,
      "outputs": [
        {
          "output_type": "execute_result",
          "data": {
            "text/plain": [
              "[1, 2, 3]"
            ]
          },
          "metadata": {
            "tags": []
          },
          "execution_count": 25
        }
      ]
    },
    {
      "cell_type": "code",
      "metadata": {
        "id": "J_6yTxfS78zb",
        "colab_type": "code",
        "colab": {
          "base_uri": "https://localhost:8080/",
          "height": 54
        },
        "outputId": "7f533fdc-2423-4250-f1fc-e6aa75a513a9"
      },
      "source": [
        "#list.slicing\n",
        "l = list(range(1,5))\n",
        "print(l)\n",
        "print(l[:-1])\n"
      ],
      "execution_count": null,
      "outputs": [
        {
          "output_type": "stream",
          "text": [
            "[1, 2, 3, 4]\n",
            "[1, 2, 3]\n"
          ],
          "name": "stdout"
        }
      ]
    },
    {
      "cell_type": "code",
      "metadata": {
        "id": "tWeoFqRG8bD7",
        "colab_type": "code",
        "colab": {
          "base_uri": "https://localhost:8080/",
          "height": 35
        },
        "outputId": "80a62a9c-d87f-4bcb-f04f-8ba5bba1a297"
      },
      "source": [
        "print(l[1:])"
      ],
      "execution_count": null,
      "outputs": [
        {
          "output_type": "stream",
          "text": [
            "[2, 3, 4]\n"
          ],
          "name": "stdout"
        }
      ]
    },
    {
      "cell_type": "code",
      "metadata": {
        "id": "67HQIwaT81R_",
        "colab_type": "code",
        "colab": {
          "base_uri": "https://localhost:8080/",
          "height": 35
        },
        "outputId": "df97828c-d793-489c-c773-5dc497fcae06"
      },
      "source": [
        "#Delete statement\n",
        "l = list(range(1,5))\n",
        "del l[-1]\n",
        "print(l)"
      ],
      "execution_count": null,
      "outputs": [
        {
          "output_type": "stream",
          "text": [
            "[1, 2, 3]\n"
          ],
          "name": "stdout"
        }
      ]
    },
    {
      "cell_type": "code",
      "metadata": {
        "id": "1eEn70UwVm34",
        "colab_type": "code",
        "colab": {
          "base_uri": "https://localhost:8080/",
          "height": 35
        },
        "outputId": "1b29ea3e-4e44-4d4a-eda7-159a84a434df"
      },
      "source": [
        "#Delete statement\n",
        "l = list(range(1,5))\n",
        "del l[-3]\n",
        "print(l)"
      ],
      "execution_count": 5,
      "outputs": [
        {
          "output_type": "stream",
          "text": [
            "[1, 3, 4]\n"
          ],
          "name": "stdout"
        }
      ]
    },
    {
      "cell_type": "code",
      "metadata": {
        "id": "iijkeUe_9sGu",
        "colab_type": "code",
        "colab": {
          "base_uri": "https://localhost:8080/",
          "height": 35
        },
        "outputId": "c95d5164-5ebc-4c3f-a565-076ab8082c4b"
      },
      "source": [
        "# animals list\n",
        "animals = ['cat', 'dog', 'rabbit', 'guinea pig']\n",
        "\n",
        "# 'rabbit' is removed\n",
        "animals.remove('rabbit')\n",
        "\n",
        "# Updated animals List\n",
        "print('Updated animals list: ', animals)"
      ],
      "execution_count": null,
      "outputs": [
        {
          "output_type": "stream",
          "text": [
            "Updated animals list:  ['cat', 'dog', 'guinea pig']\n"
          ],
          "name": "stdout"
        }
      ]
    },
    {
      "cell_type": "code",
      "metadata": {
        "id": "SYuuqGU59uNN",
        "colab_type": "code",
        "colab": {
          "base_uri": "https://localhost:8080/",
          "height": 35
        },
        "outputId": "af81c0b8-9dd6-4660-d4a3-8c3554f9e411"
      },
      "source": [
        "# animals list\n",
        "animals = ['cat', 'dog', 'dog', 'guinea pig', 'dog']\n",
        "\n",
        "# 'dog' is removed\n",
        "animals.remove('dog')\n",
        "\n",
        "# Updated animals list\n",
        "print('Updated animals list: ', animals)"
      ],
      "execution_count": null,
      "outputs": [
        {
          "output_type": "stream",
          "text": [
            "Updated animals list:  ['cat', 'dog', 'guinea pig', 'dog']\n"
          ],
          "name": "stdout"
        }
      ]
    }
  ]
}