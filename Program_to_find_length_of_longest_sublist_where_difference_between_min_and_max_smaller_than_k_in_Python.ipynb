{
  "nbformat": 4,
  "nbformat_minor": 0,
  "metadata": {
    "colab": {
      "name": "Program to find length of longest sublist where difference between min and max smaller than k in Python.ipynb",
      "provenance": [],
      "authorship_tag": "ABX9TyO0KARp2b6Oit4j/PNsXnag",
      "include_colab_link": true
    },
    "kernelspec": {
      "name": "python3",
      "display_name": "Python 3"
    }
  },
  "cells": [
    {
      "cell_type": "markdown",
      "metadata": {
        "id": "view-in-github",
        "colab_type": "text"
      },
      "source": [
        "<a href=\"https://colab.research.google.com/github/MdShahadatHossainbd/pythonTUT/blob/master/Program_to_find_length_of_longest_sublist_where_difference_between_min_and_max_smaller_than_k_in_Python.ipynb\" target=\"_parent\"><img src=\"https://colab.research.google.com/assets/colab-badge.svg\" alt=\"Open In Colab\"/></a>"
      ]
    },
    {
      "cell_type": "code",
      "metadata": {
        "colab": {
          "base_uri": "https://localhost:8080/"
        },
        "id": "Ab49KSowyycQ",
        "outputId": "4b7c1c0b-8031-4798-fd02-8a6fce60944d"
      },
      "source": [
        "from collections import deque, defaultdict\n",
        "class Solution:\n",
        "   def solve(self, A, limit):\n",
        "      maxd = deque()\n",
        "      mind = deque()\n",
        "      i = 0\n",
        "      res = 1\n",
        "      for j, a in enumerate(A):\n",
        "         while maxd and a > maxd[-1]:\n",
        "            maxd.pop()\n",
        "         while mind and a < mind[-1]:\n",
        "            mind.pop()\n",
        "         maxd.append(a)\n",
        "         mind.append(a)\n",
        "         while maxd[0] - mind[0] > limit:\n",
        "            if maxd[0] == A[i]:\n",
        "               maxd.popleft()\n",
        "            if mind[0] == A[i]:\n",
        "               mind.popleft()\n",
        "            i += 1\n",
        "            res = max(res, j - i + 1)\n",
        "      return res\n",
        "ob = Solution()\n",
        "nums = [2, 4, 6, 10]\n",
        "k = 4\n",
        "print(ob.solve(nums, k))"
      ],
      "execution_count": 4,
      "outputs": [
        {
          "output_type": "stream",
          "text": [
            "3\n"
          ],
          "name": "stdout"
        }
      ]
    }
  ]
}