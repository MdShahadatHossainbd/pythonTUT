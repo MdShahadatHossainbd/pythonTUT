{
  "nbformat": 4,
  "nbformat_minor": 0,
  "metadata": {
    "colab": {
      "name": "problem solving 13.09.2020.ipynb",
      "provenance": [],
      "authorship_tag": "ABX9TyPkphqQ/D135/g56ny/K1z1",
      "include_colab_link": true
    },
    "kernelspec": {
      "name": "python3",
      "display_name": "Python 3"
    }
  },
  "cells": [
    {
      "cell_type": "markdown",
      "metadata": {
        "id": "view-in-github",
        "colab_type": "text"
      },
      "source": [
        "<a href=\"https://colab.research.google.com/github/MdShahadatHossainbd/pythonTUT/blob/master/problem_solving_13_09_2020.ipynb\" target=\"_parent\"><img src=\"https://colab.research.google.com/assets/colab-badge.svg\" alt=\"Open In Colab\"/></a>"
      ]
    },
    {
      "cell_type": "markdown",
      "metadata": {
        "id": "s9fjo5g0GLtm",
        "colab_type": "text"
      },
      "source": [
        "#2.Two Sum in Python\n",
        "\n",
        "Suppose we have an array of integers. We have to return the indices of two integers, such that if we add them up, we will reach to a specific target that is also given. Here we will take one assumption, that is always there will be one unique solution in the array, so no two set of indices for same target will be there.\n",
        "\n",
        "For an example, suppose the array is like A = [2, 8, 12, 15], and the target sum is 20. Then it will return indices 1 and 2, as A[1] + A[2] = 20.\n",
        "\n",
        "To solve this, we will loop through each element of the array. So follow these steps to solve this.\n",
        "\n",
        "    Define one map to hold the result called res\n",
        "    For index i in range 0 to n – 1 (where n is the number of elements in the array)\n",
        "        if target − A[i] is present in res\n",
        "            return res[target − A[i]] and i as indices\n",
        "        Otherwise put i into the res as res[A[i]] − = i\n",
        "\n",
        "Let us see the implementation to get better understanding"
      ]
    },
    {
      "cell_type": "code",
      "metadata": {
        "id": "goi1qFFuFQ-8",
        "colab_type": "code",
        "colab": {
          "base_uri": "https://localhost:8080/",
          "height": 35
        },
        "outputId": "4d47a24b-e3f4-455b-81fd-1d1ecf064664"
      },
      "source": [
        "class Solution(object):\n",
        "   def twoSum(self, nums, target):\n",
        "      \"\"\"\n",
        "      :type nums: List[int]\n",
        "      :type target: int\n",
        "      :rtype: List[int]\n",
        "      \"\"\"\n",
        "      required = {}\n",
        "      for i in range(len(nums)):\n",
        "         if target - nums[i] in required:\n",
        "            return [required[target - nums[i]],i]\n",
        "         else:\n",
        "            required[nums[i]]=i\n",
        "input_list = [2,8,12,15]\n",
        "ob1 = Solution()\n",
        "print(ob1.twoSum(input_list, 20))"
      ],
      "execution_count": null,
      "outputs": [
        {
          "output_type": "stream",
          "text": [
            "[1, 2]\n"
          ],
          "name": "stdout"
        }
      ]
    },
    {
      "cell_type": "markdown",
      "metadata": {
        "id": "NIPdjWdAFR5M",
        "colab_type": "text"
      },
      "source": [
        "#1. Combination Sum in Python\n",
        "\n",
        "\n",
        "\n",
        "Suppose we have a set of candidate numbers (all elements are unique) and a target number. We have to find all unique combinations in candidates where the candidate numbers sum to the given target. The same repeated number may be chosen from candidates unlimited number of times. So if the elements are [2,3,6,7] and the target value is 7, then the possible output will be [[7], [2,2,3]]\n",
        "\n",
        "Let us see the steps −\n",
        "\n",
        "    We will solve this in recursive manner. The recursive function is named as solve(). This takes an array to store results, one map to keep records, the target value and a list of distinct elements. Initially res array and map is empty. The solve method will work like below −\n",
        "    if target is 0, then\n",
        "        temp := a list of elements present in the list\n",
        "        temp1 := temp, then sort temp\n",
        "        if temp is not in the map, then insert temp into map and set value as 1, insert temp into res\n",
        "        return\n",
        "        if temp < 0, then return\n",
        "        for x in range i to length of element list,\n",
        "            insert elements[x] into the current\n",
        "            solve(elements, target – elements[x], res, map, i, current)\n",
        "            delete element from current list from index (length of current – 1)\n",
        "\n",
        "Let us see the following implementation to get better understanding −"
      ]
    },
    {
      "cell_type": "code",
      "metadata": {
        "id": "TWRKpm9DFfqz",
        "colab_type": "code",
        "colab": {
          "base_uri": "https://localhost:8080/",
          "height": 35
        },
        "outputId": "45dde7b5-09f7-4a03-93c1-db7ff2b0ea54"
      },
      "source": [
        "class Solution(object):\n",
        "   def combinationSum(self, candidates, target):\n",
        "      result = []\n",
        "      unique={}\n",
        "      candidates = list(set(candidates))\n",
        "      self.solve(candidates,target,result,unique)\n",
        "      return result\n",
        "   def solve(self,candidates,target,result,unique,i = 0,current=[]):\n",
        "      if target == 0:\n",
        "         temp = [i for i in current]\n",
        "         temp1 = temp\n",
        "         temp.sort()\n",
        "         temp = tuple(temp)\n",
        "         if temp not in unique:\n",
        "            unique[temp] = 1\n",
        "            result.append(temp1)\n",
        "         return\n",
        "      if target <0:\n",
        "         return\n",
        "      for x in range(i,len(candidates)):\n",
        "         current.append(candidates[x])\n",
        "         self.solve(candidates,target-candidates[x],result,unique,i,current)\n",
        "         current.pop(len(current)-1)\n",
        "ob1 = Solution()\n",
        "print(ob1.combinationSum([2,3,6,7,8],10))"
      ],
      "execution_count": null,
      "outputs": [
        {
          "output_type": "stream",
          "text": [
            "[[2, 2, 2, 2, 2], [2, 2, 3, 3], [2, 2, 6], [2, 8], [3, 7]]\n"
          ],
          "name": "stdout"
        }
      ]
    },
    {
      "cell_type": "markdown",
      "metadata": {
        "id": "No3jKx0iHFXb",
        "colab_type": "text"
      },
      "source": [
        "#Python program to find all possible pairs with given sum"
      ]
    },
    {
      "cell_type": "markdown",
      "metadata": {
        "id": "xKsed_upHKoj",
        "colab_type": "text"
      },
      "source": [
        "**Method #1 : Pythonic Naive**\n",
        "\n",
        "This is a naive approach to the above problem. First, we take an empty list ‘res’ and start a loop and traverse each element of the given list of integers. In each iteration, pop the element, store it in ‘num’, find remaining difference for sum K, and check if the difference exists in the given list or not."
      ]
    },
    {
      "cell_type": "code",
      "metadata": {
        "id": "CIaoeIIRFVvc",
        "colab_type": "code",
        "colab": {
          "base_uri": "https://localhost:8080/",
          "height": 35
        },
        "outputId": "70fecc28-f657-4b2a-8948-5c6d9c5d0146"
      },
      "source": [
        "# Python3 program to find all pairs in \n",
        "# a list of integers with given sum \n",
        "\n",
        "def findPairs(lst, K): \n",
        "\tres = [] \n",
        "\twhile lst: \n",
        "\t\tnum = lst.pop() \n",
        "\t\tdiff = K - num \n",
        "\t\tif diff in lst: \n",
        "\t\t\tres.append((diff, num)) \n",
        "\t\t\n",
        "\tres.reverse() \n",
        "\treturn res \n",
        "\t\n",
        "# Driver code \n",
        "lst = [1, 5, 3, 7, 9] \n",
        "K = 12\n",
        "print(findPairs(lst, K)) \n"
      ],
      "execution_count": null,
      "outputs": [
        {
          "output_type": "stream",
          "text": [
            "[(5, 7), (3, 9)]\n"
          ],
          "name": "stdout"
        }
      ]
    },
    {
      "cell_type": "markdown",
      "metadata": {
        "id": "uRtLEWVeJ7CE",
        "colab_type": "text"
      },
      "source": [
        "Method #2 : Using collections.Counter\n",
        "\n",
        "This approach follows the same method as discussed above using collections.Counter."
      ]
    },
    {
      "cell_type": "code",
      "metadata": {
        "id": "-uJCQL9wJ2LS",
        "colab_type": "code",
        "colab": {
          "base_uri": "https://localhost:8080/",
          "height": 35
        },
        "outputId": "d42e09ac-339a-43eb-d9e3-25daaf45f148"
      },
      "source": [
        "# Python3 program to find all pairs in \n",
        "# a list of integers with given sum \n",
        "from collections import Counter \n",
        "\n",
        "def findPairs(lst, K): \n",
        "\tres = [] \n",
        "\tcount = Counter(lst) \n",
        "\n",
        "\tfor x in lst: \n",
        "\t\ty = K - x \n",
        "\t\tif (x != y and count[y]) or (x == y and count[y] > 1): \n",
        "\t\t\tres.append((x, y)) \n",
        "\t\t\tcount.subtract((x, y)) \n",
        "\t\t\t\n",
        "\treturn res \n",
        "\t\n",
        "# Driver code \n",
        "lst = [1, 5, 3, 7, 9] \n",
        "K = 12\n",
        "print(findPairs(lst, K)) \n"
      ],
      "execution_count": null,
      "outputs": [
        {
          "output_type": "stream",
          "text": [
            "[(5, 7), (3, 9)]\n"
          ],
          "name": "stdout"
        }
      ]
    },
    {
      "cell_type": "markdown",
      "metadata": {
        "id": "WZHCSHyBKFAx",
        "colab_type": "text"
      },
      "source": [
        "Method #3 : itertools.combinations (Naive method)\n",
        "\n",
        "This is a naive approach to use itertools.combinations. We use a for loop to traverse through each combination and find out the desired one."
      ]
    },
    {
      "cell_type": "code",
      "metadata": {
        "id": "Cj5RWHcdKGwv",
        "colab_type": "code",
        "colab": {
          "base_uri": "https://localhost:8080/",
          "height": 35
        },
        "outputId": "ef14d5fd-32c3-4964-e56e-d351dcc61f49"
      },
      "source": [
        "# Python3 program to find all pairs in \n",
        "# a list of integers with given sum \n",
        "\n",
        "from itertools import combinations \n",
        "\n",
        "def findPairs(lst, K): \n",
        "\tres = [] \n",
        "\tfor var in combinations(lst, 2): \n",
        "\t\tif var[0] + var[1] == K: \n",
        "\t\t\tres.append((var[0], var[1])) \n",
        "\t\t\n",
        "\treturn res \n",
        "\t\n",
        "# Driver code \n",
        "lst = [1, 5, 3, 7, 9] \n",
        "K = 12\n",
        "print(findPairs(lst, K)) \n"
      ],
      "execution_count": null,
      "outputs": [
        {
          "output_type": "stream",
          "text": [
            "[(5, 7), (3, 9)]\n"
          ],
          "name": "stdout"
        }
      ]
    },
    {
      "cell_type": "markdown",
      "metadata": {
        "id": "12BzbjrkKVgm",
        "colab_type": "text"
      },
      "source": [
        "Method #4 : itertools.combinations (Efficient method)"
      ]
    },
    {
      "cell_type": "code",
      "metadata": {
        "id": "-jQOCRBnKZAR",
        "colab_type": "code",
        "colab": {
          "base_uri": "https://localhost:8080/",
          "height": 35
        },
        "outputId": "477799a8-9135-4ed0-8ea8-5c9aee26f94d"
      },
      "source": [
        "# Python3 program to find all pairs in \n",
        "# a list of integers with given sum \n",
        "from itertools import combinations \n",
        "\n",
        "def findPairs(lst, K): \n",
        "\t\n",
        "\treturn [pair for pair in combinations(lst, 2) if sum(pair) == K] \n",
        "\t\n",
        "# Driver code \n",
        "lst = [1, 5, 3, 7, 9] \n",
        "K = 12\n",
        "print(findPairs(lst, K)) \n"
      ],
      "execution_count": null,
      "outputs": [
        {
          "output_type": "stream",
          "text": [
            "[(5, 7), (3, 9)]\n"
          ],
          "name": "stdout"
        }
      ]
    },
    {
      "cell_type": "markdown",
      "metadata": {
        "id": "qwnp-69oOWWr",
        "colab_type": "text"
      },
      "source": [
        "#4.Maximum Product Subarray in Python\n",
        "\n",
        "Suppose we have an integer array called nums, we have to find the contiguous subarray within an array (containing at least one number) which has the largest product. So if the array is [2,3,-2,4], the output will be 6, as contiguous subarray [2,3] has max product.\n",
        "\n",
        "To solve this, we will follow these steps −\n",
        "\n",
        "    max_list := list of size nums, and fill with 0\n",
        "    min_list := list of size nums, and fill with 0\n",
        "    max_list[0] := nums[0] and min_list[0] := nums[0]\n",
        "    for i in range 1 to length of nums\n",
        "        max_list[i] = max of max_list[i - 1]*nums[i], min_list[i - 1]*nums[i] and nums[i]\n",
        "        min_list[i] = minof min_list[i - 1]*nums[i], nums[i], max_list[i - 1]*nums[i]\n",
        "    return the max of max_list\n",
        "\n",
        "Let us see the following implementation to get better understanding −"
      ]
    },
    {
      "cell_type": "code",
      "metadata": {
        "id": "k6x9RumHOeN7",
        "colab_type": "code",
        "colab": {
          "base_uri": "https://localhost:8080/",
          "height": 35
        },
        "outputId": "63a108cc-6b7e-4212-99f5-eb36bb97d5ff"
      },
      "source": [
        "class Solution(object):\n",
        "   def maxProduct(self, nums):\n",
        "      max_list = [0] * len(nums)\n",
        "      min_list = [0] * len(nums)\n",
        "      max_list[0] = nums[0]\n",
        "      min_list[0] = nums[0]\n",
        "      for i in range(1,len(nums)):\n",
        "         max_list[i] = max(max(max_list[i-1]*nums[i],min_list[i-1]*nums[i]),nums[i])\n",
        "         min_list[i] = min(min(min_list[i-1]*nums[i],nums[i]),max_list[i-1]*nums[i])\n",
        "      return max(max_list)\n",
        "ob1 = Solution()\n",
        "print(ob1.maxProduct([2,3,-2,4,-5,-6,2]))"
      ],
      "execution_count": null,
      "outputs": [
        {
          "output_type": "stream",
          "text": [
            "240\n"
          ],
          "name": "stdout"
        }
      ]
    },
    {
      "cell_type": "code",
      "metadata": {
        "id": "sgHB7ePSOyts",
        "colab_type": "code",
        "colab": {}
      },
      "source": [
        "\n",
        "# Python program to find maximum product subarray \n",
        "  \n",
        "# Returns the product of max product subarray. \n",
        "# Assumes that the given array always has a subarray \n",
        "# with product more than 1 \n",
        "def maxsubarrayproduct(arr): \n",
        "  \n",
        "    n = len(arr) \n",
        "  \n",
        "    # max positive product ending at the current position \n",
        "    max_ending_here = 1\n",
        "  \n",
        "    # min positive product ending at the current position \n",
        "    min_ending_here = 1\n",
        "  \n",
        "    # Initialize maximum so far \n",
        "    max_so_far = 1\n",
        "    flag = 0\n",
        "  \n",
        "    # Traverse throughout the array. Following values \n",
        "    # are maintained after the ith iteration: \n",
        "    # max_ending_here is always 1 or some positive product \n",
        "    # ending with arr[i] \n",
        "    # min_ending_here is always 1 or some negative product \n",
        "    # ending with arr[i] \n",
        "    for i in range(0, n): \n",
        "  \n",
        "        # If this element is positive, update max_ending_here. \n",
        "        # Update min_ending_here only if min_ending_here is \n",
        "        # negative \n",
        "        if arr[i] > 0: \n",
        "            max_ending_here = max_ending_here * arr[i] \n",
        "            min_ending_here = min (min_ending_here * arr[i], 1) \n",
        "            flag = 1\n",
        "  \n",
        "        # If this element is 0, then the maximum product cannot \n",
        "        # end here, make both max_ending_here and min_ending_here 0 \n",
        "        # Assumption: Output is alway greater than or equal to 1. \n",
        "        elif arr[i] == 0: \n",
        "            max_ending_here = 1\n",
        "            min_ending_here = 1\n",
        "  \n",
        "        # If element is negative. This is tricky \n",
        "        # max_ending_here can either be 1 or positive. \n",
        "        # min_ending_here can either be 1 or negative. \n",
        "        # next min_ending_here will always be prev. \n",
        "        # max_ending_here * arr[i] \n",
        "        # next max_ending_here will be 1 if prev \n",
        "        # min_ending_here is 1, otherwise \n",
        "        # next max_ending_here will be prev min_ending_here * arr[i] \n",
        "        else: \n",
        "            temp = max_ending_here \n",
        "            max_ending_here = max (min_ending_here * arr[i], 1) \n",
        "            min_ending_here = temp * arr[i] \n",
        "        if (max_so_far < max_ending_here): \n",
        "            max_so_far = max_ending_here \n",
        "              \n",
        "    if flag == 0 and max_so_far == 1: \n",
        "        return 0\n",
        "    return max_so_far \n",
        "  \n",
        "# Driver function to test above function \n",
        "arr = [1, -2, -3, 0, 7, -8, -2] \n",
        "print \"Maximum product subarray is\", maxsubarrayproduct(arr) \n",
        "  \n",
        "# This code is contributed by Devesh Agrawal \n"
      ],
      "execution_count": null,
      "outputs": []
    },
    {
      "cell_type": "code",
      "metadata": {
        "id": "BPU9Vy5jPBAn",
        "colab_type": "code",
        "colab": {}
      },
      "source": [
        "\n",
        "# Python program to find maximum product subarray \n",
        "  \n",
        "# Returns the product of max product subarray. \n",
        "# Assumes that the given array always has a subarray \n",
        "# with product more than 1 \n",
        "def maxsubarrayproduct(arr): \n",
        "  \n",
        "    n = len(arr) \n",
        "  \n",
        "    # max positive product ending at the current position \n",
        "    max_ending_here = 1\n",
        "  \n",
        "    # min positive product ending at the current position \n",
        "    min_ending_here = 1\n",
        "  \n",
        "    # Initialize maximum so far \n",
        "    max_so_far = 1\n",
        "    flag = 0\n",
        "  \n",
        "    # Traverse throughout the array. Following values \n",
        "    # are maintained after the ith iteration: \n",
        "    # max_ending_here is always 1 or some positive product \n",
        "    # ending with arr[i] \n",
        "    # min_ending_here is always 1 or some negative product \n",
        "    # ending with arr[i] \n",
        "    for i in range(0, n): \n",
        "  \n",
        "        # If this element is positive, update max_ending_here. \n",
        "        # Update min_ending_here only if min_ending_here is \n",
        "        # negative \n",
        "        if arr[i] > 0: \n",
        "            max_ending_here = max_ending_here * arr[i] \n",
        "            min_ending_here = min (min_ending_here * arr[i], 1) \n",
        "            flag = 1\n",
        "  \n",
        "        # If this element is 0, then the maximum product cannot \n",
        "        # end here, make both max_ending_here and min_ending_here 0 \n",
        "        # Assumption: Output is alway greater than or equal to 1. \n",
        "        elif arr[i] == 0: \n",
        "            max_ending_here = 1\n",
        "            min_ending_here = 1\n",
        "  \n",
        "        # If element is negative. This is tricky \n",
        "        # max_ending_here can either be 1 or positive. \n",
        "        # min_ending_here can either be 1 or negative. \n",
        "        # next min_ending_here will always be prev. \n",
        "        # max_ending_here * arr[i] \n",
        "        # next max_ending_here will be 1 if prev \n",
        "        # min_ending_here is 1, otherwise \n",
        "        # next max_ending_here will be prev min_ending_here * arr[i] \n",
        "        else: \n",
        "            temp = max_ending_here \n",
        "            max_ending_here = max (min_ending_here * arr[i], 1) \n",
        "            min_ending_here = temp * arr[i] \n",
        "        if (max_so_far < max_ending_here): \n",
        "            max_so_far = max_ending_here \n",
        "              \n",
        "    if flag == 0 and max_so_far == 1: \n",
        "        return 0\n",
        "    return max_so_far \n",
        "  \n",
        "# Driver function to test above function \n",
        "arr = [1, -2, -3, 0, 7, -8, -2] \n",
        "print \"Maximum product subarray is\", maxsubarrayproduct(arr) \n",
        "  \n",
        "# This code is contributed by Devesh Agrawal \n"
      ],
      "execution_count": null,
      "outputs": []
    }
  ]
}