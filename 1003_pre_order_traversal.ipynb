{
  "nbformat": 4,
  "nbformat_minor": 0,
  "metadata": {
    "colab": {
      "name": "1003 pre-order traversal.ipynb",
      "provenance": [],
      "authorship_tag": "ABX9TyO/lp3/al5tmAH6zBHM/skt",
      "include_colab_link": true
    },
    "kernelspec": {
      "name": "python3",
      "display_name": "Python 3"
    }
  },
  "cells": [
    {
      "cell_type": "markdown",
      "metadata": {
        "id": "view-in-github",
        "colab_type": "text"
      },
      "source": [
        "<a href=\"https://colab.research.google.com/github/MdShahadatHossainbd/pythonTUT/blob/master/1003_pre_order_traversal.ipynb\" target=\"_parent\"><img src=\"https://colab.research.google.com/assets/colab-badge.svg\" alt=\"Open In Colab\"/></a>"
      ]
    },
    {
      "cell_type": "code",
      "metadata": {
        "id": "IkIeKG06DA8A",
        "outputId": "0a4dbd51-1f08-4cf5-9191-0ab56a212cd2",
        "colab": {
          "base_uri": "https://localhost:8080/"
        }
      },
      "source": [
        "#Python Program pre-order traversal of a tree without using recursion\n",
        "class Node:\n",
        "  def __init__(self, data):\n",
        "    self.left = None\n",
        "    self.right = None\n",
        "    self.data = data\n",
        " # Insert Node\n",
        "  def insert(self, data):\n",
        "     if self.data:\n",
        "      if data < self.data:\n",
        "        if self.left is None:\n",
        "            self.left = Node(data)\n",
        "        else:\n",
        "            self.left.insert(data)\n",
        "      elif data > self.data:\n",
        "          if self.right is None:\n",
        "            self.right = Node(data)\n",
        "          else:\n",
        "            self.right.insert(data)\n",
        "      else:\n",
        "       self.data = data\n",
        " # Print the Tree\n",
        "\n",
        "  def PrintTree(self):\n",
        "      if self.left:\n",
        "        self.left.PrintTree()\n",
        "        print( self.data), \n",
        "      if self.right:                        \n",
        "        self.right.PrintTree()\n",
        "            # Preorder traversal\n",
        "            # Root -> Left ->Right\n",
        "  def PreorderTraversal(self, root):\n",
        "    res = []\n",
        "    if root:\n",
        "      res.append(root.data)\n",
        "      res = res + self.PreorderTraversal(root.left)\n",
        "      res = res + self.PreorderTraversal(root.right)\n",
        "    return res\n",
        "\n",
        "root = Node(27)\n",
        "root.insert(14)\n",
        "root.insert(35)\n",
        "root.insert(10)\n",
        "root.insert(19)\n",
        "root.insert(31)\n",
        "root.insert(42)\n",
        "print(root.PreorderTraversal(root))            "
      ],
      "execution_count": 16,
      "outputs": [
        {
          "output_type": "stream",
          "text": [
            "[27, 14, 10, 19, 35, 31, 42]\n"
          ],
          "name": "stdout"
        }
      ]
    }
  ]
}