{
  "nbformat": 4,
  "nbformat_minor": 0,
  "metadata": {
    "colab": {
      "name": "Python Problem 06.09.2020.ipynb",
      "provenance": [],
      "authorship_tag": "ABX9TyPt3t190maeW3OTfz1CNEib",
      "include_colab_link": true
    },
    "kernelspec": {
      "name": "python3",
      "display_name": "Python 3"
    }
  },
  "cells": [
    {
      "cell_type": "markdown",
      "metadata": {
        "id": "view-in-github",
        "colab_type": "text"
      },
      "source": [
        "<a href=\"https://colab.research.google.com/github/MdShahadatHossainbd/pythonTUT/blob/master/Python_Problem_06_09_2020.ipynb\" target=\"_parent\"><img src=\"https://colab.research.google.com/assets/colab-badge.svg\" alt=\"Open In Colab\"/></a>"
      ]
    },
    {
      "cell_type": "markdown",
      "metadata": {
        "id": "cvsbsr-7wZOl",
        "colab_type": "text"
      },
      "source": [
        "**1. Changing Directions in Python**\n",
        "\n",
        "Suppose we have a list of numbers called nums, we have to find the number of times that the list changes from positive-to-negative or negative-to-positive slope.\n",
        "\n",
        "So, if the input is like [2, 4, 10, 18, 6, 11, 13], then the output will be 2, as it changes the direction at 10 (positive-to-negative), and then at 6 (negative-to-positive).\n",
        "\n",
        "To solve this, we will follow these steps −\n",
        "\n",
        "    To solve this, we will follow these steps −\n",
        "\n",
        "    for i in range 1 to size of nums - 1, do\n",
        "\n",
        "        if nums[i-1] < nums[i] > nums[i+1] or nums[i-1] > nums[i] < nums[i+1], then\n",
        "\n",
        "            count := count + 1\n",
        "\n",
        "    return count\n",
        "\n",
        "Let us see the following implementation to get better understanding −"
      ]
    },
    {
      "cell_type": "code",
      "metadata": {
        "id": "O4VLj6t5wSNd",
        "colab_type": "code",
        "colab": {
          "base_uri": "https://localhost:8080/",
          "height": 35
        },
        "outputId": "189cb0c0-73a9-4eed-bc50-8417c73579ad"
      },
      "source": [
        "class Solution:\n",
        "   def solve(self, nums):\n",
        "      count = 0\n",
        "      for i in range(1, len(nums) - 1):\n",
        "         if nums[i - 1] < nums[i] > nums[i + 1] or nums[i - 1] > nums[i] < nums[i + 1]:\n",
        "            count += 1\n",
        "      return count\n",
        "\n",
        "ob = Solution()\n",
        "print(ob.solve([2, 4, 10, 18, 6, 11, 13]))"
      ],
      "execution_count": null,
      "outputs": [
        {
          "output_type": "stream",
          "text": [
            "2\n"
          ],
          "name": "stdout"
        }
      ]
    },
    {
      "cell_type": "markdown",
      "metadata": {
        "id": "Qscxf8UdyLxl",
        "colab_type": "text"
      },
      "source": [
        "**2. Cell fusion in Python**\n",
        "\n",
        "Suppose we have a list of numbers called cells; this list is representing sizes of different cells. Now, in each iteration, the two largest cells a and b interact according to these rules: So, If a = b, they both die. Otherwise, the two cells merge and their size becomes floor of ((a + b) / 3). We have to find the size of the last cell or return -1 if there's no cell is remaining.\n",
        "\n",
        "So, if the input is like [20,40,40,30], then the output will be 16, in first iteration, 40 and 40 will die, then 20 and 30 become floor of ((20+30) / 3) = floor of 50/3 = 16\n",
        "\n",
        "To solve this, we will follow these steps −\n",
        "\n",
        "    cells := convert each value of cells array negative\n",
        "\n",
        "    make a heap with cells\n",
        "\n",
        "    while cells is not empty, do −\n",
        "\n",
        "        delete two elements from cells and convert them negative again, and assign them as first and second consecutively\n",
        "\n",
        "    if first is not equal to second, then −\n",
        "\n",
        "        insert negative of floor of (first+second)/3) into heap\n",
        "\n",
        "    return negative of cells[0] if cells has some elements otherwise - 1\n",
        "\n",
        "Let us see the following implementation to get better understanding −"
      ]
    },
    {
      "cell_type": "code",
      "metadata": {
        "id": "uCq8r7aoyi0U",
        "colab_type": "code",
        "colab": {
          "base_uri": "https://localhost:8080/",
          "height": 35
        },
        "outputId": "75f7520a-73aa-4914-eecd-67a30fa3071b"
      },
      "source": [
        "from heapq import heapify, heappop, heappush\n",
        "class Solution:\n",
        "   def solve(self, cells):\n",
        "      cells=[-x for x in cells]\n",
        "      heapify(cells)\n",
        "      while len(cells)>1:\n",
        "         first,second = -heappop(cells), -heappop(cells)\n",
        "         if first!=second:\n",
        "            heappush(cells, -((first+second)//3))\n",
        "      return -cells[0] if cells else -1\n",
        "ob = Solution()\n",
        "cells = [20,40,40,30,45]\n",
        "print(ob.solve(cells))"
      ],
      "execution_count": null,
      "outputs": [
        {
          "output_type": "stream",
          "text": [
            "12\n"
          ],
          "name": "stdout"
        }
      ]
    },
    {
      "cell_type": "markdown",
      "metadata": {
        "id": "ebgxISIS1NVc",
        "colab_type": "text"
      },
      "source": [
        "**3. camelCase in Python**\n",
        "\n",
        "Suppose we have a list of words, we have to concatenate them in camel case format.\n",
        "\n",
        "So, if the input is like [\"Hello\", \"World\", \"Python\", \"Programming\"], then the output will be \"helloWorldPythonProgramming\"\n",
        "\n",
        "To solve this, we will follow these steps −\n",
        "\n",
        "    s := blank string\n",
        "\n",
        "    for each word in words −\n",
        "\n",
        "        make first letter word uppercase and rest lowercase\n",
        "\n",
        "        concatenate word with s\n",
        "\n",
        "    ret := s by converting first letter of s as lowercase\n",
        "\n",
        "    return ret\n",
        "\n",
        "Let us see the following implementation to get better understanding −"
      ]
    },
    {
      "cell_type": "code",
      "metadata": {
        "id": "mhTiKYJM1ctv",
        "colab_type": "code",
        "colab": {
          "base_uri": "https://localhost:8080/",
          "height": 35
        },
        "outputId": "51bcac5d-87d8-46af-c374-de60c3b3b3d4"
      },
      "source": [
        "class Solution:\n",
        "   def solve(self, words):\n",
        "      s = \"\".join(word[0].upper() + word[1:].lower() for word in words)\n",
        "      return s[0].lower() + s[1:]\n",
        "ob = Solution()\n",
        "words = [\"Hello\", \"World\", \"Python\", \"Programming\"]\n",
        "print(ob.solve(words))"
      ],
      "execution_count": null,
      "outputs": [
        {
          "output_type": "stream",
          "text": [
            "helloWorldPythonProgramming\n"
          ],
          "name": "stdout"
        }
      ]
    },
    {
      "cell_type": "code",
      "metadata": {
        "id": "cNYTAm3t2MfB",
        "colab_type": "code",
        "colab": {
          "base_uri": "https://localhost:8080/",
          "height": 35
        },
        "outputId": "3fcf4e40-2169-48b4-fa1f-2d4ae20deff1"
      },
      "source": [
        "class Solution:\n",
        "   def solve(self, words):\n",
        "      s = \"\".join(word[0].upper() + word[1:].lower() for word in words)\n",
        "      return s[0] + s[1:]\n",
        "ob = Solution()\n",
        "words = [\"Hello\", \"World\", \"Python\", \"Programming\"]\n",
        "print(ob.solve(words))"
      ],
      "execution_count": null,
      "outputs": [
        {
          "output_type": "stream",
          "text": [
            "HelloWorldPythonProgramming\n"
          ],
          "name": "stdout"
        }
      ]
    },
    {
      "cell_type": "markdown",
      "metadata": {
        "id": "0Ksv72c-LpgK",
        "colab_type": "text"
      },
      "source": [
        "**5. Caesar Cipher in Python**\n",
        "\n",
        "Suppose we have a lowercase alphabet string s, and an offset number say k. We have to replace every letter in s with a letter k positions further along the alphabet. We have to keep in mind that when the letter overflows past a or z, it gets wrapped around the other side.\n",
        "\n",
        "So, if the input is like \"hello\", k = 3, then the output will be \"khoor\"\n",
        "\n",
        "To solve this, we will follow these steps −\n",
        "\n",
        "    Define a function shift(). This will take c\n",
        "\n",
        "    i := ASCII of (c) - ASCII of ('a')\n",
        "\n",
        "    i := i + k\n",
        "\n",
        "    i := i mod 26\n",
        "\n",
        "    return character from ASCII (ASCII of ('a') + i)\n",
        "\n",
        "    From the main method, do the following −\n",
        "\n",
        "    ret := for each character c in s, make a list of elements by calling shift(c)\n",
        "\n",
        "    return ret\n",
        "\n",
        "Let us see the following implementation to get better understanding −\n"
      ]
    },
    {
      "cell_type": "code",
      "metadata": {
        "id": "Og8f8ajWND3X",
        "colab_type": "code",
        "colab": {
          "base_uri": "https://localhost:8080/",
          "height": 35
        },
        "outputId": "7f397906-5774-479b-fcba-29feef9cf8e7"
      },
      "source": [
        "class Solution:\n",
        "   def solve(self, s, k):\n",
        "      def shift(b):\n",
        "         i = ord(b) - ord('a')\n",
        "         i += k\n",
        "         i %= 26\n",
        "         return chr(ord('a') + i)\n",
        "\n",
        "      return \"\".join(map(shift, s))\n",
        "\n",
        "ob = Solution()\n",
        "print(ob.solve(\"hkuo\", 3))"
      ],
      "execution_count": null,
      "outputs": [
        {
          "output_type": "stream",
          "text": [
            "knxr\n"
          ],
          "name": "stdout"
        }
      ]
    },
    {
      "cell_type": "code",
      "metadata": {
        "id": "ssIxOxXcQF85",
        "colab_type": "code",
        "colab": {
          "base_uri": "https://localhost:8080/",
          "height": 35
        },
        "outputId": "6ef8a282-be3e-4601-a476-01b605757201"
      },
      "source": [
        "class Solution:\n",
        "   def solve(self, s, k):\n",
        "      def shift(c):\n",
        "         i = ord(c) - ord('a')\n",
        "         i += k\n",
        "         i %= 26\n",
        "         return chr(ord('a') + i)\n",
        "\n",
        "      return \"\".join(map(shift, s))\n",
        "\n",
        "ob = Solution()\n",
        "print(ob.solve(\"hkuo\", 2))"
      ],
      "execution_count": null,
      "outputs": [
        {
          "output_type": "stream",
          "text": [
            "jmwq\n"
          ],
          "name": "stdout"
        }
      ]
    },
    {
      "cell_type": "markdown",
      "metadata": {
        "id": "JPzaOL-9bvD2",
        "colab_type": "text"
      },
      "source": [
        "**6. Buying Cars in Python**\n",
        "\n",
        "Suppose we have a list of prices of cars for sale, and we also have a budget k, we have to find the maximum number of cars we can buy.\n",
        "\n",
        "So, if the input is like [80, 20, 10, 30, 80], k = 85, then the output will be 3 as we can buy three cars with prices 20, 10, 40\n",
        "\n",
        "To solve this, we will follow these steps −\n",
        "\n",
        "    count := 0\n",
        "\n",
        "    sort the list prices\n",
        "\n",
        "    for i in range 0 to size of prices, do\n",
        "\n",
        "        if prices[i] <=k, then\n",
        "\n",
        "            k := k-prices[i]\n",
        "\n",
        "            count := count + 1\n",
        "\n",
        "        otherwise,\n",
        "\n",
        "            come out from the loop\n",
        "\n",
        "    return count\n",
        "\n",
        "Let us see the following implementation to get better understanding −"
      ]
    },
    {
      "cell_type": "code",
      "metadata": {
        "id": "G8yZ2685btSh",
        "colab_type": "code",
        "colab": {
          "base_uri": "https://localhost:8080/",
          "height": 35
        },
        "outputId": "c618a774-2065-4fae-88ea-e07e3848e7ba"
      },
      "source": [
        "class Solution:\n",
        "   def solve(self, prices, k):\n",
        "      count =0\n",
        "      prices.sort()\n",
        "      for i in range(len(prices)):\n",
        "         if(prices[i]<=k):\n",
        "            k = k-prices[i]\n",
        "            count += 1\n",
        "         else:\n",
        "            break\n",
        "      return count\n",
        "ob = Solution()\n",
        "p = [80, 20, 10, 30, 80]\n",
        "print(ob.solve(p, 85))"
      ],
      "execution_count": 1,
      "outputs": [
        {
          "output_type": "stream",
          "text": [
            "3\n"
          ],
          "name": "stdout"
        }
      ]
    },
    {
      "cell_type": "code",
      "metadata": {
        "id": "gXUwLBrzcxOH",
        "colab_type": "code",
        "colab": {
          "base_uri": "https://localhost:8080/",
          "height": 35
        },
        "outputId": "27e0bdb6-cdfa-4293-f3f6-5b1d4ba8e97f"
      },
      "source": [
        "class Solution:\n",
        "   def solve(self, prices, k):\n",
        "      count =0\n",
        "      prices.sort()\n",
        "      for i in range(len(prices)):\n",
        "         if(prices[i]<=k):\n",
        "            k = k-prices[i]\n",
        "            count += 1\n",
        "         else:\n",
        "            break\n",
        "      return count\n",
        "ob = Solution()\n",
        "p = [80, 20, 10, 30, 40, 80]\n",
        "print(ob.solve(p, 200))"
      ],
      "execution_count": 6,
      "outputs": [
        {
          "output_type": "stream",
          "text": [
            "5\n"
          ],
          "name": "stdout"
        }
      ]
    },
    {
      "cell_type": "markdown",
      "metadata": {
        "id": "QjFOYL5we5X7",
        "colab_type": "text"
      },
      "source": [
        "**7. list concatenation is just done with the + operator.**"
      ]
    },
    {
      "cell_type": "code",
      "metadata": {
        "id": "kWbgNSWVeue9",
        "colab_type": "code",
        "colab": {
          "base_uri": "https://localhost:8080/",
          "height": 35
        },
        "outputId": "55093021-934e-44dc-b751-9727a6376e56"
      },
      "source": [
        "total = []\n",
        "for i in [['a','b','c'],['d','e','f']]:\n",
        "    total += i\n",
        "\n",
        "print(total)"
      ],
      "execution_count": 8,
      "outputs": [
        {
          "output_type": "stream",
          "text": [
            "['a', 'b', 'c', 'd', 'e', 'f']\n"
          ],
          "name": "stdout"
        }
      ]
    },
    {
      "cell_type": "markdown",
      "metadata": {
        "id": "_vp2RnK_gKY7",
        "colab_type": "text"
      },
      "source": [
        "**8. Boss Fight in Python**\n",
        "\n",
        "Suppose we have a binary list called fighters and another list of binary lists called bosses. In fighters list the 1 is representing a fighter. Similarly, in bosses list 1 representing a boss. That fighters can beat a boss’s row if it contains more fighters than bosses. We have to return a new bosses matrix with defeated boss rows removed.\n",
        "\n",
        "So, if the input is like fighters = [0,1,1]\n",
        "0\t1\t1\n",
        "0\t0\t0\n",
        "0\t0\t1\n",
        "0\t1\t1\n",
        "1\t1\t1\n",
        "\n",
        "then the output will be\n",
        "0\t1\t1\n",
        "1\t1\t1\n",
        "\n",
        "To solve this, we will follow these steps −\n",
        "\n",
        "    fighter_cnt := sum of all elements of fighters\n",
        "\n",
        "    result := a new list\n",
        "\n",
        "    for each row in bosses, do\n",
        "\n",
        "        if fighter_cnt <= sum of each element in row, then\n",
        "\n",
        "            insert row at the end of result\n",
        "\n",
        "    return result\n",
        "\n",
        "Let us see the following implementation to get better understanding −"
      ]
    },
    {
      "cell_type": "code",
      "metadata": {
        "id": "BMQ4uV1Wh4Q2",
        "colab_type": "code",
        "colab": {
          "base_uri": "https://localhost:8080/",
          "height": 35
        },
        "outputId": "4dc3a581-f8a0-4cba-ed81-b57c13223e8a"
      },
      "source": [
        "class Solution:\n",
        "   def solve(self, fighters, bosses):\n",
        "      fighter_cnt = sum(fighters)\n",
        "      result = []\n",
        "      for row in bosses:\n",
        "         if fighter_cnt <= sum(row):\n",
        "            result.append(row)\n",
        "      return result\n",
        "ob = Solution()\n",
        "fighters = [0, 1, 1]\n",
        "bosses = [[0, 0, 0], [0, 0, 1], [0, 1, 1], [1, 1, 1]]\n",
        "print(ob.solve(fighters, bosses))"
      ],
      "execution_count": 12,
      "outputs": [
        {
          "output_type": "stream",
          "text": [
            "[[0, 1, 1], [1, 1, 1]]\n"
          ],
          "name": "stdout"
        }
      ]
    },
    {
      "cell_type": "code",
      "metadata": {
        "id": "-i_whuEhf-Qv",
        "colab_type": "code",
        "colab": {
          "base_uri": "https://localhost:8080/",
          "height": 35
        },
        "outputId": "b1c59410-919f-41d5-983d-792bcc1d112d"
      },
      "source": [
        "class Solution:\n",
        "   def solve(self, fighters, bosses):\n",
        "      fighter_cnt = sum(fighters)\n",
        "      result = []\n",
        "      for row in bosses:\n",
        "         if fighter_cnt <= sum(row):\n",
        "            result.append(row)\n",
        "      return result\n",
        "ob = Solution()\n",
        "fighters = [1, 1, 1, 1]\n",
        "bosses = [[0, 0, 0], [0, 0, 1], [0, 1, 1], [1, 1, 1]]\n",
        "print(ob.solve(fighters, bosses))"
      ],
      "execution_count": 11,
      "outputs": [
        {
          "output_type": "stream",
          "text": [
            "[]\n"
          ],
          "name": "stdout"
        }
      ]
    }
  ]
}