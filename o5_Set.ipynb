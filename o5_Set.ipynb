{
  "nbformat": 4,
  "nbformat_minor": 0,
  "metadata": {
    "colab": {
      "name": "o5. Set.ipynb",
      "provenance": [],
      "authorship_tag": "ABX9TyMkmMNa5izxrbYx0w4s2YX2",
      "include_colab_link": true
    },
    "kernelspec": {
      "name": "python3",
      "display_name": "Python 3"
    }
  },
  "cells": [
    {
      "cell_type": "markdown",
      "metadata": {
        "id": "view-in-github",
        "colab_type": "text"
      },
      "source": [
        "<a href=\"https://colab.research.google.com/github/MdShahadatHossainbd/pythonTUT/blob/master/o5_Set.ipynb\" target=\"_parent\"><img src=\"https://colab.research.google.com/assets/colab-badge.svg\" alt=\"Open In Colab\"/></a>"
      ]
    },
    {
      "cell_type": "markdown",
      "metadata": {
        "id": "QjiAGM6YRVYc"
      },
      "source": [
        "1. Add a list of elements to a given set"
      ]
    },
    {
      "cell_type": "code",
      "metadata": {
        "id": "f3feeTxgRGB9",
        "outputId": "b27a455c-59a2-484e-9828-6c62f2172e40",
        "colab": {
          "base_uri": "https://localhost:8080/",
          "height": 36
        }
      },
      "source": [
        "sampleSet = {\"Yellow\", \"Orange\", \"Black\"}\n",
        "sampleList = [\"Blue\", \"Green\", \"Red\"]\n",
        "sampleSet.update(sampleList)\n",
        "print(sampleSet)"
      ],
      "execution_count": 1,
      "outputs": [
        {
          "output_type": "stream",
          "text": [
            "{'Orange', 'Black', 'Blue', 'Red', 'Green', 'Yellow'}\n"
          ],
          "name": "stdout"
        }
      ]
    },
    {
      "cell_type": "markdown",
      "metadata": {
        "id": "zyLA1lGJR-eQ"
      },
      "source": [
        "2. Return a set of identical items from a given two Python set"
      ]
    },
    {
      "cell_type": "code",
      "metadata": {
        "id": "PkeJkOwgSNPz",
        "outputId": "2c5ea960-ec8d-43c0-d659-2f1d0f4ec81b",
        "colab": {
          "base_uri": "https://localhost:8080/",
          "height": 36
        }
      },
      "source": [
        "set1 = {10, 20, 30, 40, 50}\n",
        "set2 = {30, 40, 50, 60, 70}\n",
        "\n",
        "print(set1.intersection(set2))"
      ],
      "execution_count": 5,
      "outputs": [
        {
          "output_type": "stream",
          "text": [
            "{40, 50, 30}\n"
          ],
          "name": "stdout"
        }
      ]
    },
    {
      "cell_type": "markdown",
      "metadata": {
        "id": "T2V_SKDBSWjG"
      },
      "source": [
        "3. Returns a new set with all items from both sets by removing duplicates"
      ]
    },
    {
      "cell_type": "code",
      "metadata": {
        "id": "x1al-cd6Se2l",
        "outputId": "52c028ae-ce71-4ff9-bb31-2142306d0cbf",
        "colab": {
          "base_uri": "https://localhost:8080/",
          "height": 36
        }
      },
      "source": [
        "set1 = {10, 20, 30, 40, 50}\n",
        "set2 = {30, 40, 50, 60, 70}\n",
        "\n",
        "print(set1.union(set2))"
      ],
      "execution_count": 6,
      "outputs": [
        {
          "output_type": "stream",
          "text": [
            "{70, 40, 10, 50, 20, 60, 30}\n"
          ],
          "name": "stdout"
        }
      ]
    },
    {
      "cell_type": "markdown",
      "metadata": {
        "id": "XrQ5LWyMS9UB"
      },
      "source": [
        "4. Given two Python sets, update first set with items that exist only in the first set and not in the second set."
      ]
    },
    {
      "cell_type": "code",
      "metadata": {
        "id": "5qz-QFxOTGKg",
        "outputId": "e900402d-cc27-4221-96ed-7baadf46d3ad",
        "colab": {
          "base_uri": "https://localhost:8080/",
          "height": 36
        }
      },
      "source": [
        "set1 = {10, 20, 30}\n",
        "set2 = {20, 40, 50}\n",
        "\n",
        "set1.difference_update(set2)\n",
        "print(set1)"
      ],
      "execution_count": 7,
      "outputs": [
        {
          "output_type": "stream",
          "text": [
            "{10, 30}\n"
          ],
          "name": "stdout"
        }
      ]
    },
    {
      "cell_type": "markdown",
      "metadata": {
        "id": "wo8MdOyFTOlp"
      },
      "source": [
        "5: Remove 10, 20, 30 elements from a following set at once"
      ]
    },
    {
      "cell_type": "code",
      "metadata": {
        "id": "QUgVQ9aZTXig",
        "outputId": "a4c8c126-48bd-40d9-a6ad-c59559921836",
        "colab": {
          "base_uri": "https://localhost:8080/",
          "height": 36
        }
      },
      "source": [
        "set1 = {10, 20, 30, 40, 50}\n",
        "set1.difference_update({10, 20, 30})\n",
        "print(set1)"
      ],
      "execution_count": 8,
      "outputs": [
        {
          "output_type": "stream",
          "text": [
            "{40, 50}\n"
          ],
          "name": "stdout"
        }
      ]
    },
    {
      "cell_type": "markdown",
      "metadata": {
        "id": "PY9SlLbGTatK"
      },
      "source": [
        "6. Return a set of all elements in either A or B, but not both"
      ]
    },
    {
      "cell_type": "code",
      "metadata": {
        "id": "oHia40LPTmlt",
        "outputId": "c50c67ff-d16a-4592-a4a0-38a9986b6736",
        "colab": {
          "base_uri": "https://localhost:8080/",
          "height": 36
        }
      },
      "source": [
        "set1 = {10, 20, 30, 40, 50}\n",
        "set2 = {30, 40, 50, 60, 70}\n",
        "\n",
        "print(set1.symmetric_difference(set2))"
      ],
      "execution_count": 9,
      "outputs": [
        {
          "output_type": "stream",
          "text": [
            "{20, 70, 10, 60}\n"
          ],
          "name": "stdout"
        }
      ]
    },
    {
      "cell_type": "markdown",
      "metadata": {
        "id": "uzQ9fkEnTuem"
      },
      "source": [
        "7. Determines whether or not the following two sets have any elements in common. If yes display the common elements"
      ]
    },
    {
      "cell_type": "code",
      "metadata": {
        "id": "tEwU77nFT38S",
        "outputId": "114a5a2f-9d68-4149-b248-30fbb2940a47",
        "colab": {
          "base_uri": "https://localhost:8080/",
          "height": 55
        }
      },
      "source": [
        "set1 = {10, 20, 30, 40, 50, 80}\n",
        "set2 = {60, 70, 80, 90, 10, 80}\n",
        "\n",
        "if set1.isdisjoint(set2):\n",
        "  print(\"Two sets have no items in common\")\n",
        "else:\n",
        "  print(\"Two sets have items in common\")\n",
        "  print(set1.intersection(set2))"
      ],
      "execution_count": 11,
      "outputs": [
        {
          "output_type": "stream",
          "text": [
            "Two sets have items in common\n",
            "{80, 10}\n"
          ],
          "name": "stdout"
        }
      ]
    },
    {
      "cell_type": "markdown",
      "metadata": {
        "id": "4Yo-uU9kUMP1"
      },
      "source": [
        "8. Update set1 by adding items from set2, except common items"
      ]
    },
    {
      "cell_type": "code",
      "metadata": {
        "id": "9BGIqpoeUQ81",
        "outputId": "6a694629-67f7-4922-d366-c57417fcdecb",
        "colab": {
          "base_uri": "https://localhost:8080/",
          "height": 36
        }
      },
      "source": [
        "set1 = {10, 20, 30, 40, 50}\n",
        "set2 = {30, 40, 50, 60, 70}\n",
        "\n",
        "set1.symmetric_difference_update(set2)\n",
        "print(set1)"
      ],
      "execution_count": 12,
      "outputs": [
        {
          "output_type": "stream",
          "text": [
            "{70, 10, 20, 60}\n"
          ],
          "name": "stdout"
        }
      ]
    },
    {
      "cell_type": "markdown",
      "metadata": {
        "id": "sP3koLyGUaui"
      },
      "source": [
        "9. Remove items from set1 that are not common to both set1 and set2"
      ]
    },
    {
      "cell_type": "code",
      "metadata": {
        "id": "49OCVbYTUgA9",
        "outputId": "4ada4128-5e78-499c-8bc0-e4ac37a1fa98",
        "colab": {
          "base_uri": "https://localhost:8080/",
          "height": 36
        }
      },
      "source": [
        "set1 = {10, 20, 30, 40, 50}\n",
        "set2 = {30, 40, 50, 60, 70}\n",
        "\n",
        "set1.intersection_update(set2)\n",
        "print(set1)"
      ],
      "execution_count": 13,
      "outputs": [
        {
          "output_type": "stream",
          "text": [
            "{40, 50, 30}\n"
          ],
          "name": "stdout"
        }
      ]
    }
  ]
}